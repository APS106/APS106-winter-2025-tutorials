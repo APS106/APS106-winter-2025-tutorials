{
 "cells": [
  {
   "cell_type": "markdown",
   "id": "0a5e6e48",
   "metadata": {},
   "source": [
    "<div style=\"text-align:center; border: 2px solid #2E86C1; border-radius: 10px; padding: 30px; background-color: #F4F6F7;\">\n",
    "\n",
    "<h1 style=\"color:#154360; font-family:'Georgia', serif; font-size: 2.8em; margin-bottom: 20px;\">APS106: Fundamentals of Computer Programming</h1>\n",
    "\n",
    "<h2 style=\"color:#1A5276; font-family:'Palatino Linotype', 'Book Antiqua', serif; font-size: 2.0em; margin-bottom: 30px;\">Tutorial 4, Week 5</h2>\n",
    "\n",
    "<h3 style=\"color:#6C3483; font-family:'Cambria', serif; font-size: 1.8em; text-decoration: underline; margin-bottom: 15px;\">Topics Covered</h3>\n",
    "<p style=\"text-align:center; font-family:'Trebuchet MS', sans-serif; font-size: 1.3em; line-height: 1.8;\">\n",
    "  <span style=\"color:#D35400; font-weight:bold;\">Programming Concepts</span><br>\n",
    "  <span style=\"color:#283747;\">• String Operations</span><br>\n",
    "  <span style=\"color:#283747;\">• Python Built-in Module <code>random<code></span><br>\n",
    "  <span style=\"color:#283747;\">• <code>while</code> loops</span><br>\n",
    "</p>\n",
    "\n",
    "<h3 style=\"color:#6C3483; font-family:'Cambria', serif; font-size: 1.8em; text-decoration: underline; margin-bottom: 15px;\">Goals for This Tutorial</h3>\n",
    "<p style=\"text-align:center; font-family:'Verdana', sans-serif; font-size: 1.2em; line-height: 1.8;\">\n",
    "  <span style=\"color:#21618C;\">• Work with string operations to manipulate and evaluate text data.</span><br>\n",
    "  <span style=\"color:#21618C;\">• Use the <code>random</code> module to generate and apply randomness in programs.</span><br>\n",
    "  <span style=\"color:#21618C;\">• Implement <code>while</code> loops to control repeated execution based on conditions.</span><br>\n",
    "</p>\n",
    "</div>"
   ]
  },
  {
   "cell_type": "markdown",
   "id": "89beb25d",
   "metadata": {},
   "source": [
    "### Today's Topics\n",
    "1. [String Operations](#Section-1:-String-Operations-in-Python)\n",
    "    - [String Concatenation](#Example-Set-1:-String-Concatenation)\n",
    "    - [String Repetition](#Example-Set-2:-String-Repetition)\n",
    "    - [String Comparisons](#string-comparisons)\n",
    "    - [Common String Methods](#common-string-methods)\n",
    "    - [Practice Problems](#Practice-Problems-(PP):-Using-String-Methods)\n",
    "2. [Python built-in module `random`](#Section-2:-Python-built-in-module-random)\n",
    "\n",
    "3. [Iteration using `while` loops](#Section-3:-Iteration-using-while-loops)\n",
    "    - [Flowchart Representation of a Generic `while` Loop](#Flowchart-Representation-of-a-Generic-while-Loop)\n",
    "    - [Lazy Evaluation in `while` Loops](#Lazy-Evaluation-in-while-Loops)\n",
    "    - [Order of Conditions in `while` Loops](#Order-of-Conditions-in-while-Loops)\n",
    "    - [Notes on `while` Loops](#Notes-on-while-Loops)\n",
    "4. [Practice Problems](#Practice-Problems-(PP))\n",
    "5. [Take-home Practice Problems](#Take-home-Practice-Problems)"
   ]
  },
  {
   "cell_type": "markdown",
   "id": "668c9e48",
   "metadata": {},
   "source": [
    "# Section 1: String Operations in Python\n",
    "\n",
    "\n"
   ]
  },
  {
   "cell_type": "markdown",
   "id": "c115132d",
   "metadata": {},
   "source": [
    "Strings are one of the most commonly used data types in Python. They represent text and are highly versatile, with many useful methods and operations.\n",
    "\n",
    "In this section, we’ll explore:\n",
    "1. **String Concatenation and Repetition**\n",
    "2. **String Comparisons**\n",
    "3. **Common String Methods**\n"
   ]
  },
  {
   "cell_type": "markdown",
   "id": "af6ced34",
   "metadata": {},
   "source": [
    "## Example Set 1: String Concatenation"
   ]
  },
  {
   "cell_type": "markdown",
   "id": "72ff67ab",
   "metadata": {},
   "source": [
    "### String Concatenation \n",
    "- **Concatenation (`+`)**: Combine two strings into one.\n",
    "\n",
    "Try these examples to see this operation in action."
   ]
  },
  {
   "cell_type": "markdown",
   "id": "544da41b",
   "metadata": {},
   "source": [
    "#### Concatenation"
   ]
  },
  {
   "cell_type": "code",
   "execution_count": 13,
   "id": "d9855f13",
   "metadata": {},
   "outputs": [
    {
     "name": "stdout",
     "output_type": "stream",
     "text": [
      "Hello World\n"
     ]
    }
   ],
   "source": [
    "# Concatenation\n",
    "greeting = \"Hello\" + \" \" + \"World\"\n",
    "print(greeting)  # Output: Hello World"
   ]
  },
  {
   "cell_type": "markdown",
   "id": "6bbe9ee2",
   "metadata": {},
   "source": [
    "##### **1. What will be the output of this code?**\n",
    "```python\n",
    "age = 25\n",
    "message = \"I am \" + age + \" years old.\"  # What happens here?\n",
    "print(message)"
   ]
  },
  {
   "cell_type": "code",
   "execution_count": 9,
   "id": "78328a0c",
   "metadata": {},
   "outputs": [
    {
     "ename": "TypeError",
     "evalue": "can only concatenate str (not \"int\") to str",
     "output_type": "error",
     "traceback": [
      "\u001b[0;31m---------------------------------------------------------------------------\u001b[0m",
      "\u001b[0;31mTypeError\u001b[0m                                 Traceback (most recent call last)",
      "Cell \u001b[0;32mIn[9], line 2\u001b[0m\n\u001b[1;32m      1\u001b[0m age \u001b[38;5;241m=\u001b[39m \u001b[38;5;241m25\u001b[39m\n\u001b[0;32m----> 2\u001b[0m message \u001b[38;5;241m=\u001b[39m \u001b[38;5;124m\"\u001b[39m\u001b[38;5;124mI am \u001b[39m\u001b[38;5;124m\"\u001b[39m \u001b[38;5;241m+\u001b[39m age \u001b[38;5;241m+\u001b[39m \u001b[38;5;124m\"\u001b[39m\u001b[38;5;124m years old.\u001b[39m\u001b[38;5;124m\"\u001b[39m  \u001b[38;5;66;03m# What happens here?\u001b[39;00m\n\u001b[1;32m      3\u001b[0m \u001b[38;5;28mprint\u001b[39m(message)\n",
      "\u001b[0;31mTypeError\u001b[0m: can only concatenate str (not \"int\") to str"
     ]
    }
   ],
   "source": [
    "age = 25\n",
    "message = \"I am \" + age + \" years old.\"  # What happens here?\n",
    "print(message)"
   ]
  },
  {
   "cell_type": "markdown",
   "id": "866936ae",
   "metadata": {},
   "source": [
    "\t•\t What happened?\n",
    "\n",
    "- Python does not allow concatenation of strings and integers directly. How can you fix it?"
   ]
  },
  {
   "cell_type": "markdown",
   "id": "36a5ee6b",
   "metadata": {},
   "source": [
    "##### **2. What will be printed?**\n",
    "\n",
    "```python\n",
    "word1 = \"Code\"\n",
    "word2 = \"\"\n",
    "word3 = \"Lab\"\n",
    "result = word1 + word2 + word3\n",
    "print(result)"
   ]
  },
  {
   "cell_type": "code",
   "execution_count": 10,
   "id": "f9c1cd62",
   "metadata": {},
   "outputs": [
    {
     "name": "stdout",
     "output_type": "stream",
     "text": [
      "CodeLab\n"
     ]
    }
   ],
   "source": [
    "\n",
    "word1 = \"Code\"\n",
    "word2 = \"\"\n",
    "word3 = \"Lab\"\n",
    "result = word1 + word2 + word3\n",
    "print(result)"
   ]
  },
  {
   "cell_type": "markdown",
   "id": "33ccf485",
   "metadata": {},
   "source": [
    "\t•\t What happened?\n",
    "\n",
    "\n",
    "- When concatenating a string with an empty string (\"\"), the empty string contributes nothing to the final output. The concatenation simply combines the non-empty parts."
   ]
  },
  {
   "cell_type": "code",
   "execution_count": 11,
   "id": "42f64a4e",
   "metadata": {},
   "outputs": [
    {
     "name": "stdout",
     "output_type": "stream",
     "text": [
      "Python is fun!\n"
     ]
    }
   ],
   "source": [
    "sentence = \"Python\"\n",
    "sentence += \" is\"\n",
    "sentence += \" fun!\"\n",
    "print(sentence)"
   ]
  },
  {
   "cell_type": "markdown",
   "id": "f772c34e",
   "metadata": {},
   "source": [
    "## Example Set 2: String Repetition\n"
   ]
  },
  {
   "cell_type": "markdown",
   "id": "b8242fb8",
   "metadata": {},
   "source": [
    "### String Repetition\n",
    "- **Repetition (`*`)**: Repeat a string multiple times.\n",
    "\n",
    "Try these examples to see this operation in action."
   ]
  },
  {
   "cell_type": "markdown",
   "id": "49dc92b5",
   "metadata": {},
   "source": [
    "#### **Repetition**"
   ]
  },
  {
   "cell_type": "code",
   "execution_count": 12,
   "id": "821d1219",
   "metadata": {},
   "outputs": [
    {
     "name": "stdout",
     "output_type": "stream",
     "text": [
      "Python! Python! Python! \n"
     ]
    }
   ],
   "source": [
    "# Repetition\n",
    "repeat = \"Python! \" * 3\n",
    "print(repeat)  # Output: Python! Python! Python!"
   ]
  },
  {
   "cell_type": "markdown",
   "id": "51974db0",
   "metadata": {},
   "source": [
    "##### **1. What will this print?**\n",
    "\n",
    "```python\n",
    "text = \"\" * 10\n",
    "print(text)"
   ]
  },
  {
   "cell_type": "code",
   "execution_count": null,
   "id": "d6d177e1",
   "metadata": {},
   "outputs": [],
   "source": [
    "text = \"\" * 10\n",
    "print(text)  # Output: \"\""
   ]
  },
  {
   "cell_type": "markdown",
   "id": "b033643a",
   "metadata": {},
   "source": [
    "\t•\t What happened?\n",
    "\n",
    "- Repeating \"\" does not add anything; it remains \"\"."
   ]
  },
  {
   "cell_type": "markdown",
   "id": "880699fc",
   "metadata": {},
   "source": [
    "##### **2. What does this code output?**\n",
    "```python\n",
    "word = \"hello\"\n",
    "print(word * 0)"
   ]
  },
  {
   "cell_type": "code",
   "execution_count": 6,
   "id": "c6ab5ead",
   "metadata": {},
   "outputs": [
    {
     "name": "stdout",
     "output_type": "stream",
     "text": [
      "\n"
     ]
    }
   ],
   "source": [
    "word = \"hello\"\n",
    "print(word * 0)  # Output: \"\""
   ]
  },
  {
   "cell_type": "markdown",
   "id": "042c822f",
   "metadata": {},
   "source": [
    "\t•\t What happened?\n",
    "\n",
    "- When a string is multiplied by 0, the result is always an empty string (\"\")."
   ]
  },
  {
   "cell_type": "markdown",
   "id": "7f95ff2f",
   "metadata": {},
   "source": [
    "## Example Set 3: String Comparisons\n"
   ]
  },
  {
   "cell_type": "markdown",
   "id": "bdf18ff2",
   "metadata": {},
   "source": [
    "### String Comparisons\n",
    "Strings are compared based on their **ASCII/Unicode values**:\n",
    "- `>` and `<` compare character by character.\n",
    "- `==` checks if two strings are exactly the same.\n",
    "\n",
    "**ASCII/Unicode values** are as follows:\n",
    "\n"
   ]
  },
  {
   "cell_type": "markdown",
   "id": "69cf1b41",
   "metadata": {},
   "source": [
    "![image.png](images/ASCencoding.png)\n",
    "\n",
    "Here are some examples:"
   ]
  },
  {
   "cell_type": "code",
   "execution_count": 17,
   "id": "73827f11",
   "metadata": {},
   "outputs": [
    {
     "name": "stdout",
     "output_type": "stream",
     "text": [
      "False\n",
      "True\n",
      "True\n",
      "True\n"
     ]
    }
   ],
   "source": [
    "# String comparisons\n",
    "print(\"apple\" > \"banana\")   # False, because 'a' < 'b'\n",
    "print(\"Python\" == \"Python\") # True\n",
    "print(\"Python\" != \"python\") # True, case matters in comparisons\n",
    "\n",
    "# ASCII comparison example\n",
    "print(\"Zebra\" < \"apple\")    # True, 'Z' < 'a' in ASCII\n"
   ]
  },
  {
   "cell_type": "markdown",
   "id": "e42468dc",
   "metadata": {},
   "source": [
    "\t•\t Takeaway\n",
    "\t\n",
    "- 1.\tPython always compares strings using ASCII (Unicode) values.\n",
    "- 2.\tIf all letters are the same case, ASCII order matches alphabetical order.\n",
    "- 3.\tIf uppercase and lowercase letters mix, ASCII order does not match dictionary order."
   ]
  },
  {
   "cell_type": "markdown",
   "id": "69804ded",
   "metadata": {},
   "source": [
    "#### **1. What will this code output?**\n",
    "\n",
    "```python\n",
    "print(\"100\" > \"99\")"
   ]
  },
  {
   "cell_type": "code",
   "execution_count": 7,
   "id": "71a7e253",
   "metadata": {},
   "outputs": [
    {
     "name": "stdout",
     "output_type": "stream",
     "text": [
      "False\n"
     ]
    }
   ],
   "source": [
    "print(\"100\" > \"99\")"
   ]
  },
  {
   "cell_type": "markdown",
   "id": "e359edd6",
   "metadata": {},
   "source": [
    "\t•\t What happened?\n",
    "\n",
    "- Strings are compared character by character, not numerically."
   ]
  },
  {
   "cell_type": "markdown",
   "id": "01c34556",
   "metadata": {},
   "source": [
    "#### **2. What will this print?**\n",
    "\n",
    "```python \n",
    "print(\"apple\" > 10)"
   ]
  },
  {
   "cell_type": "code",
   "execution_count": 18,
   "id": "e435a523",
   "metadata": {},
   "outputs": [
    {
     "ename": "TypeError",
     "evalue": "'>' not supported between instances of 'str' and 'int'",
     "output_type": "error",
     "traceback": [
      "\u001b[0;31m---------------------------------------------------------------------------\u001b[0m",
      "\u001b[0;31mTypeError\u001b[0m                                 Traceback (most recent call last)",
      "Cell \u001b[0;32mIn[18], line 1\u001b[0m\n\u001b[0;32m----> 1\u001b[0m \u001b[38;5;28mprint\u001b[39m(\u001b[38;5;124m\"\u001b[39m\u001b[38;5;124mapple\u001b[39m\u001b[38;5;124m\"\u001b[39m \u001b[38;5;241m>\u001b[39m \u001b[38;5;241m10\u001b[39m)\n",
      "\u001b[0;31mTypeError\u001b[0m: '>' not supported between instances of 'str' and 'int'"
     ]
    }
   ],
   "source": [
    "print(\"apple\" > 10)"
   ]
  },
  {
   "cell_type": "markdown",
   "id": "412dc8c0",
   "metadata": {},
   "source": [
    "\t•\t What happened?\n",
    "\n",
    "- Strings (str) and numbers (int, float) are different types.\n",
    "- Python does not automatically convert them for comparisons.\n",
    "- To compare, you must explicitly convert one type to the other (e.g., int(\"10\") or str(10))"
   ]
  },
  {
   "cell_type": "markdown",
   "id": "06e9af2b",
   "metadata": {},
   "source": [
    "## Example Set 4: Common String Methods\n",
    "### Common String Methods\n"
   ]
  },
  {
   "cell_type": "markdown",
   "id": "6c56af8a",
   "metadata": {},
   "source": [
    "Python offers various methods to analyze and manipulate strings. Here are a few commonly used ones:\n",
    "\n",
    "| **Method**       | **Description**                                   |\n",
    "|-------------------|-------------------------------------------------|\n",
    "| `isalnum()`       | Checks if the string is alphanumeric.            |\n",
    "| `isalpha()`       | Checks if the string contains only letters.      |\n",
    "| `isdigit()`       | Checks if the string contains only digits.       |\n",
    "| `isidentifier()`  | Checks if the string is a valid identifier.      |\n",
    "| `islower()`       | Checks if all letters in the string are lowercase.|\n",
    "| `isupper()`       | Checks if all letters in the string are uppercase.|\n",
    "| `isspace()`       | Checks if the string contains only whitespace.   |\n",
    "\n",
    "Let’s try them with examples!"
   ]
  },
  {
   "cell_type": "code",
   "execution_count": 15,
   "id": "04944d12",
   "metadata": {},
   "outputs": [
    {
     "name": "stdout",
     "output_type": "stream",
     "text": [
      "True\n",
      "False\n",
      "True\n",
      "True\n",
      "True\n",
      "True\n",
      "True\n",
      "False\n"
     ]
    }
   ],
   "source": [
    "text = \"Hello123\"\n",
    "print(text.isalnum())       # True, contains letters and numbers\n",
    "print(text.isalpha())       # False, contains numbers\n",
    "print(\"12345\".isdigit())    # True, only digits\n",
    "print(\"var_name\".isidentifier())  # True, valid variable name\n",
    "\n",
    "print(\"hello\".islower())    # True, all lowercase\n",
    "print(\"HELLO\".isupper())    # True, all uppercase\n",
    "print(\"   \".isspace())      # True, only whitespace\n",
    "print(\"Hello World\".isspace())  # False, contains other characters"
   ]
  },
  {
   "cell_type": "markdown",
   "id": "556c03b3",
   "metadata": {},
   "source": [
    "## Practice Problems (PP): Using String Methods\n"
   ]
  },
  {
   "cell_type": "markdown",
   "id": "5744f896",
   "metadata": {},
   "source": [
    "### PP1: Solve the following problems using the string methods you’ve just learned:\n",
    "1. Check if the string `\"Python123\"` is alphanumeric.\n",
    "2. Verify if `\"HELLO\"` is all uppercase.\n",
    "3. Write a program to check if `\" \" * 5` contains only spaces.\n",
    "4. Test if `\"myVariable\"` is a valid Python identifier."
   ]
  },
  {
   "cell_type": "code",
   "execution_count": 16,
   "id": "7617be73",
   "metadata": {},
   "outputs": [
    {
     "name": "stdout",
     "output_type": "stream",
     "text": [
      "True\n",
      "True\n",
      "True\n",
      "True\n",
      "Number of digits: 3\n"
     ]
    }
   ],
   "source": [
    "# 1. Check if a string is alphanumeric\n",
    "text = \"Python123\"\n",
    "print(text.isalnum())\n",
    "\n",
    "# 2. Verify if a string is uppercase\n",
    "upper_text = \"HELLO\"\n",
    "print(upper_text.isupper())\n",
    "\n",
    "# 3. Check if a string contains only spaces\n",
    "spaces = \" \" * 5\n",
    "print(spaces.isspace())\n",
    "\n",
    "# 4. Test if a string is a valid identifier\n",
    "identifier = \"myVariable\"\n",
    "print(identifier.isidentifier())\n",
    "\n"
   ]
  },
  {
   "cell_type": "markdown",
   "id": "f64e671e",
   "metadata": {},
   "source": [
    "### PP2. Write a program that asks the user to enter a **username** and checks **if** it is valid based on the following rules:\n",
    "1. The username **must be alphanumeric** (`isalnum()`).\n",
    "2. The username **must be at least 5 characters long**.\n",
    "\n",
    "Use if statements\n",
    "\n"
   ]
  },
  {
   "cell_type": "code",
   "execution_count": null,
   "id": "589707bf",
   "metadata": {},
   "outputs": [],
   "source": [
    "# Get user input\n",
    "username = input(\"Enter a username: \")\n",
    "\n",
    "# Check validity\n",
    "if not username.isalnum():\n",
    "    print(\"Invalid: Username must be alphanumeric.\")\n",
    "elif len(username) < 5:\n",
    "    print(\"Invalid: Username must be at least 5 characters long.\")\n",
    "else:\n",
    "    print(\"Valid username!\")"
   ]
  },
  {
   "cell_type": "markdown",
   "id": "e9bb10cd",
   "metadata": {},
   "source": [
    "### PP3: Sorting Words Based on ASCII/Unicode Values  \n",
    "\n"
   ]
  },
  {
   "cell_type": "markdown",
   "id": "2aba9f5f",
   "metadata": {},
   "source": [
    "\n",
    "Write a program that asks the user to enter **three words**. The program should:\n",
    "1. Compare the words based on their **ASCII/Unicode order**.\n",
    "2. Print the words in **ascending ASCII order** (from smallest to largest).\n",
    "3. If any two words are identical, print: `\"Duplicate words detected.\"`\n",
    "#### **Assumption:**  \n",
    "- The user **will always enter words with more than one letter**.\n",
    "\n",
    "#### **Hint:**  \n",
    "- You can compare strings directly using comparison operators (`<`, `>`, `==`) since Python compares them character by character using ASCII values.\n",
    "\n",
    "\n",
    "\n",
    "#### **Example Run:**  \n",
    "\n",
    "\n",
    "- Enter the first word: apple\n",
    "- Enter the second word: banana\n",
    "- Enter the third word: cherry\n",
    "\n",
    "`Output:` Words in ASCII order: apple, banana, cherry "
   ]
  },
  {
   "cell_type": "code",
   "execution_count": null,
   "id": "3b1eed91",
   "metadata": {},
   "outputs": [],
   "source": [
    "# Get user input\n",
    "word1 = input(\"Enter the first word: \")\n",
    "word2 = input(\"Enter the second word: \")\n",
    "word3 = input(\"Enter the third word: \")\n",
    "\n",
    "# Check for duplicate words\n",
    "if word1 == word2 or word1 == word3 or word2 == word3:\n",
    "    print(\"Duplicate words detected.\")\n",
    "else:\n",
    "    # Sort words based on ASCII values\n",
    "    if word1 > word2:\n",
    "        word1, word2 = word2, word1\n",
    "    if word2 > word3:\n",
    "        word2, word3 = word3, word2\n",
    "    if word1 > word2:\n",
    "        word1, word2 = word2, word1\n",
    "\n",
    "    print(\"Words in ASCII order:\", word1 + \", \" + word2 + \", \" + word3)"
   ]
  },
  {
   "cell_type": "markdown",
   "id": "f067e93d",
   "metadata": {},
   "source": [
    "# Section 2: Python built-in module `random`\n"
   ]
  },
  {
   "cell_type": "markdown",
   "id": "819e9fd2",
   "metadata": {},
   "source": [
    "\n",
    "  `random` implements pseudo-random number generators for various distributions.\n",
    "\n",
    "  Functions defined in module `random` (a partial list):\n",
    "\n",
    "- **`randrange(start, stop, step)`**: returns a randomly selected element from `range(start, stop, step)`.\n",
    "- **`random()`**: returns the next random floating point number in the range `[0.0, 1.0]`.\n",
    "- **`randint(a, b)`**: returns a random integer `N` such that `a ≤ N ≤ b`.\n",
    "- **`uniform(a, b)`**: returns a random floating point number `N` such that `a ≤ N ≤ b` for `a ≤ b` and `b ≤ N ≤ a` for `b < a`.\n",
    "\n",
    "\n",
    "\n",
    "### Example:\n",
    "\n",
    "```python\n",
    "import random\n",
    "\n",
    "dice = random.randint(1, 6)\n",
    "print(dice)"
   ]
  },
  {
   "cell_type": "code",
   "execution_count": 19,
   "id": "fd78d47e",
   "metadata": {},
   "outputs": [
    {
     "name": "stdout",
     "output_type": "stream",
     "text": [
      "3\n"
     ]
    }
   ],
   "source": [
    "import random\n",
    "\n",
    "dice = random.randint(1, 6)\n",
    "print(dice)"
   ]
  },
  {
   "cell_type": "markdown",
   "id": "5dff55d4",
   "metadata": {},
   "source": [
    "# Section 3: Iteration using `while` loops\n",
    "\n"
   ]
  },
  {
   "cell_type": "markdown",
   "id": "38c68baa",
   "metadata": {},
   "source": [
    "## When to use it?"
   ]
  },
  {
   "cell_type": "markdown",
   "id": "6d749f8f",
   "metadata": {},
   "source": [
    "- Use a `while` loop when you want a piece of code to be executed repeatedly as long as a particular condition is `True`.\n"
   ]
  },
  {
   "cell_type": "markdown",
   "id": "36a6bf4b",
   "metadata": {},
   "source": [
    "## Syntax (general structure) of a `while` loop:"
   ]
  },
  {
   "cell_type": "markdown",
   "id": "531787f9",
   "metadata": {},
   "source": [
    "```python\n",
    "while condition:\n",
    "    body  # Must be indented!\n",
    "```\n",
    "\n",
    "\n",
    "- The condition is checked before each iteration.\n",
    "- If the condition is False, the loop stops.\n",
    "- Do not forget the colon : after the condition!"
   ]
  },
  {
   "cell_type": "markdown",
   "id": "fb251d24",
   "metadata": {},
   "source": [
    "\n",
    "## Flowchart Representation of a Generic `while` Loop\n",
    "\n",
    "- Before entering the loop, **loop variables must be initialized**.\n",
    "- The **condition is checked** at the beginning of each iteration.\n",
    "- If the condition is `True`, the loop body executes.\n",
    "- If the condition is `False`, the program continues to the next instruction.\n"
   ]
  },
  {
   "cell_type": "markdown",
   "id": "5e3ae087",
   "metadata": {},
   "source": [
    "\n",
    "![While Loop Flowchart](images/while_loop_flowchart.png)"
   ]
  },
  {
   "cell_type": "markdown",
   "id": "bdc8875a",
   "metadata": {},
   "source": [
    "## Lazy Evaluation in `while` Loops\n"
   ]
  },
  {
   "cell_type": "markdown",
   "id": "8ca51017",
   "metadata": {},
   "source": [
    "### What is Lazy Evaluation?\n",
    "- Just like in `if` statements, when you use `and` or `or` in a `while` loop condition, the evaluation is **lazy**.\n",
    "- This means **the second condition is only checked if necessary**.\n",
    "- For example, in the condition `x < 4 and y < 4`, **Python only checks `y < 4` if `x < 4` is `True`**.\n",
    "\n"
   ]
  },
  {
   "cell_type": "markdown",
   "id": "56787bc1",
   "metadata": {},
   "source": [
    "#### Example:\n",
    "```python\n",
    "x = 3\n",
    "y = 1.5\n",
    "\n",
    "while x < 4 and y < 4:\n",
    "    print(\"Hello\")\n",
    "    y *= 2\n",
    "```\n",
    "\n",
    "How many times will this while loop execute?"
   ]
  },
  {
   "cell_type": "code",
   "execution_count": 1,
   "id": "2187280f",
   "metadata": {},
   "outputs": [
    {
     "name": "stdout",
     "output_type": "stream",
     "text": [
      "Hello\n",
      "Hello\n",
      "The loop executed 2 times.\n"
     ]
    }
   ],
   "source": [
    "x = 3\n",
    "y = 1.5\n",
    "\n",
    "counter = 0  # Track how many times the loop runs\n",
    "while x < 4 and y < 4:\n",
    "    print(\"Hello\")\n",
    "    y *= 2\n",
    "    counter += 1\n",
    "\n",
    "print(f\"The loop executed {counter} times.\")"
   ]
  },
  {
   "cell_type": "markdown",
   "id": "f5db3c1f",
   "metadata": {},
   "source": [
    "\n",
    "## Order of Conditions in `while` Loops\n",
    "\n",
    "### Understanding Condition Evaluation Order\n",
    "\n",
    "When using multiple conditions in a `while` loop with `and` or `or`, **Python evaluates them from left to right**. If Python determines the final outcome from the first condition alone, it does **not** evaluate the second condition (lazy evaluation).\n",
    "\n",
    "### **Examples:**\n"
   ]
  },
  {
   "cell_type": "markdown",
   "id": "55cf8551",
   "metadata": {},
   "source": [
    "#### **Case 1:**\n"
   ]
  },
  {
   "cell_type": "markdown",
   "id": "c2380c88",
   "metadata": {},
   "source": [
    "```python\n",
    "def some_function(x):\n",
    "    print(\"function\", x)\n",
    "    return True\n",
    "\n",
    "x = 12\n",
    "\n",
    "while x > 10 and some_function(x):\n",
    "    print(\"while\", x)\n",
    "    x = x - 1\n",
    "```\n",
    "\n",
    "\n",
    "Output?"
   ]
  },
  {
   "cell_type": "code",
   "execution_count": 2,
   "id": "37002dcf",
   "metadata": {},
   "outputs": [
    {
     "name": "stdout",
     "output_type": "stream",
     "text": [
      "function 12\n",
      "while 12\n",
      "function 11\n",
      "while 11\n"
     ]
    }
   ],
   "source": [
    "def some_function(x):\n",
    "    print(\"function\", x)\n",
    "    return True\n",
    "\n",
    "x = 12\n",
    "\n",
    "while x > 10 and some_function(x):\n",
    "    print(\"while\", x)\n",
    "    x = x - 1"
   ]
  },
  {
   "cell_type": "markdown",
   "id": "cea053b4",
   "metadata": {},
   "source": [
    "\t•\tWhat happened? \n",
    "- Python only calls some_function(x) if x > 10 is True.\n",
    "\n",
    "- \tx > 10 is checked first.\n",
    "- \tIf x > 10 is False, some_function(x) is never called.\n"
   ]
  },
  {
   "cell_type": "markdown",
   "id": "88fe6486",
   "metadata": {},
   "source": [
    "#### **Case 2:**"
   ]
  },
  {
   "cell_type": "markdown",
   "id": "30d8a7ad",
   "metadata": {},
   "source": [
    "```python\n",
    "def some_function(x):\n",
    "    print(\"function\", x)\n",
    "    return True\n",
    "\n",
    "x = 12\n",
    "\n",
    "while some_function(x) and x > 10:\n",
    "    print(\"while\", x)\n",
    "    x = x - 1\n",
    "```\n",
    "\n",
    "\n",
    "Output?"
   ]
  },
  {
   "cell_type": "code",
   "execution_count": 3,
   "id": "8fc4cec8",
   "metadata": {},
   "outputs": [
    {
     "name": "stdout",
     "output_type": "stream",
     "text": [
      "function 12\n",
      "while 12\n",
      "function 11\n",
      "while 11\n",
      "function 10\n"
     ]
    }
   ],
   "source": [
    "def some_function(x):\n",
    "    print(\"function\", x)\n",
    "    return True\n",
    "\n",
    "x = 12\n",
    "\n",
    "while some_function(x) and x > 10:\n",
    "    print(\"while\", x)\n",
    "    x = x - 1"
   ]
  },
  {
   "cell_type": "markdown",
   "id": "73280b05",
   "metadata": {},
   "source": [
    "\t•\tWhat happened?\n",
    "\n",
    "- some_function(x) runs first on every iteration, printing \"function x\".\n",
    "- x > 10 is checked after calling some_function(x), even when x == 10."
   ]
  },
  {
   "cell_type": "markdown",
   "id": "3f14425d",
   "metadata": {},
   "source": [
    "Takeaways:\n",
    "\n",
    "- Condition order affects execution.\n",
    "- Expensive function calls should be placed after simpler conditions (if possible) to avoid unnecessary computations.\n",
    "- Lazy evaluation prevents unnecessary function calls when using and or or."
   ]
  },
  {
   "cell_type": "markdown",
   "id": "e7da9aec",
   "metadata": {},
   "source": [
    "## Notes on `while` Loops\n"
   ]
  },
  {
   "cell_type": "markdown",
   "id": "e422dec0",
   "metadata": {},
   "source": [
    "\n",
    "### When to Use a `while` Loop?\n",
    "- A `while` loop is useful when you **don't know how many iterations** will occur, but you **know when the iteration should stop**.\n",
    "\n",
    "### Important Considerations:\n",
    "- Make sure to **update the variables** used in the condition inside the loop body.\n",
    "- If the condition **never becomes `False`**, the loop will result in an **infinite loop**.\n",
    "\n",
    "### Example of an Infinite Loop:\n",
    "```python\n",
    "x = 5\n",
    "while x > 0:\n",
    "    print(x)  # The loop will never stop because x is not decreasing!"
   ]
  },
  {
   "cell_type": "markdown",
   "id": "b80023f4",
   "metadata": {},
   "source": [
    "# Practice Problems (PP)"
   ]
  },
  {
   "cell_type": "markdown",
   "id": "a57f460e",
   "metadata": {},
   "source": [
    "## PP 1\n"
   ]
  },
  {
   "cell_type": "markdown",
   "id": "225904c9",
   "metadata": {},
   "source": [
    "\n",
    "### **What is the output of the following code?**\n",
    "\n",
    "```python\n",
    "i = 0\n",
    "j = 3\n",
    "\n",
    "while 0 < j < 10:\n",
    "    if j % 2 == 0:\n",
    "        j = j * 2\n",
    "    else:\n",
    "        j = j + 1\n",
    "\n",
    "    print(i, j)\n",
    "    i += 1"
   ]
  },
  {
   "cell_type": "code",
   "execution_count": 4,
   "id": "fa3d8616",
   "metadata": {},
   "outputs": [
    {
     "name": "stdout",
     "output_type": "stream",
     "text": [
      "0 4\n",
      "1 8\n",
      "2 16\n"
     ]
    }
   ],
   "source": [
    "\n",
    "i = 0\n",
    "j = 3\n",
    "\n",
    "while 0 < j < 10:\n",
    "    if j % 2 == 0:\n",
    "        j = j * 2\n",
    "    else:\n",
    "        j = j + 1\n",
    "\n",
    "    print(i, j)\n",
    "    i += 1"
   ]
  },
  {
   "cell_type": "markdown",
   "id": "f5679914",
   "metadata": {},
   "source": [
    "## PP 2"
   ]
  },
  {
   "cell_type": "markdown",
   "id": "ea2f480d",
   "metadata": {},
   "source": [
    "### **What is the result of executing the following code?**\n",
    "```python\n",
    "number = 5\n",
    "while number <= 5:\n",
    "    if number < 5:\n",
    "        number = number + 1\n",
    "    print(number)"
   ]
  },
  {
   "cell_type": "markdown",
   "id": "3299c163",
   "metadata": {},
   "source": [
    "### ⚠️💀 WARNING: DO NOT RUN THIS CODE! 💀⚠️\n",
    "This program contains an **infinite loop** that will never stop running.  \n",
    "Running this may **freeze your Jupyter Notebook or terminal**."
   ]
  },
  {
   "cell_type": "code",
   "execution_count": null,
   "id": "9e54bb2c",
   "metadata": {},
   "outputs": [],
   "source": [
    "number = 5\n",
    "while number <= 5:\n",
    "    if number < 5:\n",
    "        number = number + 1\n",
    "    print(number)  # Infinite loop because number is always 5"
   ]
  },
  {
   "cell_type": "markdown",
   "id": "83849763",
   "metadata": {},
   "source": [
    "## PP 3"
   ]
  },
  {
   "cell_type": "markdown",
   "id": "ca8d2cc3",
   "metadata": {},
   "source": [
    "\n",
    "Write a program that randomly selects a number between 1 and 10. The user has to guess the number. After each guess, the program provides feedback:\n",
    "\n",
    "- If the guess is too high, it prints `\"Too high! Try again.\"`\n",
    "- If the guess is too low, it prints `\"Too low! Try again.\"`\n",
    "- If the guess is correct, it prints `\"Correct! You guessed the number in X tries.\"` and ends the game."
   ]
  },
  {
   "cell_type": "code",
   "execution_count": null,
   "id": "c94d01b8",
   "metadata": {},
   "outputs": [],
   "source": [
    "import random\n",
    "\n",
    "# Generate a random number between 1 and 10\n",
    "secret_number = random.randint(1, 10)\n",
    "attempts = 0\n",
    "\n",
    "while True:\n",
    "    guess = int(input(\"Guess a number between 1 and 10: \"))\n",
    "    attempts += 1\n",
    "    \n",
    "    if guess < secret_number:\n",
    "        print(\"Too low! Try again.\")\n",
    "    elif guess > secret_number:\n",
    "        print(\"Too high! Try again.\")\n",
    "    else:\n",
    "        print(f\"Correct! You guessed the number in {attempts} tries.\")\n",
    "        break"
   ]
  },
  {
   "cell_type": "markdown",
   "id": "345789ec",
   "metadata": {},
   "source": [
    "## PP 4"
   ]
  },
  {
   "cell_type": "markdown",
   "id": "8c53c455",
   "metadata": {},
   "source": [
    "\n",
    "Write a Python program that:\n",
    "- Asks the user to input an integer value (in base 10).\n",
    "- Finds the **smallest digit** of the integer value in base 10.\n",
    "\n",
    "### **Additional Requirements:**\n",
    "- ❌ **Do NOT cast the integer value into a string.**\n",
    "- ✅ **Use `while` loops.**\n",
    "\n",
    "---\n",
    "\n",
    "### **Example Run:**  \n",
    "\n",
    "Enter an integer: 29431<br>\n",
    "\n",
    "`Output:`Smallest digit: 1"
   ]
  },
  {
   "cell_type": "code",
   "execution_count": null,
   "id": "8413c5dc",
   "metadata": {},
   "outputs": [],
   "source": [
    "# Get user input\n",
    "num = int(input(\"Enter an integer: \"))\n",
    "\n",
    "# Make sure it's positive for digit extraction\n",
    "num = abs(num)\n",
    "\n",
    "# Initialize the smallest digit with a large number\n",
    "smallest_digit = 9\n",
    "\n",
    "# Extract digits using a while loop\n",
    "while num > 0:\n",
    "    digit = num % 10  # Get last digit\n",
    "    if digit < smallest_digit:\n",
    "        smallest_digit = digit  # Update smallest digit\n",
    "    num = num // 10  # Remove last digit\n",
    "\n",
    "# Display result\n",
    "print(\"Smallest digit:\", smallest_digit)"
   ]
  },
  {
   "cell_type": "markdown",
   "id": "c50da4d5",
   "metadata": {},
   "source": [
    "## PP 5"
   ]
  },
  {
   "cell_type": "markdown",
   "id": "96eb7656",
   "metadata": {},
   "source": [
    "Write a Python program to **find the first 9 prime numbers** of the Fibonacci sequence.\n",
    "\n",
    "\n",
    "### **Recall that:**\n",
    "- Each number in the **Fibonacci sequence** is the sum of the two preceding numbers.  \n",
    "  The sequence starts with **0 and 1**. <br>\n",
    "\n",
    "  **Example:**  \n",
    "  0, 1, 1, 2, 3, 5, 8, 13, 21, 34, 55, 89, 144, …\n",
    "\n",
    "- **Prime numbers** are numbers that have **only two factors**: `1` and themselves.  \n",
    "\n",
    "---\n",
    "\n",
    "### **Example Output:**  \n",
    "First 9 prime Fibonacci numbers: [2, 3, 5, 13, 89, 233, 1597, 28657, 514229]\n",
    "\n",
    "---"
   ]
  },
  {
   "cell_type": "markdown",
   "id": "6b07cb84",
   "metadata": {},
   "source": [
    "\n",
    "### Practice Probelm 5 - Hints\n",
    "\n",
    "#### **Baby Steps:**\n",
    "\n",
    "##### **Step 1: Write a Function to Check if a Number is Prime**\n",
    "- Your function should take in an **integer** and return a **boolean value**:\n",
    "  - `True` if the input is **prime**.\n",
    "  - `False` otherwise.\n",
    "- **A flowchart describing a strategy for primality checking is given on the next slide.**\n",
    "\n",
    "\n",
    "\n",
    "##### **Step 2: Write a `while` Loop**\n",
    "- The loop should:\n",
    "  1. **Generate the next number** in the Fibonacci sequence.\n",
    "  2. **Check if the number is prime** using the function from Step 1.\n",
    "  3. **Stop after finding 9 prime Fibonacci numbers**.\n",
    "\n",
    "\n",
    "\n",
    "\n",
    "![Hint](images/Coding_Q_Fibonacci_sequence.png)\n",
    "\n",
    "\n",
    "\n",
    "##### **Example Output:**  \n",
    "\n",
    "First 9 prime Fibonacci numbers: [2, 3, 5, 13, 89, 233, 1597, 28657, 514229]"
   ]
  },
  {
   "cell_type": "code",
   "execution_count": null,
   "id": "2929cdab",
   "metadata": {},
   "outputs": [],
   "source": [
    "# Function to check if a number is prime\n",
    "def is_prime(n):\n",
    "    if n < 2:\n",
    "        return False\n",
    "    i = 2\n",
    "    while i * i <= n:\n",
    "        if n % i == 0:\n",
    "            return False\n",
    "        i += 1\n",
    "    return True\n",
    "\n",
    "# Initialize Fibonacci sequence\n",
    "fib1, fib2 = 0, 1\n",
    "prime_fib_numbers = []\n",
    "\n",
    "# Find the first 9 prime Fibonacci numbers\n",
    "while len(prime_fib_numbers) < 9:\n",
    "    fib_next = fib1 + fib2  # Generate the next Fibonacci number\n",
    "    if is_prime(fib_next):  # Check if it's prime\n",
    "        prime_fib_numbers.append(fib_next)\n",
    "    \n",
    "    # Move to the next numbers in the sequence\n",
    "    fib1, fib2 = fib2, fib_next\n",
    "\n",
    "# Display the first 9 prime Fibonacci numbers\n",
    "print(\"First 9 prime Fibonacci numbers:\", prime_fib_numbers)"
   ]
  },
  {
   "cell_type": "markdown",
   "id": "e23afb6d",
   "metadata": {},
   "source": [
    "# Take-home Practice Problems\n"
   ]
  },
  {
   "cell_type": "markdown",
   "id": "bc7d71cd",
   "metadata": {},
   "source": [
    "## ⚠️💀 Challenge Alert!  \n",
    "\n",
    "Think you’ve mastered the basics? These take-home problems are designed to push your problem-solving skills to the limit. Some may seem simple at first, but hidden twists await! \n",
    "\n",
    "Dare to take on the challenge and push your Python skills to the next level!"
   ]
  },
  {
   "cell_type": "markdown",
   "id": "2e97e97a",
   "metadata": {},
   "source": [
    "## Take-home Practice Problem 1: Number Guessing with Limited Attempts\n"
   ]
  },
  {
   "cell_type": "markdown",
   "id": "84d4b5cb",
   "metadata": {},
   "source": [
    "\n",
    "Modify the number guessing game so that:\n",
    "1. The user **only has 5 attempts** to guess the random number (1-10).\n",
    "2. If the user runs out of attempts, the game prints **\"Game over! The correct number was X.\"**\n",
    "3. If the user guesses correctly, it prints **\"Correct! You guessed the number in X tries.\"** and stops immediately.\n",
    "\n",
    "\n",
    "---\n",
    "### **Example Runs:**  \n",
    "#### Example 1:\n",
    "\n",
    "Guess a number between 1 and 10: 4\n",
    "\n",
    "Too low! Try again.\n",
    "\n",
    "Guess a number between 1 and 10: 7\n",
    "\n",
    "Too high! Try again.\n",
    "\n",
    "Guess a number between 1 and 10: 6\n",
    "\n",
    "Correct! You guessed the number in 3 tries.\n",
    "\n",
    "#### Example 2:\n",
    "\n",
    "Guess a number between 1 and 10: 1\n",
    "\n",
    "Too low! Try again.\n",
    "\n",
    "Guess a number between 1 and 10: 3\n",
    "\n",
    "Too low! Try again.\n",
    "\n",
    "Guess a number between 1 and 10: 9\n",
    "\n",
    "Too high! Try again.\n",
    "\n",
    "Guess a number between 1 and 10: 5\n",
    "\n",
    "Too high! Try again.\n",
    "\n",
    "Guess a number between 1 and 10: 4\n",
    "\n",
    "Game over! The correct number was 2.\n"
   ]
  },
  {
   "cell_type": "code",
   "execution_count": null,
   "id": "955585a4",
   "metadata": {},
   "outputs": [],
   "source": [
    "\n",
    "import random\n",
    "\n",
    "secret_number = random.randint(1, 10)\n",
    "attempts = 0\n",
    "max_attempts = 5\n",
    "\n",
    "while attempts < max_attempts:\n",
    "    guess = int(input(\"Guess a number between 1 and 10: \"))\n",
    "    attempts += 1\n",
    "\n",
    "    if guess < secret_number:\n",
    "        print(\"Too low! Try again.\")\n",
    "    elif guess > secret_number:\n",
    "        print(\"Too high! Try again.\")\n",
    "    else:\n",
    "        print(f\"Correct! You guessed the number in {attempts} tries.\")\n",
    "        break\n",
    "\n",
    "if attempts == max_attempts and guess != secret_number:\n",
    "    print(f\"Game over! The correct number was {secret_number}.\")"
   ]
  },
  {
   "cell_type": "markdown",
   "id": "47447732",
   "metadata": {},
   "source": [
    "## Take-home Practice Problem 2: Rolling Until a Target Sum "
   ]
  },
  {
   "cell_type": "markdown",
   "id": "f5d14aa9",
   "metadata": {},
   "source": [
    "\n",
    "Write a Python program that:\n",
    "\n",
    "- Rolls two six-sided dice using random.randint(1,6).\n",
    "- Asks the user to enter a target sum (between 2 and 12).\n",
    "- If the user enters an invalid sum, print “Invalid target sum. Must be between 2 and 12.” and exit.\n",
    "- The program should roll the dice only once and check if the sum matches the target sum.\n",
    "- Print whether the target sum was hit or missed.\n",
    "\n",
    "---\n",
    "\n",
    "Example Runs:\n",
    "\n",
    "Example 1:\n",
    "\n",
    "Enter a target sum (2-12): 10\n",
    "\n",
    "Rolling dice...\n",
    "\n",
    "Rolled: 4 and 6 (sum = 10)\n",
    "\n",
    "Target sum reached! <br><br>\n",
    "\n",
    "Example 2:\n",
    "\n",
    "Enter a target sum (2-12): 15\n",
    "\n",
    "Invalid target sum. Must be between 2 and 12. <br><br>\n",
    "\n",
    "\n",
    "Example 3:\n",
    "\n",
    "Enter a target sum (2-12): 7\n",
    "\n",
    "Rolling dice...\n",
    "\n",
    "Rolled: 3 and 2 (sum = 5)\n",
    "\n",
    "Missed! The sum was 5.\n"
   ]
  },
  {
   "cell_type": "code",
   "execution_count": null,
   "id": "4c592671",
   "metadata": {},
   "outputs": [],
   "source": [
    "import random\n",
    "\n",
    "# Get target sum from user\n",
    "target_sum = int(input(\"Enter a target sum (2-12): \"))\n",
    "\n",
    "# Validate target sum\n",
    "if target_sum < 2 or target_sum > 12:\n",
    "    print(\"Invalid target sum. Must be between 2 and 12.\")\n",
    "else:\n",
    "    print(\"Rolling dice...\")\n",
    "    die1 = random.randint(1, 6)\n",
    "    die2 = random.randint(1, 6)\n",
    "    roll_sum = die1 + die2\n",
    "    print(f\"Rolled: {die1} and {die2} (sum = {roll_sum})\")\n",
    "\n",
    "    if roll_sum == target_sum:\n",
    "        print(\"Target sum reached!\")\n",
    "    else:\n",
    "        print(f\"Missed! The sum was {roll_sum}.\")\n"
   ]
  },
  {
   "cell_type": "markdown",
   "id": "84a41347",
   "metadata": {},
   "source": [
    "\n",
    "## Take-home Practice Problem 3: Fibonacci Guessing Game"
   ]
  },
  {
   "cell_type": "markdown",
   "id": "60cf2e03",
   "metadata": {},
   "source": [
    "Create a Fibonacci number guessing game with the following rules:  \n",
    "- The program **randomly selects a Fibonacci number** between **0 and 1000**.  \n",
    "- The user **has a maximum of 10 attempts** to guess the Fibonacci number.  \n",
    "- If the guess is **not a Fibonacci number**, print `\"Invalid guess! That is not a Fibonacci number.\"`  \n",
    "- If the guess is **too high or too low**, provide feedback.  \n",
    "- If the user runs out of attempts, print `\"Game over! The correct Fibonacci number was X.\"`  \n",
    "\n",
    "\n",
    "---\n",
    "\n",
    "### **Example Runs:**  \n",
    "#### Example 1: (User guesses correctly in time):**\n",
    "\n",
    "\n",
    "Guess a Fibonacci number between 0 and 1000: 20\n",
    "\n",
    "Invalid guess! That is not a Fibonacci number.\n",
    "\n",
    "Guess a Fibonacci number between 0 and 1000: 21\n",
    "\n",
    "Too low! Try again.\n",
    "\n",
    "Guess a Fibonacci number between 0 and 1000: 55\n",
    "\n",
    "Correct! 55 is the target Fibonacci number. <br><br>\n",
    "\n",
    "\n",
    "#### Example 2: (User runs out of attempts):**\n",
    "\n",
    "\n",
    "Guess a Fibonacci number between 0 and 1000: 50\n",
    "\n",
    "Invalid guess! That is not a Fibonacci number.\n",
    "\n",
    "Guess a Fibonacci number between 0 and 1000: 90\n",
    "\n",
    "Invalid guess! That is not a Fibonacci number.\n",
    "\n",
    "Guess a Fibonacci number between 0 and 1000: 144\n",
    "\n",
    "Too high! Try again.\n",
    "\n",
    "Guess a Fibonacci number between 0 and 1000: 34\n",
    "\n",
    "Too low! Try again.\n",
    "\n",
    "Game over! The correct Fibonacci number was 89."
   ]
  },
  {
   "cell_type": "code",
   "execution_count": null,
   "id": "9bafc5d9",
   "metadata": {},
   "outputs": [],
   "source": [
    "import random\n",
    "\n",
    "# Function to check if a number is Fibonacci\n",
    "def is_fibonacci(n):\n",
    "    a, b = 0, 1 \n",
    "    while b < n:\n",
    "        a, b = b, a + b\n",
    "    return b == n or n == 0  # Ensures 0 is counted as Fibonacci\n",
    "\n",
    "# Generate a random Fibonacci number between 0 and 1000\n",
    "fib1, fib2 = 0, 1\n",
    "target_position = random.randint(0, 16)  # Randomly select a Fibonacci number within a reasonable range\n",
    "count = 0\n",
    "\n",
    "while count < target_position:\n",
    "    fib1, fib2 = fib2, fib1 + fib2\n",
    "    count += 1\n",
    "\n",
    "target_fib = fib1  # Assign the selected Fibonacci number\n",
    "\n",
    "# User guessing loop (with 10 attempts)\n",
    "attempts = 0\n",
    "max_attempts = 10\n",
    "\n",
    "while attempts < max_attempts:\n",
    "    guess = int(input(\"Guess a Fibonacci number between 0 and 1000: \"))\n",
    "\n",
    "    if not is_fibonacci(guess):\n",
    "        print(\"Invalid guess! That is not a Fibonacci number.\")\n",
    "    elif guess < target_fib:\n",
    "        print(\"Too low! Try again.\")\n",
    "    elif guess > target_fib:\n",
    "        print(\"Too high! Try again.\")\n",
    "    else:\n",
    "        print(f\"Correct! {guess} is a the target Fibonacci number.\")\n",
    "        break\n",
    "\n",
    "    attempts += 1\n",
    "\n",
    "if attempts == max_attempts:\n",
    "    print(f\"Game over! The correct Fibonacci number was {target_fib}.\")"
   ]
  },
  {
   "cell_type": "code",
   "execution_count": null,
   "id": "a4469485",
   "metadata": {},
   "outputs": [],
   "source": []
  }
 ],
 "metadata": {
  "kernelspec": {
   "display_name": "AdvKG",
   "language": "python",
   "name": "python3"
  },
  "language_info": {
   "codemirror_mode": {
    "name": "ipython",
    "version": 3
   },
   "file_extension": ".py",
   "mimetype": "text/x-python",
   "name": "python",
   "nbconvert_exporter": "python",
   "pygments_lexer": "ipython3",
   "version": "3.12.4"
  }
 },
 "nbformat": 4,
 "nbformat_minor": 5
}
