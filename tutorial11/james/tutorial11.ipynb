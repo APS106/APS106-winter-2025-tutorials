{
 "cells": [
  {
   "cell_type": "markdown",
   "metadata": {},
   "source": [
    "<div style=\"text-align:center; border: 2px solid #2E86C1; border-radius: 10px; padding: 30px; background-color: #F4F6F7;\">\n",
    "\n",
    "<h1 style=\"color:#154360; font-family:'Georgia', serif; font-size: 2.8em; margin-bottom: 20px;\">APS106: Fundamentals of Computer Programming</h1>\n",
    "\n",
    "<h2 style=\"color:#1A5276; font-family:'Palatino Linotype', 'Book Antiqua', serif; font-size: 2.0em; margin-bottom: 30px;\">Tutorial 11, Week 12</h2>\n",
    "\n",
    "<h3 style=\"color:#6C3483; font-family:'Cambria', serif; font-size: 1.8em; text-decoration: underline; margin-bottom: 15px;\">Topics Covered</h3>\n",
    "<p style=\"text-align:center; font-family:'Trebuchet MS', sans-serif; font-size: 1.3em; line-height: 1.8;\">\n",
    "  <span style=\"color:#D35400; font-weight:bold;\">Programming Concepts (revisiting)</span><br>\n",
    "  <span style=\"color:#283747;\">• CSV</span><br>\n",
    "  <span style=\"color:#283747;\">• Pandas</span><br> \n",
    "  <span style=\"color:#283747;\">• Object-Oriented Programming (OOP)</span><br>\n",
    "</p>\n",
    "\n",
    "<h3 style=\"color:#6C3483; font-family:'Cambria', serif; font-size: 1.8em; text-decoration: underline; margin-bottom: 15px;\">Goals for This Tutorial</h3>\n",
    "<p style=\"text-align:center; font-family:'Verdana', sans-serif; font-size: 1.2em; line-height: 1.8;\">\n",
    "  <span style=\"color:#21618C;\">• Introduction to CSV files, use cases, reading them with the `csv` module.</span><br> \n",
    "  <span style=\"color:#21618C;\">• A brief look at why Pandas is useful, and a single practice question combining various Pandas features.</span><br> \n",
    "  <span style=\"color:#21618C;\">• Focusing on printing objects (`__str__`), and designing interesting OOP(class)-based solutions.</span><br>\n",
    "</p>\n",
    "</div>\n",
    "\n",
    "\n"
   ]
  },
  {
   "cell_type": "markdown",
   "metadata": {},
   "source": [
    "# Table of Contents\n",
    "\n",
    "1. [CSV Module in Python](#1-csv-module-in-python)  \n",
    "   - [Practice Problem: CSV Module](#practice-problem-csv-module)\n",
    "\n",
    "2. [Pandas](#2-pandas) \n",
    "   - [Practice Problem: Using Pandas for data manipulation](#practice-problem-using-pandas-for-data-manipulation)\n",
    "\n",
    "3. [Object-Oriented Programming (OOP)](#3-object-oriented-programming-oop)  \n",
    "   - [Printing Objects in Python](#printing-objects-in-python)  \n",
    "   - [Practice Problem: Write a class named `Student`](#practice-problem-write-a-class-named-student)  \n",
    "   - [Practice Problem: OOP + CSV](#practice-problem-oop--csv)  \n",
    "   - [Practice Problem: OOP + File I/O](#practice-problem-oop--file-io)\n"
   ]
  },
  {
   "cell_type": "markdown",
   "metadata": {},
   "source": [
    "## 1. CSV Module in Python <a name=\"1-csv-module-in-python\"></a>\n",
    "\n",
    "#### What is a CSV file?\n",
    "- CSV stands for \"Comma-Separated Values\".\n",
    "- A CSV file is a plaintext format where each line typically represents a row, and each value within the row is separated by a delimiter (commonly a comma).\n",
    "- Commonly used for data exchange, simple data storage, and as input-output for many software applications.\n",
    "\n",
    "#### Why use the `csv` module?\n",
    "- The `csv` module in Python provides a simple interface to read and write CSV files.\n",
    "- It handles splitting lines on the appropriate delimiter, which helps avoid manual string parsing errors.\n",
    "\n",
    "Below is an example of using the `csv` module to read from a file.\n"
   ]
  },
  {
   "cell_type": "code",
   "execution_count": 1,
   "metadata": {},
   "outputs": [
    {
     "name": "stdout",
     "output_type": "stream",
     "text": [
      "['name', 'age', 'department']\n",
      "['John', '25', 'Engineering']\n",
      "['Jane', '30', 'Marketing']\n",
      "['Bob', '22', 'Human Resources']\n"
     ]
    }
   ],
   "source": [
    "# EXAMPLE: Reading from a CSV using the csv module\n",
    "import csv\n",
    "\n",
    "with open('data.csv', mode='r', newline='') as file:\n",
    "    csv_reader = csv.reader(file, delimiter=',')\n",
    "    for row in csv_reader:\n",
    "        print(row)\n"
   ]
  },
  {
   "cell_type": "markdown",
   "metadata": {},
   "source": [
    "#### Writing to a CSV File with `csv.writer`\n",
    "\n",
    "In addition to reading CSV files, we can also create or modify them using `csv.writer`. \n",
    "Below is a minimal example:\n"
   ]
  },
  {
   "cell_type": "code",
   "execution_count": 2,
   "metadata": {},
   "outputs": [
    {
     "name": "stdout",
     "output_type": "stream",
     "text": [
      "Data has been written to 'new_student_grades.csv'.\n"
     ]
    }
   ],
   "source": [
    "import csv\n",
    "\n",
    "data_to_write = [\n",
    "    [\"student_id\", \"exam1\", \"exam2\", \"exam3\"],\n",
    "    [\"S101\", \"85\", \"90\", \"88\"],\n",
    "    [\"S102\", \"78\", \"92\", \"80\"],\n",
    "]\n",
    "\n",
    "# EXAMPLE: Writing to a CSV using the csv module\n",
    "with open('new_student_grades.csv', mode='w', newline='') as file:\n",
    "    csv_writer = csv.writer(file)\n",
    "    for row in data_to_write:\n",
    "        csv_writer.writerow(row)\n",
    "\n",
    "print(\"Data has been written to 'new_student_grades.csv'.\")\n"
   ]
  },
  {
   "cell_type": "markdown",
   "metadata": {},
   "source": [
    "#### Practice Problem: CSV Module <a name=\"practice-problem-csv-module\"></a>\n",
    "Suppose you are given a CSV file named `student_grades.csv`.\n",
    "\n",
    "1. Read this file using the `csv` module.  \n",
    "2. Compute the average score for each student across the three exams.  \n",
    "3. Add average score of each student as a column to the csv file.  \n",
    "4. For this csv file, calculate statistics such as mean, highest, lowest score and write them in a `stats.txt` file.\n"
   ]
  },
  {
   "cell_type": "code",
   "execution_count": null,
   "metadata": {},
   "outputs": [],
   "source": [
    "# TODO:"
   ]
  },
  {
   "cell_type": "code",
   "execution_count": 3,
   "metadata": {},
   "outputs": [
    {
     "name": "stdout",
     "output_type": "stream",
     "text": [
      "Created 'student_grades_with_avg.csv' with average scores and 'stats.txt' with summary statistics.\n"
     ]
    }
   ],
   "source": [
    "import csv\n",
    "\n",
    "# Step 1: Read the 'student_grades.csv' file\n",
    "input_file = 'student_grades.csv'\n",
    "output_file = 'student_grades_with_avg.csv'  # We'll create a new file with the additional \"average\" column.\n",
    "stats_file = 'stats.txt'\n",
    "\n",
    "student_data = []\n",
    "header = []\n",
    "\n",
    "with open(input_file, mode='r', newline='') as csv_file:\n",
    "    csv_reader = csv.reader(csv_file)\n",
    "    \n",
    "    # Read header first\n",
    "    header = next(csv_reader)  # e.g. ['student_id', 'exam1', 'exam2', 'exam3']\n",
    "    \n",
    "    # Read each row and store in a list\n",
    "    for row in csv_reader:\n",
    "        student_data.append(row)\n",
    "\n",
    "# Step 2: Compute the average score for each student\n",
    "# We'll assume the exams are in columns: exam1, exam2, exam3\n",
    "# and they are all integers or floats. \n",
    "averages = []\n",
    "for row in student_data:\n",
    "    # example row: ['S101', '80', '90', '85']\n",
    "    exam1 = float(row[1])\n",
    "    exam2 = float(row[2])\n",
    "    exam3 = float(row[3])\n",
    "    \n",
    "    avg_score = (exam1 + exam2 + exam3) / 3\n",
    "    averages.append(avg_score)\n",
    "\n",
    "# Step 3: Add average score to each row and write out to a new CSV\n",
    "# We'll modify the header to include \"average\"\n",
    "header_with_avg = header + ['average']\n",
    "\n",
    "# Combine the data back with the averages\n",
    "for i in range(len(student_data)):\n",
    "    row = student_data[i]\n",
    "    row.append(str(round(averages[i], 2)))  # rounding to 2 decimal places\n",
    "\n",
    "with open(output_file, mode='w') as out_csv:\n",
    "    csv_writer = csv.writer(out_csv)\n",
    "    csv_writer.writerow(header_with_avg)\n",
    "    for row in student_data:\n",
    "        csv_writer.writerow(row)\n",
    "\n",
    "# Step 4: Calculate statistics (mean, highest, lowest) of the average scores\n",
    "mean_avg = sum(averages) / len(averages)\n",
    "highest_avg = max(averages)\n",
    "lowest_avg = min(averages)\n",
    "\n",
    "# Write stats to a text file\n",
    "with open(stats_file, 'w') as f:\n",
    "    f.write(f\"Number of Students: {len(averages)}\\n\")\n",
    "    f.write(f\"Mean Average Score: {mean_avg:.2f}\\n\")\n",
    "    f.write(f\"Highest Average Score: {highest_avg:.2f}\\n\")\n",
    "    f.write(f\"Lowest Average Score: {lowest_avg:.2f}\\n\")\n",
    "\n",
    "print(\"Created 'student_grades_with_avg.csv' with average scores and 'stats.txt' with summary statistics.\")\n"
   ]
  },
  {
   "cell_type": "markdown",
   "metadata": {},
   "source": [
    "## 2. Pandas <a name=\"2-pandas\"></a>\n",
    "\n",
    "\n",
    "#### Why Pandas?\n",
    "- Pandas is a powerful library for data manipulation and analysis.\n",
    "- It provides the `DataFrame` and `DataSeries` data structure, which is more flexible and efficient than manual parsing with the `csv` module.\n",
    "- Installation: `pip install pandas`\n",
    "- Common imports:\n",
    "\n",
    "```python\n",
    "import pandas as pd\n",
    "```\n"
   ]
  },
  {
   "cell_type": "code",
   "execution_count": null,
   "metadata": {},
   "outputs": [],
   "source": [
    "# code cell to install pandas to your python\n",
    "%pip install pandas"
   ]
  },
  {
   "cell_type": "code",
   "execution_count": 10,
   "metadata": {},
   "outputs": [
    {
     "name": "stdout",
     "output_type": "stream",
     "text": [
      "DataFrame head:\n",
      "   name  age       department\n",
      "0  John   25      Engineering\n",
      "1  Jane   30        Marketing\n",
      "2   Bob   22  Human Resources\n",
      "\n",
      "DataFrame tail:\n",
      "   name  age       department\n",
      "0  John   25      Engineering\n",
      "1  Jane   30        Marketing\n",
      "2   Bob   22  Human Resources\n",
      "\n",
      "Select row with index 0 using .iloc:\n",
      "name                 John\n",
      "age                    25\n",
      "department    Engineering\n",
      "Name: 0, dtype: object\n",
      "\n",
      "Select the 'department' column using bracket notation:\n",
      "0        Engineering\n",
      "1          Marketing\n",
      "2    Human Resources\n",
      "Name: department, dtype: object\n",
      "\n",
      "Filtering rows where department is 'Engineering':\n",
      "   name  age   department\n",
      "0  John   25  Engineering\n"
     ]
    }
   ],
   "source": [
    "# EXAMPLE: Basic Pandas usage\n",
    "import pandas as pd\n",
    "\n",
    "# Reading the same 'data.csv' as before, but with Pandas\n",
    "df = pd.read_csv('data.csv')\n",
    "\n",
    "print(\"DataFrame head:\")\n",
    "print(df.head()) # print the first 5 rows of the dataframe\n",
    "\n",
    "# print the last 5 rows of the dataframe\n",
    "print(\"\\nDataFrame tail:\")\n",
    "print(df.tail())\n",
    "\n",
    "print(\"\\nSelect row with index 0 using .iloc:\")\n",
    "print(df.iloc[0]) # print the first row of the dataframe\n",
    "\n",
    "print(\"\\nSelect the 'department' column using bracket notation:\")\n",
    "print(df['department']) # print the 'department' column of the dataframe\n",
    "\n",
    "print(\"\\nFiltering rows where department is 'Engineering':\")\n",
    "eng_dept = df.loc[df['department'] == 'Engineering'] # filter the rows where the 'department' column is 'Engineering'\n",
    "print(eng_dept)\n"
   ]
  },
  {
   "cell_type": "markdown",
   "metadata": {},
   "source": [
    "#### Practice Problem: Using Pandas for data manipulation <a name=\"practice-problem-using-pandas-for-data-manipulation\"></a>\n",
    "\n",
    "1. Read the same `sensor_data.csv` file into a Pandas DataFrame.  \n",
    "2. Print the first 5 rows and the last 5 rows.  \n",
    "3. Filter the DataFrame to show only rows where the temperature is above 50°C.  \n",
    "4. Find the average current for rows where voltage is above 12.  \n",
    "5. Use `.loc` or `.iloc` to select a subset of rows and columns (e.g., rows 10 to 20, columns `[timestamp, temperature]`).  \n",
    "\n",
    "*Hint: Explore DataFrame methods like `.mean()`, `.loc`, and `.iloc`.*\n"
   ]
  },
  {
   "cell_type": "code",
   "execution_count": null,
   "metadata": {},
   "outputs": [],
   "source": [
    "# TODO:\n"
   ]
  },
  {
   "cell_type": "code",
   "execution_count": 4,
   "metadata": {},
   "outputs": [
    {
     "name": "stdout",
     "output_type": "stream",
     "text": [
      "First 5 rows:\n",
      "             timestamp  voltage  current  temperature\n",
      "0  2025-03-01 12:00:00    12.39     0.53        47.33\n",
      "1  2025-03-01 12:01:00    10.97     0.54        58.35\n",
      "2  2025-03-01 12:02:00    13.60     0.58        66.84\n",
      "3  2025-03-01 12:03:00    13.27     0.45        42.53\n",
      "4  2025-03-01 12:04:00    10.59     0.53        46.75\n",
      "\n",
      "Last 5 rows:\n",
      "              timestamp  voltage  current  temperature\n",
      "45  2025-03-01 12:45:00    12.15     0.54        48.23\n",
      "46  2025-03-01 12:46:00    13.03     0.57        59.36\n",
      "47  2025-03-01 12:47:00    12.50     0.61        63.05\n",
      "48  2025-03-01 12:48:00    10.37     0.64        42.87\n",
      "49  2025-03-01 12:49:00    13.78     0.56        67.64\n",
      "\n",
      "Number of rows where temperature is above 50°C:\n",
      "33\n",
      "\n",
      "Average current where voltage > 12: 0.57\n",
      "\n",
      "Subset of rows 10 to 20, columns [timestamp, temperature]:\n",
      "              timestamp  temperature\n",
      "10  2025-03-01 12:10:00        43.59\n",
      "11  2025-03-01 12:11:00        65.82\n",
      "12  2025-03-01 12:12:00        44.75\n",
      "13  2025-03-01 12:13:00        49.66\n",
      "14  2025-03-01 12:14:00        67.12\n",
      "15  2025-03-01 12:15:00        66.10\n",
      "16  2025-03-01 12:16:00        51.79\n",
      "17  2025-03-01 12:17:00        60.40\n",
      "18  2025-03-01 12:18:00        63.64\n",
      "19  2025-03-01 12:19:00        45.19\n",
      "20  2025-03-01 12:20:00        53.77\n"
     ]
    }
   ],
   "source": [
    "import pandas as pd\n",
    "\n",
    "# Step 1: Read 'sensor_data.csv' into a DataFrame\n",
    "df = pd.read_csv(\"sensor_data.csv\")\n",
    "\n",
    "# Step 2: Print the first 5 rows and the last 5 rows\n",
    "print(\"First 5 rows:\")\n",
    "print(df.head())\n",
    "\n",
    "print(\"\\nLast 5 rows:\")\n",
    "print(df.tail())\n",
    "\n",
    "# Step 3: Filter rows where temperature is above 50°C\n",
    "print(\"\\nNumber of rows where temperature is above 50°C:\")\n",
    "temp_above_50 = df[df['temperature'] > 50]\n",
    "print(len(temp_above_50))\n",
    "\n",
    "# Step 4: Find the average current where voltage is above 12\n",
    "avg_current_high_voltage = df.loc[df['voltage'] > 12]['current'].mean()\n",
    "print(f\"\\nAverage current where voltage > 12: {avg_current_high_voltage:.2f}\")\n",
    "\n",
    "# Step 5: Use .loc or .iloc to select rows 10 to 20, columns [timestamp, temperature]\n",
    "# (Remember that DataFrame indexing starts at 0, so rows 10 to 20 means index 10 through 20 inclusive.)\n",
    "subset = df.loc[10:20, ['timestamp', 'temperature']]\n",
    "print(\"\\nSubset of rows 10 to 20, columns [timestamp, temperature]:\")\n",
    "print(subset)\n"
   ]
  },
  {
   "cell_type": "markdown",
   "metadata": {},
   "source": [
    "## 3. Object-Oriented Programming (OOP) <a name=\"3-object-oriented-programming-oop\"></a>\n",
    "\n",
    "\n",
    "#### Printing Objects in Python\n",
    "- By default, printing an object like `print(my_object)` will show something like `<__main__.MyClass object at 0x...>`.\n",
    "- To customize this, define the `__str__(self)` method (or `__repr__`) inside the class. Then, `print()` will display the string you return from `__str__`.\n"
   ]
  },
  {
   "cell_type": "code",
   "execution_count": 5,
   "metadata": {},
   "outputs": [
    {
     "name": "stdout",
     "output_type": "stream",
     "text": [
      "<__main__.Vehicle object at 0x75914c052180>\n"
     ]
    }
   ],
   "source": [
    "# EXAMPLE: Basic class with __str__\n",
    "class Vehicle:\n",
    "    def __init__(self, brand, model):\n",
    "        self.brand = brand\n",
    "        self.model = model\n",
    "    \n",
    "    # def __str__(self):\n",
    "    #     return f\"Vehicle(brand={self.brand}, model={self.model})\"\n",
    "\n",
    "car = Vehicle(\"Toyota\", \"Corolla\")\n",
    "print(car)  # Will print the default string representation of the object"
   ]
  },
  {
   "cell_type": "code",
   "execution_count": 6,
   "metadata": {},
   "outputs": [
    {
     "name": "stdout",
     "output_type": "stream",
     "text": [
      "Vehicle (Toyota, Corolla)\n"
     ]
    }
   ],
   "source": [
    "# EXAMPLE: Basic class with __str__\n",
    "class Vehicle:\n",
    "    def __init__(self, brand, model):\n",
    "        self.brand = brand\n",
    "        self.model = model\n",
    "    \n",
    "    def __str__(self):\n",
    "        # return f\"Vehicle(brand={self.brand}, model={self.model})\"\n",
    "        return \"Vehicle (\" + self.brand + \", \" + self.model + \")\"\n",
    "\n",
    "car = Vehicle(\"Toyota\", \"Corolla\")\n",
    "print(car)  # Will use the __str__ method"
   ]
  },
  {
   "cell_type": "markdown",
   "metadata": {},
   "source": [
    "#### Practice Problem: Write a class named `Student` with: <a name=\"practice-problem-write-a-class-named-student\"></a>\n",
    "- Attributes: `name`, `major`, `gpa` (default 0.0).\n",
    "- A `__str__` method to display the student's information neatly.\n",
    "- A method to update the `gpa` if you pass a new score (assume some logic that modifies GPA). For simplicity, we’ll just average the current GPA with the new score.\n",
    "\n",
    "Create multiple `Student` objects, update their GPAs, and print them to confirm your `__str__` works."
   ]
  },
  {
   "cell_type": "code",
   "execution_count": null,
   "metadata": {},
   "outputs": [],
   "source": [
    "# TODO:"
   ]
  },
  {
   "cell_type": "code",
   "execution_count": 7,
   "metadata": {},
   "outputs": [],
   "source": [
    "class Student:\n",
    "    def __init__(self, name, major, gpa=0.0):\n",
    "        self.name = name\n",
    "        self.major = major\n",
    "        self.gpa = gpa  # default GPA is 0.0 if not provided\n",
    "\n",
    "    def __str__(self):\n",
    "        # return f\"Student(name={self.name}, major={self.major}, gpa={self.gpa:.2f})\"\n",
    "        return \"Student (name=\" + self.name + \", major=\" + self.major + \", gpa=\" + str(self.gpa) + \")\"\n",
    "\n",
    "    def update_gpa(self, new_score):\n",
    "        \"\"\"\n",
    "        Updates the GPA based on a new_score.\n",
    "        For simplicity, we’ll just average the current GPA with the new score.\n",
    "        In a real scenario, logic could be more complex (e.g., weighted average).\n",
    "        \"\"\"\n",
    "        self.gpa = (self.gpa + new_score) / 2"
   ]
  },
  {
   "cell_type": "code",
   "execution_count": 8,
   "metadata": {},
   "outputs": [
    {
     "name": "stdout",
     "output_type": "stream",
     "text": [
      "Initial student information:\n",
      "Student (name=Alice, major=Computer Science, gpa=0.0)\n",
      "Student (name=Bob, major=Mechanical Engineering, gpa=3.2)\n",
      "Student (name=Charlie, major=Mathematics, gpa=3.5)\n",
      "\n",
      "After updating GPAs:\n",
      "Student (name=Alice, major=Computer Science, gpa=1.9)\n",
      "Student (name=Bob, major=Mechanical Engineering, gpa=3.4000000000000004)\n",
      "Student (name=Charlie, major=Mathematics, gpa=3.75)\n"
     ]
    }
   ],
   "source": [
    "# Examples:\n",
    "s1 = Student(name=\"Alice\", major=\"Computer Science\")\n",
    "s2 = Student(name=\"Bob\", major=\"Mechanical Engineering\", gpa=3.2)\n",
    "s3 = Student(name=\"Charlie\", major=\"Mathematics\", gpa=3.5)\n",
    "\n",
    "# Print initial states\n",
    "print(\"Initial student information:\")\n",
    "print(s1)\n",
    "print(s2)\n",
    "print(s3)\n",
    "\n",
    "# Update GPAs based on new scores\n",
    "s1.update_gpa(3.8)\n",
    "s2.update_gpa(3.6)\n",
    "s3.update_gpa(4.0)\n",
    "\n",
    "# Print after updates\n",
    "print(\"\\nAfter updating GPAs:\")\n",
    "print(s1)\n",
    "print(s2)\n",
    "print(s3)"
   ]
  },
  {
   "cell_type": "markdown",
   "metadata": {},
   "source": [
    "\n",
    "#### Practice Problem: OOP + CSV <a name=\"practice-problem-oop--csv\"></a>\n",
    "\n",
    "1. **Design a class** in a separate file, say `my_classes.py`. The class should:\n",
    "    - Be named `SensorReader`.\n",
    "    - Have an `__init__()` that takes a `filename` (CSV path).\n",
    "    - Have a method `read_data()` that opens the file, reads sensor readings, and stores them internally (e.g., in a list).\n",
    "    - Have a `__str__()` method that returns a string with basic info (like how many rows of data were read).\n",
    "\n",
    "2. **Import and use it**:\n",
    "    - In your main notebook, do:\n",
    "      ```python\n",
    "      from my_classes import SensorReader\n",
    "      ```\n",
    "    - Create an instance: `reader = SensorReader('sensor_data.csv')`.\n",
    "    - Call `reader.read_data()`.\n",
    "    - Print the `reader` object to see the info given by `__str__`.\n",
    "\n",
    "3. **Add an extra method** in `SensorReader` named `save_filtered_data(output_file, threshold)` which:\n",
    "    - Saves (to `output_file`) only the lines where voltage is above the given `threshold`.\n",
    "    - **Hint**: You can do this with standard file I/O or by reusing your stored data.\n",
    "\n"
   ]
  },
  {
   "cell_type": "code",
   "execution_count": null,
   "metadata": {},
   "outputs": [],
   "source": [
    "# TODO: write a class named SensorReader in a separate file named my_classes.py\n",
    "\n",
    "# TODO: import the class in your main notebook or Python script\n",
    "\n",
    "output_file = 'filtered_sensor_data.csv'\n",
    "threshold_value = 12.0\n",
    "reader.save_filtered_data(output_file, threshold_value)\n",
    "\n",
    "# TODO: print the number of rows in the filtered_sensor_data.csv using the SensorReader class\n",
    "# the output should have 26 rows"
   ]
  },
  {
   "cell_type": "code",
   "execution_count": 30,
   "metadata": {},
   "outputs": [
    {
     "name": "stdout",
     "output_type": "stream",
     "text": [
      "SensorReader reading from sensor_data.csv: 51 rows loaded.\n",
      "Filtered data saved to 'filtered_data.csv'\n",
      "SensorReader reading from filtered_sensor_data.csv: 26 rows loaded.\n"
     ]
    }
   ],
   "source": [
    "from my_classes import SensorReader\n",
    "\n",
    "# 1. Create an instance of SensorReader\n",
    "reader = SensorReader('sensor_data.csv')\n",
    "\n",
    "# 2. Call read_data() to load data from the CSV file\n",
    "reader.read_data()\n",
    "\n",
    "# 3. Print the reader object to see how many rows have been loaded\n",
    "print(reader)\n",
    "\n",
    "# 4. Save only rows where voltage > 12.0 to a file named 'filtered_data.csv'\n",
    "output_file = 'filtered_sensor_data.csv'\n",
    "threshold_value = 12.0\n",
    "reader.save_filtered_data(output_file, threshold_value)\n",
    "print(\"Filtered data saved to 'filtered_data.csv'\")\n",
    "\n",
    "\n",
    "out_reader = SensorReader(output_file)\n",
    "out_reader.read_data()\n",
    "print(out_reader)"
   ]
  },
  {
   "cell_type": "markdown",
   "metadata": {},
   "source": [
    "\n",
    "#### Practice Problem: OOP + File I/O  <a name=\"practice-problem-oop--file-io\"></a>\n",
    "Imagine you’re tasked with building a small library system. You have the following requirements:\n",
    "\n",
    "1. Design a `Book` class with:\n",
    "   - `title`, `author`, `year`, and `is_checked_out=False`.\n",
    "   - A method `check_out()` that sets `is_checked_out = True`.\n",
    "   - A method `return_book()` that sets `is_checked_out = False`.\n",
    "   - A `__str__()` that prints something like `\"[Available] Title by Author (Year)\"` or `\"[Checked Out] Title by Author (Year)\"`.\n",
    "\n",
    "2. Design a `Library` class that:\n",
    "   - Has an internal list of `Book` objects.\n",
    "   - A method `load_books_from_csv(filename)` that reads a CSV where each row contains `title,author,year`.\n",
    "   - A method `save_books_to_csv(filename)` that writes the same format, including the current status of each book.\n",
    "   - A method `find_book_by_title(title)` that returns the `Book` object if found, otherwise `None`.\n",
    "   - A method `check_out_book(title)` that calls the `check_out()` method on the `Book` (if found and available).\n",
    "\n",
    "3. In the main notebook:\n",
    "   - Create a `Library` instance.\n",
    "   - Load books from `library_books.csv` (create your own test CSV if needed).\n",
    "   - Check out a book by title and verify that it’s marked as checked out.\n",
    "   - Save the updated state back to a CSV file.\n",
    "\n",
    "Focus on designing your classes to handle unexpected cases (e.g., user tries to check out a non-existent book). This problem helps you practice:\n",
    "- Class design,\n",
    "- File reading/writing,\n",
    "- Default values (e.g., `is_checked_out=False`),\n",
    "- Using the `__str__` method effectively.\n"
   ]
  },
  {
   "cell_type": "code",
   "execution_count": null,
   "metadata": {},
   "outputs": [],
   "source": [
    "# TODO:"
   ]
  },
  {
   "cell_type": "code",
   "execution_count": 2,
   "metadata": {},
   "outputs": [
    {
     "name": "stdout",
     "output_type": "stream",
     "text": [
      "You have successfully checked out: Clean Code\n",
      "Book status after check-out: [Checked Out] Clean Code by Robert C. Martin (2008)\n",
      "\n",
      "Library status saved to 'library_books_updated.csv'.\n",
      "[Available] title by author (year)\n",
      "[Checked Out] Clean Code by Robert C. Martin (2008)\n",
      "[Checked Out] Effective Python by Brett Slatkin (2015)\n",
      "[Available] Automate the Boring Stuff with Python by Al Sweigart (2020)\n",
      "[Checked Out] The Pragmatic Programmer by Andrew Hunt (1999)\n",
      "[Available] The Art of Computer Programming by Donald Knuth (1968)\n",
      "[Checked Out] The C Programming Language by Brian W. Kernighan (1978)\n",
      "[Available] The Art of Fielding by Donald E. Knuth (1983)\n",
      "[Available] The Art of Computer Programming by Donald Knuth (1968)\n",
      "[Checked Out] The C Programming Language by Brian W. Kernighan (1978)\n"
     ]
    }
   ],
   "source": [
    "from my_classes import Library\n",
    "\n",
    "# 1. Create a Library instance\n",
    "my_library = Library()\n",
    "\n",
    "# 2. Load books from 'library_books.csv'\n",
    "my_library.load_books_from_csv('library_books.csv')\n",
    "\n",
    "# 3. Check out a book by title\n",
    "book_title_to_check_out = \"Clean Code\"\n",
    "my_library.check_out_book(book_title_to_check_out)\n",
    "\n",
    "# 4. Print out the book status or other information\n",
    "checked_out_book = my_library.find_book_by_title(book_title_to_check_out)\n",
    "if checked_out_book:\n",
    "    print(\"Book status after check-out:\", checked_out_book)\n",
    "\n",
    "# 5. Save the updated library state back to CSV\n",
    "my_library.save_books_to_csv('library_books_updated.csv')\n",
    "print(\"\\nLibrary status saved to 'library_books_updated.csv'.\")\n",
    "\n",
    "# Optionally, print out all books in the library\n",
    "for book in my_library.books:\n",
    "    print(book)\n"
   ]
  },
  {
   "cell_type": "markdown",
   "metadata": {},
   "source": [
    "**Summary**:  \n",
    "In this tutorial, you learned:\n",
    "- How to use the `csv` module for basic CSV operations.\n",
    "- How Pandas provides a more convenient approach to data analysis.\n",
    "- How to leverage OOP concepts (constructors, instance methods, and `__str__`) to build more robust and extensible Python applications.  \n",
    "\n",
    "Work through the practice problems to solidify your understanding, and remember to get creative with your examples to keep them engaging and relevant to engineering scenarios or real-world use cases!\n"
   ]
  },
  {
   "cell_type": "code",
   "execution_count": 10,
   "metadata": {},
   "outputs": [],
   "source": [
    "# file cleaning\n",
    "import os\n",
    "\n",
    "files2remove = ['library_books_updated.csv', 'filtered_sensor_data.csv', 'new_student_grades.csv', 'stats.txt', 'student_grades_with_avg.csv']\n",
    "for file in files2remove:\n",
    "    if os.path.exists(file):\n",
    "        os.remove(file)\n"
   ]
  }
 ],
 "metadata": {
  "kernelspec": {
   "display_name": "Python 3",
   "language": "python",
   "name": "python3"
  },
  "language_info": {
   "codemirror_mode": {
    "name": "ipython",
    "version": 3
   },
   "file_extension": ".py",
   "mimetype": "text/x-python",
   "name": "python",
   "nbconvert_exporter": "python",
   "pygments_lexer": "ipython3",
   "version": "3.12.3"
  }
 },
 "nbformat": 4,
 "nbformat_minor": 2
}
