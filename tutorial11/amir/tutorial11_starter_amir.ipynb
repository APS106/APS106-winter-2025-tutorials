{
 "cells": [
  {
   "cell_type": "markdown",
   "metadata": {},
   "source": [
    "<div style=\"text-align:center; border: 2px solid #2E86C1; border-radius: 10px; padding: 30px; background-color: #F4F6F7;\">\n",
    "\n",
    "<h1 style=\"color:#154360; font-family:'Georgia', serif; font-size: 2.8em; margin-bottom: 20px;\">APS106: Fundamentals of Computer Programming</h1>\n",
    "\n",
    "<h2 style=\"color:#1A5276; font-family:'Palatino Linotype', 'Book Antiqua', serif; font-size: 2.0em; margin-bottom: 30px;\">Tutorial 11, Week 12</h2>\n",
    "\n",
    "<h3 style=\"color:#6C3483; font-family:'Cambria', serif; font-size: 1.8em; text-decoration: underline; margin-bottom: 15px;\">Topics Covered</h3>\n",
    "<p style=\"text-align:center; font-family:'Trebuchet MS', sans-serif; font-size: 1.3em; line-height: 1.8;\">\n",
    "  <span style=\"color:#D35400; font-weight:bold;\">Programming Concepts (revisiting)</span><br>\n",
    "  <span style=\"color:#283747;\">• CSV</span><br>\n",
    "  <span style=\"color:#283747;\">• Pandas</span><br> \n",
    "  <span style=\"color:#283747;\">• Object-Oriented Programming (OOP)</span><br>\n",
    "</p>\n",
    "\n",
    "<h3 style=\"color:#6C3483; font-family:'Cambria', serif; font-size: 1.8em; text-decoration: underline; margin-bottom: 15px;\">Goals for This Tutorial</h3>\n",
    "<p style=\"text-align:center; font-family:'Verdana', sans-serif; font-size: 1.2em; line-height: 1.8;\">\n",
    "  <span style=\"color:#21618C;\">• Introduction to CSV files, use cases, reading them with the `csv` module.</span><br> \n",
    "  <span style=\"color:#21618C;\">• A brief look at why Pandas is useful, and a single practice question combining various Pandas features.</span><br> \n",
    "  <span style=\"color:#21618C;\">• Focusing on printing objects (`__str__`), and designing interesting OOP(class)-based solutions.</span><br>\n",
    "</p>\n",
    "</div>\n",
    "\n",
    "\n"
   ]
  },
  {
   "cell_type": "markdown",
   "metadata": {},
   "source": [
    "# Table of Contents\n",
    "\n",
    "1. [CSV Module in Python](#1-csv-module-in-python)  \n",
    "   - [Practice Problem: CSV Module](#practice-problem-csv-module)\n",
    "\n",
    "2. [Pandas](#2-pandas) \n",
    "   - [Practice Problem: Using Pandas for data manipulation](#practice-problem-using-pandas-for-data-manipulation)\n",
    "\n",
    "3. [Object-Oriented Programming (OOP)](#3-object-oriented-programming-oop)  \n",
    "   - [Printing Objects in Python](#printing-objects-in-python)  \n",
    "   - [Practice Problem: Write a class named `Student`](#practice-problem-write-a-class-named-student)  \n",
    "   - [Practice Problem: OOP + CSV](#practice-problem-oop--csv)  \n",
    "   - [Practice Problem: OOP + File I/O](#practice-problem-oop--file-io)\n"
   ]
  },
  {
   "cell_type": "markdown",
   "metadata": {},
   "source": [
    "## 1. CSV Module in Python <a name=\"1-csv-module-in-python\"></a>\n",
    "\n",
    "#### What is a CSV file?\n",
    "- CSV stands for \"Comma-Separated Values\".\n",
    "- A CSV file is a plaintext format where each line typically represents a row, and each value within the row is separated by a delimiter (commonly a comma).\n",
    "- Commonly used for data exchange, simple data storage, and as input-output for many software applications.\n",
    "\n",
    "#### Why use the `csv` module?\n",
    "- The `csv` module in Python provides a simple interface to read and write CSV files.\n",
    "- It handles splitting lines on the appropriate delimiter, which helps avoid manual string parsing errors.\n",
    "\n",
    "Below is an example of using the `csv` module to read from a file.\n"
   ]
  },
  {
   "cell_type": "code",
   "execution_count": 1,
   "metadata": {},
   "outputs": [
    {
     "name": "stdout",
     "output_type": "stream",
     "text": [
      "['name', 'age', 'department']\n",
      "['John', '25', 'Engineering']\n",
      "['Jane', '30', 'Marketing']\n",
      "['Bob', '22', 'Human Resources']\n"
     ]
    }
   ],
   "source": [
    "# EXAMPLE: Reading from a CSV using the csv module\n",
    "import csv\n",
    "\n",
    "with open('data.csv', mode='r', newline='') as file:\n",
    "    csv_reader = csv.reader(file, delimiter=',')\n",
    "    for row in csv_reader:\n",
    "        print(row)\n"
   ]
  },
  {
   "cell_type": "markdown",
   "metadata": {},
   "source": [
    "#### Writing to a CSV File with `csv.writer`\n",
    "\n",
    "In addition to reading CSV files, we can also create or modify them using `csv.writer`. \n",
    "Below is a minimal example:\n"
   ]
  },
  {
   "cell_type": "code",
   "execution_count": 2,
   "metadata": {},
   "outputs": [
    {
     "name": "stdout",
     "output_type": "stream",
     "text": [
      "Data has been written to 'new_student_grades.csv'.\n"
     ]
    }
   ],
   "source": [
    "import csv\n",
    "\n",
    "data_to_write = [\n",
    "    [\"student_id\", \"exam1\", \"exam2\", \"exam3\"],\n",
    "    [\"S101\", \"85\", \"90\", \"88\"],\n",
    "    [\"S102\", \"78\", \"92\", \"80\"],\n",
    "]\n",
    "\n",
    "# EXAMPLE: Writing to a CSV using the csv module\n",
    "with open('new_student_grades.csv', mode='w', newline='') as file:\n",
    "    csv_writer = csv.writer(file)\n",
    "    for row in data_to_write:\n",
    "        csv_writer.writerow(row)\n",
    "\n",
    "print(\"Data has been written to 'new_student_grades.csv'.\")\n"
   ]
  },
  {
   "cell_type": "markdown",
   "metadata": {},
   "source": [
    "#### Practice Problem: CSV Module <a name=\"practice-problem-csv-module\"></a>\n",
    "Suppose you are given a CSV file named `student_grades.csv`.\n",
    "\n",
    "1. Read this file using the `csv` module.  \n",
    "2. Compute the average score for each student across the three exams.  \n",
    "3. Add average score of each student as a column to the csv file.  \n",
    "4. For this csv file, calculate statistics such as mean, highest, lowest score and write them in a `stats.txt` file.\n"
   ]
  },
  {
   "cell_type": "code",
   "execution_count": 3,
   "metadata": {},
   "outputs": [],
   "source": [
    "# TODO:"
   ]
  },
  {
   "cell_type": "markdown",
   "metadata": {},
   "source": [
    "## 2. Pandas <a name=\"2-pandas\"></a>\n",
    "\n",
    "\n",
    "#### Why Pandas?\n",
    "- Pandas is a powerful library for data manipulation and analysis.\n",
    "- It provides the `DataFrame` and `DataSeries` data structure, which is more flexible and efficient than manual parsing with the `csv` module.\n",
    "- Installation: `pip install pandas`\n",
    "- Common imports:\n",
    "\n",
    "```python\n",
    "import pandas as pd\n",
    "```\n"
   ]
  },
  {
   "cell_type": "code",
   "execution_count": 6,
   "metadata": {},
   "outputs": [
    {
     "name": "stdout",
     "output_type": "stream",
     "text": [
      "Requirement already satisfied: pandas in /opt/anaconda3/envs/AdvKG/lib/python3.12/site-packages (2.2.2)\n",
      "Requirement already satisfied: numpy>=1.26.0 in /opt/anaconda3/envs/AdvKG/lib/python3.12/site-packages (from pandas) (2.2.2)\n",
      "Requirement already satisfied: python-dateutil>=2.8.2 in /opt/anaconda3/envs/AdvKG/lib/python3.12/site-packages (from pandas) (2.9.0.post0)\n",
      "Requirement already satisfied: pytz>=2020.1 in /opt/anaconda3/envs/AdvKG/lib/python3.12/site-packages (from pandas) (2024.1)\n",
      "Requirement already satisfied: tzdata>=2022.7 in /opt/anaconda3/envs/AdvKG/lib/python3.12/site-packages (from pandas) (2024.1)\n",
      "Requirement already satisfied: six>=1.5 in /opt/anaconda3/envs/AdvKG/lib/python3.12/site-packages (from python-dateutil>=2.8.2->pandas) (1.16.0)\n",
      "Note: you may need to restart the kernel to use updated packages.\n"
     ]
    }
   ],
   "source": [
    "# code cell to install pandas to your python\n",
    "%pip install pandas"
   ]
  },
  {
   "cell_type": "code",
   "execution_count": 7,
   "metadata": {},
   "outputs": [
    {
     "name": "stdout",
     "output_type": "stream",
     "text": [
      "DataFrame head:\n",
      "   name  age       department\n",
      "0  John   25      Engineering\n",
      "1  Jane   30        Marketing\n",
      "2   Bob   22  Human Resources\n",
      "\n",
      "DataFrame tail:\n",
      "   name  age       department\n",
      "0  John   25      Engineering\n",
      "1  Jane   30        Marketing\n",
      "2   Bob   22  Human Resources\n",
      "\n",
      "Select row with index 0 using .iloc:\n",
      "name                 John\n",
      "age                    25\n",
      "department    Engineering\n",
      "Name: 0, dtype: object\n",
      "\n",
      "Select the 'department' column using bracket notation:\n",
      "0        Engineering\n",
      "1          Marketing\n",
      "2    Human Resources\n",
      "Name: department, dtype: object\n",
      "\n",
      "Filtering rows where department is 'Engineering':\n",
      "   name  age   department\n",
      "0  John   25  Engineering\n"
     ]
    }
   ],
   "source": [
    "# EXAMPLE: Basic Pandas usage\n",
    "import pandas as pd\n",
    "\n",
    "# Reading the same 'data.csv' as before, but with Pandas\n",
    "df = pd.read_csv('data.csv')\n",
    "\n",
    "print(\"DataFrame head:\")\n",
    "print(df.head()) # print the first 5 rows of the dataframe\n",
    "\n",
    "# print the last 5 rows of the dataframe\n",
    "print(\"\\nDataFrame tail:\")\n",
    "print(df.tail())\n",
    "\n",
    "print(\"\\nSelect row with index 0 using .iloc:\")\n",
    "print(df.iloc[0]) # print the first row of the dataframe\n",
    "\n",
    "print(\"\\nSelect the 'department' column using bracket notation:\")\n",
    "print(df['department']) # print the 'department' column of the dataframe\n",
    "\n",
    "print(\"\\nFiltering rows where department is 'Engineering':\")\n",
    "eng_dept = df.loc[df['department'] == 'Engineering'] # filter the rows where the 'department' column is 'Engineering'\n",
    "print(eng_dept)\n"
   ]
  },
  {
   "cell_type": "markdown",
   "metadata": {},
   "source": [
    "#### Practice Problem: Using Pandas for data manipulation <a name=\"practice-problem-using-pandas-for-data-manipulation\"></a>\n",
    "\n",
    "1. Read the `sensor_data.csv` file into a Pandas DataFrame.  \n",
    "2. Print the first 5 rows and the last 5 rows.  \n",
    "3. Filter the DataFrame to show only rows where the temperature is above 50°C.  \n",
    "4. Find the average current for rows where voltage is above 12.  \n",
    "5. Use `.loc` or `.iloc` to select a subset of rows and columns (e.g., rows 10 to 20, columns `[timestamp, temperature]`).  \n",
    "\n",
    "*Hint: Explore DataFrame methods like `.mean()`, `.loc`, and `.iloc`.*\n"
   ]
  },
  {
   "cell_type": "code",
   "execution_count": 8,
   "metadata": {},
   "outputs": [],
   "source": [
    "# TODO:\n"
   ]
  },
  {
   "cell_type": "markdown",
   "metadata": {},
   "source": [
    "## 3. Object-Oriented Programming (OOP) <a name=\"3-object-oriented-programming-oop\"></a>\n",
    "\n",
    "\n",
    "#### Printing Objects in Python\n",
    "- When you create an object from a class in Python and try to print it, Python needs to decide how that object should look as text.\n",
    "- By default, printing an object like `print(my_object)` will show something like `<__main__.MyClass object at 0x...>`.\n",
    "- But, we might want to make the printed version of our object look nice and readable.\n",
    "- To customize this, define the `__str__(self)` method (or `__repr__`) inside the class. Then, `print()` will display the string you return from `__str__`.\n"
   ]
  },
  {
   "cell_type": "code",
   "execution_count": 5,
   "metadata": {},
   "outputs": [
    {
     "name": "stdout",
     "output_type": "stream",
     "text": [
      "<__main__.Vehicle object at 0x75914c052180>\n"
     ]
    }
   ],
   "source": [
    "# EXAMPLE: Basic class with __str__\n",
    "class Vehicle:\n",
    "    def __init__(self, brand, model):\n",
    "        self.brand = brand\n",
    "        self.model = model\n",
    "    \n",
    "    # def __str__(self):\n",
    "    #     return f\"Vehicle(brand={self.brand}, model={self.model})\"\n",
    "\n",
    "car = Vehicle(\"Toyota\", \"Corolla\")\n",
    "print(car)  # Will print the default string representation of the object"
   ]
  },
  {
   "cell_type": "markdown",
   "metadata": {},
   "source": [
    "#### Practice Problem: Write a class named `Student` with: <a name=\"practice-problem-write-a-class-named-student\"></a>\n",
    "- Attributes: `name`, `major`, `gpa` (default 0.0).\n",
    "- A `__str__` method to display the student's information neatly.\n",
    "- A method to update the `gpa` if you pass a new score (assume some logic that modifies GPA). For simplicity, we’ll just average the current GPA with the new score.\n",
    "\n",
    "Create multiple `Student` objects, update their GPAs, and print them to confirm your `__str__` works."
   ]
  },
  {
   "cell_type": "code",
   "execution_count": null,
   "metadata": {},
   "outputs": [],
   "source": [
    "# TODO:"
   ]
  },
  {
   "cell_type": "code",
   "execution_count": 8,
   "metadata": {},
   "outputs": [
    {
     "name": "stdout",
     "output_type": "stream",
     "text": [
      "Initial student information:\n",
      "Student (name=Alice, major=Computer Science, gpa=0.0)\n",
      "Student (name=Bob, major=Mechanical Engineering, gpa=3.2)\n",
      "Student (name=Charlie, major=Mathematics, gpa=3.5)\n",
      "\n",
      "After updating GPAs:\n",
      "Student (name=Alice, major=Computer Science, gpa=1.9)\n",
      "Student (name=Bob, major=Mechanical Engineering, gpa=3.4000000000000004)\n",
      "Student (name=Charlie, major=Mathematics, gpa=3.75)\n"
     ]
    }
   ],
   "source": [
    "# Examples:\n",
    "s1 = Student(name=\"Alice\", major=\"Computer Science\")\n",
    "s2 = Student(name=\"Bob\", major=\"Mechanical Engineering\", gpa=3.2)\n",
    "s3 = Student(name=\"Charlie\", major=\"Mathematics\", gpa=3.5)\n",
    "\n",
    "# Print initial states\n",
    "print(\"Initial student information:\")\n",
    "print(s1)\n",
    "print(s2)\n",
    "print(s3)\n",
    "\n",
    "# Update GPAs based on new scores\n",
    "s1.update_gpa(3.8)\n",
    "s2.update_gpa(3.6)\n",
    "s3.update_gpa(4.0)\n",
    "\n",
    "# Print after updates\n",
    "print(\"\\nAfter updating GPAs:\")\n",
    "print(s1)\n",
    "print(s2)\n",
    "print(s3)"
   ]
  },
  {
   "cell_type": "markdown",
   "metadata": {},
   "source": [
    "\n",
    "#### Practice Problem: OOP + CSV <a name=\"practice-problem-oop--csv\"></a>\n",
    "\n",
    "1. **Design a class** in a separate file, say `my_classes.py`. The class should:\n",
    "    - Be named `SensorReader`.\n",
    "    - Have an `__init__()` that takes a `filename` (CSV path).\n",
    "    - Have a method `read_data()` that opens the file, reads sensor readings, and stores them internally (e.g., in a list).\n",
    "    - Have a `__str__()` method that returns a string with basic info (like how many rows of data were read).\n",
    "\n",
    "2. **Import and use it**:\n",
    "    - In your main notebook, do:\n",
    "      ```python\n",
    "      from my_classes import SensorReader\n",
    "      ```\n",
    "    - Create an instance: `reader = SensorReader('sensor_data.csv')`.\n",
    "    - Call `reader.read_data()`.\n",
    "    - Print the `reader` object to see the info given by `__str__`.\n",
    "\n",
    "3. **Add an extra method** in `SensorReader` named `save_filtered_data(output_file, threshold)` which:\n",
    "    - Saves (to `output_file`) only the lines where voltage is above the given `threshold`.\n",
    "    - **Hint**: You can do this with standard file I/O or by reusing your stored data.\n",
    "\n"
   ]
  },
  {
   "cell_type": "code",
   "execution_count": null,
   "metadata": {},
   "outputs": [],
   "source": [
    "# TODO: write a class named SensorReader in a separate file named my_classes.py\n",
    "\n",
    "# TODO: import the class in your main notebook or Python script\n",
    "\n",
    "output_file = 'filtered_sensor_data.csv'\n",
    "threshold_value = 12.0\n",
    "reader.save_filtered_data(output_file, threshold_value)\n",
    "\n",
    "# TODO: print the number of rows in the filtered_sensor_data.csv using the SensorReader class\n",
    "# the output should have 26 rows"
   ]
  },
  {
   "cell_type": "markdown",
   "metadata": {},
   "source": [
    "\n",
    "#### Practice Problem: OOP + File I/O  <a name=\"practice-problem-oop--file-io\"></a>\n",
    "Imagine you’re tasked with building a small library system. You have the following requirements:\n",
    "\n",
    "1. Design a `Book` class with:\n",
    "   - `title`, `author`, `year`, and `is_checked_out=False`.\n",
    "   - A method `check_out()` that sets `is_checked_out = True`.\n",
    "   - A method `return_book()` that sets `is_checked_out = False`.\n",
    "   - A `__str__()` that prints something like `\"[Available] Title by Author (Year)\"` or `\"[Checked Out] Title by Author (Year)\"`.\n",
    "\n",
    "2. Design a `Library` class that:\n",
    "   - Has an internal list of `Book` objects.\n",
    "   - A method `load_books_from_csv(filename)` that reads a CSV where each row contains `title,author,year`.\n",
    "   - A method `save_books_to_csv(filename)` that writes the same format, including the current status of each book.\n",
    "   - A method `find_book_by_title(title)` that returns the `Book` object if found, otherwise `None`.\n",
    "   - A method `check_out_book(title)` that calls the `check_out()` method on the `Book` (if found and available).\n",
    "\n",
    "3. In the main notebook:\n",
    "   - Create a `Library` instance.\n",
    "   - Load books from `library_books.csv` (create your own test CSV if needed).\n",
    "   - Check out a book by title and verify that it’s marked as checked out.\n",
    "   - Save the updated state back to a CSV file.\n",
    "\n",
    "Focus on designing your classes to handle unexpected cases (e.g., user tries to check out a non-existent book). This problem helps you practice:\n",
    "- Class design,\n",
    "- File reading/writing,\n",
    "- Default values (e.g., `is_checked_out=False`),\n",
    "- Using the `__str__` method effectively.\n"
   ]
  },
  {
   "cell_type": "code",
   "execution_count": null,
   "metadata": {},
   "outputs": [],
   "source": [
    "# TODO:"
   ]
  },
  {
   "cell_type": "markdown",
   "metadata": {},
   "source": [
    "## Exam-style Question\n",
    "\n",
    "In fields like stock market analysis or environmental monitoring, it’s common to use weighted moving averages (WMA) to give more importance to recent data points. These are often combined with threshold (level) crossings to detect trends or anomalies.\n",
    "\n",
    "#### Part A: Weighted Moving Average\n",
    "\n",
    "\n",
    "Given a sequence of values (e.g., stock prices over the past `n` days), the **weighted moving average** of length `k` at index `i` is defined as\n",
    "\n",
    "$$\n",
    "\\text{WMA}(i) = \\frac{\\sum_{j=0}^{k-1} \\left( w_j \\cdot \\text{data}[i-j] \\right)}{\\sum_{j=0}^{k-1} w_j}\n",
    "$$\n",
    "\n",
    "where $w_j$ are fixed, positive weights provided in a list `weights` of length `k`. In other words:\n",
    "- data is a list of values (e.g., daily stock prices)\n",
    "- weights = [w₀, w₁, ..., wₖ₋₁] is a list of fixed, positive weights of length k\n",
    "\n",
    " Special Cases:\n",
    "\n",
    "- For simplicity, if `i < k-1` (meaning there aren’t yet `k` data points up to index `i`), use only the first $\\min(i+1, k)$ data points with corresponding weights. In other words, if you are near the start of the data (i < k - 1), use only the available values, up to min(i + 1, k) — and match weights accordingly  \n",
    "- If `k` is larger than the length of the data, return an **empty list**.  \n",
    "\n",
    "Here is an example of how moving average is calculated in a scenratio that all weights are equal to 1:\n",
    "\n",
    "![image.png](image.png)\n",
    "\n",
    "\n",
    "\n"
   ]
  },
  {
   "cell_type": "markdown",
   "metadata": {},
   "source": [
    "## 🧮 Example: Weighted Moving Average\n",
    "\n",
    "**Given:**\n",
    "\n",
    "- `data = [100, 102, 101, 105, 107]`  \n",
    "- `weights = [0.5, 0.3, 0.2]`  (most recent value gets highest weight)\n",
    "\n",
    "We’ll compute the weighted moving average (WMA) at each index `i` using the formula:\n",
    "\n",
    "$$\n",
    "\\text{WMA}(i) = \\frac{w_0 \\cdot \\text{data}[i] + w_1 \\cdot \\text{data}[i-1] + \\dots + w_k \\cdot \\text{data}[i-k]}{w_0 + w_1 + \\dots + w_k}\n",
    "$$\n",
    "\n",
    "---\n",
    "\n",
    "### ✅ Index `i = 0`\n",
    "\n",
    "Only 1 value is available: `100`  \n",
    "Weights used: `[0.5]`\n",
    "\n",
    "$$\n",
    "\\text{WMA}(0) = \\frac{0.5 \\cdot 100}{0.5} = 100.0\n",
    "$$\n",
    "\n",
    "---\n",
    "\n",
    "### ✅ Index `i = 1`\n",
    "\n",
    "Values used: `102, 100`  \n",
    "Weights used: `[0.5, 0.3]`\n",
    "\n",
    "$$\n",
    "\\text{WMA}(1) = \\frac{0.5 \\cdot 102 + 0.3 \\cdot 100}{0.8} = \\frac{81.0}{0.8} = 101.25\n",
    "$$\n",
    "\n",
    "---\n",
    "\n",
    "### ✅ Index `i = 2`\n",
    "\n",
    "Values used: `101, 102, 100`  \n",
    "Weights used: `[0.5, 0.3, 0.2]`\n",
    "\n",
    "$$\n",
    "\\text{WMA}(2) = \\frac{0.5 \\cdot 101 + 0.3 \\cdot 102 + 0.2 \\cdot 100}{1.0} = 101.1\n",
    "$$\n",
    "\n",
    "---\n",
    "\n",
    "### ✅ Index `i = 3`\n",
    "\n",
    "Values used: `105, 101, 102`  \n",
    "Weights used: `[0.5, 0.3, 0.2]`\n",
    "\n",
    "$$\n",
    "\\text{WMA}(3) = \\frac{0.5 \\cdot 105 + 0.3 \\cdot 101 + 0.2 \\cdot 102}{1.0} = 103.2\n",
    "$$\n",
    "\n",
    "---\n",
    "\n",
    "### ✅ Index `i = 4`\n",
    "\n",
    "Values used: `107, 105, 101`  \n",
    "Weights used: `[0.5, 0.3, 0.2]`\n",
    "\n",
    "$$\n",
    "\\text{WMA}(4) = \\frac{0.5 \\cdot 107 + 0.3 \\cdot 105 + 0.2 \\cdot 101}{1.0} = 105.2\n",
    "$$\n",
    "\n",
    "---\n",
    "\n",
    "### 📊 Final Result:\n",
    "\n",
    "```python\n",
    "[100.0, 101.25, 101.1, 103.2, 105.2]"
   ]
  },
  {
   "cell_type": "markdown",
   "metadata": {},
   "source": [
    "**Task**: Write the code for the following function. It should work with **any** sized input of data and weights.\n",
    "\n",
    "```python\n",
    "def weighted_moving_avg(data, weights):\n",
    "    '''\n",
    "    (list of float, list of float) -> list of float\n",
    "\n",
    "    Returns the weighted moving average of the data using\n",
    "    the given list of weights.\n",
    "\n",
    "    If k (the length of 'weights') is larger than the length\n",
    "    of 'data', an empty list is returned.\n",
    "    '''\n",
    "    \n",
    "```"
   ]
  },
  {
   "cell_type": "code",
   "execution_count": 1,
   "metadata": {},
   "outputs": [],
   "source": [
    "# file cleaning (To clean the files we have generated)\n",
    "import os\n",
    "\n",
    "files2remove = ['library_books_updated.csv', 'filtered_sensor_data.csv', 'new_student_grades.csv', 'stats.txt', 'student_grades_with_avg.csv']\n",
    "for file in files2remove:\n",
    "    if os.path.exists(file):\n",
    "        os.remove(file)\n"
   ]
  },
  {
   "cell_type": "code",
   "execution_count": null,
   "metadata": {},
   "outputs": [],
   "source": []
  }
 ],
 "metadata": {
  "kernelspec": {
   "display_name": "AdvKG",
   "language": "python",
   "name": "python3"
  },
  "language_info": {
   "codemirror_mode": {
    "name": "ipython",
    "version": 3
   },
   "file_extension": ".py",
   "mimetype": "text/x-python",
   "name": "python",
   "nbconvert_exporter": "python",
   "pygments_lexer": "ipython3",
   "version": "3.12.4"
  }
 },
 "nbformat": 4,
 "nbformat_minor": 2
}
