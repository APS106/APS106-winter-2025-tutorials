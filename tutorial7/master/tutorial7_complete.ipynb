{
 "cells": [
  {
   "cell_type": "markdown",
   "id": "0a5e6e48",
   "metadata": {},
   "source": [
    "<div style=\"text-align:center; border: 2px solid #2E86C1; border-radius: 10px; padding: 30px; background-color: #F4F6F7;\">\n",
    "\n",
    "<h1 style=\"color:#154360; font-family:'Georgia', serif; font-size: 2.8em; margin-bottom: 20px;\">APS106: Fundamentals of Computer Programming</h1>\n",
    "\n",
    "<h2 style=\"color:#1A5276; font-family:'Palatino Linotype', 'Book Antiqua', serif; font-size: 2.0em; margin-bottom: 30px;\">Tutorial 7, Week 8</h2>\n",
    "\n",
    "<h3 style=\"color:#6C3483; font-family:'Cambria', serif; font-size: 1.8em; text-decoration: underline; margin-bottom: 15px;\">Topics Covered</h3>\n",
    "<p style=\"text-align:center; font-family:'Trebuchet MS', sans-serif; font-size: 1.3em; line-height: 1.8;\">\n",
    "  <span style=\"color:#D35400; font-weight:bold;\">Programming Concepts</span><br>\n",
    "  <span style=\"color:#283747;\">• Creating Lists and Basic Operations</span><br>\n",
    "  <span style=\"color:#283747;\">• Indexing and Slicing</span><br> \n",
    "  <span style=\"color:#283747;\">• Modifying Lists and Using List Methods</span><br> \n",
    "  <span style=\"color:#283747;\">• Aliasing</span><br>\n",
    "</p>\n",
    "\n",
    "<h3 style=\"color:#6C3483; font-family:'Cambria', serif; font-size: 1.8em; text-decoration: underline; margin-bottom: 15px;\">Goals for This Tutorial</h3>\n",
    "<p style=\"text-align:center; font-family:'Verdana', sans-serif; font-size: 1.2em; line-height: 1.8;\">\n",
    "  <span style=\"color:#21618C;\">• Understand how and when to create lists, and effectively use indexing and slicing.</span><br> \n",
    "  <span style=\"color:#21618C;\">• Learn how to modify lists and apply useful list methods.</span><br> \n",
    "  <span style=\"color:#21618C;\">• Practice identifying and avoiding common mistakes related to aliasing lists.</span><br>\n",
    "</p>\n",
    "</div>"
   ]
  },
  {
   "cell_type": "markdown",
   "id": "89beb25d",
   "metadata": {},
   "source": [
    "### Today's Topics\n",
    "1. [Creating Lists and Basic Operations](#creating-lists-and-basic-operations)\n",
    "    - [Problem 1: Creating and Analyzing a List](#problem-1-creating-and-analyzing-a-list)\n",
    "    - [Problem 2: Combining and Filtering Lists](#problem-2-combining-and-filtering-lists)\n",
    "2. [Indexing and Slicing](#indexing-and-slicing)\n",
    "    - [Problem 3: Advanced Slicing and String Operations](#problem-3-advanced-slicing-and-string-operations)\n",
    "    - [Problem 4: Transforming and Analyzing a List of Numbers](#problem-4-transforming-and-analyzing-a-list-of-numbers)\n",
    "3. [Modifying Lists and Using List Methods](#modifying-lists-and-using-list-methods)\n",
    "    - [Problem 5: Dynamic List Updates](#problem-5-dynamic-list-updates)\n",
    "    - [Problem 6: Advanced Grade Management System](#problem-6-advanced-grade-management-system)\n",
    "4. [Aliasing and Copying Lists](#aliasing-and-copying-lists)\n",
    "    - [Problem 7: Spot the Aliasing Issue](#problem-7-spot-the-aliasing-issue)\n",
    "    - [Problem 8: Deep Copying a Multi-Level Nested List](#problem-8-deep-copying-a-multi-level-nested-list)\n",
    "5. [Exam-Style Practice Questions](#exam-style-practice-questions)\n",
    "    - [Problem 9: Predict the Output (Aliasing & Indexing)](#exam-question-1-predict-the-output)\n",
    "    - [Problem 10: Predict the Output (List Slicing & Memory)](#exam-question-2-list-slicing--memory)"
   ]
  },
  {
   "cell_type": "markdown",
   "id": "e9808761",
   "metadata": {},
   "source": [
    "## Creating Lists and Basic Operations"
   ]
  },
  {
   "cell_type": "markdown",
   "id": "546a49d9",
   "metadata": {},
   "source": [
    "### What is a List?\n",
    "\n",
    "A **list** in Python is an ordered collection of items. Lists can contain integers, floats, strings, booleans, or even a mix of these types. Lists are enclosed in square brackets `[]` with elements separated by commas.\n",
    "\n",
    "**Examples of creating lists:**"
   ]
  },
  {
   "cell_type": "code",
   "execution_count": 1,
   "id": "806218fa",
   "metadata": {},
   "outputs": [
    {
     "name": "stdout",
     "output_type": "stream",
     "text": [
      "['apple', 'banana', 'cherry']\n",
      "[85, 92, 76, 88]\n",
      "['Toronto', 2024, True, 3.14]\n"
     ]
    }
   ],
   "source": [
    "# Examples of different lists\n",
    "fruits = ['apple', 'banana', 'cherry']\n",
    "grades = [85, 92, 76, 88]\n",
    "mixed = ['Toronto', 2024, True, 3.14]\n",
    "\n",
    "print(fruits)\n",
    "print(grades)\n",
    "print(mixed)"
   ]
  },
  {
   "cell_type": "markdown",
   "id": "bdc612f1",
   "metadata": {},
   "source": [
    "### Basic List Operations\n",
    "\n",
    "Lists support several basic operations:\n",
    "- Accessing elements by indexing.\n",
    "- Combining lists using concatenation (`+`).\n",
    "- Repeating lists using multiplication (`*`).\n",
    "- Checking if an item exists using `in` or `not in`.\n",
    "\n",
    "### Examples:"
   ]
  },
  {
   "cell_type": "code",
   "execution_count": 2,
   "id": "68a3c16a",
   "metadata": {},
   "outputs": [
    {
     "name": "stdout",
     "output_type": "stream",
     "text": [
      "banana\n",
      "88\n",
      "['apple', 'banana', 'cherry', 'date']\n",
      "[85, 92, 76, 88, 85, 92, 76, 88]\n",
      "True\n",
      "True\n"
     ]
    }
   ],
   "source": [
    "# Indexing examples\n",
    "print(fruits[1])             # banana\n",
    "print(grades[-1])            # 88\n",
    "\n",
    "# Combining and repeating lists\n",
    "print(fruits + ['date'])     # ['apple', 'banana', 'cherry', 'date']\n",
    "print(grades * 2)            # [85, 92, 76, 88, 85, 92, 76, 88]\n",
    "\n",
    "# Membership checks\n",
    "print('banana' in fruits)    # True\n",
    "print(100 not in grades)     # True\n"
   ]
  },
  {
   "cell_type": "markdown",
   "id": "d3a66347",
   "metadata": {},
   "source": [
    "### Problem 1: Creating and Analyzing a List\n",
    "\n",
    "**Practice:**  \n",
    "Create a list called `cities` containing five different city names. Then, write code to check and print:\n",
    "\n",
    "- If `\"Toronto\"` and `\"Montreal\"` are both present in your list.\n",
    "- The number of cities in your list using a built-in function."
   ]
  },
  {
   "cell_type": "code",
   "execution_count": 1,
   "id": "15b06597",
   "metadata": {},
   "outputs": [
    {
     "name": "stdout",
     "output_type": "stream",
     "text": [
      "Toronto in list: True\n",
      "Montreal in list: True\n",
      "Number of cities: 5\n"
     ]
    }
   ],
   "source": [
    "cities = ['Toronto', 'Vancouver', 'Montreal', 'Calgary', 'Ottawa']\n",
    "\n",
    "# Checking presence\n",
    "toronto_check = 'Toronto' in cities\n",
    "montreal_check = 'Montreal' in cities\n",
    "print(\"Toronto in list:\", toronto_check)    # True\n",
    "print(\"Montreal in list:\", montreal_check)  # True\n",
    "\n",
    "# Number of cities\n",
    "print(\"Number of cities:\", len(cities))     # 5"
   ]
  },
  {
   "cell_type": "markdown",
   "id": "c18492d6",
   "metadata": {},
   "source": [
    "### Problem 2: Combining and Filtering Lists\n",
    "\n",
    "**Practice:**  \n",
    "Given two lists of numbers:\n",
    "```python\n",
    "list_a = [3, 5, 7, 9]\n",
    "list_b = [2, 4, 6, 8, 10]\n",
    "```\n",
    "- Combine the lists into a new list called combined_list.\n",
    "- Print whether 5 and 10 are present in the combined list.\n",
    "- Using only list indexing (no loops), create and print a new list containing the first three and the last three elements from combined_list."
   ]
  },
  {
   "cell_type": "code",
   "execution_count": null,
   "id": "77ae5cf8",
   "metadata": {},
   "outputs": [
    {
     "name": "stdout",
     "output_type": "stream",
     "text": [
      "5 in list: True\n",
      "10 in list: True\n",
      "[3, 5, 7, 6, 8, 10]\n"
     ]
    }
   ],
   "source": [
    "\n",
    "list_a = [3, 5, 7, 9]\n",
    "list_b = [2, 4, 6, 8, 10]\n",
    "\n",
    "combined_list = list_a + list_b\n",
    "print(\"5 in list:\", 5 in combined_list)      \n",
    "print(\"10 in list:\", 10 in combined_list)    \n",
    "\n",
    "\n",
    "new_list = combined_list[:3] + combined_list[-3:]\n",
    "print(new_list)"
   ]
  },
  {
   "cell_type": "markdown",
   "id": "e9f02633",
   "metadata": {},
   "source": [
    "### Takeaway from this Section:\n",
    "- Lists store collections of data and can be flexibly manipulated.\n",
    "- Operations such as concatenation, repetition, indexing, and slicing make lists powerful tools in Python.\n",
    "- Understanding basic operations thoroughly is key to tackling more advanced tasks effectively.\n"
   ]
  },
  {
   "cell_type": "markdown",
   "id": "e3d677cc",
   "metadata": {},
   "source": [
    "## Indexing and Slicing\n",
    "\n",
    "Lists in Python are powerful because they allow you to access individual elements (indexing) and portions of the list (slicing). Remember:\n",
    "- Indexing uses square brackets `[]` and starts from `0`.\n",
    "- Slicing has the format `[start:end:step]`, similar to strings.\n",
    "\n",
    "Let's see some quick examples:\n"
   ]
  },
  {
   "cell_type": "code",
   "execution_count": 1,
   "id": "00fb1ebc",
   "metadata": {},
   "outputs": [
    {
     "name": "stdout",
     "output_type": "stream",
     "text": [
      "red\n",
      "yellow\n",
      "['blue', 'green']\n"
     ]
    }
   ],
   "source": [
    "colors = ['red', 'blue', 'green', 'yellow', 'purple']\n",
    "\n",
    "# Indexing\n",
    "print(colors[0])    # apple\n",
    "print(colors[-2])   # banana\n",
    "\n",
    "# Slicing\n",
    "print(colors[1:3])  # ['banana', 'cherry']"
   ]
  },
  {
   "cell_type": "markdown",
   "id": "22989c62",
   "metadata": {},
   "source": [
    "### Problem 3: Advanced Slicing and String Operations\n",
    "\n",
    "Given the following list of strings, use slicing and loops to create a new list called shortened that contains only the first three characters of each string, all converted to uppercase:\n",
    "\n",
    "```python\n",
    "fruits = ['pineapple', 'strawberry', 'watermelon', 'grape', 'blueberry']\n",
    "```\n",
    "\n",
    "Your Task:\n",
    "- Use loops to iterate through each item in fruits.\n",
    "- Slice the first three characters of each fruit.\n",
    "- Capitalize the sliced strings.\n",
    "- Store them in a new list called shortened and print it."
   ]
  },
  {
   "cell_type": "code",
   "execution_count": null,
   "id": "37a7f579",
   "metadata": {},
   "outputs": [],
   "source": [
    "fruits = ['apple', 'banana', 'cherry', 'date', 'elderberry']\n",
    "shortened = []\n",
    "\n",
    "for fruit in fruits:\n",
    "    short_fruit = fruit[:3].capitalize()\n",
    "    shortened.append(short_fruit)\n",
    "\n",
    "print(shortened)  # Output: ['App', 'Ban', 'Che', 'Dat', 'Eld']"
   ]
  },
  {
   "cell_type": "markdown",
   "id": "d700672d",
   "metadata": {},
   "source": [
    "### Problem 4: Transforming and Analyzing a List of Numbers\n",
    "\n",
    "You are given a list of numeric strings:\n",
    "```python\n",
    "numbers = [\"12\", \"5\", \"-3\", \"10\", \"7\", \"-8\", \"4\"]\n",
    "```\n",
    "Perform the following operations in order:\n",
    "1. Convert all elements to integers.\n",
    "2.\tSquare only the positive numbers (ignore negative numbers).\n",
    "3.\tAdd up all the squared values.\n",
    "4.\tCreate a new list that contains the original numbers (as strings) and their squared values (if squared).\n",
    "5.\tPrint both:\n",
    "\t- The sum of all squared numbers.\n",
    "\t- The new list of transformations.\n",
    "\n",
    "**Example Output:**\n",
    "```python\n",
    "The sum of squares is: 278\n",
    "Transformed list: ['12 -> 144', '5 -> 25', '-3 (ignored)', '10 -> 100', '7 -> 49', '-8 (ignored)', '4 -> 16']\n",
    "```"
   ]
  },
  {
   "cell_type": "code",
   "execution_count": 2,
   "id": "70b2a364",
   "metadata": {},
   "outputs": [
    {
     "data": {
      "text/plain": [
       "'12->12'"
      ]
     },
     "execution_count": 2,
     "metadata": {},
     "output_type": "execute_result"
    }
   ],
   "source": [
    "num = 12\n",
    "\"\" + str(num) + \"->\" + str(num)"
   ]
  },
  {
   "cell_type": "code",
   "execution_count": 1,
   "id": "66bb2bd9",
   "metadata": {},
   "outputs": [
    {
     "name": "stdout",
     "output_type": "stream",
     "text": [
      "The sum of squares is: 334\n",
      "Transformed list: ['12 -> 144', '5 -> 25', '-3 (ignored)', '10 -> 100', '7 -> 49', '-8 (ignored)', '4 -> 16']\n"
     ]
    }
   ],
   "source": [
    "numbers = [\"12\", \"5\", \"-3\", \"10\", \"7\", \"-8\", \"4\"]\n",
    "squared_sum = 0\n",
    "transformed_list = []\n",
    "\n",
    "for num in numbers:\n",
    "    num_int = int(num)\n",
    "    if num_int > 0:\n",
    "        squared = num_int ** 2\n",
    "        squared_sum += squared\n",
    "        # transformed_list.append(f\"{num} -> {squared}\")\n",
    "        transformed_list.append(str(num) + \" -> \" + str(squared))\n",
    "    else:\n",
    "        # transformed_list.append(f\"{num} (ignored)\")\n",
    "        transformed_list.append(str(num) + \" (ignored)\")\n",
    "\n",
    "print(f\"The sum of squares is: {squared_sum}\")\n",
    "print(\"Transformed list:\", transformed_list)"
   ]
  },
  {
   "cell_type": "markdown",
   "id": "1afa17e1",
   "metadata": {},
   "source": [
    "## Modifying Lists and Using List Methods\n",
    "\n",
    "Lists in Python are **mutable**, meaning we can modify their contents after creation.  \n",
    "This section covers:\n",
    "- **Modifying individual elements**\n",
    "- **Using common list methods to add, remove, and manipulate elements**\n",
    "- **Combining list operations with loops and conditions**\n",
    "\n",
    "#### Modifying individual elements\n",
    "You can update an element in a list by directly assigning a new value using indexing:"
   ]
  },
  {
   "cell_type": "code",
   "execution_count": 2,
   "id": "1c4269ec",
   "metadata": {},
   "outputs": [
    {
     "name": "stdout",
     "output_type": "stream",
     "text": [
      "[10, 20, 30, 40]\n",
      "[10, 20, 99, 40]\n"
     ]
    }
   ],
   "source": [
    "# Modifying an existing list\n",
    "numbers = [10, 20, 30, 40]\n",
    "print(numbers)\n",
    "numbers[2] = 99  # Change the third element (index 2)\n",
    "print(numbers)  # Output: [10, 20, 99, 40]"
   ]
  },
  {
   "cell_type": "markdown",
   "id": "31e69316",
   "metadata": {},
   "source": [
    "#### Common List Methods\n",
    "\n",
    "Python provides several useful methods to modify lists:\n",
    "\n",
    "| Method | Description |\n",
    "|---------|-------------|\n",
    "| `.append(value)` | Adds an element to the end of the list |\n",
    "| `.insert(index, value)` | Inserts an element at a specific position |\n",
    "| `.extend(iterable)` | Adds all elements from another list (or iterable) to the end of the list |\n",
    "| `.remove(value)` | Removes the first occurrence of the specified value |\n",
    "| `.pop(index)` | Removes and returns an element at the given index (default is last) |\n",
    "| `.sort()` | Sorts the list in ascending order |\n",
    "| `.reverse()` | Reverses the list order |\n",
    "\n",
    "---\n",
    "##### Example:"
   ]
  },
  {
   "cell_type": "code",
   "execution_count": 3,
   "id": "5bdb25d5",
   "metadata": {},
   "outputs": [
    {
     "name": "stdout",
     "output_type": "stream",
     "text": [
      "['apple', 'orange', 'cherry', 'mango', 'kiwi']\n",
      "grape\n"
     ]
    }
   ],
   "source": [
    "fruits = [\"apple\", \"banana\", \"cherry\"]\n",
    "\n",
    "# Adding elements\n",
    "fruits.append(\"mango\")  \n",
    "fruits.insert(1, \"orange\")  \n",
    "\n",
    "# Extending a list\n",
    "more_fruits = [\"kiwi\", \"grape\"]\n",
    "fruits.extend(more_fruits)  \n",
    "\n",
    "# Removing elements\n",
    "fruits.remove(\"banana\")  \n",
    "popped_fruit = fruits.pop()  # Removes the last element\n",
    "\n",
    "print(fruits)   # Output: ['apple', 'orange', 'cherry', 'mango', 'kiwi']\n",
    "print(popped_fruit)  # Output: grape"
   ]
  },
  {
   "cell_type": "markdown",
   "id": "dfee31f0",
   "metadata": {},
   "source": [
    "#### Problem 5: Dynamic List Updates\n",
    "1. Create a list `prices` containing `[100, 200, 150, 300, 250]`.\n",
    "2. A new item arrives with a price of `180`—add it to the list.\n",
    "3. The price at index `2` was an error—change it to `175`.\n",
    "4. A batch of new prices `[210, 90, 50]` is added—use a method to include them all.\n",
    "5. The store decides to remove the **highest** price from the list dynamically.\n",
    "6. Finally, print the updated `prices` list."
   ]
  },
  {
   "cell_type": "code",
   "execution_count": 4,
   "id": "108bc81c",
   "metadata": {},
   "outputs": [
    {
     "name": "stdout",
     "output_type": "stream",
     "text": [
      "[100, 200, 175, 250, 180, 210, 90, 50]\n"
     ]
    }
   ],
   "source": [
    "prices = [100, 200, 150, 300, 250]\n",
    "\n",
    "prices.append(180)  \n",
    "prices[2] = 175  \n",
    "prices.extend([210, 90, 50])  \n",
    "prices.remove(max(prices))  \n",
    "\n",
    "print(prices)  # Example Output: [100, 200, 175, 250, 180, 210, 90, 50]"
   ]
  },
  {
   "cell_type": "markdown",
   "id": "3e95798e",
   "metadata": {},
   "source": [
    "### Problem 6: Advanced Grade Management System\n",
    "\n",
    "You are managing student grades for a class. The instructor has provided an **initial list of grades**:\n",
    "\n",
    "```python\n",
    "grades = [85, 92, 78, 95, 88, 76, 90, 89, 73]\n",
    "```\n",
    "However, the following updates must be made:\n",
    "\n",
    "Tasks:\n",
    "1.\tSort the grades in descending order (highest to lowest).\n",
    "2.\tRemove any grades below 80, but:\n",
    "    - If a grade is between 75 and 79, curve it by adding 5 points instead of removing it.\n",
    "3.\tAdd new late-submitted grades: [81, 87, 93].\n",
    "4.\tA student requested a grade review: If there is a grade exactly 90, increase it to 92.\n",
    "5.\tCalculate and print:\n",
    "    - The average (mean) grade of the final updated list.\n",
    "    - The highest and lowest grade in the updated list.\n",
    "\n",
    "Expected Output Format:\n",
    "```python\n",
    "Final sorted grades: [95, 92, 92, 89, 88, 87, 85, 81, 80]\n",
    "Average grade: 88.8\n",
    "Highest grade: 95\n",
    "Lowest grade: 80\n",
    "```\n"
   ]
  },
  {
   "cell_type": "code",
   "execution_count": 5,
   "id": "eb7c5d6c",
   "metadata": {},
   "outputs": [
    {
     "name": "stdout",
     "output_type": "stream",
     "text": [
      "Final sorted grades: [95, 92, 92, 89, 88, 85, 83, 81, 81, 87, 93]\n",
      "Average grade: 87.8\n",
      "Highest grade: 95\n",
      "Lowest grade: 81\n"
     ]
    }
   ],
   "source": [
    "grades = [85, 92, 78, 95, 88, 76, 90, 89, 73]\n",
    "\n",
    "# Step 1: Sort in descending order\n",
    "grades.sort(reverse=True)\n",
    "\n",
    "# Step 2: Remove grades below 80, but curve those between 75 and 79\n",
    "for i in range(len(grades)):\n",
    "    if 75 <= grades[i] < 80:\n",
    "        grades[i] += 5  # Apply curve\n",
    "\n",
    "grades = [grade for grade in grades if grade >= 80]  # Remove anything below 80\n",
    "\n",
    "# Step 3: Add late-submitted grades\n",
    "grades.extend([81, 87, 93])\n",
    "\n",
    "# Step 4: Increase grade 90 to 92\n",
    "for i in range(len(grades)):\n",
    "    if grades[i] == 90:\n",
    "        grades[i] = 92\n",
    "\n",
    "# Step 5: Compute statistics\n",
    "average_grade = sum(grades) / len(grades)\n",
    "highest_grade = max(grades)\n",
    "lowest_grade = min(grades)\n",
    "\n",
    "print(\"Final sorted grades:\", grades)\n",
    "print(f\"Average grade: {average_grade:.1f}\")\n",
    "print(f\"Highest grade: {highest_grade}\")\n",
    "print(f\"Lowest grade: {lowest_grade}\")"
   ]
  },
  {
   "cell_type": "markdown",
   "id": "a4e35e0a",
   "metadata": {},
   "source": [
    "#### Concluding Remarks:\n",
    "- Lists allow **dynamic modifications** using indexing and built-in methods.\n",
    "- `.append()`, `.extend()`, `.remove()`, `.pop()`, `.sort()` help manage list contents efficiently.\n",
    "- Combining **sorting, filtering, and list comprehensions** makes processing data easier."
   ]
  },
  {
   "cell_type": "markdown",
   "id": "5a0d6b3c",
   "metadata": {},
   "source": [
    "## Aliasing and Copying Lists\n",
    "\n",
    "### The Problem with Aliasing:\n",
    "When you assign a list to another variable using `=`, both variables **point to the same list in memory**.  \n",
    "This means that **modifying one list affects the other!**\n",
    "\n",
    "---"
   ]
  },
  {
   "cell_type": "code",
   "execution_count": null,
   "id": "776c00dd",
   "metadata": {},
   "outputs": [
    {
     "name": "stdout",
     "output_type": "stream",
     "text": [
      "Original List: [99, 2, 3]\n",
      "Alias List: [99, 2, 3]\n"
     ]
    }
   ],
   "source": [
    "# Aliasing a list (both variables refer to the same list)\n",
    "original_list = [1, 2, 3]\n",
    "alias_list = original_list  # This does NOT create a new list!\n",
    "\n",
    "# Modify alias_list\n",
    "alias_list[0] = 99  \n",
    "\n",
    "# Check both lists\n",
    "print(\"Original List:\", original_list)  # Output: [99, 2, 3]\n",
    "print(\"Alias List:\", alias_list)        # Output: [99, 2, 3]"
   ]
  },
  {
   "cell_type": "markdown",
   "id": "de24f2d2",
   "metadata": {},
   "source": [
    "### The Correct Way to Copy a List\n",
    "\n",
    "To **create an independent copy**, use one of the following:\n",
    "- Slicing: `copy_list = original_list[:]`\n",
    "- Using `list()`: `copy_list = list(original_list)`\n",
    "- Using `.copy()` method: `copy_list = original_list.copy()`\n",
    "- Using `copy.deepcopy()` for nested lists (covered later)."
   ]
  },
  {
   "cell_type": "code",
   "execution_count": null,
   "id": "65145f4f",
   "metadata": {},
   "outputs": [
    {
     "name": "stdout",
     "output_type": "stream",
     "text": [
      "Original List: [1, 2, 3]\n",
      "Copy List: [99, 2, 3]\n"
     ]
    }
   ],
   "source": [
    "# Correct way to copy a list\n",
    "original_list = [1, 2, 3]\n",
    "copy_list = original_list[:]  # Creates an independent copy\n",
    "\n",
    "# Modify the copy\n",
    "copy_list[0] = 99  \n",
    "\n",
    "# Check both lists\n",
    "print(\"Original List:\", original_list)  # Output: [1, 2, 3]\n",
    "print(\"Copy List:\", copy_list)          # Output: [99, 2, 3]"
   ]
  },
  {
   "cell_type": "markdown",
   "id": "bd06bec9",
   "metadata": {},
   "source": [
    "### Problem 7: Spot the Aliasing Issue:\n",
    "The following function is meant to take a list, **double each element**, and return the new list. However, there is an issue!"
   ]
  },
  {
   "cell_type": "code",
   "execution_count": null,
   "id": "d43a927c",
   "metadata": {},
   "outputs": [
    {
     "name": "stdout",
     "output_type": "stream",
     "text": [
      "Original list: [2, 4, 6, 8]\n",
      "Doubled list: [2, 4, 6, 8]\n"
     ]
    }
   ],
   "source": [
    "def double_elements(my_list):\n",
    "    \"\"\"\n",
    "    (list) -> list\n",
    "    \"\"\"\n",
    "    doubled = my_list\n",
    "    \n",
    "    for i in range(len(doubled)):\n",
    "        doubled[i] *= 2\n",
    "    \n",
    "    return doubled\n",
    "\n",
    "numbers = [1, 2, 3, 4]\n",
    "new_numbers = double_elements(numbers)\n",
    "\n",
    "print(\"Original list:\", numbers)\n",
    "print(\"Doubled list:\", new_numbers)"
   ]
  },
  {
   "cell_type": "markdown",
   "id": "20444f4b",
   "metadata": {},
   "source": [
    "What is going wrong?\n",
    "How can you fix it so numbers remains unchanged?"
   ]
  },
  {
   "cell_type": "code",
   "execution_count": 6,
   "id": "858438c5",
   "metadata": {},
   "outputs": [
    {
     "name": "stdout",
     "output_type": "stream",
     "text": [
      "Original list: [1, 2, 3, 4]\n",
      "Doubled list: [2, 4, 6, 8]\n"
     ]
    }
   ],
   "source": [
    "# Corrected Version - Create a true copy before modifying\n",
    "def double_elements(my_list):\n",
    "    doubled = my_list[:]  # Now doubled is an independent copy\n",
    "\n",
    "    for i in range(len(doubled)):\n",
    "        doubled[i] *= 2\n",
    "\n",
    "    return doubled\n",
    "\n",
    "numbers = [1, 2, 3, 4]\n",
    "new_numbers = double_elements(numbers)\n",
    "\n",
    "print(\"Original list:\", numbers)  # Output: [1, 2, 3, 4]\n",
    "print(\"Doubled list:\", new_numbers)  # Output: [2, 4, 6, 8]"
   ]
  },
  {
   "cell_type": "markdown",
   "id": "79e14fad",
   "metadata": {},
   "source": [
    "What is going wrong?\n",
    "How can you fix it so numbers remains unchanged?"
   ]
  },
  {
   "cell_type": "markdown",
   "id": "d1302946",
   "metadata": {},
   "source": [
    "### Problem 8: Deep Copying a Multi-Level Nested List\n",
    "\n",
    "You are given a **deeply nested list** representing sections in a book.  \n",
    "Each chapter has multiple sections, and each section contains a list of topics:\n",
    "\n",
    "```python\n",
    "book_structure = [\n",
    "    [\"Intro\", \"Background\"],\n",
    "    [\"Methods\", [\"Data Collection\", \"Analysis\"]],\n",
    "    [\"Results\", [\"Findings\", \"Discussion\"]],\n",
    "    [\"Conclusion\"]\n",
    "]\n",
    "```\n",
    "Your task is to:\n",
    "1.\tCreate a shallow copy of book_structure and modify \"Background\" to \"History\".\n",
    "    - Print both lists: Did modifying the shallow copy affect book_structure?\n",
    "2.\tCreate a deep copy and modify \"Data Collection\" to \"Experiments\".\n",
    "    - Print both lists again: Did modifying the deep copy affect book_structure?\n",
    "3.\tWrite a function modify_section(chapters, chapter_index, section_index, new_value) that:\n",
    "    - Modifies a specific section inside chapters without affecting the original.\n",
    "    - Uses deepcopy() to avoid aliasing issues.\n",
    "4.\tCall the function to update \"Findings\" to \"Observations\" and print the final structures.\n",
    "---\n",
    "Expected Output:\n",
    "```python\n",
    "Original Book Structure: [['Intro', 'Background'], ['Methods', ['Data Collection', 'Analysis']], ['Results', ['Findings', 'Discussion']], ['Conclusion']]\n",
    "Shallow Copy Modified: [['Intro', 'History'], ['Methods', ['Data Collection', 'Analysis']], ['Results', ['Findings', 'Discussion']], ['Conclusion']]\n",
    "Deep Copy Modified: [['Intro', 'Background'], ['Methods', ['Experiments', 'Analysis']], ['Results', ['Findings', 'Discussion']], ['Conclusion']]\n",
    "Final Modified Structure: [['Intro', 'Background'], ['Methods', ['Data Collection', 'Analysis']], ['Results', ['Observations', 'Discussion']], ['Conclusion']]\n",
    "```"
   ]
  },
  {
   "cell_type": "code",
   "execution_count": 7,
   "id": "ac3c1809",
   "metadata": {},
   "outputs": [
    {
     "name": "stdout",
     "output_type": "stream",
     "text": [
      "Original Book Structure: [['Intro', 'History'], ['Methods', ['Data Collection', 'Analysis']], ['Results', ['Findings', 'Discussion']], ['Conclusion']]\n",
      "Shallow Copy Modified: [['Intro', 'History'], ['Methods', ['Data Collection', 'Analysis']], ['Results', ['Findings', 'Discussion']], ['Conclusion']]\n",
      "\n",
      "Deep Copy Modified: [['Intro', 'History'], ['Methods', ['Experiments', 'Analysis']], ['Results', ['Findings', 'Discussion']], ['Conclusion']]\n",
      "Original Book Structure Unchanged: [['Intro', 'History'], ['Methods', ['Data Collection', 'Analysis']], ['Results', ['Findings', 'Discussion']], ['Conclusion']]\n",
      "\n",
      "Final Modified Structure: [['Intro', 'History'], ['Methods', ['Data Collection', 'Analysis']], ['Results', ['Observations', 'Discussion']], ['Conclusion']]\n",
      "Original Book Structure Unchanged: [['Intro', 'History'], ['Methods', ['Data Collection', 'Analysis']], ['Results', ['Findings', 'Discussion']], ['Conclusion']]\n"
     ]
    }
   ],
   "source": [
    "import copy\n",
    "\n",
    "book_structure = [\n",
    "    [\"Intro\", \"Background\"],\n",
    "    [\"Methods\", [\"Data Collection\", \"Analysis\"]],\n",
    "    [\"Results\", [\"Findings\", \"Discussion\"]],\n",
    "    [\"Conclusion\"]\n",
    "]\n",
    "\n",
    "# Step 1: Shallow Copy\n",
    "shallow_copy = book_structure.copy()\n",
    "shallow_copy[0][1] = \"History\"\n",
    "\n",
    "print(\"Original Book Structure:\", book_structure)\n",
    "print(\"Shallow Copy Modified:\", shallow_copy)  # Changes in shallow_copy affect original\n",
    "\n",
    "# Step 2: Deep Copy\n",
    "deep_copy = copy.deepcopy(book_structure)\n",
    "deep_copy[1][1][0] = \"Experiments\"  # Changing \"Data Collection\" to \"Experiments\"\n",
    "\n",
    "print(\"\\nDeep Copy Modified:\", deep_copy)\n",
    "print(\"Original Book Structure Unchanged:\", book_structure)\n",
    "\n",
    "# Step 3: Function to Modify Sections Correctly\n",
    "def modify_section(chapters, chapter_index, section_index, new_value):\n",
    "    \"\"\" Modifies a section in a deep copy to prevent aliasing issues \"\"\"\n",
    "    new_chapters = copy.deepcopy(chapters)\n",
    "    new_chapters[chapter_index][1][section_index] = new_value\n",
    "    return new_chapters\n",
    "\n",
    "# Step 4: Use function to modify \"Findings\" to \"Observations\"\n",
    "final_structure = modify_section(book_structure, 2, 0, \"Observations\")\n",
    "\n",
    "print(\"\\nFinal Modified Structure:\", final_structure)\n",
    "print(\"Original Book Structure Unchanged:\", book_structure)"
   ]
  },
  {
   "cell_type": "markdown",
   "id": "422bcb99",
   "metadata": {},
   "source": [
    "### Problem 8: Grocery List Organizer 🛒\n",
    "\n",
    "Write a Python program that **repeatedly asks the user** to enter grocery items (as strings).  \n",
    "- The program should **keep accepting items** until the user enters **\"exit\"** (case insensitive).  \n",
    "- After exiting, the program should **sort the grocery list alphabetically** and display it.  \n",
    "- If the user **enters a duplicate item**, do **not** add it to the list again.\n",
    "\n",
    "---\n",
    "#### **Example Run:**\n",
    "```python\n",
    "Enter a grocery item (or ‘exit’ to finish): apple\n",
    "Enter a grocery item (or ‘exit’ to finish): carrot\n",
    "Enter a grocery item (or ‘exit’ to finish): bread\n",
    "Enter a grocery item (or ‘exit’ to finish): apple\n",
    "Enter a grocery item (or ‘exit’ to finish): exit\n",
    "\n",
    "Your final grocery list:\n",
    "[‘apple’, ‘bread’, ‘carrot’]\n",
    "```"
   ]
  },
  {
   "cell_type": "markdown",
   "id": "a9234a61",
   "metadata": {},
   "source": [
    "**Hints:**\n",
    "- Use a **while loop** to keep asking for input.\n",
    "- Convert input to **lowercase** to handle case-insensitive duplicates.\n",
    "- Use the **`.sort()`** method to alphabetically sort the list.\n",
    "- Use the **`in`** operator to avoid duplicates."
   ]
  },
  {
   "cell_type": "code",
   "execution_count": null,
   "id": "fead8c28",
   "metadata": {},
   "outputs": [],
   "source": [
    "grocery_list = []\n",
    "\n",
    "while True:\n",
    "    item = input(\"Enter a grocery item (or 'exit' to finish): \").strip().lower()\n",
    "    \n",
    "    if item == \"exit\":\n",
    "        break  # Stop the loop\n",
    "\n",
    "    if item and item not in grocery_list:\n",
    "        grocery_list.append(item)  # Add only unique items\n",
    "\n",
    "grocery_list.sort()  # Sort alphabetically\n",
    "\n",
    "print(\"\\nYour final grocery list:\")\n",
    "print(grocery_list)"
   ]
  },
  {
   "cell_type": "markdown",
   "id": "73eddafa",
   "metadata": {},
   "source": [
    "Concluding Remarks\n",
    "- Assigning one list to another (`=`) creates **aliasing**, meaning **both lists point to the same memory location**.\n",
    "- Use `.copy()`, `[:]`, or `list()` to create **independent shallow copies**.\n",
    "- For **nested lists**, use `copy.deepcopy()` to ensure elements inside lists are copied correctly.\n",
    "- Understanding aliasing is critical to avoid unintended modifications when working with lists in Python."
   ]
  },
  {
   "cell_type": "markdown",
   "id": "1b542728",
   "metadata": {},
   "source": [
    "## Exam-Style Practice Questions\n",
    "\n",
    "Remember to:\n",
    "- **Do NOT run the code.** Instead, analyze it carefully and predict the output.\n",
    "- Write down your answer **before checking** by running the code later.\n",
    "- Consider **loops, indexing, slicing, list modifications, aliasing, and list methods**.\n",
    "- Carefully track how **each modification affects the list in memory**.\n",
    "\n",
    "---"
   ]
  },
  {
   "cell_type": "markdown",
   "id": "e840182b",
   "metadata": {},
   "source": [
    "#### Exam Question 1: Predict the Output\n",
    "\n",
    "What will be the output of the following code?\n",
    "\n",
    "```python\n",
    "data = [3, 6, 9, 12]\n",
    "copy_data = data\n",
    "copy_data[2] = 99\n",
    "\n",
    "print(\"Original:\", data)\n",
    "print(\"Copy:\", copy_data)\n",
    "```\n",
    "\n",
    "Things to Consider:\n",
    "- Does copy_data = data create a new list or an alias?\n",
    "- What happens when copy_data[2] is modified?\n",
    "---"
   ]
  },
  {
   "cell_type": "markdown",
   "id": "09ae1a27",
   "metadata": {},
   "source": [
    "##### Step-by-Step Analysis:\n",
    "1.\tAliasing occurs:\n",
    "    - copy_data = data does NOT create a new list.\n",
    "    - Both copy_data and data point to the same memory location.\n",
    "2.\tModification occurs at index 2\n",
    "    - copy_data[2] = 99 modifies the same underlying list.\n",
    "    - Since data and copy_data are aliases, changing one affects the other.\n",
    "3.\tFinal Outputs\n",
    "    - data and copy_data both print the same list.\n",
    "---"
   ]
  },
  {
   "cell_type": "markdown",
   "id": "26400a20",
   "metadata": {},
   "source": [
    "#### Exam Question 2: List Slicing & Memory\n",
    "\n",
    "What will be printed when the following code runs?\n",
    "\n",
    "```python\n",
    "matrix = [[1, 2], [3, 4]]\n",
    "matrix_copy = matrix[:]\n",
    "matrix_copy[0][1] = 99\n",
    "\n",
    "print(\"Matrix:\", matrix)\n",
    "print(\"Matrix Copy:\", matrix_copy)\n",
    "```\n",
    "Things to Consider:\n",
    "- Does matrix_copy = matrix[:] create a shallow or deep copy?\n",
    "- What happens when matrix_copy[0][1] is modified?\n",
    "---"
   ]
  },
  {
   "cell_type": "markdown",
   "id": "bf15f8a2",
   "metadata": {},
   "source": [
    "##### Step-by-Step Analysis:\n",
    "1.\tSlicing creates a shallow copy\n",
    "    - matrix_copy = matrix[:] only copies the outer list, NOT the inner lists.\n",
    "    - Both matrix and matrix_copy still point to the same inner lists.\n",
    "2.\tModification occurs at matrix_copy[0][1]\n",
    "    - matrix_copy[0][1] = 99 modifies the shared inner list.\n",
    "    - Since the original matrix shares the same inner list, it is also modified.\n",
    "3.\tFinal Outputs\n",
    "    - Both matrix and matrix_copy print the same modified structure."
   ]
  }
 ],
 "metadata": {
  "kernelspec": {
   "display_name": "costimate-ml",
   "language": "python",
   "name": "python3"
  },
  "language_info": {
   "codemirror_mode": {
    "name": "ipython",
    "version": 3
   },
   "file_extension": ".py",
   "mimetype": "text/x-python",
   "name": "python",
   "nbconvert_exporter": "python",
   "pygments_lexer": "ipython3",
   "version": "3.12.3"
  }
 },
 "nbformat": 4,
 "nbformat_minor": 5
}
