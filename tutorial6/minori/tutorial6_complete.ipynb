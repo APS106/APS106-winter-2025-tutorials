{
 "cells": [
  {
   "cell_type": "markdown",
   "id": "0a5e6e48",
   "metadata": {},
   "source": [
    "<div style=\"text-align:center; border: 2px solid #2E86C1; border-radius: 10px; padding: 30px; background-color: #F4F6F7;\">\n",
    "\n",
    "<h1 style=\"color:#154360; font-family:'Georgia', serif; font-size: 2.8em; margin-bottom: 20px;\">APS106: Fundamentals of Computer Programming</h1>\n",
    "\n",
    "<h2 style=\"color:#1A5276; font-family:'Palatino Linotype', 'Book Antiqua', serif; font-size: 2.0em; margin-bottom: 30px;\">Tutorial 6, Week 7</h2>\n",
    "\n",
    "<h3 style=\"color:#6C3483; font-family:'Cambria', serif; font-size: 1.8em; text-decoration: underline; margin-bottom: 15px;\">Topics Covered</h3>\n",
    "<p style=\"text-align:center; font-family:'Trebuchet MS', sans-serif; font-size: 1.3em; line-height: 1.8;\">\n",
    "  <span style=\"color:#D35400; font-weight:bold;\">Programming Concepts</span><br>\n",
    "  <span style=\"color:#283747;\">• For Loops</span><br>\n",
    "  <span style=\"color:#283747;\">• Looping through a string</span><br>\n",
    "  <span style=\"color:#283747;\">• Looping on range()</span><br>\n",
    "  <span style=\"color:#283747;\">• Nested for loops</span><br>\n",
    "</p>\n",
    "\n",
    "<h3 style=\"color:#6C3483; font-family:'Cambria', serif; font-size: 1.8em; text-decoration: underline; margin-bottom: 15px;\">Goals for This Tutorial</h3>\n",
    "<p style=\"text-align:center; font-family:'Verdana', sans-serif; font-size: 1.2em; line-height: 1.8;\">\n",
    "  <span style=\"color:#21618C;\">• Know how and when to use for loops (vs while loops).</span><br>\n",
    "    <span style=\"color:#21618C;\">• Know how to use nested for loops to handle complex problems.</span><br>\n",
    "  <span style=\"color:#21618C;\">• Practice using for loops in multiple forms.</span><br>\n",
    "\n",
    "</p>\n",
    "</div>"
   ]
  },
  {
   "cell_type": "markdown",
   "id": "89beb25d",
   "metadata": {},
   "source": [
    "### Today's Topics\n",
    "1. [For Loops](#section-1-for-loops)\n",
    "    - [Using Range()](#for-loops-using-range)\n",
    "        - [Problem 1: Multiplication Table](#problem-1-print-the-multiplication-table-for-a-given-number)\n",
    "        - [Problem 2: Factorial](#problem-2-print-the-factorial-for-a-given-number)\n",
    "    - [Using Strings](#for-loops-using-strings)\n",
    "        - [Problem 3: Reverse a number](#problem-3-reverse-a-number-using-loops)\n",
    "        - [Problem 4: Count Characters](#problem-4-count-number-of-vowels-and-consonants)\n",
    "2. [Nested For Loops](#section-2-nested-for-loops)\n",
    "    - [Problem 5: Print a Tree](#problem-5-display-a-christmas-tree)\n",
    "    - [Problem 6: Prime Numbers](#problem-6-find-prime-numbers-within-a-range)\n",
    "3. [Challenge Questions](#take-home-practice-questions)\n",
    "    - [Problem 7: Palindromes](#problem-7-check-palindrome)\n",
    "    - [Problem 8: Decode a Message](#problem-8-secret-message-decoder)"
   ]
  },
  {
   "cell_type": "markdown",
   "id": "668c9e48",
   "metadata": {},
   "source": [
    "<a id='section-1-for-loops'></a>\n",
    "# Section 1: For Loops"
   ]
  },
  {
   "cell_type": "markdown",
   "id": "cb94d4f3",
   "metadata": {},
   "source": [
    "<a id='Section1a'></a>\n",
    "## For Loops\n",
    "\n",
    "#### Definition/Syntax:\n",
    "- A for loop is used to repeat a block of code for a specific number of times. It iterates through each item in a sequence and executes a specified action.\n",
    "\n",
    "- The syntax:\n",
    "\n",
    "```python\n",
    "for item in sequence:\n",
    "    # code to execute\n",
    "```\n",
    "\n",
    "#### Things to be noted:\n",
    "Some common types of sequences include:\n",
    "- Ranges: a sequence of numbers\n",
    "- Strings: a sequence of characters\n",
    "- Files: a sequence of lines (we saw this in tutorial 5)\n",
    "\n",
    "Formatting:\n",
    "By default, printing something in a for loop adds a newline to the end. You can modify this by explicitly setting the `end` parameter in the print function.\n",
    "\n",
    "```python\n",
    "for item in sequence:\n",
    "    print(item, end=\" \")\n",
    "```"
   ]
  },
  {
   "cell_type": "markdown",
   "id": "f3ea14df",
   "metadata": {},
   "source": [
    "<a id='for-loops-using-range'></a>\n",
    "## For Loops Using Range()\n",
    "\n",
    "One of the most common ways to use a for loop. The range() function is used with for loops to repeat an action a specific number of times. It generates a sequence of numbers, which the loop can iterate through.\n",
    "\n",
    "Syntax: `for i in range(start, stop, step):`\n",
    "- start: the number to start at (default is 0)\n",
    "- stop: the number to stop before (must be specified)\n",
    "- step: the increment between numbers (default is 1)"
   ]
  },
  {
   "cell_type": "code",
   "execution_count": 1,
   "id": "d4bb2d29",
   "metadata": {},
   "outputs": [
    {
     "name": "stdout",
     "output_type": "stream",
     "text": [
      "Example 1\n",
      "0 1 2 3 4 \n",
      "Example 2\n",
      "0 1 2 3 4 \n",
      "Example 3\n",
      "0 1 2 3 4 "
     ]
    }
   ],
   "source": [
    "# Examples:\n",
    "\n",
    "# specifying start, end, and step\n",
    "print(\"Example 1\")\n",
    "for i in range(0, 5, 1):\n",
    "    print(i, end=\" \")\n",
    "\n",
    "# specifying only end (default start and step will be 0 and 1)\n",
    "print(\"\\nExample 2\")\n",
    "for i in range(5):\n",
    "    print(i, end=\" \")\n",
    "\n",
    "# specifying only start and end (default step will be 1)\n",
    "print(\"\\nExample 3\")\n",
    "for i in range(0, 5):\n",
    "    print(i, end=\" \")\n",
    "\n"
   ]
  },
  {
   "cell_type": "markdown",
   "id": "a01150d0",
   "metadata": {},
   "source": [
    "<a id='problem-1-print-the-multiplication-table-for-a-given-number'></a>\n",
    "### Problem 1: Print the multiplication table for a given number\n",
    "\n",
    "Let's practice iterating over a range of numbers. Given user input, print out the multiplication tables (up to 12) for the number."
   ]
  },
  {
   "cell_type": "code",
   "execution_count": 3,
   "id": "1361cfe9",
   "metadata": {},
   "outputs": [
    {
     "name": "stdout",
     "output_type": "stream",
     "text": [
      "Enter a number: 7\n",
      "7 * 1 = 7\n",
      "7 * 2 = 14\n",
      "7 * 3 = 21\n",
      "7 * 4 = 28\n",
      "7 * 5 = 35\n",
      "7 * 6 = 42\n",
      "7 * 7 = 49\n",
      "7 * 8 = 56\n",
      "7 * 9 = 63\n",
      "7 * 10 = 70\n",
      "7 * 11 = 77\n",
      "7 * 12 = 84\n"
     ]
    }
   ],
   "source": [
    "user_input = int(input(\"Enter a number: \"))\n",
    "\n",
    "for i in range(12):\n",
    "    result = user_input * (i + 1)\n",
    "    print(str(user_input) + \" * \" + str(i + 1) + \" = \" + str(result))"
   ]
  },
  {
   "cell_type": "markdown",
   "id": "08e901b9",
   "metadata": {},
   "source": [
    "<a id='problem-2-print-the-factorial-for-a-given-number'></a>\n",
    "### Problem 2: Print the factorial for a given number\n",
    "\n",
    "Let's practice setting our range with a variable instead of an explicit number. Given user input, print out the factorial of the number."
   ]
  },
  {
   "cell_type": "code",
   "execution_count": 3,
   "id": "30f8872a",
   "metadata": {},
   "outputs": [
    {
     "name": "stdout",
     "output_type": "stream",
     "text": [
      "Enter a number: 12\n",
      "Factorial of 12 is 479001600\n"
     ]
    }
   ],
   "source": [
    "# solution\n",
    "n = int(input(\"Enter a number: \"))\n",
    "\n",
    "result = 1\n",
    "\n",
    "# n! = 1 * 2 * 3 * ... * n\n",
    "# multiply all numbers from 1 until n\n",
    "for i in range(1, n + 1):\n",
    "    result *= i\n",
    "\n",
    "print(\"Factorial of\", n, \"is\", result)"
   ]
  },
  {
   "cell_type": "code",
   "execution_count": 4,
   "id": "26c17bf3",
   "metadata": {},
   "outputs": [
    {
     "name": "stdout",
     "output_type": "stream",
     "text": [
      "Enter a number: 12\n",
      "Factorial of 12 is 479001600\n"
     ]
    }
   ],
   "source": [
    "# alternative solution\n",
    "n = int(input(\"Enter a number: \"))\n",
    "\n",
    "result = 1\n",
    "\n",
    "# n! = n * (n-1) * (n-2) * ... * 1\n",
    "# multiply all numbers from n until 1\n",
    "for i in range(n, 0, -1):\n",
    "    result *= i\n",
    "\n",
    "print(\"Factorial of\", n, \"is\", result)"
   ]
  },
  {
   "cell_type": "markdown",
   "id": "ce07cfc1",
   "metadata": {},
   "source": [
    "<a id='problem-3-reverse-a-number-using-loops'></a>\n",
    "## For Loops Using Strings\n",
    "\n",
    "A string is a type of sequence. The string slicing methods that we used in Tutorial 5 are logically very similar to for loops.\n",
    "\n",
    "- `String[start : end : step]`, e.g., `\"Toronto\"[0:5:2]` returns `\"Trn\"`\n",
    "- `for char in String[0:5:2]` iterates through the string starting from 0, stopping before 5, and moving by 2 indices each time"
   ]
  },
  {
   "cell_type": "code",
   "execution_count": 5,
   "id": "858312d2",
   "metadata": {},
   "outputs": [
    {
     "name": "stdout",
     "output_type": "stream",
     "text": [
      "Hlo\n",
      "Hlo"
     ]
    }
   ],
   "source": [
    "String = \"Hello\"\n",
    "print(String[0:5:2])\n",
    "\n",
    "for char in String[0:5:2]:\n",
    "    print(char, end=\"\")"
   ]
  },
  {
   "cell_type": "markdown",
   "id": "d27f8737",
   "metadata": {},
   "source": [
    "<a id='for-loops-using-strings'></a>\n",
    "### Problem 3: Reverse a number using loops\n",
    "\n",
    "Given user input number of unspecified length, reverse the number without using string slicing."
   ]
  },
  {
   "cell_type": "code",
   "execution_count": 6,
   "id": "5a6df2cc",
   "metadata": {},
   "outputs": [
    {
     "name": "stdout",
     "output_type": "stream",
     "text": [
      "Enter a number: 576\n",
      "675\n"
     ]
    }
   ],
   "source": [
    "def reverse_number(n):\n",
    "    \"\"\"\n",
    "    (string) -> int\n",
    "    \"\"\"\n",
    "    reversed_number = \"\"\n",
    "\n",
    "    for i in range(len(n) - 1, -1, -1):\n",
    "        reversed_number += n[i]\n",
    "\n",
    "    return int(reversed_number)\n",
    "\n",
    "user_input = input(\"Enter a number: \")\n",
    "print(reverse_number(user_input))"
   ]
  },
  {
   "cell_type": "markdown",
   "id": "d015a6d7",
   "metadata": {},
   "source": [
    "<a id='problem-4-count-number-of-vowels-and-consonants'></a>\n",
    "### Problem 4: Count number of vowels and consonants\n",
    "\n",
    "Given a string, count the number of vowels and consonants that appear.\n",
    "\n",
    "- Hint: not all letters are the same case\n",
    "- Hint: what if there are numbers or special characters?\n",
    "\n"
   ]
  },
  {
   "cell_type": "markdown",
   "id": "76e764a7",
   "metadata": {},
   "source": [
    "Some string methods that you may find useful:\n",
    "\n",
    "- **.isalpha()**: Checks if a character is an alphabetic letter (a-z or A-Z).\n",
    "- **.isupper()**: Determines if a character is uppercase.\n",
    "- **.lower()**: Converts a character to its lowercase equivalent.\n",
    "- **len()**: Returns the number of characters in a string."
   ]
  },
  {
   "cell_type": "code",
   "execution_count": 7,
   "id": "02ab68f3",
   "metadata": {},
   "outputs": [
    {
     "name": "stdout",
     "output_type": "stream",
     "text": [
      "Number of vowels: 3\n",
      "Number of consonants: 9\n"
     ]
    }
   ],
   "source": [
    "# solution\n",
    "def count_char(s):\n",
    "    cnt = 0\n",
    "    for char in s:\n",
    "        if char.isalpha():\n",
    "            cnt += 1\n",
    "    return cnt\n",
    " \n",
    "def count_vowels(s):\n",
    "    vowels = \"aeiouAEIOU\"\n",
    "    vowel_count = 0\n",
    " \n",
    "    for char in s:\n",
    "        if char in vowels:\n",
    "            vowel_count += 1\n",
    " \n",
    "    return vowel_count\n",
    " \n",
    "def count_consonants(s):\n",
    "    return count_char(s) - count_vowels(s)\n",
    " \n",
    "string_input = \"fjsa284310!!f90ash3rfSA\"\n",
    "print(\"Number of vowels:\", count_vowels(string_input))\n",
    "print(\"Number of consonants:\", count_consonants(string_input))"
   ]
  },
  {
   "cell_type": "code",
   "execution_count": 8,
   "id": "aa3634f2",
   "metadata": {},
   "outputs": [
    {
     "name": "stdout",
     "output_type": "stream",
     "text": [
      "Number of vowels: 3\n",
      "Number of consonants: 9\n"
     ]
    }
   ],
   "source": [
    "# solution - string cleaning\n",
    "def clean_string(s):\n",
    "    \"\"\"\n",
    "    (string) -> string\n",
    "\n",
    "    Return a new string that contains only the lower case alphabetic characters from the input string s.\n",
    "    \"\"\"\n",
    "    cleaned_string = \"\"\n",
    "\n",
    "    for char in s:\n",
    "        if char.isalpha():\n",
    "            if char.isupper():\n",
    "                char = char.lower()\n",
    "            cleaned_string += char\n",
    "\n",
    "    return cleaned_string\n",
    "\n",
    "def count_vowels(s):\n",
    "    \"\"\"\n",
    "    (string) -> int\n",
    "\n",
    "    Return the number of vowels and consonants in the input string s.\n",
    "    \"\"\"\n",
    "    vowels = \"aeiou\"\n",
    "    vowel_count = 0\n",
    "\n",
    "    for char in s:\n",
    "        if char in vowels:\n",
    "            vowel_count += 1\n",
    "\n",
    "    return vowel_count\n",
    "\n",
    "def count_consonants(s):\n",
    "    \"\"\"\n",
    "    (string) -> int\n",
    "\n",
    "    Return the number of consonants in the input string s.\n",
    "    \"\"\"\n",
    "    return len(clean_string(s)) - count_vowels(s)\n",
    "\n",
    "string_input = \"fjsa284310!!f90ash3rfsa\"\n",
    "cleaned_input = clean_string(string_input)\n",
    "print(\"Number of vowels:\", count_vowels(cleaned_input))\n",
    "print(\"Number of consonants:\", count_consonants(cleaned_input))"
   ]
  },
  {
   "cell_type": "markdown",
   "id": "98cdbdaf",
   "metadata": {},
   "source": [
    "<a id='section-2-nested-for-loops'></a>\n",
    "## Section 2: Nested For Loops\n",
    "\n",
    "Nested for loops are for loops within for loops. The inner loop runs fully for each iteration of the outer loop.\n",
    "\n",
    "```python\n",
    "for i in range(3): # outer loop\n",
    "    for j in range(2): # inner loop\n",
    "        # code block\n",
    "        # this block of code will run 2 times for every value of i\n",
    "        # i.e., 2*3 = 6 times\n",
    "```\n",
    "\n",
    "When do we use Nested For loops?\n",
    "- Working with certain data structures (e.g., that look like grids or tables) to iterate over rows and columns\n",
    "- Processing nested data (e.g., iterating over each character in each line in a file)\n",
    "- Printing certain patterns\n",
    "- Comparing combination/pairing (e.g., comparing a character in a string to the other characters in the same string)"
   ]
  },
  {
   "cell_type": "markdown",
   "id": "2fce60e3",
   "metadata": {},
   "source": [
    "<a id='problem-5-display-a-christmas-tree'></a>\n",
    "### Problem 5: Display a Christmas tree\n",
    "\n",
    "Let's practice using nested for loops to print something fun! Write a Python function that prints a Christmas tree using nested for loops. The tree should have:\n",
    "\n",
    "- a triangular shape made of `*` symbols\n",
    "- a trunk centered at the bottom made of an `|` symbol\n",
    "- the height of the tree should be given as input (no hard coding!)\n",
    "\n",
    "Here is an example output of a tree with 5 levels:\n",
    "\n",
    "```python\n",
    "    *\n",
    "   ***\n",
    "  *****\n",
    " *******\n",
    "*********\n",
    "    |\n",
    "```\n",
    "\n",
    "- Hint: each level should have two more asterisks than the one above\n",
    "- Hint: to center the tree, you will need to print a certain number of spaces that decreases by 1 with each row.\n",
    "- Hint: the number of spaces for the first row is equal to the number of levels - 1"
   ]
  },
  {
   "cell_type": "code",
   "execution_count": 9,
   "id": "2d5e3a72",
   "metadata": {},
   "outputs": [
    {
     "name": "stdout",
     "output_type": "stream",
     "text": [
      "         *\n",
      "        ***\n",
      "       *****\n",
      "      *******\n",
      "     *********\n",
      "    ***********\n",
      "   *************\n",
      "  ***************\n",
      " *****************\n",
      "*******************\n",
      "         |\n"
     ]
    }
   ],
   "source": [
    "def christmas_tree(height):\n",
    "    \"\"\"\n",
    "    (int) -> None\n",
    "    Prints a simple Christmas tree of the given height.\n",
    "    \"\"\"\n",
    "    for i in range(height):  # Loop for each row of the tree\n",
    "        spaces = \" \" * (height - i - 1)  # Leading spaces for centering\n",
    "        stars = \"*\" * (2 * i + 1)  # Stars increase in each row\n",
    "        print(spaces + stars)  # Print row\n",
    "\n",
    "    trunk_spaces = \" \" * (height - 1)  # Leading spaces for centering\n",
    "    print(trunk_spaces + \"|\")  # Trunk of the tree\n",
    "\n",
    "christmas_tree(10)"
   ]
  },
  {
   "cell_type": "markdown",
   "id": "3d17f8f1",
   "metadata": {},
   "source": [
    "<a id='problem-6-find-prime-numbers-within-a-range'></a>\n",
    "### Problem 6: Find prime numbers within a range\n",
    "\n",
    "Write a Python function that finds and displays the prime numbers within a certain range of numbers.\n",
    "\n",
    "- Hint: you will need a for loop to check the 'primeness' of a number\n",
    "- Hint: you will need to check if every number within the range is prime"
   ]
  },
  {
   "cell_type": "code",
   "execution_count": 10,
   "id": "2038dc28",
   "metadata": {},
   "outputs": [
    {
     "name": "stdout",
     "output_type": "stream",
     "text": [
      "11 13 17 19 23 29 "
     ]
    }
   ],
   "source": [
    "def find_primes(start, end):\n",
    "    \"\"\"\n",
    "    (int, int) -> None\n",
    "    Prints all prime numbers between start and end (inclusive).\n",
    "    \"\"\"\n",
    "    for num in range(start, end + 1):  # Loop through numbers in range\n",
    "        if num > 1:  # Prime numbers must be greater than 1\n",
    "            is_prime = True  # Assume the number is prime\n",
    "            \n",
    "            for i in range(2, int(num ** 0.5) + 1):  # Check divisibility\n",
    "                if num % i == 0:  # If divisible, it's not prime\n",
    "                    is_prime = False\n",
    "                    break  # No need to check further. Optional line, doesn't affect result\n",
    "            \n",
    "            if is_prime:\n",
    "                print(num, end=\" \")  # Print primes on one line\n",
    "\n",
    "# Example usage:\n",
    "find_primes(10, 30)"
   ]
  },
  {
   "cell_type": "markdown",
   "id": "70026b74",
   "metadata": {},
   "source": [
    "### Note: For Loops vs While Loops\n",
    "\n",
    "All of the problems above can be rewritten using while loops (try it!) but not all while loops can be rewritten using for loops.\n",
    "\n",
    "Here's an example from last week's tutorial:\n",
    "\n",
    "```python\n",
    "while user_input != \"close\":            \n",
    "    # Otherwise, write the new input to the file\n",
    "    file.write(user_input + \"\\n\")\n",
    "\n",
    "    # Ask for the user input\n",
    "    user_input = input(\"Enter a string (type 'close' to stop): \")\n",
    "```\n",
    "\n",
    "We don't know when this loop will end (it completely depends on the user). We can't rewrite this to do the same thing using a for loop."
   ]
  },
  {
   "cell_type": "markdown",
   "id": "82253bcc",
   "metadata": {},
   "source": [
    "<a id='take-home-practice-questions'></a>\n",
    "# Take-home Practice Questions"
   ]
  },
  {
   "cell_type": "markdown",
   "id": "01696d1c",
   "metadata": {},
   "source": [
    "<a id='problem-7-check-palindrome'></a>\n",
    "## Problem 7: Check Palindrome\n",
    "\n",
    "Write a function `check_palindrome` that takes in a string and returns a boolean value `True` if the string is a palindrome and `False` otherwise. A palindrome is a word, phrase, number, or sequence of characters that is the same forward and backward, ignoring spaces, punctuation, and capitalization. For example: racecar, 'was it a car or a cat i saw?' and 12321.\n",
    "\n",
    "- Hint: clean the string first to remove any unnecessary characters and convert any cases."
   ]
  },
  {
   "cell_type": "code",
   "execution_count": 11,
   "id": "bf001f9f",
   "metadata": {},
   "outputs": [
    {
     "name": "stdout",
     "output_type": "stream",
     "text": [
      "True\n",
      "True\n",
      "True\n",
      "False\n"
     ]
    }
   ],
   "source": [
    "# Solution\n",
    "def is_palindrome(s):\n",
    "    \"\"\"\n",
    "    (string) -> bool\n",
    "    Returns True if the string s is a palindrome, else False.\n",
    "    Removes spaces, punctuation, and compares ignoring case.\n",
    "    \"\"\"\n",
    "    cleaned_s = \"\"\n",
    "\n",
    "    # Clean the string: iterate through each character, only keeping alphanumeric characters\n",
    "    for char in s:\n",
    "        if char.isalnum():  # Only keep alphanumeric characters (letters and numbers)\n",
    "            cleaned_s += char.lower()  # Convert to lowercase and add to cleaned string\n",
    "\n",
    "    # Check if the cleaned string is a palindrome\n",
    "    for i in range(len(cleaned_s) // 2):  # Loop through the first half\n",
    "        if cleaned_s[i] != cleaned_s[len(cleaned_s) - i - 1]:  # Compare from both ends\n",
    "            return False  # If characters don't match, it's not a palindrome\n",
    "\n",
    "    return True  # If no mismatches, it's a palindrome\n",
    "\n",
    "# Example usage:\n",
    "print(is_palindrome(\"12321\"))  # Output: True\n",
    "print(is_palindrome(\"Was it a car or a cat I saw?\"))    # Output: True\n",
    "print(is_palindrome(\"RaCEcar\"))    # Output: True\n",
    "print(is_palindrome(\"hello\"))                           # Output: False"
   ]
  },
  {
   "cell_type": "markdown",
   "id": "656922ee",
   "metadata": {},
   "source": [
    "<a id='problem-8-secret-message-decoder'></a>\n",
    "## Problem 8: Secret Message Decoder\n",
    "\n",
    "The file `message.txt` contains a secret message that needs to be decoded. Each character is offset by 1 ASCII value - i.e., the letter E in `message.txt` is actually a letter D in the decoded message. Write a function `decode_message(filename)` that:\n",
    "\n",
    "1. Opens the file in read mode\n",
    "2. Loops through each line in the file\n",
    "3. Loops through each character in the line\n",
    "4. Shifts every alphabetical character's ASCII value by -1\n",
    "5. Adds a newline character at the end of each file line iteration\n",
    "\n",
    "- Hint: you will need to iterate through every character of every line to convert the message."
   ]
  },
  {
   "cell_type": "markdown",
   "id": "a4d026a5",
   "metadata": {},
   "source": [
    "- Hint: the code from last week\n",
    "\n",
    "```python\n",
    "file = open(filename, \"r\")\n",
    "line = file.readline() # The first line\n",
    "while line != '':\n",
    "```\n",
    "\n",
    "is equivalent to \n",
    "\n",
    "```python\n",
    "file = open(filename, \"r\")\n",
    "for line in file:\n",
    "```"
   ]
  },
  {
   "cell_type": "markdown",
   "id": "66b6534e",
   "metadata": {},
   "source": [
    "- Hint: in the code above, `line` is a string."
   ]
  },
  {
   "cell_type": "code",
   "execution_count": 12,
   "id": "b202aec5",
   "metadata": {},
   "outputs": [],
   "source": [
    "# run this to create the message.txt file\n",
    "\n",
    "message = '''Dpejoh!jt!gvo\"\n",
    "Lffq!qsbdujdjoh-\n",
    "zpv(sf!epjoh!hsfbu\"\n",
    ")])]\n",
    ")!_/_*\n",
    "p`)#*)#*'''\n",
    "\n",
    "file = open(\"message.txt\", \"w\")\n",
    "file.write(message)\n",
    "file.close()"
   ]
  },
  {
   "cell_type": "code",
   "execution_count": 13,
   "id": "7c831036",
   "metadata": {},
   "outputs": [
    {
     "name": "stdout",
     "output_type": "stream",
     "text": [
      "Coding is fun!\t\n",
      "Keep practicing,\t\n",
      "you're doing great!\t\n",
      "(\\(\\\t\n",
      "( ^.^)\t\n",
      "o_(\")(\")\n",
      "\n"
     ]
    }
   ],
   "source": [
    "def decode_message(filename):\n",
    "    \"\"\"\n",
    "    (string) -> None\n",
    "    Decodes the secret message by shifting each character's ASCII value back by -1.\n",
    "    \"\"\"\n",
    "    secret_message = \"\"\n",
    "\n",
    "    # Open the file in read mode\n",
    "    file = open(filename, \"r\")\n",
    "    # Loop through each line in the file\n",
    "    for line in file:\n",
    "        # Loop through each character in the line\n",
    "        for char in line:\n",
    "            secret_message += chr(ord(char) - 1)\n",
    "        secret_message += \"\\n\"  # Add a newline character at the end of each line\n",
    "\n",
    "    # Close the file\n",
    "    file.close()\n",
    "\n",
    "    print(secret_message)\n",
    "\n",
    "# Example usage:\n",
    "decode_message(\"message.txt\")"
   ]
  }
 ],
 "metadata": {
  "kernelspec": {
   "display_name": "Python 3 (ipykernel)",
   "language": "python",
   "name": "python3"
  },
  "language_info": {
   "codemirror_mode": {
    "name": "ipython",
    "version": 3
   },
   "file_extension": ".py",
   "mimetype": "text/x-python",
   "name": "python",
   "nbconvert_exporter": "python",
   "pygments_lexer": "ipython3",
   "version": "3.8.10"
  }
 },
 "nbformat": 4,
 "nbformat_minor": 5
}
