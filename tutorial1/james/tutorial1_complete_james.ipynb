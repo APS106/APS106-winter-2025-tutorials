{
 "cells": [
  {
   "cell_type": "markdown",
   "id": "0a5e6e48",
   "metadata": {},
   "source": [
    "<div style=\"text-align:center; border: 2px solid #2E86C1; border-radius: 10px; padding: 30px; background-color: #F4F6F7;\">\n",
    "\n",
    "<h1 style=\"color:#154360; font-family:'Georgia', serif; font-size: 2.8em; margin-bottom: 20px;\">APS106: Fundamentals of Computer Programming</h1>\n",
    "\n",
    "<h2 style=\"color:#1A5276; font-family:'Palatino Linotype', 'Book Antiqua', serif; font-size: 2.0em; margin-bottom: 30px;\">Tutorial 1, Week 2</h2>\n",
    "\n",
    "<h3 style=\"color:#6C3483; font-family:'Cambria', serif; font-size: 1.8em; text-decoration: underline; margin-bottom: 15px;\">Topics Covered</h3>\n",
    "<p style=\"text-align:center; font-family:'Trebuchet MS', sans-serif; font-size: 1.3em; line-height: 1.8;\">\n",
    "  <span style=\"color:#D35400; font-weight:bold;\">Programming Concepts</span><br>\n",
    "  <span style=\"color:#283747;\">• Types</span><br>\n",
    "  <span style=\"color:#283747;\">• Variables</span><br>\n",
    "  <span style=\"color:#283747;\">• Operators</span><br>\n",
    "  <span style=\"color:#283747;\">• Expressions</span><br>\n",
    "  <span style=\"color:#283747;\">• Errors</span>\n",
    "</p>\n",
    "\n",
    "<h3 style=\"color:#6C3483; font-family:'Cambria', serif; font-size: 1.8em; text-decoration: underline; margin-top: 30px; margin-bottom: 15px;\">Goals for This Tutorial</h3>\n",
    "<p style=\"text-align:center; font-family:'Verdana', sans-serif; font-size: 1.2em; line-height: 1.8;\">\n",
    "  <span style=\"color:#21618C;\">• Understand the role of data types and variables in Python.</span><br>\n",
    "  <span style=\"color:#21618C;\">• Explore the use of operators in forming expressions.</span><br>\n",
    "  <span style=\"color:#21618C;\">• Identify and debug common programming errors.</span>\n",
    "</p>\n",
    "\n",
    "</div>"
   ]
  },
  {
   "cell_type": "markdown",
   "id": "cacaba60",
   "metadata": {},
   "source": [
    "# Values and Types in Python"
   ]
  },
  {
   "cell_type": "markdown",
   "id": "58e34e17",
   "metadata": {},
   "source": [
    "## What Are Values?"
   ]
  },
  {
   "cell_type": "markdown",
   "id": "d0310cb2",
   "metadata": {},
   "source": [
    "A value is any piece of data that a program manipulates, such as numbers, text, or a logical result (`True` or `False`).\n",
    "\n",
    "**Examples of Values:**\n",
    "- Numbers: `5`, `3.14`\n",
    "- Text: `\"Hello\"`\n",
    "- Boolean values: `True`, `False`"
   ]
  },
  {
   "cell_type": "markdown",
   "id": "1104ef92",
   "metadata": {},
   "source": [
    "## Variables: Associating Values with Names"
   ]
  },
  {
   "cell_type": "markdown",
   "id": "980030a6",
   "metadata": {},
   "source": [
    "A **variable** is a \"container\" that holds a value. Variables are assigned values using the `=` operator.\n",
    "\n",
    "Example:\n",
    "```python\n",
    "school = \"University of Toronto\"\n",
    "year = 2023\n",
    "next_year = year + 1\n",
    "```"
   ]
  },
  {
   "cell_type": "markdown",
   "id": "e5feee93",
   "metadata": {},
   "source": [
    "## Using `print()` to Display Values"
   ]
  },
  {
   "cell_type": "code",
   "execution_count": 1,
   "id": "b892134a",
   "metadata": {},
   "outputs": [
    {
     "name": "stdout",
     "output_type": "stream",
     "text": [
      "University of Toronto\n"
     ]
    }
   ],
   "source": [
    "school = \"University of Toronto\"\n",
    "print(school)  "
   ]
  },
  {
   "cell_type": "code",
   "execution_count": 2,
   "id": "0f51ec08",
   "metadata": {},
   "outputs": [
    {
     "name": "stdout",
     "output_type": "stream",
     "text": [
      "2025\n"
     ]
    }
   ],
   "source": [
    "year = 2025\n",
    "print(year)"
   ]
  },
  {
   "cell_type": "code",
   "execution_count": 3,
   "id": "286faa2b",
   "metadata": {},
   "outputs": [
    {
     "name": "stdout",
     "output_type": "stream",
     "text": [
      "3.14159\n"
     ]
    }
   ],
   "source": [
    "pi = 3.14159\n",
    "print(pi)"
   ]
  },
  {
   "cell_type": "markdown",
   "id": "cd7ed531",
   "metadata": {},
   "source": [
    "**Key Rules for Variable Names**:\n",
    "1. Start with a letter or underscore `_`.\n",
    "2. Contain only letters, digits, or underscores.\n",
    "3. Avoid Python keywords like `for`, `if`, or `while`."
   ]
  },
  {
   "cell_type": "markdown",
   "id": "67997c5a",
   "metadata": {},
   "source": [
    "## What Are Types?"
   ]
  },
  {
   "cell_type": "markdown",
   "id": "f170eb9a",
   "metadata": {},
   "source": [
    "**Definition**: Types describe the kind of value and determine what operations can be performed on that value.\n",
    "\n",
    "**Common Python Types:**\n",
    "1. **Integer (int)**: Whole numbers, like `5` or `-10`.\n",
    "2. **Float (float)**: Numbers with decimals, like `1.56` or `-3.14159`.\n",
    "3. **String (str)**: Text enclosed in quotes, like `\"This is a string\"` or `\"12\"`."
   ]
  },
  {
   "cell_type": "markdown",
   "id": "d273ebf0",
   "metadata": {},
   "source": [
    "## Examples of Python Types and Values"
   ]
  },
  {
   "cell_type": "code",
   "execution_count": 4,
   "id": "a1b77002",
   "metadata": {},
   "outputs": [
    {
     "name": "stdout",
     "output_type": "stream",
     "text": [
      "<class 'int'>\n"
     ]
    }
   ],
   "source": [
    "print(type(year))"
   ]
  },
  {
   "cell_type": "code",
   "execution_count": 5,
   "id": "05256371",
   "metadata": {},
   "outputs": [
    {
     "name": "stdout",
     "output_type": "stream",
     "text": [
      "<class 'float'>\n"
     ]
    }
   ],
   "source": [
    "print(type(pi))"
   ]
  },
  {
   "cell_type": "code",
   "execution_count": 6,
   "id": "f8171fd2",
   "metadata": {},
   "outputs": [
    {
     "name": "stdout",
     "output_type": "stream",
     "text": [
      "<class 'str'>\n"
     ]
    }
   ],
   "source": [
    "print(type(school))"
   ]
  },
  {
   "cell_type": "markdown",
   "id": "15256197",
   "metadata": {},
   "source": [
    "## Let's Practice"
   ]
  },
  {
   "cell_type": "markdown",
   "id": "ab54b242",
   "metadata": {},
   "source": [
    "### 1. Debugging Variable Errors\n",
    "\n",
    "#### Fix the errors in this code:"
   ]
  },
  {
   "cell_type": "markdown",
   "id": "f115ea21",
   "metadata": {},
   "source": [
    "**Example 1:**"
   ]
  },
  {
   "cell_type": "markdown",
   "id": "742fadf2",
   "metadata": {},
   "source": [
    "**Can variable names have special characters?**"
   ]
  },
  {
   "cell_type": "code",
   "execution_count": 7,
   "id": "f534ffb8",
   "metadata": {
    "scrolled": true
   },
   "outputs": [
    {
     "ename": "SyntaxError",
     "evalue": "invalid syntax (1535670163.py, line 1)",
     "output_type": "error",
     "traceback": [
      "\u001b[0;36m  Cell \u001b[0;32mIn[7], line 1\u001b[0;36m\u001b[0m\n\u001b[0;31m    number! = 42\u001b[0m\n\u001b[0m          ^\u001b[0m\n\u001b[0;31mSyntaxError\u001b[0m\u001b[0;31m:\u001b[0m invalid syntax\n"
     ]
    }
   ],
   "source": [
    "number! = 42"
   ]
  },
  {
   "cell_type": "code",
   "execution_count": 8,
   "id": "525e95f5",
   "metadata": {},
   "outputs": [],
   "source": [
    "# Solution\n",
    "\n",
    "number = 42"
   ]
  },
  {
   "cell_type": "markdown",
   "id": "3ee9e60d",
   "metadata": {},
   "source": [
    "**Example 2:**"
   ]
  },
  {
   "cell_type": "markdown",
   "id": "68361104",
   "metadata": {},
   "source": [
    "**Can variable names start with a number?**"
   ]
  },
  {
   "cell_type": "code",
   "execution_count": 9,
   "id": "1d1d9705",
   "metadata": {},
   "outputs": [
    {
     "ename": "SyntaxError",
     "evalue": "invalid decimal literal (2374205289.py, line 1)",
     "output_type": "error",
     "traceback": [
      "\u001b[0;36m  Cell \u001b[0;32mIn[9], line 1\u001b[0;36m\u001b[0m\n\u001b[0;31m    2nd_number = 3.14\u001b[0m\n\u001b[0m    ^\u001b[0m\n\u001b[0;31mSyntaxError\u001b[0m\u001b[0;31m:\u001b[0m invalid decimal literal\n"
     ]
    }
   ],
   "source": [
    "2nd_number = 3.14 "
   ]
  },
  {
   "cell_type": "code",
   "execution_count": 11,
   "id": "b9381cc0",
   "metadata": {},
   "outputs": [],
   "source": [
    "# Solution\n",
    "\n",
    "second_number = 3.14"
   ]
  },
  {
   "cell_type": "markdown",
   "id": "e4714448",
   "metadata": {},
   "source": [
    "**Example 3:**"
   ]
  },
  {
   "cell_type": "markdown",
   "id": "accb956c",
   "metadata": {},
   "source": [
    "**Is this a valid variable name?**"
   ]
  },
  {
   "cell_type": "code",
   "execution_count": 12,
   "id": "4c7cee2a",
   "metadata": {},
   "outputs": [
    {
     "ename": "SyntaxError",
     "evalue": "cannot assign to literal here. Maybe you meant '==' instead of '='? (2637302664.py, line 1)",
     "output_type": "error",
     "traceback": [
      "\u001b[0;36m  Cell \u001b[0;32mIn[12], line 1\u001b[0;36m\u001b[0m\n\u001b[0;31m    \"message\" = \"Hi!\"\u001b[0m\n\u001b[0m    ^\u001b[0m\n\u001b[0;31mSyntaxError\u001b[0m\u001b[0;31m:\u001b[0m cannot assign to literal here. Maybe you meant '==' instead of '='?\n"
     ]
    }
   ],
   "source": [
    "\"message\" = \"Hi!\""
   ]
  },
  {
   "cell_type": "code",
   "execution_count": 13,
   "id": "8321e327",
   "metadata": {},
   "outputs": [],
   "source": [
    "# Solution\n",
    "\n",
    "message = \"Hi!\""
   ]
  },
  {
   "cell_type": "markdown",
   "id": "d041ee76",
   "metadata": {},
   "source": [
    "**Example 4**"
   ]
  },
  {
   "cell_type": "markdown",
   "id": "3119dd7d",
   "metadata": {},
   "source": [
    "**Is this a valid string assignment?**"
   ]
  },
  {
   "cell_type": "code",
   "execution_count": 15,
   "id": "448eb687",
   "metadata": {},
   "outputs": [
    {
     "ename": "SyntaxError",
     "evalue": "unterminated string literal (detected at line 1) (632554756.py, line 1)",
     "output_type": "error",
     "traceback": [
      "\u001b[0;36m  Cell \u001b[0;32mIn[15], line 1\u001b[0;36m\u001b[0m\n\u001b[0;31m    message = \"Hi!'\u001b[0m\n\u001b[0m              ^\u001b[0m\n\u001b[0;31mSyntaxError\u001b[0m\u001b[0;31m:\u001b[0m unterminated string literal (detected at line 1)\n"
     ]
    }
   ],
   "source": [
    "message = \"Hi!'"
   ]
  },
  {
   "cell_type": "code",
   "execution_count": 16,
   "id": "35479d10",
   "metadata": {},
   "outputs": [],
   "source": [
    "# Solution\n",
    "\n",
    "message = \"Hi!\"\n",
    "message = 'Hi!'"
   ]
  },
  {
   "cell_type": "markdown",
   "id": "287e8108",
   "metadata": {},
   "source": [
    "### 2. Type Exploration"
   ]
  },
  {
   "cell_type": "markdown",
   "id": "7a63ff7f",
   "metadata": {},
   "source": [
    "**Example 1:**"
   ]
  },
  {
   "cell_type": "code",
   "execution_count": 17,
   "id": "515c37c5",
   "metadata": {},
   "outputs": [
    {
     "name": "stdout",
     "output_type": "stream",
     "text": [
      "7.0\n"
     ]
    }
   ],
   "source": [
    "x = 5             # Integer\n",
    "y = 2.0           # Float\n",
    "print(x + y)      # What happens here? What is the type?"
   ]
  },
  {
   "cell_type": "markdown",
   "id": "632e0697",
   "metadata": {},
   "source": [
    "Answer: Python promotes the x integer to a float for the operation, so the final answer is a float."
   ]
  },
  {
   "cell_type": "markdown",
   "id": "8cbaca79",
   "metadata": {},
   "source": [
    "**Example 2:**"
   ]
  },
  {
   "cell_type": "code",
   "execution_count": 18,
   "id": "0a2c3dd4",
   "metadata": {},
   "outputs": [
    {
     "name": "stdout",
     "output_type": "stream",
     "text": [
      "7.0\n"
     ]
    }
   ],
   "source": [
    "x = 7          # Integer\n",
    "y = 1          # Integer\n",
    "print(x / y)   # What happens? What is the type?"
   ]
  },
  {
   "cell_type": "markdown",
   "id": "30d36ab4",
   "metadata": {},
   "source": [
    "Answer: for division, Python promotes the values and result to a float for accuracy."
   ]
  },
  {
   "cell_type": "markdown",
   "id": "2ab27b73",
   "metadata": {},
   "source": [
    "**Example 3:**"
   ]
  },
  {
   "cell_type": "code",
   "execution_count": 19,
   "id": "8b1ee9d3",
   "metadata": {},
   "outputs": [
    {
     "ename": "TypeError",
     "evalue": "unsupported operand type(s) for +: 'int' and 'str'",
     "output_type": "error",
     "traceback": [
      "\u001b[0;31m---------------------------------------------------------------------------\u001b[0m",
      "\u001b[0;31mTypeError\u001b[0m                                 Traceback (most recent call last)",
      "Cell \u001b[0;32mIn[19], line 3\u001b[0m\n\u001b[1;32m      1\u001b[0m x \u001b[38;5;241m=\u001b[39m \u001b[38;5;241m5\u001b[39m\n\u001b[1;32m      2\u001b[0m z \u001b[38;5;241m=\u001b[39m \u001b[38;5;124m\"\u001b[39m\u001b[38;5;124m5\u001b[39m\u001b[38;5;124m\"\u001b[39m\n\u001b[0;32m----> 3\u001b[0m \u001b[38;5;28mprint\u001b[39m(\u001b[43mx\u001b[49m\u001b[43m \u001b[49m\u001b[38;5;241;43m+\u001b[39;49m\u001b[43m \u001b[49m\u001b[43mz\u001b[49m)    \u001b[38;5;66;03m# Why does this throw an error?\u001b[39;00m\n",
      "\u001b[0;31mTypeError\u001b[0m: unsupported operand type(s) for +: 'int' and 'str'"
     ]
    }
   ],
   "source": [
    "x = 5\n",
    "z = \"5\"\n",
    "print(x + z)    # Why does this throw an error?"
   ]
  },
  {
   "cell_type": "code",
   "execution_count": 20,
   "id": "2f70550b",
   "metadata": {},
   "outputs": [
    {
     "name": "stdout",
     "output_type": "stream",
     "text": [
      "10\n",
      "10\n"
     ]
    }
   ],
   "source": [
    "# Solution\n",
    "\n",
    "x = 5\n",
    "z = 5\n",
    "print(x + z)\n",
    "\n",
    "# Alternative solution\n",
    "\n",
    "x = 5\n",
    "z = \"5\"\n",
    "print(x + int(z))"
   ]
  },
  {
   "cell_type": "markdown",
   "id": "70500d20",
   "metadata": {},
   "source": [
    "### 3. Assign and Reassign Variables"
   ]
  },
  {
   "cell_type": "code",
   "execution_count": 21,
   "id": "9d91c940",
   "metadata": {},
   "outputs": [
    {
     "name": "stdout",
     "output_type": "stream",
     "text": [
      "10\n",
      "3.14\n",
      "Hello\n"
     ]
    }
   ],
   "source": [
    "x = 10       # Assign an integer to x\n",
    "print(x)     # Output: 10\n",
    "x = 3.14     # Reassign a float to x\n",
    "print(x)     # Output: 3.14\n",
    "x = \"Hello\"  # Reassign a string to x\n",
    "print(x)     # Output: Hello"
   ]
  },
  {
   "cell_type": "markdown",
   "id": "d5db35b2",
   "metadata": {},
   "source": [
    "# Operators and Expressions in Python"
   ]
  },
  {
   "cell_type": "markdown",
   "id": "3900f7ea",
   "metadata": {},
   "source": [
    "## What Are Operators?\n",
    "- **Operators** are symbols used to perform specific operations on values and variables.\n",
    "- They are essential for calculations, comparisons, and combining conditions.\n",
    "\n",
    "### Common Operators\n",
    "| **Type**         | **Symbol** | **Example**         | **Description**                     | **Note** |\n",
    "|-------------------|------------|---------------------|-------------------------------------|------------|\n",
    "| Arithmetic        | `+`, `-`, `*`, `/`, `//`, `%`, `**` | `5 + 3` -> `8` | Perform mathematical calculations | - |\n",
    "| Relational        | `<`, `>`, `<=`, `>=`, `==`, `!=`   | `5 > 3` -> `True` | Compare values and return `True` or `False` | Don’t worry about this for now; we’ll cover it in more detail later. |\n",
    "| Logical           | `and`, `or`, `not`                | `True and False` -> `False` | Combine multiple conditions | Don’t worry about this for now; we’ll cover it in more detail later. |"
   ]
  },
  {
   "cell_type": "markdown",
   "id": "a0de1c20",
   "metadata": {},
   "source": [
    "## Arithmetic Operators\n",
    "Arithmetic operators are used for mathematical operations.\n",
    "\n",
    "| **Operator** | **Name**           | **Example**     | **Result** | **English Description** | **Explanation** |                                                      \n",
    "|--------------|--------------------|-----------------|------------|-------------|------------------------------------------------------------------------|\n",
    "| `+`          | Addition           | `5 + 3`         | `8`        | 5 plus 3 | Adds two numbers together.                                             |\n",
    "| `-`          | Subtraction        | `10 - 4`        | `6`        | 10 minus 4 | Subtracts the second number from the first.                            |\n",
    "| `*`          | Multiplication     | `6 * 3`         | `18`       | 6 multiplied by 3 | Multiplies two numbers.                                                |\n",
    "| `/`          | Division           | `8 / 2`         | `4.0`      | 8 divided by 2 | Divides the first number by the second and returns a float.            |\n",
    "| `//`         | Floor Division     | `9 // 2`        | `4`        | 9 divided by 2 | Divides the first number by the second and returns the integer part.   |\n",
    "| `%`          | Modulo (Remainder) | `10 % 3`        | `1`        | 10 mod 3  | Returns the remainder of the division of the first number by the second.|\n",
    "| `**`         | Exponentiation     | `2 ** 3`        | `8`        | 2 to the power of 3 | Raises the first number to the power of the second.                    |\n",
    "\n",
    "\n",
    "### Examples:"
   ]
  },
  {
   "cell_type": "code",
   "execution_count": 22,
   "id": "9df73f81",
   "metadata": {},
   "outputs": [
    {
     "name": "stdout",
     "output_type": "stream",
     "text": [
      "Addition: 13\n",
      "Subtraction: 7\n",
      "Multiplication: 30\n",
      "Division: 3.3333333333333335\n",
      "Floor Division: 3\n",
      "Modulo: 1\n",
      "Exponentiation: 1000\n"
     ]
    }
   ],
   "source": [
    "# Arithmetic Examples\n",
    "x = 10\n",
    "y = 3\n",
    "print(\"Addition:\", x + y) # 13\n",
    "print(\"Subtraction:\", x - y) # 7 \n",
    "print(\"Multiplication:\", x * y) # 30\n",
    "print(\"Division:\", x / y) # 3.333333\n",
    "print(\"Floor Division:\", x // y) # 3\n",
    "print(\"Modulo:\", x % y) # 1\n",
    "print(\"Exponentiation:\", x ** y) # 1000"
   ]
  },
  {
   "cell_type": "markdown",
   "id": "92e1f3a7",
   "metadata": {},
   "source": [
    "## Operator Precedence\n",
    "Operator precedence determines the order in which operations are performed.\n",
    "\n",
    "**Order of Operations (PEMDAS):**\n",
    "1. Parentheses `()`\n",
    "2. Exponentiation `**`\n",
    "3. Multiplication, Division, Floor Division, Modulo (`*`, `/`, `//`, `%`)\n",
    "4. Addition, Subtraction (`+`, `-`)\n",
    "\n",
    "\n",
    "\n",
    "**The operators in an un-parenthesized expression are evaluated in order of precedence.**\n",
    "| **Operator**        | **Precedence** |\n",
    "|----------------------|----------------|\n",
    "| `**`                | highest        |\n",
    "| `-` (negation)      |                |\n",
    "| `*`, `/`, `//`, `%` |                |\n",
    "| `+`, `-`            | lowest         |\n",
    "\n",
    "**Note: Precedence rules for other operators, e.g., relational operators, are language-dependent!**\n",
    "\n",
    "\n"
   ]
  },
  {
   "cell_type": "markdown",
   "id": "37de8419",
   "metadata": {},
   "source": [
    "**Example 1: What is the value of result after this line of code executes?**"
   ]
  },
  {
   "cell_type": "code",
   "execution_count": 24,
   "id": "dedd1e2b",
   "metadata": {},
   "outputs": [
    {
     "name": "stdout",
     "output_type": "stream",
     "text": [
      "29\n"
     ]
    }
   ],
   "source": [
    "# Operator Precedence Example\n",
    "\n",
    "result = 10 + 5 * 2 ** 2 - 1\n",
    "\n",
    "print(result)"
   ]
  },
  {
   "cell_type": "markdown",
   "id": "2ba12eab",
   "metadata": {},
   "source": [
    "1. 2 ** 2 = 4\n",
    "2. 5 * 4 = 20\n",
    "3. 10 + 20 = 30\n",
    "4. 30 - 1 = 29"
   ]
  },
  {
   "cell_type": "markdown",
   "id": "2853c635",
   "metadata": {},
   "source": [
    "**Example 2: Calculate the Area of a Rectangle**\n",
    "\n",
    "**Write a program to calculate the area and the perimeter of a rectangle using arithmetic operators.**"
   ]
  },
  {
   "cell_type": "code",
   "execution_count": 25,
   "id": "7dab020b",
   "metadata": {},
   "outputs": [],
   "source": [
    "# Calculate area and perimeter\n",
    "length = 8\n",
    "width = 3"
   ]
  },
  {
   "cell_type": "code",
   "execution_count": 26,
   "id": "d273297b",
   "metadata": {},
   "outputs": [
    {
     "name": "stdout",
     "output_type": "stream",
     "text": [
      "Area of the rectangle: 24\n",
      "Perimeter of the rectangle: 22\n"
     ]
    }
   ],
   "source": [
    "#Answer:\n",
    "\n",
    "area = length * width\n",
    "perimeter = 2 * (width + length)\n",
    "print(\"Area of the rectangle:\", area) \n",
    "print(\"Perimeter of the rectangle:\", perimeter)"
   ]
  },
  {
   "cell_type": "code",
   "execution_count": 27,
   "id": "ee4fdc35",
   "metadata": {},
   "outputs": [],
   "source": [
    "# Other ways to define perimeter:\n",
    "\n",
    "perimeter = width + length + width + length\n",
    "perimeter = 2 * width + 2 * length"
   ]
  },
  {
   "cell_type": "markdown",
   "id": "bb96229b",
   "metadata": {},
   "source": [
    "**Example 3: Predict the output of the following code before running it:**"
   ]
  },
  {
   "cell_type": "code",
   "execution_count": 28,
   "id": "9174ffc4",
   "metadata": {},
   "outputs": [],
   "source": [
    "# Solve the following expression\n",
    "a = 5\n",
    "b = 10\n",
    "c = 3\n",
    "result = (a + b) ** 2 // c + b % a - c"
   ]
  },
  {
   "cell_type": "code",
   "execution_count": 29,
   "id": "f9c370af",
   "metadata": {},
   "outputs": [
    {
     "name": "stdout",
     "output_type": "stream",
     "text": [
      "Result of the complex expression: 72\n"
     ]
    }
   ],
   "source": [
    "#Answer:\n",
    "print(\"Result of the complex expression:\", result)"
   ]
  },
  {
   "cell_type": "code",
   "execution_count": 30,
   "id": "b8e6bce8",
   "metadata": {},
   "outputs": [],
   "source": [
    "# Verify if the equation holds\n",
    "a = 10\n",
    "b = 3\n",
    "left_side = (a + b) ** 2  # 13 ** 2 = 169\n",
    "right_side = a ** 2 + 2 * a * b + b ** 2  \n",
    "\n",
    "# Predict: Will the result of 'left_side == right_side' be True or False?"
   ]
  },
  {
   "cell_type": "code",
   "execution_count": 31,
   "id": "7a95a631",
   "metadata": {},
   "outputs": [
    {
     "name": "stdout",
     "output_type": "stream",
     "text": [
      "Does the equation hold? True\n"
     ]
    }
   ],
   "source": [
    "#Answer: \n",
    "print(\"Does the equation hold?\", left_side == right_side) "
   ]
  },
  {
   "cell_type": "markdown",
   "id": "fa02f96b",
   "metadata": {},
   "source": [
    "## Augmented Assignment Operators\n",
    "\n",
    "**Augmented assignment operators are shorthand notations that combine an arithmetic operation with assignment. They simplify expressions by avoiding repetition.**\n",
    "\n",
    "\n",
    "| **Operator** | **Expression**           | **Identical Expression**        | **Explanation**                              |\n",
    "|--------------|--------------------------|----------------------------------|----------------------------------------------|\n",
    "| `+=`         | `x = 7;`<br>`x += 2`     | `x = 7;`<br>`x = x + 2`         | Adds `2` to the value of `x` and reassigns it. |\n",
    "| `-=`         | `x = 7;`<br>`x -= 2`     | `x = 7;`<br>`x = x - 2`         | Subtracts `2` from the value of `x` and reassigns it. |\n",
    "| `*=`         | `x = 7;`<br>`x *= 2`     | `x = 7;`<br>`x = x * 2`         | Multiplies `x` by `2` and reassigns it.      |\n",
    "| `/=`         | `x = 7;`<br>`x /= 2`     | `x = 7;`<br>`x = x / 2`         | Divides `x` by `2` and reassigns it.         |\n",
    "| `//=`        | `x = 7;`<br>`x //= 2`    | `x = 7;`<br>`x = x // 2`        | Performs floor division on `x` by `2` and reassigns it. |\n",
    "| `%=`         | `x = 7;`<br>`x %= 2`     | `x = 7;`<br>`x = x % 2`         | Finds the remainder of `x` divided by `2` and reassigns it. |\n",
    "| `**=`        | `x = 7;`<br>`x **= 2`    | `x = 7;`<br>`x = x ** 2`        | Raises `x` to the power of `2` and reassigns it. |\n",
    "### Examples"
   ]
  },
  {
   "cell_type": "code",
   "execution_count": 32,
   "id": "074fd570",
   "metadata": {},
   "outputs": [
    {
     "name": "stdout",
     "output_type": "stream",
     "text": [
      "15\n",
      "12\n",
      "24\n",
      "6.0\n",
      "3.0\n",
      "1.0\n",
      "9\n"
     ]
    }
   ],
   "source": [
    "# Demonstrating augmented assignment operators\n",
    "x = 10\n",
    "x += 5  # x = x + 5 = 15\n",
    "print(x)\n",
    "x -= 3  # x = x - 3 = 12\n",
    "print(x) \n",
    "x *= 2  # x = x*2 = 26\n",
    "print(x)\n",
    "x /= 4\n",
    "print(x)\n",
    "x //= 2\n",
    "print(x)\n",
    "x %= 2\n",
    "print(x)\n",
    "\n",
    "x = 3\n",
    "x **= 2\n",
    "print(x)"
   ]
  },
  {
   "cell_type": "markdown",
   "id": "8eabddbc",
   "metadata": {},
   "source": [
    "**Example 1: Predict the Output**"
   ]
  },
  {
   "cell_type": "code",
   "execution_count": 33,
   "id": "5110f74d",
   "metadata": {},
   "outputs": [],
   "source": [
    "x = 7\n",
    "x += 3\n",
    "x *= 2\n",
    "x -= 5\n",
    "x //= 4\n",
    "x **= 3"
   ]
  },
  {
   "cell_type": "code",
   "execution_count": 34,
   "id": "c4ac1088",
   "metadata": {},
   "outputs": [
    {
     "name": "stdout",
     "output_type": "stream",
     "text": [
      "Final value of x: 27\n"
     ]
    }
   ],
   "source": [
    "#Answer:\n",
    "\n",
    "print(\"Final value of x:\", x)"
   ]
  },
  {
   "cell_type": "markdown",
   "id": "64389769",
   "metadata": {},
   "source": [
    "**Example 2: Rewrite Without Augmented Operators**"
   ]
  },
  {
   "cell_type": "code",
   "execution_count": 35,
   "id": "ad7a4667",
   "metadata": {},
   "outputs": [],
   "source": [
    "a = 10 \n",
    "b = 5\n",
    "c = 2\n",
    "\n",
    "a += b * c      # for example, the answer is: a = a + (b * c)\n",
    "a = a + (b * c)\n",
    "\n",
    "b -= c + a      # Rewrite this\n",
    "b = b - c + a\n",
    "\n",
    "\n",
    "c *= a // b     # Rewrite this\n",
    "c = c * a // b\n",
    "\n",
    "\n",
    "a /= b - c      # Rewrite this\n",
    "b %= a + c      # Rewrite this\n",
    "c **= 2 + a     # Rewrite this"
   ]
  },
  {
   "cell_type": "markdown",
   "id": "249f12be",
   "metadata": {},
   "source": [
    "**Example 3: Debugging Augmented Assignments**"
   ]
  },
  {
   "cell_type": "code",
   "execution_count": 37,
   "id": "a84611fd",
   "metadata": {},
   "outputs": [
    {
     "ename": "ZeroDivisionError",
     "evalue": "division by zero",
     "output_type": "error",
     "traceback": [
      "\u001b[0;31m---------------------------------------------------------------------------\u001b[0m",
      "\u001b[0;31mZeroDivisionError\u001b[0m                         Traceback (most recent call last)",
      "Cell \u001b[0;32mIn[37], line 18\u001b[0m\n\u001b[1;32m     15\u001b[0m x \u001b[38;5;241m-\u001b[39m\u001b[38;5;241m=\u001b[39m \u001b[38;5;241m2\u001b[39m  \n\u001b[1;32m     17\u001b[0m \u001b[38;5;66;03m# 3.\u001b[39;00m\n\u001b[0;32m---> 18\u001b[0m \u001b[43mx\u001b[49m\u001b[43m \u001b[49m\u001b[38;5;241;43m/\u001b[39;49m\u001b[38;5;241;43m=\u001b[39;49m\u001b[43m \u001b[49m\u001b[38;5;241;43m0\u001b[39;49m\n\u001b[1;32m     20\u001b[0m \u001b[38;5;66;03m# Solution:\u001b[39;00m\n\u001b[1;32m     21\u001b[0m x \u001b[38;5;241m/\u001b[39m\u001b[38;5;241m=\u001b[39m \u001b[38;5;241m1\u001b[39m  \u001b[38;5;66;03m# (or any non-zero number)\u001b[39;00m\n",
      "\u001b[0;31mZeroDivisionError\u001b[0m: division by zero"
     ]
    }
   ],
   "source": [
    "# Fix the errors in the augmented operations\n",
    "\n",
    "x = 10\n",
    "\n",
    "# 1.\n",
    "x + 5\n",
    "\n",
    "# Solution: \n",
    "x += 5\n",
    "\n",
    "# 2.\n",
    "x - 2\n",
    "\n",
    "# Solution: \n",
    "x -= 2  \n",
    "\n",
    "# 3.\n",
    "x /= 0\n",
    "\n",
    "# Solution:\n",
    "x /= 1  # (or any non-zero number)"
   ]
  },
  {
   "cell_type": "markdown",
   "id": "3ca96638",
   "metadata": {},
   "source": [
    "**Example 4: Perform the following steps**\n",
    "\n",
    "Step 1: Initialize variables: x = 20 and y = 7\n",
    "\n",
    "Step 2: Add 10 to x\n",
    "\n",
    "Step 3: Multiply y by 3\n",
    "\n",
    "Step 4: Calculate remainder of x divided by y and store in x\n",
    "\n",
    "Step 5: Raise y to the power of 2\n",
    "\n",
    "Step 6: Subtract x from y \n",
    "\n",
    "Step 7: Calculate and print the result of (x + y) * (x - y)"
   ]
  },
  {
   "cell_type": "code",
   "execution_count": 36,
   "id": "61fb4569",
   "metadata": {},
   "outputs": [
    {
     "name": "stdout",
     "output_type": "stream",
     "text": [
      "-186543\n"
     ]
    }
   ],
   "source": [
    "# Step 1: Initialize variables\n",
    "x = 20\n",
    "y = 7\n",
    "# Step 2: Add 10 to x\n",
    "x += 10\n",
    "# Step 3: Multiply y by 3\n",
    "y *= 3\n",
    "# Step 4: Calculate remainder of x divided by y and store in x\n",
    "x %= y\n",
    "# Step 5: Raise y to the power of 2\n",
    "y **= 2\n",
    "# Step 6: Subtract x from y (regular subtraction)\n",
    "y -= x\n",
    "# Step 7: Calculate and print the result of (x + y) * (x - y)\n",
    "\n",
    "result = (x + y) * (x - y)\n",
    "print(result)"
   ]
  },
  {
   "cell_type": "markdown",
   "id": "1be02b3e",
   "metadata": {},
   "source": [
    "# Error Types in Python"
   ]
  },
  {
   "cell_type": "markdown",
   "id": "afb2dd93",
   "metadata": {},
   "source": [
    "Errors in Python are generally classified into four main types:\n",
    "1. **Syntax Error**\n",
    "2. **Semantic Error**\n",
    "3. **Runtime Error**\n",
    "4. **Logical Error**\n",
    "\n",
    "\n",
    "## Table of Error Types\n",
    "\n",
    "\n",
    "| **Name**          | **Definition**                                                                                              | **Timing**                                  | **Python Examples**                                                                                                                         | **Clarification**                                                                                          |\n",
    "|--------------------|------------------------------------------------------------------------------------------------------------|--------------------------------------------|---------------------------------------------------------------------------------------------------------------------------------------------|------------------------------------------------------------------------------------------------------------|\n",
    "| **Syntax Error**   | An error due to the code not being syntactically valid (i.e., not obeying the grammar of the programming language). | Usually discovered during **compilation**. | <span style=\"color:red;\">`>>> (3 + 2 * 4`<br>`SyntaxError: unmatched ')'`</span><br> Explanation: Open parenthesis without a close.        | Syntax errors are often caused by typos or missing syntax elements (e.g., quotes, parentheses, colons).    |\n",
    "| **Semantic Error** | An error due to the code not following the semantic rules of a programming language (e.g., using incompatible types). | Usually discovered during **compilation**. | <span style=\"color:red;\">`>>> \"Hello\" - 4`<br>`TypeError: unsupported operand type(s) for -: 'str' and 'int'`</span><br>`>>> a > 5`<br>`NameError: name 'a' is not defined`</span> | Semantic errors involve logic that the programming language cannot interpret correctly (e.g., subtracting a string from a number). |\n",
    "| **Runtime Error**  | An error that occurs during the execution (runtime) of a program. It halts the program.                    | Happens when the code is run.              | <span style=\"color:red;\">`>>> a = 5`<br>`>>> b = 4 / (a - 5)`<br>`ZeroDivisionError: division by zero`</span>                               | Runtime errors typically happen when the program encounters unexpected conditions (e.g., invalid input or division by zero). |\n",
    "| **Logical Error**  | An error caused by incorrect implementation of the intended logic or formula.                              | Happens when the code is run. May remain undiscovered. | <span style=\"color:blue;\">`>>> duration_in_seconds = duration_in_hours * 100`<br>`The formula for converting hours into seconds is incorrect`</span> | Logical errors produce incorrect results even though the program runs without crashing. They are often harder to detect. |"
   ]
  },
  {
   "cell_type": "markdown",
   "id": "d925d5cd",
   "metadata": {},
   "source": [
    "## Syntax Error"
   ]
  },
  {
   "cell_type": "markdown",
   "id": "b5d5ef3f",
   "metadata": {},
   "source": [
    "- **Definition**: An error caused by code that does not follow the grammar of the programming language.\n",
    "- **Timing**: Discovered during **compilation** (before the code runs).\n",
    "- **Example**:"
   ]
  },
  {
   "cell_type": "code",
   "execution_count": 38,
   "id": "ffba1948",
   "metadata": {},
   "outputs": [
    {
     "ename": "SyntaxError",
     "evalue": "incomplete input (4029979666.py, line 1)",
     "output_type": "error",
     "traceback": [
      "\u001b[0;36m  Cell \u001b[0;32mIn[38], line 1\u001b[0;36m\u001b[0m\n\u001b[0;31m    result = (2 + 3 * 4\u001b[0m\n\u001b[0m                       ^\u001b[0m\n\u001b[0;31mSyntaxError\u001b[0m\u001b[0;31m:\u001b[0m incomplete input\n"
     ]
    }
   ],
   "source": [
    "result = (2 + 3 * 4"
   ]
  },
  {
   "cell_type": "markdown",
   "id": "c47e6d57",
   "metadata": {},
   "source": [
    "## Semantic Error"
   ]
  },
  {
   "cell_type": "markdown",
   "id": "55f5494a",
   "metadata": {},
   "source": [
    "- **Definition**: An error caused by code that violates the semantic rules of the programming language.\n",
    "- **Timing**: Discovered during **compilation**.\n",
    "- **Examples**:"
   ]
  },
  {
   "cell_type": "code",
   "execution_count": 40,
   "id": "db95060e",
   "metadata": {},
   "outputs": [
    {
     "ename": "TypeError",
     "evalue": "unsupported operand type(s) for -: 'str' and 'int'",
     "output_type": "error",
     "traceback": [
      "\u001b[0;31m---------------------------------------------------------------------------\u001b[0m",
      "\u001b[0;31mTypeError\u001b[0m                                 Traceback (most recent call last)",
      "Cell \u001b[0;32mIn[40], line 2\u001b[0m\n\u001b[1;32m      1\u001b[0m x \u001b[38;5;241m=\u001b[39m \u001b[38;5;124m\"\u001b[39m\u001b[38;5;124mHello\u001b[39m\u001b[38;5;124m\"\u001b[39m\n\u001b[0;32m----> 2\u001b[0m result \u001b[38;5;241m=\u001b[39m \u001b[43mx\u001b[49m\u001b[43m \u001b[49m\u001b[38;5;241;43m-\u001b[39;49m\u001b[43m \u001b[49m\u001b[38;5;241;43m5\u001b[39;49m\n",
      "\u001b[0;31mTypeError\u001b[0m: unsupported operand type(s) for -: 'str' and 'int'"
     ]
    }
   ],
   "source": [
    "x = \"Hello\"  # Solution: change x to number\n",
    "result = x - 5"
   ]
  },
  {
   "cell_type": "code",
   "execution_count": 41,
   "id": "b284a8b7",
   "metadata": {},
   "outputs": [
    {
     "ename": "NameError",
     "evalue": "name 'q' is not defined",
     "output_type": "error",
     "traceback": [
      "\u001b[0;31m---------------------------------------------------------------------------\u001b[0m",
      "\u001b[0;31mNameError\u001b[0m                                 Traceback (most recent call last)",
      "Cell \u001b[0;32mIn[41], line 1\u001b[0m\n\u001b[0;32m----> 1\u001b[0m result \u001b[38;5;241m=\u001b[39m \u001b[43mq\u001b[49m \u001b[38;5;241m+\u001b[39m \u001b[38;5;241m5\u001b[39m\n",
      "\u001b[0;31mNameError\u001b[0m: name 'q' is not defined"
     ]
    }
   ],
   "source": [
    "result = q + 5  # Solution: assign value to q, use a number, or a variable that has already been defined"
   ]
  },
  {
   "cell_type": "markdown",
   "id": "2ac51fc5",
   "metadata": {},
   "source": [
    "## Runtime Error"
   ]
  },
  {
   "cell_type": "markdown",
   "id": "94512865",
   "metadata": {},
   "source": [
    "- **Definition**: An error that occurs while the program is running. It halts the execution of the program.\n",
    "- **Timing**: Happens **during execution**.\n",
    "- **Example**:"
   ]
  },
  {
   "cell_type": "code",
   "execution_count": 43,
   "id": "cf373505",
   "metadata": {},
   "outputs": [
    {
     "name": "stdout",
     "output_type": "stream",
     "text": [
      "10\n",
      "0\n"
     ]
    },
    {
     "ename": "ZeroDivisionError",
     "evalue": "division by zero",
     "output_type": "error",
     "traceback": [
      "\u001b[0;31m---------------------------------------------------------------------------\u001b[0m",
      "\u001b[0;31mZeroDivisionError\u001b[0m                         Traceback (most recent call last)",
      "Cell \u001b[0;32mIn[43], line 5\u001b[0m\n\u001b[1;32m      3\u001b[0m b \u001b[38;5;241m=\u001b[39m \u001b[38;5;241m0\u001b[39m\n\u001b[1;32m      4\u001b[0m \u001b[38;5;28mprint\u001b[39m(b)\n\u001b[0;32m----> 5\u001b[0m result \u001b[38;5;241m=\u001b[39m \u001b[43ma\u001b[49m\u001b[43m \u001b[49m\u001b[38;5;241;43m/\u001b[39;49m\u001b[43m \u001b[49m\u001b[43mb\u001b[49m\n",
      "\u001b[0;31mZeroDivisionError\u001b[0m: division by zero"
     ]
    }
   ],
   "source": [
    "a = 10\n",
    "print(a)\n",
    "b = 0  # Solution: change b to non-zero\n",
    "print(b)\n",
    "result = a / b"
   ]
  },
  {
   "cell_type": "markdown",
   "id": "3989d7b4",
   "metadata": {},
   "source": [
    "## Logical Error"
   ]
  },
  {
   "cell_type": "markdown",
   "id": "f1709f56",
   "metadata": {},
   "source": [
    "- **Definition**: An error caused by incorrect implementation of the intended logic or formula. The program runs, but the output is incorrect.\n",
    "- **Timing**: Happens **during execution** and may remain undiscovered.\n",
    "- **Example**:"
   ]
  },
  {
   "cell_type": "code",
   "execution_count": 44,
   "id": "f9a56e06",
   "metadata": {},
   "outputs": [
    {
     "name": "stdout",
     "output_type": "stream",
     "text": [
      "Area of the rectangle: 8\n"
     ]
    }
   ],
   "source": [
    "length = 5\n",
    "width = 3\n",
    "area = length + width  # Solution: length * width\n",
    "print(\"Area of the rectangle:\", area)"
   ]
  },
  {
   "cell_type": "markdown",
   "id": "32ea73b5",
   "metadata": {},
   "source": [
    "## Practice Problems"
   ]
  },
  {
   "cell_type": "markdown",
   "id": "1479aabd",
   "metadata": {},
   "source": [
    "### Activity 1: Identify the Error Type\n",
    "Classify the type of error in each snippet:"
   ]
  },
  {
   "cell_type": "code",
   "execution_count": 45,
   "id": "f4d3ebfb",
   "metadata": {},
   "outputs": [
    {
     "ename": "SyntaxError",
     "evalue": "unterminated string literal (detected at line 2) (1799813749.py, line 2)",
     "output_type": "error",
     "traceback": [
      "\u001b[0;36m  Cell \u001b[0;32mIn[45], line 2\u001b[0;36m\u001b[0m\n\u001b[0;31m    print(\"Hello)\u001b[0m\n\u001b[0m          ^\u001b[0m\n\u001b[0;31mSyntaxError\u001b[0m\u001b[0;31m:\u001b[0m unterminated string literal (detected at line 2)\n"
     ]
    }
   ],
   "source": [
    "# Example 1: What type of error is this?\n",
    "print(\"Hello)  \n",
    "      \n",
    "# Solution: syntax error (unclosed quote)"
   ]
  },
  {
   "cell_type": "code",
   "execution_count": 46,
   "id": "fe1600c0",
   "metadata": {},
   "outputs": [
    {
     "ename": "TypeError",
     "evalue": "can only concatenate str (not \"int\") to str",
     "output_type": "error",
     "traceback": [
      "\u001b[0;31m---------------------------------------------------------------------------\u001b[0m",
      "\u001b[0;31mTypeError\u001b[0m                                 Traceback (most recent call last)",
      "Cell \u001b[0;32mIn[46], line 3\u001b[0m\n\u001b[1;32m      1\u001b[0m \u001b[38;5;66;03m# Example 2: What type of error is this?\u001b[39;00m\n\u001b[1;32m      2\u001b[0m x \u001b[38;5;241m=\u001b[39m \u001b[38;5;124m\"\u001b[39m\u001b[38;5;124m10\u001b[39m\u001b[38;5;124m\"\u001b[39m\n\u001b[0;32m----> 3\u001b[0m y \u001b[38;5;241m=\u001b[39m \u001b[43mx\u001b[49m\u001b[43m \u001b[49m\u001b[38;5;241;43m+\u001b[39;49m\u001b[43m \u001b[49m\u001b[38;5;241;43m5\u001b[39;49m \n\u001b[1;32m      5\u001b[0m \u001b[38;5;66;03m# Solution: semantic error (type error, cannot add string and int)\u001b[39;00m\n",
      "\u001b[0;31mTypeError\u001b[0m: can only concatenate str (not \"int\") to str"
     ]
    }
   ],
   "source": [
    "# Example 2: What type of error is this?\n",
    "x = \"10\"\n",
    "y = x + 5 \n",
    "\n",
    "# Solution: semantic error (type error, cannot add string and int)"
   ]
  },
  {
   "cell_type": "code",
   "execution_count": 47,
   "id": "bad26ba9",
   "metadata": {},
   "outputs": [
    {
     "ename": "ZeroDivisionError",
     "evalue": "division by zero",
     "output_type": "error",
     "traceback": [
      "\u001b[0;31m---------------------------------------------------------------------------\u001b[0m",
      "\u001b[0;31mZeroDivisionError\u001b[0m                         Traceback (most recent call last)",
      "Cell \u001b[0;32mIn[47], line 4\u001b[0m\n\u001b[1;32m      2\u001b[0m a \u001b[38;5;241m=\u001b[39m \u001b[38;5;241m10\u001b[39m\n\u001b[1;32m      3\u001b[0m b \u001b[38;5;241m=\u001b[39m \u001b[38;5;241m0\u001b[39m\n\u001b[0;32m----> 4\u001b[0m result \u001b[38;5;241m=\u001b[39m \u001b[43ma\u001b[49m\u001b[43m \u001b[49m\u001b[38;5;241;43m/\u001b[39;49m\u001b[43m \u001b[49m\u001b[43mb\u001b[49m  \n\u001b[1;32m      6\u001b[0m \u001b[38;5;66;03m# Solution: runtime error (cannot divide by 0)\u001b[39;00m\n",
      "\u001b[0;31mZeroDivisionError\u001b[0m: division by zero"
     ]
    }
   ],
   "source": [
    "# Example 3: What type of error is this?\n",
    "a = 10\n",
    "b = 0\n",
    "result = a / b  \n",
    "\n",
    "# Solution: runtime error (cannot divide by zero)"
   ]
  },
  {
   "cell_type": "markdown",
   "id": "35d864f2",
   "metadata": {},
   "source": [
    "### Activity 2: Answer the following questions\n"
   ]
  },
  {
   "cell_type": "markdown",
   "id": "d7c99bed",
   "metadata": {},
   "source": [
    "#### Question 1: What is the outcome of running this code?"
   ]
  },
  {
   "cell_type": "code",
   "execution_count": 49,
   "id": "0142daa2",
   "metadata": {},
   "outputs": [
    {
     "ename": "TypeError",
     "evalue": "unsupported operand type(s) for +: 'int' and 'str'",
     "output_type": "error",
     "traceback": [
      "\u001b[0;31m---------------------------------------------------------------------------\u001b[0m",
      "\u001b[0;31mTypeError\u001b[0m                                 Traceback (most recent call last)",
      "Cell \u001b[0;32mIn[49], line 4\u001b[0m\n\u001b[1;32m      2\u001b[0m b \u001b[38;5;241m=\u001b[39m \u001b[38;5;124m\"\u001b[39m\u001b[38;5;124m20\u001b[39m\u001b[38;5;124m\"\u001b[39m\n\u001b[1;32m      3\u001b[0m c \u001b[38;5;241m=\u001b[39m \u001b[38;5;241m5\u001b[39m\n\u001b[0;32m----> 4\u001b[0m result \u001b[38;5;241m=\u001b[39m (\u001b[43ma\u001b[49m\u001b[43m \u001b[49m\u001b[38;5;241;43m+\u001b[39;49m\u001b[43m \u001b[49m\u001b[43mb\u001b[49m) \u001b[38;5;241m*\u001b[39m c\n\u001b[1;32m      5\u001b[0m \u001b[38;5;28mprint\u001b[39m(result)\n",
      "\u001b[0;31mTypeError\u001b[0m: unsupported operand type(s) for +: 'int' and 'str'"
     ]
    }
   ],
   "source": [
    "a = 10\n",
    "b = \"20\"\n",
    "c = 5\n",
    "result = (a + b) * c\n",
    "print(result)"
   ]
  },
  {
   "cell_type": "markdown",
   "id": "ad19fd51",
   "metadata": {},
   "source": [
    "Options:\n",
    "\n",
    "A. 150\n",
    "\n",
    "B. TypeError occurs\n",
    "\n",
    "C. A logical error occurs\n",
    "\n",
    "D. A runtime error occurs\n",
    "\n",
    "E. SyntaxError occurs"
   ]
  },
  {
   "cell_type": "markdown",
   "id": "3f978def",
   "metadata": {},
   "source": [
    "Answer: B, a semantic error, specifically, a type error. An integer cannot be added to a string."
   ]
  },
  {
   "cell_type": "markdown",
   "id": "01215b3d",
   "metadata": {},
   "source": [
    "#### Question 2: What is the outcome of running this code?"
   ]
  },
  {
   "cell_type": "code",
   "execution_count": 50,
   "id": "1b11dfb7",
   "metadata": {},
   "outputs": [
    {
     "name": "stdout",
     "output_type": "stream",
     "text": [
      "5\n"
     ]
    }
   ],
   "source": [
    "x = 15\n",
    "y = \"10\"\n",
    "z = x - int(y)\n",
    "print(z)"
   ]
  },
  {
   "cell_type": "markdown",
   "id": "2beed20d",
   "metadata": {},
   "source": [
    "Options:\n",
    "\n",
    "A. 5\n",
    "\n",
    "B. TypeError occurs\n",
    "\n",
    "C. A logical error occurs\n",
    "\n",
    "D. A runtime error occurs\n",
    "\n",
    "E. SyntaxError occurs"
   ]
  },
  {
   "cell_type": "markdown",
   "id": "c85af8fc",
   "metadata": {},
   "source": [
    "Answer: A, 5. The code runs with no errors."
   ]
  },
  {
   "cell_type": "markdown",
   "id": "b4df2779",
   "metadata": {},
   "source": [
    "#### Question 3: What is wrong with the following code?\n"
   ]
  },
  {
   "cell_type": "code",
   "execution_count": 51,
   "id": "946b4f66",
   "metadata": {},
   "outputs": [
    {
     "ename": "SyntaxError",
     "evalue": "invalid syntax. Perhaps you forgot a comma? (2487977557.py, line 4)",
     "output_type": "error",
     "traceback": [
      "\u001b[0;36m  Cell \u001b[0;32mIn[51], line 4\u001b[0;36m\u001b[0m\n\u001b[0;31m    print(\"The difference is:\" c)\u001b[0m\n\u001b[0m          ^\u001b[0m\n\u001b[0;31mSyntaxError\u001b[0m\u001b[0;31m:\u001b[0m invalid syntax. Perhaps you forgot a comma?\n"
     ]
    }
   ],
   "source": [
    "a = 100\n",
    "b = 50\n",
    "c = a - b\n",
    "print(\"The difference is:\" c)"
   ]
  },
  {
   "cell_type": "markdown",
   "id": "204d62f3",
   "metadata": {},
   "source": [
    "\n",
    "Options:\n",
    "\n",
    "A. SyntaxError\n",
    "\n",
    "B. NameError\n",
    "\n",
    "C. TypeError\n",
    "\n",
    "D. A runtime error occurs\n",
    "\n",
    "E. A logical error occurs"
   ]
  },
  {
   "cell_type": "markdown",
   "id": "c1f4c21a",
   "metadata": {},
   "source": [
    "Answer: A, a syntax error. There is a missing comma in the print statement."
   ]
  }
 ],
 "metadata": {
  "kernelspec": {
   "display_name": "Python 3 (ipykernel)",
   "language": "python",
   "name": "python3"
  },
  "language_info": {
   "codemirror_mode": {
    "name": "ipython",
    "version": 3
   },
   "file_extension": ".py",
   "mimetype": "text/x-python",
   "name": "python",
   "nbconvert_exporter": "python",
   "pygments_lexer": "ipython3",
   "version": "3.11.6"
  }
 },
 "nbformat": 4,
 "nbformat_minor": 5
}
