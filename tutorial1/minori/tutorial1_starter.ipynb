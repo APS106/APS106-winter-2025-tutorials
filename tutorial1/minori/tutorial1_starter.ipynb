{
 "cells": [
  {
   "cell_type": "markdown",
   "id": "0a5e6e48",
   "metadata": {},
   "source": [
    "<div style=\"text-align:center; border: 2px solid #2E86C1; border-radius: 10px; padding: 30px; background-color: #F4F6F7; font-family: Arial, sans-serif\">\n",
    "\n",
    "<h1 style=\"color:#154360; font-size: 2.8em; margin-bottom: 20px;\">APS106: </br>Fundamentals of </br>Computer Programming</h1>\n",
    "  <span style=\"color:#21618C;\"><b>While waiting for class to start:</b></br> Download and open the Jupyter Notebook (.ipynb) for Tutorial 1 (Variables, and Operators).</br> You may also use this tutorial’s JupyterHub link instead.</span>\n",
    "\n",
    "<h2 style=\"color:#1A5276; font-size: 2.0em; margin-bottom: 30px;\">Tutorial 1, Week 2</h2>\n",
    "\n",
    "<h3 style=\"color:blue; font-size: 1.8em; text-decoration: underline; margin-top: 30px; margin-bottom: 15px;\">Goals for This Tutorial</h3>\n",
    "<p style=\"text-align:center; font-family:'Verdana', sans-serif; font-size: 1.2em; line-height: 1.8;\">\n",
    "  <span style=\"color:#21618C;\">• Understand the role of data types and variables in Python</span><br>\n",
    "  <span style=\"color:#21618C;\">• Explore the use of operators in forming expressions</span><br>\n",
    "  <span style=\"color:#21618C;\">• Identify and debug common programming errors</span>\n",
    "</p>\n",
    "\n",
    "</div>"
   ]
  },
  {
   "cell_type": "markdown",
   "id": "9496656e",
   "metadata": {},
   "source": [
    "### Today's Topics\n",
    "1. [Values and Types](#section1)\n",
    "    - [Problem 1.1 Debugging Variable Errors](#section1a)\n",
    "    - [Problem 1.2 Type Exploration](#section1b)\n",
    "    - [Problem 1.3 Assign and Reassign Variables](#section1c)\n",
    "2. [Operators and Expressions](#section2)\n",
    "    - [Problem 2.1 Let's Calculate!](#section2a)\n",
    "    - [Problem 2.2 Operator Precedence](#section2b)\n",
    "    - [Problem 2.3 Augmented Assignment Operators](#section2c)\n",
    "3. [Error Types](#section3)\n",
    "    - [Problem 3.1 Identify the Error Types](#section3a)\n",
    "    - [(Optional) Problem 3.2 Let's fix broken code!](#section3b)"
   ]
  },
  {
   "cell_type": "markdown",
   "id": "cacaba60",
   "metadata": {},
   "source": [
    "<a id='section1'></a>\n",
    "# 1. Values and Types"
   ]
  },
  {
   "cell_type": "markdown",
   "id": "58e34e17",
   "metadata": {},
   "source": [
    "## What Are Values?"
   ]
  },
  {
   "cell_type": "markdown",
   "id": "d0310cb2",
   "metadata": {},
   "source": [
    "A **value** is any piece of data that a program manipulates, such as numbers, texts, or boolean (`True` or `False`).\n",
    "\n",
    "**Examples of Values:**\n",
    "- Numbers: `5`, `3.14`\n",
    "- Text: `\"Hello\"`\n",
    "- Boolean values: `True`, `False`"
   ]
  },
  {
   "cell_type": "markdown",
   "id": "67997c5a",
   "metadata": {},
   "source": [
    "## What Are Types?"
   ]
  },
  {
   "cell_type": "markdown",
   "id": "f170eb9a",
   "metadata": {},
   "source": [
    "**Definition**: A **type** defines the kind of value a variable holds and determines the operations that can be performed on it.\n",
    "\n",
    "**Common Python Types:**\n",
    "1. **Integer (int)**: Whole numbers, like `5` or `-10`.\n",
    "2. **Float (float)**: Numbers with decimals, like `1.56` or `-3.14159`.\n",
    "3. **String (str)**: Text enclosed in quotes, like `\"This is a string\"` or `\"12\"`."
   ]
  },
  {
   "cell_type": "markdown",
   "id": "d273ebf0",
   "metadata": {},
   "source": [
    "## Examples of Python Types and Values"
   ]
  },
  {
   "cell_type": "code",
   "execution_count": null,
   "id": "a1b77002",
   "metadata": {},
   "outputs": [],
   "source": [
    "# Integer (int)\n",
    "my_number = 5\n",
    "print(type(my_number))  # Output: <class 'int'>"
   ]
  },
  {
   "cell_type": "code",
   "execution_count": null,
   "id": "05256371",
   "metadata": {},
   "outputs": [],
   "source": [
    "# Float (float)\n",
    "my_float = 1.55666\n",
    "print(type(my_float))  # Output: <class 'float'>"
   ]
  },
  {
   "cell_type": "code",
   "execution_count": null,
   "id": "f8171fd2",
   "metadata": {},
   "outputs": [],
   "source": [
    "# String (str)\n",
    "my_string = \"This is a string!\"\n",
    "print(type(my_string))  # Output: <class 'str'>"
   ]
  },
  {
   "cell_type": "markdown",
   "id": "1104ef92",
   "metadata": {},
   "source": [
    "## Variables: Associating Values with Names"
   ]
  },
  {
   "cell_type": "markdown",
   "id": "980030a6",
   "metadata": {},
   "source": [
    "A **variable** is a \"container\" that holds a value. Variables are assigned values using the `=` operator.\n",
    "\n",
    "Example:\n",
    "```python\n",
    "school = \"University of Toronto\"\n",
    "year = 2023\n",
    "next_year = year + 1\n",
    "```"
   ]
  },
  {
   "cell_type": "markdown",
   "id": "cd7ed531",
   "metadata": {},
   "source": [
    "**Key Rules for Variable Names**:\n",
    "1. Start with a letter or underscore `_`.\n",
    "2. Contain only letters, digits, or underscores.\n",
    "3. Avoid Python keywords like `for`, `if`, or `while`."
   ]
  },
  {
   "cell_type": "markdown",
   "id": "e5feee93",
   "metadata": {},
   "source": [
    "## Using `print()` to Display Values\n",
    "\n",
    "#### You can use print() to display the value of a variable!"
   ]
  },
  {
   "cell_type": "code",
   "execution_count": null,
   "id": "b892134a",
   "metadata": {},
   "outputs": [],
   "source": [
    "school = \"University of Toronto\"\n",
    "\n",
    "#TODO: display the value of school using print()\n"
   ]
  },
  {
   "cell_type": "code",
   "execution_count": null,
   "id": "0f51ec08",
   "metadata": {},
   "outputs": [],
   "source": [
    "year = 2023\n",
    "\n",
    "#TODO: display the value of year using print()\n"
   ]
  },
  {
   "cell_type": "code",
   "execution_count": null,
   "id": "286faa2b",
   "metadata": {},
   "outputs": [],
   "source": [
    "next_year = year + 1\n",
    "\n",
    "#TODO: display the value of next_year using print()\n"
   ]
  },
  {
   "cell_type": "markdown",
   "id": "15256197",
   "metadata": {},
   "source": [
    "<a id='section1a'></a>\n",
    "## Problem 1.1 Debugging Variable Errors\n",
    "\n",
    "#### The variable definitions below contain errors. Can you identify the issues and fix them? "
   ]
  },
  {
   "cell_type": "markdown",
   "id": "f115ea21",
   "metadata": {},
   "source": [
    "**Example 1:**"
   ]
  },
  {
   "cell_type": "code",
   "execution_count": null,
   "id": "f534ffb8",
   "metadata": {},
   "outputs": [],
   "source": [
    "number! = 42 #TODO: fix the error!"
   ]
  },
  {
   "cell_type": "markdown",
   "id": "3ee9e60d",
   "metadata": {},
   "source": [
    "**Example 2:**"
   ]
  },
  {
   "cell_type": "code",
   "execution_count": null,
   "id": "1d1d9705",
   "metadata": {},
   "outputs": [],
   "source": [
    "2nd_number = 3.14 #TODO: fix the error!"
   ]
  },
  {
   "cell_type": "markdown",
   "id": "e4714448",
   "metadata": {},
   "source": [
    "**Example 3:**"
   ]
  },
  {
   "cell_type": "code",
   "execution_count": null,
   "id": "4c7cee2a",
   "metadata": {},
   "outputs": [],
   "source": [
    "\"message\" = \"Hi!\" #TODO: fix the error!"
   ]
  },
  {
   "cell_type": "markdown",
   "id": "d041ee76",
   "metadata": {},
   "source": [
    "**Example 4:**"
   ]
  },
  {
   "cell_type": "code",
   "execution_count": null,
   "id": "448eb687",
   "metadata": {},
   "outputs": [],
   "source": [
    "#TODO: fix the error! \n",
    "message = \"Hi'"
   ]
  },
  {
   "cell_type": "markdown",
   "id": "287e8108",
   "metadata": {},
   "source": [
    "<a id='section1b'></a>\n",
    "## Problem 1.2 Type Exploration\n",
    "\n",
    "#### You can use type() to check the type of an object or variable, i.e., what kind of data the variable holds"
   ]
  },
  {
   "cell_type": "markdown",
   "id": "7a63ff7f",
   "metadata": {},
   "source": [
    "**Example 1:**"
   ]
  },
  {
   "cell_type": "code",
   "execution_count": null,
   "id": "1f2ae5d6",
   "metadata": {},
   "outputs": [],
   "source": [
    "x = 5\n",
    "# Check the type of x using type()\n",
    "print(type(x))\n",
    "\n",
    "y = 2.0\n",
    "#TODO: check the type of y using type()\n"
   ]
  },
  {
   "cell_type": "markdown",
   "id": "abd54caf",
   "metadata": {},
   "source": [
    "**Example 2:**"
   ]
  },
  {
   "cell_type": "code",
   "execution_count": null,
   "id": "515c37c5",
   "metadata": {},
   "outputs": [],
   "source": [
    "x = 5\n",
    "y = 2.0\n",
    "\n",
    "#TODO: calculate x + y and print the result\n"
   ]
  },
  {
   "cell_type": "code",
   "execution_count": null,
   "id": "8066f155",
   "metadata": {},
   "outputs": [],
   "source": [
    "#TODO: check the type of x + y\n"
   ]
  },
  {
   "cell_type": "markdown",
   "id": "edd41772",
   "metadata": {},
   "source": [
    "**What happened?** Python automatically casts the integer (x) to a float to perform the addition. This process is known as type conversion or casting."
   ]
  },
  {
   "cell_type": "markdown",
   "id": "8cbaca79",
   "metadata": {},
   "source": [
    "**Example 3:**"
   ]
  },
  {
   "cell_type": "code",
   "execution_count": null,
   "id": "0a2c3dd4",
   "metadata": {},
   "outputs": [],
   "source": [
    "x = 7          # Integer\n",
    "y = 2          # Integer\n",
    "\n",
    "#TODO: calculate x divided by y and print the result\n"
   ]
  },
  {
   "cell_type": "code",
   "execution_count": null,
   "id": "df76c75d",
   "metadata": {},
   "outputs": [],
   "source": [
    "#TODO: check the type of x divided by y\n"
   ]
  },
  {
   "cell_type": "markdown",
   "id": "62114534",
   "metadata": {},
   "source": [
    "**What happened?** The result will be 3.5 (a float), even though both x and y are integers. Python always returns a float for division with /."
   ]
  },
  {
   "cell_type": "markdown",
   "id": "70500d20",
   "metadata": {},
   "source": [
    "<a id='section1c'></a>\n",
    "## Problem 1.3 Assign and Reassign Variables\n"
   ]
  },
  {
   "cell_type": "code",
   "execution_count": null,
   "id": "48918768",
   "metadata": {},
   "outputs": [],
   "source": [
    "x = 10 # Assign an integer to x\n",
    "print(x) # Output: 10\n",
    "\n",
    "#TODO: Reassign 3.14 to x and print x\n",
    "\n",
    "\n",
    "\n",
    "#TODO: Reassign a string \"Hello\" to x and print x\n",
    "\n",
    "\n"
   ]
  },
  {
   "cell_type": "markdown",
   "id": "b6b9b06b",
   "metadata": {},
   "source": [
    "**Whenever a value is assigned/reassigned to x, the type of x is updated accordingly!**"
   ]
  },
  {
   "cell_type": "markdown",
   "id": "d5db35b2",
   "metadata": {},
   "source": [
    "<a id='section2'></a>\n",
    "# 2. Operators and Expressions"
   ]
  },
  {
   "cell_type": "markdown",
   "id": "3900f7ea",
   "metadata": {},
   "source": [
    "## What Are Operators?\n",
    "- **Operators** are symbols used to perform specific operations on values and variables.\n",
    "- They are essential for calculations, comparisons, and combining conditions.\n",
    "\n",
    "### Common Operators\n",
    "| **Type**         | **Symbol** | **Example**         | **Description**                     | **Note** |\n",
    "|-------------------|------------|---------------------|-------------------------------------|------------|\n",
    "| Arithmetic        | `+`, `-`, `*`, `/`, `//`, `%`, `**` | `5 + 3` -> `8` | Perform mathematical calculations | - |\n",
    "| Relational        | `<`, `>`, `<=`, `>=`, `==`, `!=`   | `5 > 3` -> `True` | Compare values and return `True` or `False` | Don’t worry about this for now; we’ll cover it in more detail later. |\n",
    "| Logical           | `and`, `or`, `not`                | `True and False` -> `False` | Combine multiple conditions | Don’t worry about this for now; we’ll cover it in more detail later. |"
   ]
  },
  {
   "cell_type": "markdown",
   "id": "a0de1c20",
   "metadata": {},
   "source": [
    "## Arithmetic Operators\n",
    "Arithmetic operators are used for mathematical operations.\n",
    "\n",
    "| **Operator** | **Name**           | **Example**     | **Result** | **English Description** | **Explanation** |                                                      \n",
    "|--------------|--------------------|-----------------|------------|-------------|------------------------------------------------------------------------|\n",
    "| `+`          | Addition           | `5 + 3`         | `8`        | 5 plus 3 | Adds two numbers together.                                             |\n",
    "| `-`          | Subtraction        | `10 - 4`        | `6`        | 10 minus 4 | Subtracts the second number from the first.                            |\n",
    "| `*`          | Multiplication     | `6 * 3`         | `18`       | 6 multiplied by 3 | Multiplies two numbers.                                                |\n",
    "| `/`          | Division           | `8 / 2`         | `4.0`      | 8 divided by 2 | Divides the first number by the second and returns a float.            |\n",
    "| `//`         | Floor Division     | `9 // 2`        | `4`        | 9 divided by 2 | Divides the first number by the second and returns the integer part.   |\n",
    "| `%`          | Modulo (Remainder) | `10 % 3`        | `1`        | 10 mod 3  | Returns the remainder of the division of the first number by the second.|\n",
    "| `**`         | Exponentiation     | `2 ** 3`        | `8`        | 2 to the power of 3 | Raises the first number to the power of the second.                    |"
   ]
  },
  {
   "cell_type": "markdown",
   "id": "bd1fa870",
   "metadata": {},
   "source": [
    "<a id='section2a'></a>\n",
    "## Problem 2.1 Let's Calculate!\n",
    "\n",
    "#### Let's perform the calculations defined below and print the result using Python!"
   ]
  },
  {
   "cell_type": "code",
   "execution_count": null,
   "id": "42c5e7ab",
   "metadata": {},
   "outputs": [],
   "source": [
    "x = 10\n",
    "y = 3"
   ]
  },
  {
   "cell_type": "markdown",
   "id": "85e27627",
   "metadata": {},
   "source": [
    "#### Equation 1: $x + y$"
   ]
  },
  {
   "cell_type": "code",
   "execution_count": null,
   "id": "e5b67aa8",
   "metadata": {},
   "outputs": [],
   "source": [
    "#TODO: Calculate equation 1\n"
   ]
  },
  {
   "cell_type": "markdown",
   "id": "9293469a",
   "metadata": {},
   "source": [
    "#### Equation 2: $x \\times y$"
   ]
  },
  {
   "cell_type": "code",
   "execution_count": null,
   "id": "2cdf1876",
   "metadata": {},
   "outputs": [],
   "source": [
    "#TODO: Calculate equation 2\n"
   ]
  },
  {
   "cell_type": "markdown",
   "id": "eeea1915",
   "metadata": {},
   "source": [
    "#### Equation 3: $x \\div y$"
   ]
  },
  {
   "cell_type": "code",
   "execution_count": null,
   "id": "8469dd1f",
   "metadata": {},
   "outputs": [],
   "source": [
    "#TODO: Calculate equation 3\n"
   ]
  },
  {
   "cell_type": "markdown",
   "id": "598a957c",
   "metadata": {},
   "source": [
    "#### Equation 4: $\\left\\lfloor \\frac{x}{y} \\right\\rfloor$ (floor division: divides two numbers and rounds the result down to the nearest integer)"
   ]
  },
  {
   "cell_type": "code",
   "execution_count": null,
   "id": "d20057f2",
   "metadata": {},
   "outputs": [],
   "source": [
    "#TODO: Calculate equation 4\n"
   ]
  },
  {
   "cell_type": "markdown",
   "id": "49afa701",
   "metadata": {},
   "source": [
    "#### Equation 5: x mod y (modulo: the remainder when x is divided by y)"
   ]
  },
  {
   "cell_type": "code",
   "execution_count": null,
   "id": "6f7b5331",
   "metadata": {},
   "outputs": [],
   "source": [
    "#TODO: Calculate equation 5\n"
   ]
  },
  {
   "cell_type": "markdown",
   "id": "92e1f3a7",
   "metadata": {},
   "source": [
    "<a id='section2b'></a>\n",
    "## Problem 2.2 Operator Precedence\n",
    "\n",
    "Operator precedence determines the order in which operations are performed.\n",
    "\n",
    "**Order of Operations (PEMDAS):**\n",
    "1. Parentheses `()`\n",
    "2. Exponentiation `**`\n",
    "3. Multiplication, Division, Floor Division, Modulo (`*`, `/`, `//`, `%`)\n",
    "4. Addition, Subtraction (`+`, `-`)\n",
    "\n",
    "\n",
    "\n",
    "**The operators in an un-parenthesized expression are evaluated in order of precedence.**\n",
    "\n",
    "| **Operator**         | **Precedence**  |\n",
    "|----------------------|-----------------|\n",
    "| `**`                 | highest         |\n",
    "| `-` (negation)       |                 |\n",
    "| `*`, `/`, `//`, `%`  |                 |\n",
    "| `+`, `-`             | lowest          |\n",
    "\n",
    "**Note: Precedence rules for other operators, e.g., relational operators, are language-dependent!**\n",
    "\n",
    "\n"
   ]
  },
  {
   "cell_type": "markdown",
   "id": "37de8419",
   "metadata": {},
   "source": [
    "**Example 1: What is the value of result?**\n",
    "\n",
    "`result = 10 + 5 * 2 ** 2 - 1`\n",
    "\n",
    "**Options:**\n",
    "\n",
    "    A: 29\n",
    "\n",
    "    B: 899\n",
    "\n",
    "    C: 109\n",
    "    \n",
    "    D: 20\n",
    "\n",
    "    E: Causes an error"
   ]
  },
  {
   "cell_type": "markdown",
   "id": "2853c635",
   "metadata": {},
   "source": [
    "**Example 2: Calculate the Area of a Rectangle**\n",
    "\n",
    "**Write a program to calculate the area and the perimeter of a rectangle using arithmetic operators.**\n",
    "\n",
    "The length of the rectangle is **8**, and the width is **3**."
   ]
  },
  {
   "cell_type": "code",
   "execution_count": null,
   "id": "7dab020b",
   "metadata": {},
   "outputs": [],
   "source": [
    "#TODO: Define length and width\n",
    "\n",
    "\n",
    "\n",
    "\n",
    "#TODO: Calculate the area of the rectangle\n",
    "\n",
    "\n",
    "\n",
    "\n",
    "#TODO: Calculate the perimter of the rectangle\n",
    "\n",
    "\n"
   ]
  },
  {
   "cell_type": "markdown",
   "id": "bb96229b",
   "metadata": {},
   "source": [
    "**(Optional) Example 3: What is the value of result?**\n",
    "<pre><code>\n",
    "a = 5\n",
    "b = 10\n",
    "c = 3\n",
    "result = (a + b) ** 2 // c + b % a - c\n",
    "</code></pre>\n"
   ]
  },
  {
   "cell_type": "markdown",
   "id": "e051cab4",
   "metadata": {},
   "source": [
    "**(Optional) Example 4: Are the results of the following two equations (eq_1 and eq_2) equal?**\n",
    "\n",
    "<pre><code>\n",
    "a = 10\n",
    "b = 3\n",
    "\n",
    "eq_1 = (a + b) ** 2\n",
    "eq_2 = a ** 2 + 2 * a * b + b ** 2\n",
    "</code></pre>"
   ]
  },
  {
   "cell_type": "markdown",
   "id": "ddebba11",
   "metadata": {},
   "source": [
    "**(Almost) every rule in math holds true in Python as well!**"
   ]
  },
  {
   "cell_type": "markdown",
   "id": "fa02f96b",
   "metadata": {},
   "source": [
    "<a id='section2c'></a>\n",
    "## Problem 2.3 Augmented Assignment Operators\n",
    "\n",
    "Augmented assignment operators are **shorthand notations** that combine an arithmetic operation with assignment. They simplify expressions by avoiding repetition.\n",
    "\n",
    "\n",
    "| **Operator** | **Expression**           | **Identical Expression**        | **Explanation**                              |\n",
    "|--------------|--------------------------|----------------------------------|----------------------------------------------|\n",
    "| `+=`         | `x = 7;`<br>`x += 2`     | `x = 7;`<br>`x = x + 2`         | Adds `2` to the value of `x` and reassigns it. |\n",
    "| `-=`         | `x = 7;`<br>`x -= 2`     | `x = 7;`<br>`x = x - 2`         | Subtracts `2` from the value of `x` and reassigns it. |\n",
    "| `*=`         | `x = 7;`<br>`x *= 2`     | `x = 7;`<br>`x = x * 2`         | Multiplies `x` by `2` and reassigns it.      |\n",
    "| `/=`         | `x = 7;`<br>`x /= 2`     | `x = 7;`<br>`x = x / 2`         | Divides `x` by `2` and reassigns it.         |\n",
    "| `//=`        | `x = 7;`<br>`x //= 2`    | `x = 7;`<br>`x = x // 2`        | Performs floor division on `x` by `2` and reassigns it. |\n",
    "| `%=`         | `x = 7;`<br>`x %= 2`     | `x = 7;`<br>`x = x % 2`         | Finds the remainder of `x` divided by `2` and reassigns it. |\n",
    "| `**=`        | `x = 7;`<br>`x **= 2`    | `x = 7;`<br>`x = x ** 2`        | Raises `x` to the power of `2` and reassigns it. |"
   ]
  },
  {
   "cell_type": "markdown",
   "id": "8eabddbc",
   "metadata": {},
   "source": [
    "**Example 1: What is the value of x after executing the following lines of code?**\n",
    "\n",
    "<pre><code>\n",
    "x = 7\n",
    "x += 3\n",
    "x *= 2\n",
    "x -= 5\n",
    "x //= 4\n",
    "x **= 3\n",
    "<pre><code>"
   ]
  },
  {
   "cell_type": "markdown",
   "id": "64389769",
   "metadata": {},
   "source": [
    "**(Optional) Example 2: Rewrite Without Augmented Operators**"
   ]
  },
  {
   "cell_type": "code",
   "execution_count": null,
   "id": "ad7a4667",
   "metadata": {},
   "outputs": [],
   "source": [
    "a = 10 \n",
    "b = 5\n",
    "c = 2\n",
    "\n",
    "# Example: Rewrite this\n",
    "# a += b * c\n",
    "\n",
    "# (Adds the product of b and c to a)\n",
    "a = a + (b * c)\n",
    "print(a)"
   ]
  },
  {
   "cell_type": "code",
   "execution_count": null,
   "id": "b9dfde8f",
   "metadata": {},
   "outputs": [],
   "source": [
    "a = 10 \n",
    "b = 5\n",
    "c = 2\n",
    "\n",
    "#TODO: Rewrite this\n",
    "# b -= c + a\n",
    "\n"
   ]
  },
  {
   "cell_type": "code",
   "execution_count": null,
   "id": "db7a1f05",
   "metadata": {},
   "outputs": [],
   "source": [
    "a = 10 \n",
    "b = 5\n",
    "c = 2\n",
    "\n",
    "#TODO: Rewrite this \n",
    "# c *= a // b\n",
    "\n"
   ]
  },
  {
   "cell_type": "code",
   "execution_count": null,
   "id": "991f8413",
   "metadata": {},
   "outputs": [],
   "source": [
    "a = 10 \n",
    "b = 5\n",
    "c = 2\n",
    "\n",
    "#TODO: Rewrite this \n",
    "# a /= b - c\n",
    "\n"
   ]
  },
  {
   "cell_type": "code",
   "execution_count": null,
   "id": "74b54800",
   "metadata": {},
   "outputs": [],
   "source": [
    "a = 10 \n",
    "b = 5\n",
    "c = 2\n",
    "\n",
    "#TODO: Rewrite this \n",
    "# b %= a + c\n",
    "\n"
   ]
  },
  {
   "cell_type": "code",
   "execution_count": null,
   "id": "4e14db9e",
   "metadata": {},
   "outputs": [],
   "source": [
    "a = 10 \n",
    "b = 5\n",
    "c = 2\n",
    "\n",
    "#TODO: Rewrite this \n",
    "# c **= 2 + a\n",
    "\n"
   ]
  },
  {
   "cell_type": "markdown",
   "id": "249f12be",
   "metadata": {},
   "source": [
    "**Example 3: Debugging Augmented Assignments**\n",
    "\n",
    "Let's fix the errors in the augmented operations below!"
   ]
  },
  {
   "cell_type": "code",
   "execution_count": null,
   "id": "a84611fd",
   "metadata": {},
   "outputs": [],
   "source": [
    "x = 10\n",
    "\n",
    "# (1)TODO: Fix the error!\n",
    "x + 5\n",
    "\n",
    "\n",
    "print(\"x is\", x) # Should be 15"
   ]
  },
  {
   "cell_type": "code",
   "execution_count": null,
   "id": "4ba3e31a",
   "metadata": {},
   "outputs": [],
   "source": [
    "x = 10\n",
    "\n",
    "# (2)TODO: Fix the error!\n",
    "x -= \"2\"  \n",
    "\n",
    "\n",
    "print(\"x is\", x) # Should be 8"
   ]
  },
  {
   "cell_type": "code",
   "execution_count": null,
   "id": "1b18b662",
   "metadata": {},
   "outputs": [],
   "source": [
    "x = 10\n",
    "\n",
    "# (3)TODO: What is wrong with this code?\n",
    "x /= 0\n",
    "\n"
   ]
  },
  {
   "cell_type": "markdown",
   "id": "3ca96638",
   "metadata": {},
   "source": [
    "**Example 4:** \n",
    "\n",
    "Perform the following steps\n",
    "\n",
    "\n",
    "Step 1: Initialize variables: x = 20 and y = 7\n",
    "\n",
    "Step 2: Add 10 to x\n",
    "\n",
    "Step 3: Multiply y by 3\n",
    "\n",
    "Step 4: Calculate remainder of x divided by y and store in x\n",
    "\n",
    "Step 5: Raise y to the power of 2\n",
    "\n",
    "Step 6: Subtract x from y \n",
    "\n",
    "Step 7: Calculate and print the result of (x + y) * (x - y)"
   ]
  },
  {
   "cell_type": "code",
   "execution_count": null,
   "id": "61fb4569",
   "metadata": {},
   "outputs": [],
   "source": [
    "#Answer\n",
    "result = 0 # (Don't need to change this line!)\n",
    "\n",
    "# Step 1: Initialize variables\n",
    "\n",
    "\n",
    "\n",
    "# Step 2: Add 10 to x\n",
    "\n",
    "\n",
    "# Step 3: Multiply y by 3\n",
    "\n",
    "\n",
    "# Step 4: Calculate remainder of x divided by y and store in x\n",
    "\n",
    "\n",
    "# Step 5: Raise y to the power of 2\n",
    "\n",
    "\n",
    "# Step 6: Subtract x from y (regular subtraction)\n",
    "\n",
    "\n",
    "# Step 7: Calculate and print the result of (x + y) * (x - y)\n",
    "\n",
    "\n",
    "print(\"Result:\", result)"
   ]
  },
  {
   "cell_type": "markdown",
   "id": "1be02b3e",
   "metadata": {},
   "source": [
    "<a id='section3'></a>\n",
    "# 3. Error Types"
   ]
  },
  {
   "cell_type": "markdown",
   "id": "afb2dd93",
   "metadata": {},
   "source": [
    "Errors in Python are generally classified into four main types:\n",
    "1. **Syntax Error**\n",
    "2. **Semantic Error**\n",
    "3. **Runtime Error**\n",
    "4. **Logical Error**\n",
    "\n",
    "\n",
    "## Table of Error Types\n",
    "\n",
    "\n",
    "| **Name**          | **Definition**                                                                                              | **Timing**                                  | **Python Examples**                                                                                                                         | **Clarification**                                                                                          |\n",
    "|--------------------|------------------------------------------------------------------------------------------------------------|--------------------------------------------|---------------------------------------------------------------------------------------------------------------------------------------------|------------------------------------------------------------------------------------------------------------|\n",
    "| **Syntax Error**   | An error due to the code not being syntactically valid (i.e., not obeying the grammar of the programming language). | Usually discovered during **compilation**. | <span style=\"color:red;\">`>>> (3 + 2 * 4`<br>`SyntaxError: unmatched ')'`</span><br> Explanation: Open parenthesis without a close.        | Syntax errors are often caused by typos or missing syntax elements (e.g., quotes, parentheses, colons).    |\n",
    "| **Semantic Error** | An error due to the code not following the semantic rules of a programming language (e.g., using incompatible types). | Usually discovered during **compilation**. | <span style=\"color:red;\">`>>> \"Hello\" - 4`<br>`TypeError: unsupported operand type(s) for -: 'str' and 'int'`</span><br>`>>> a > 5`<br>`NameError: name 'a' is not defined`</span> | Semantic errors involve logic that the programming language cannot interpret correctly (e.g., subtracting a string from a number). |\n",
    "| **Runtime Error**  | An error that occurs during the execution (runtime) of a program. It halts the program.                    | Happens **when the code is being run**.              | <span style=\"color:red;\">`>>> a = 5`<br>`>>> b = 4 / (a - 5)`<br>`ZeroDivisionError: division by zero`</span>                               | Runtime errors typically happen when the program encounters unexpected conditions (e.g., invalid input or division by zero). |\n",
    "| **Logical Error**  | An error caused by incorrect implementation of the intended logic or formula.                              | Happens **when the code is being run**. May remain undiscovered. | <span style=\"color:blue;\">`>>> duration_in_seconds = duration_in_hours * 100`<br>`The formula for converting hours into seconds is incorrect`</span> | Logical errors produce incorrect results even though the program runs without crashing. They are often harder to detect. |"
   ]
  },
  {
   "cell_type": "markdown",
   "id": "d925d5cd",
   "metadata": {},
   "source": [
    "## Syntax Error"
   ]
  },
  {
   "cell_type": "markdown",
   "id": "b5d5ef3f",
   "metadata": {},
   "source": [
    "- **Definition**: An error caused by code that does not follow the grammar of the programming language.\n",
    "- **Timing**: Discovered during **compilation** (before the code runs).\n",
    "\n",
    "#### Example:"
   ]
  },
  {
   "cell_type": "code",
   "execution_count": null,
   "id": "ffba1948",
   "metadata": {},
   "outputs": [],
   "source": [
    "# What is wrong with this code? What kind of error is this?\n",
    "result = (2 + 3 * 4"
   ]
  },
  {
   "cell_type": "markdown",
   "id": "c47e6d57",
   "metadata": {},
   "source": [
    "## Semantic Error"
   ]
  },
  {
   "cell_type": "markdown",
   "id": "55f5494a",
   "metadata": {},
   "source": [
    "- **Definition**: An error caused by code that violates the semantic rules of the programming language.\n",
    "- **Timing**: Discovered during **compilation**.\n",
    "\n",
    "#### Example 1:"
   ]
  },
  {
   "cell_type": "code",
   "execution_count": null,
   "id": "db95060e",
   "metadata": {},
   "outputs": [],
   "source": [
    "# What is wrong with this code?\n",
    "x = \"Hello\"\n",
    "result = x - 5"
   ]
  },
  {
   "cell_type": "markdown",
   "id": "fc08a1f7",
   "metadata": {},
   "source": [
    "#### Example 2:"
   ]
  },
  {
   "cell_type": "code",
   "execution_count": null,
   "id": "cd1b4012",
   "metadata": {},
   "outputs": [],
   "source": [
    "# What is wrong with this code?\n",
    "result = m + 5"
   ]
  },
  {
   "cell_type": "markdown",
   "id": "058f6aa1",
   "metadata": {},
   "source": [
    "A difference between syntax errors and semantic errors is that syntax errors are **always mistakes**, regardless of the context, while code with semantic errors may work in some cases **depending on the context**.\n",
    "\n",
    "e.g.) \n",
    "\n",
    "      result = (2 + 3 * 4       <- Always wrong!\n",
    "      \n",
    "      result = m + 5            <- Could have been correct, if m was defined"
   ]
  },
  {
   "cell_type": "markdown",
   "id": "2ac51fc5",
   "metadata": {},
   "source": [
    "## Runtime Error"
   ]
  },
  {
   "cell_type": "markdown",
   "id": "94512865",
   "metadata": {},
   "source": [
    "- **Definition**: An error that occurs while the program is running. It halts the execution of the program.\n",
    "- **Timing**: Happens **during execution**.\n",
    "\n",
    "#### Example:"
   ]
  },
  {
   "cell_type": "code",
   "execution_count": null,
   "id": "cf373505",
   "metadata": {},
   "outputs": [],
   "source": [
    "# What is wrong with this code?\n",
    "a = 10\n",
    "b = 0\n",
    "result = a / b"
   ]
  },
  {
   "cell_type": "markdown",
   "id": "3989d7b4",
   "metadata": {},
   "source": [
    "## Logical Error"
   ]
  },
  {
   "cell_type": "markdown",
   "id": "f1709f56",
   "metadata": {},
   "source": [
    "- **Definition**: An error caused by incorrect implementation of the intended logic or formula. The program runs, but the output is incorrect.\n",
    "- **Timing**: Happens **during execution** and may remain undiscovered.\n",
    "\n",
    "#### Example:"
   ]
  },
  {
   "cell_type": "code",
   "execution_count": null,
   "id": "f9a56e06",
   "metadata": {},
   "outputs": [],
   "source": [
    "# What is wrong with this code?\n",
    "length = 5\n",
    "width = 3\n",
    "area = length + width\n",
    "print(\"Area of the rectangle:\", area)"
   ]
  },
  {
   "cell_type": "markdown",
   "id": "32ea73b5",
   "metadata": {},
   "source": [
    "<a id='section3a'></a>\n",
    "## Problem 3.1 Identify the Error Types"
   ]
  },
  {
   "cell_type": "markdown",
   "id": "1479aabd",
   "metadata": {},
   "source": [
    "Classify the type of error in each code chunk:"
   ]
  },
  {
   "cell_type": "markdown",
   "id": "31ef0260",
   "metadata": {},
   "source": [
    "#### Example 1:"
   ]
  },
  {
   "cell_type": "code",
   "execution_count": null,
   "id": "f4d3ebfb",
   "metadata": {},
   "outputs": [],
   "source": [
    "# TODO: What type of error is this? Fix the issue with the code!\n",
    "print(\"Hello)"
   ]
  },
  {
   "cell_type": "markdown",
   "id": "9b8723b7",
   "metadata": {},
   "source": [
    "#### Example 2:"
   ]
  },
  {
   "cell_type": "code",
   "execution_count": null,
   "id": "fe1600c0",
   "metadata": {},
   "outputs": [],
   "source": [
    "# TODO: What type of error is this? Fix the issue with the code!\n",
    "x = \"10\"\n",
    "y = x + 5 "
   ]
  },
  {
   "cell_type": "markdown",
   "id": "d779300d",
   "metadata": {},
   "source": [
    "#### Example 3:"
   ]
  },
  {
   "cell_type": "code",
   "execution_count": null,
   "id": "bad26ba9",
   "metadata": {},
   "outputs": [],
   "source": [
    "# TODO: What type of error is this?\n",
    "a = 10\n",
    "b = 0\n",
    "result = a / b  "
   ]
  },
  {
   "cell_type": "markdown",
   "id": "35d864f2",
   "metadata": {},
   "source": [
    "<a id='section3b'></a>\n",
    "## (Optional) Problem 3.2 Let's fix broken code!"
   ]
  },
  {
   "cell_type": "markdown",
   "id": "d7c99bed",
   "metadata": {},
   "source": [
    "#### Question 1: "
   ]
  },
  {
   "cell_type": "code",
   "execution_count": null,
   "id": "0142daa2",
   "metadata": {},
   "outputs": [],
   "source": [
    "#TODO: Run the code below, check the error message, and fix the code!\n",
    "\n",
    "a = 10\n",
    "b = \"20\"\n",
    "c = 5\n",
    "result = (a + b) * c\n",
    "print(result)"
   ]
  },
  {
   "cell_type": "markdown",
   "id": "01215b3d",
   "metadata": {},
   "source": [
    "#### Question 2:"
   ]
  },
  {
   "cell_type": "code",
   "execution_count": null,
   "id": "1b11dfb7",
   "metadata": {},
   "outputs": [],
   "source": [
    "#TODO: Run the code below, check the error message, and fix the code!\n",
    "\n",
    "x = 15\n",
    "y = \"10.0\"\n",
    "z = x - int(y)\n",
    "print(z) # Should be 5"
   ]
  },
  {
   "cell_type": "markdown",
   "id": "b4df2779",
   "metadata": {},
   "source": [
    "#### Question 3:\n"
   ]
  },
  {
   "cell_type": "code",
   "execution_count": null,
   "id": "946b4f66",
   "metadata": {},
   "outputs": [],
   "source": [
    "#TODO: Run the code below, check the error message, and fix the code!\n",
    "\n",
    "a = 100\n",
    "b = 50\n",
    "c = a - b\n",
    "print(\"The difference is:\" c)"
   ]
  }
 ],
 "metadata": {
  "kernelspec": {
   "display_name": "Python 3 (ipykernel)",
   "language": "python",
   "name": "python3"
  },
  "language_info": {
   "codemirror_mode": {
    "name": "ipython",
    "version": 3
   },
   "file_extension": ".py",
   "mimetype": "text/x-python",
   "name": "python",
   "nbconvert_exporter": "python",
   "pygments_lexer": "ipython3",
   "version": "3.8.10"
  }
 },
 "nbformat": 4,
 "nbformat_minor": 5
}
