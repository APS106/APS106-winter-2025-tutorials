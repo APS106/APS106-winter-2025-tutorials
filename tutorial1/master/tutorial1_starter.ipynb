{
 "cells": [
  {
   "cell_type": "markdown",
   "id": "0a5e6e48",
   "metadata": {},
   "source": [
    "<div style=\"text-align:center; border: 2px solid #2E86C1; border-radius: 10px; padding: 30px; background-color: #F4F6F7;\">\n",
    "\n",
    "<h1 style=\"color:#154360; font-family:'Georgia', serif; font-size: 2.8em; margin-bottom: 20px;\">APS106: Fundamentals of Computer Programming</h1>\n",
    "\n",
    "  <span style=\"color:#21618C;\">Please go to the Lecture Homepage on Quercus, navigate to Week 1, and download the slides for Lecture 1.3 to use as a reference for this tutorial.</span>\n",
    "\n",
    "\n",
    "\n",
    "<h2 style=\"color:#1A5276; font-family:'Palatino Linotype', 'Book Antiqua', serif; font-size: 2.0em; margin-bottom: 30px;\">Tutorial 1, Week 2</h2>\n",
    "\n",
    "<h3 style=\"color:#6C3483; font-family:'Cambria', serif; font-size: 1.8em; text-decoration: underline; margin-bottom: 15px;\">Topics Covered</h3>\n",
    "<p style=\"text-align:center; font-family:'Trebuchet MS', sans-serif; font-size: 1.3em; line-height: 1.8;\">\n",
    "  <span style=\"color:#D35400; font-weight:bold;\">Programming Concepts</span><br>\n",
    "  <span style=\"color:#283747;\">• Types</span><br>\n",
    "  <span style=\"color:#283747;\">• Variables</span><br>\n",
    "  <span style=\"color:#283747;\">• Operators</span><br>\n",
    "  <span style=\"color:#283747;\">• Expressions</span><br>\n",
    "  <span style=\"color:#283747;\">• Errors</span>\n",
    "</p>\n",
    "\n",
    "<h3 style=\"color:#6C3483; font-family:'Cambria', serif; font-size: 1.8em; text-decoration: underline; margin-top: 30px; margin-bottom: 15px;\">Goals for This Tutorial</h3>\n",
    "<p style=\"text-align:center; font-family:'Verdana', sans-serif; font-size: 1.2em; line-height: 1.8;\">\n",
    "  <span style=\"color:#21618C;\">• Understand the role of data types and variables in Python.</span><br>\n",
    "  <span style=\"color:#21618C;\">• Explore the use of operators in forming expressions.</span><br>\n",
    "  <span style=\"color:#21618C;\">• Identify and debug common programming errors.</span>\n",
    "</p>\n",
    "\n",
    "</div>"
   ]
  },
  {
   "cell_type": "markdown",
   "id": "cacaba60",
   "metadata": {},
   "source": [
    "# Values and Types in Python"
   ]
  },
  {
   "cell_type": "markdown",
   "id": "58e34e17",
   "metadata": {},
   "source": [
    "## What Are Values?"
   ]
  },
  {
   "cell_type": "markdown",
   "id": "d0310cb2",
   "metadata": {},
   "source": [
    "A value is any piece of data that a program manipulates, such as numbers, text, or a logical result (`True` or `False`).\n",
    "\n",
    "**Examples of Values:**\n",
    "- Numbers: `5`, `3.14`\n",
    "- Text: `\"Hello\"`\n",
    "- Boolean values: `True`, `False`"
   ]
  },
  {
   "cell_type": "markdown",
   "id": "67997c5a",
   "metadata": {},
   "source": [
    "## What Are Types?"
   ]
  },
  {
   "cell_type": "markdown",
   "id": "f170eb9a",
   "metadata": {},
   "source": [
    "**Definition**: Types describe the kind of value and determine what operations can be performed on that value.\n",
    "\n",
    "**Common Python Types:**\n",
    "1. **Integer (int)**: Whole numbers, like `5` or `-10`.\n",
    "2. **Float (float)**: Numbers with decimals, like `1.56` or `-3.14159`.\n",
    "3. **String (str)**: Text enclosed in quotes, like `\"This is a string\"` or `\"12\"`."
   ]
  },
  {
   "cell_type": "markdown",
   "id": "d273ebf0",
   "metadata": {},
   "source": [
    "## Examples of Python Types and Values"
   ]
  },
  {
   "cell_type": "code",
   "execution_count": null,
   "id": "a1b77002",
   "metadata": {},
   "outputs": [],
   "source": [
    "# Integer (int)\n",
    "my_number = 5\n",
    "print(type(my_number))  "
   ]
  },
  {
   "cell_type": "code",
   "execution_count": null,
   "id": "05256371",
   "metadata": {},
   "outputs": [],
   "source": [
    "# Float (float)\n",
    "my_float = 1.55666\n",
    "print(type(my_float)) "
   ]
  },
  {
   "cell_type": "code",
   "execution_count": null,
   "id": "f8171fd2",
   "metadata": {},
   "outputs": [],
   "source": [
    "# String (str)\n",
    "my_string = \"This is a string!\"\n",
    "print(type(my_string)) "
   ]
  },
  {
   "cell_type": "markdown",
   "id": "1104ef92",
   "metadata": {},
   "source": [
    "## Variables: Associating Values with Names"
   ]
  },
  {
   "cell_type": "markdown",
   "id": "980030a6",
   "metadata": {},
   "source": [
    "A **variable** is a \"container\" that holds a value. Variables are assigned values using the `=` operator.\n",
    "\n",
    "Example:\n",
    "```python\n",
    "school = \"University of Toronto\"\n",
    "year = 2023\n",
    "next_year = year + 1\n",
    "```"
   ]
  },
  {
   "cell_type": "markdown",
   "id": "cd7ed531",
   "metadata": {},
   "source": [
    "**Key Rules for Variable Names**:\n",
    "1. Start with a letter or underscore `_`.\n",
    "2. Contain only letters, digits, or underscores.\n",
    "3. Avoid Python keywords like `for`, `if`, or `while`."
   ]
  },
  {
   "cell_type": "markdown",
   "id": "e5feee93",
   "metadata": {},
   "source": [
    "## Using `print()` to Display Values"
   ]
  },
  {
   "cell_type": "code",
   "execution_count": null,
   "id": "b892134a",
   "metadata": {},
   "outputs": [],
   "source": [
    "school = \"University of Toronto\"\n",
    "print(school)   "
   ]
  },
  {
   "cell_type": "code",
   "execution_count": null,
   "id": "0f51ec08",
   "metadata": {},
   "outputs": [],
   "source": [
    "year = 2023\n",
    "print(year)      "
   ]
  },
  {
   "cell_type": "code",
   "execution_count": null,
   "id": "286faa2b",
   "metadata": {},
   "outputs": [],
   "source": [
    "next_year = year + 1\n",
    "print(next_year) "
   ]
  },
  {
   "cell_type": "markdown",
   "id": "15256197",
   "metadata": {},
   "source": [
    "## Let's Practice"
   ]
  },
  {
   "cell_type": "markdown",
   "id": "ab54b242",
   "metadata": {},
   "source": [
    "### 1. Debugging Variable Errors\n",
    "\n",
    "#### Fix the errors in the following codes:"
   ]
  },
  {
   "cell_type": "markdown",
   "id": "f115ea21",
   "metadata": {},
   "source": [
    "**Example 1:**"
   ]
  },
  {
   "cell_type": "code",
   "execution_count": null,
   "id": "f534ffb8",
   "metadata": {},
   "outputs": [],
   "source": [
    "number! = 42 "
   ]
  },
  {
   "cell_type": "markdown",
   "id": "3ee9e60d",
   "metadata": {},
   "source": [
    "**Example 2:**"
   ]
  },
  {
   "cell_type": "code",
   "execution_count": null,
   "id": "1d1d9705",
   "metadata": {},
   "outputs": [],
   "source": [
    "2nd_number = 3.14 "
   ]
  },
  {
   "cell_type": "markdown",
   "id": "e4714448",
   "metadata": {},
   "source": [
    "**Example 3:**"
   ]
  },
  {
   "cell_type": "code",
   "execution_count": null,
   "id": "4c7cee2a",
   "metadata": {},
   "outputs": [],
   "source": [
    "\"message\" = \"Hi!\"  "
   ]
  },
  {
   "cell_type": "markdown",
   "id": "d041ee76",
   "metadata": {},
   "source": [
    "**Example 4:**"
   ]
  },
  {
   "cell_type": "code",
   "execution_count": null,
   "id": "448eb687",
   "metadata": {},
   "outputs": [],
   "source": [
    "message = \"Hi'"
   ]
  },
  {
   "cell_type": "markdown",
   "id": "287e8108",
   "metadata": {},
   "source": [
    "### 2. Type Exploration"
   ]
  },
  {
   "cell_type": "markdown",
   "id": "7a63ff7f",
   "metadata": {},
   "source": [
    "**Example 1:**"
   ]
  },
  {
   "cell_type": "code",
   "execution_count": null,
   "id": "515c37c5",
   "metadata": {},
   "outputs": [],
   "source": [
    "x = 5             # Integer\n",
    "y = 2.0           # Float\n",
    "print(x + y)      # What happens here? What is the type?"
   ]
  },
  {
   "cell_type": "markdown",
   "id": "8cbaca79",
   "metadata": {},
   "source": [
    "**Example 2:**"
   ]
  },
  {
   "cell_type": "code",
   "execution_count": null,
   "id": "0a2c3dd4",
   "metadata": {},
   "outputs": [],
   "source": [
    "x = 7          # Integer\n",
    "y = 2          # Integer\n",
    "print(x / y)   # What happens? What is the type?"
   ]
  },
  {
   "cell_type": "markdown",
   "id": "70500d20",
   "metadata": {},
   "source": [
    "### 3. Assign and Reassign Variables"
   ]
  },
  {
   "cell_type": "code",
   "execution_count": null,
   "id": "9d91c940",
   "metadata": {},
   "outputs": [],
   "source": [
    "x = 10       # Assign an integer to x\n",
    "print(x)     # Output: 10\n",
    "x = 3.14     # Reassign a float to x\n",
    "print(x)     # Output: 3.14\n",
    "x = \"Hello\"  # Reassign a string to x\n",
    "print(x)     # Output: Hello"
   ]
  },
  {
   "cell_type": "markdown",
   "id": "d5db35b2",
   "metadata": {},
   "source": [
    "# Operators and Expressions in Python"
   ]
  },
  {
   "cell_type": "markdown",
   "id": "3900f7ea",
   "metadata": {},
   "source": [
    "## What Are Operators?\n",
    "- **Operators** are symbols used to perform specific operations on values and variables.\n",
    "- They are essential for calculations, comparisons, and combining conditions.\n",
    "\n",
    "### Common Operators\n",
    "| **Type**         | **Symbol** | **Example**         | **Description**                     | **Note** |\n",
    "|-------------------|------------|---------------------|-------------------------------------|------------|\n",
    "| Arithmetic        | `+`, `-`, `*`, `/`, `//`, `%`, `**` | `5 + 3` -> `8` | Perform mathematical calculations | - |\n",
    "| Relational        | `<`, `>`, `<=`, `>=`, `==`, `!=`   | `5 > 3` -> `True` | Compare values and return `True` or `False` | Don’t worry about this for now; we’ll cover it in more detail later. |\n",
    "| Logical           | `and`, `or`, `not`                | `True and False` -> `False` | Combine multiple conditions | Don’t worry about this for now; we’ll cover it in more detail later. |"
   ]
  },
  {
   "cell_type": "markdown",
   "id": "a0de1c20",
   "metadata": {},
   "source": [
    "## Arithmetic Operators\n",
    "Arithmetic operators are used for mathematical operations.\n",
    "\n",
    "| **Operator** | **Name**           | **Example**     | **Result** | **English Description** | **Explanation** |                                                      \n",
    "|--------------|--------------------|-----------------|------------|-------------|------------------------------------------------------------------------|\n",
    "| `+`          | Addition           | `5 + 3`         | `8`        | 5 plus 3 | Adds two numbers together.                                             |\n",
    "| `-`          | Subtraction        | `10 - 4`        | `6`        | 10 minus 4 | Subtracts the second number from the first.                            |\n",
    "| `*`          | Multiplication     | `6 * 3`         | `18`       | 6 multiplied by 3 | Multiplies two numbers.                                                |\n",
    "| `/`          | Division           | `8 / 2`         | `4.0`      | 8 divided by 2 | Divides the first number by the second and returns a float.            |\n",
    "| `//`         | Floor Division     | `9 // 2`        | `4`        | 9 divided by 2 | Divides the first number by the second and returns the integer part.   |\n",
    "| `%`          | Modulo (Remainder) | `10 % 3`        | `1`        | 10 mod 3  | Returns the remainder of the division of the first number by the second.|\n",
    "| `**`         | Exponentiation     | `2 ** 3`        | `8`        | 2 to the power of 3 | Raises the first number to the power of the second.                    |\n",
    "\n",
    "\n",
    "### Examples:"
   ]
  },
  {
   "cell_type": "code",
   "execution_count": null,
   "id": "9df73f81",
   "metadata": {},
   "outputs": [],
   "source": [
    "# Arithmetic Examples\n",
    "x = 10\n",
    "y = 3\n",
    "print(\"Addition:\", x + y)           # 13\n",
    "print(\"Subtraction:\", x - y)        # 7\n",
    "print(\"Multiplication:\", x * y)     # 30\n",
    "print(\"Division:\", x / y)           # 3.3333\n",
    "print(\"Floor Division:\", x // y)    # 3\n",
    "print(\"Modulo:\", x % y)             # 1\n",
    "print(\"Exponentiation:\", x ** y)    # 1000"
   ]
  },
  {
   "cell_type": "markdown",
   "id": "92e1f3a7",
   "metadata": {},
   "source": [
    "## Operator Precedence\n",
    "Operator precedence determines the order in which operations are performed.\n",
    "\n",
    "**Order of Operations (PEMDAS):**\n",
    "1. Parentheses `()`\n",
    "2. Exponentiation `**`\n",
    "3. Multiplication, Division, Floor Division, Modulo (`*`, `/`, `//`, `%`)\n",
    "4. Addition, Subtraction (`+`, `-`)\n",
    "\n",
    "\n",
    "\n",
    "**The operators in an un-parenthesized expression are evaluated in order of precedence.**\n",
    "| **Operator**        | **Precedence** |\n",
    "|----------------------|----------------|\n",
    "| `**`                | highest        |\n",
    "| `-` (negation)      |                |\n",
    "| `*`, `/`, `//`, `%` |                |\n",
    "| `+`, `-`            | lowest         |\n",
    "\n",
    "**Note: Precedence rules for other operators, e.g., relational operators, are language-dependent!**\n",
    "\n",
    "\n"
   ]
  },
  {
   "cell_type": "markdown",
   "id": "37de8419",
   "metadata": {},
   "source": [
    "**Example 1: What is the value of result after this line of code executes?**"
   ]
  },
  {
   "cell_type": "code",
   "execution_count": null,
   "id": "dedd1e2b",
   "metadata": {},
   "outputs": [],
   "source": [
    "# Operator Precedence Example\n",
    "\n",
    "result = 10 + 5 * 2 ** 2 - 1"
   ]
  },
  {
   "cell_type": "markdown",
   "id": "2853c635",
   "metadata": {},
   "source": [
    "**Example 2: Calculate the Area of a Rectangle**\n",
    "\n",
    "**Write a program to calculate the area and the perimeter of a rectangle using arithmetic operators.**"
   ]
  },
  {
   "cell_type": "code",
   "execution_count": null,
   "id": "7dab020b",
   "metadata": {},
   "outputs": [],
   "source": [
    "# Calculate area and perimeter\n",
    "length = 8\n",
    "width = 3"
   ]
  },
  {
   "cell_type": "markdown",
   "id": "bb96229b",
   "metadata": {},
   "source": [
    "**Example 3: Predict the output of the following code before running it:**"
   ]
  },
  {
   "cell_type": "code",
   "execution_count": null,
   "id": "9174ffc4",
   "metadata": {},
   "outputs": [],
   "source": [
    "# Solve the following expression\n",
    "a = 5\n",
    "b = 10\n",
    "c = 3\n",
    "result = (a + b) ** 2 // c + b % a - c\n"
   ]
  },
  {
   "cell_type": "markdown",
   "id": "46c984a0",
   "metadata": {},
   "source": [
    "**Example 4: Verify if the equation holds:**"
   ]
  },
  {
   "cell_type": "code",
   "execution_count": null,
   "id": "b8e6bce8",
   "metadata": {},
   "outputs": [],
   "source": [
    "\n",
    "a = 10\n",
    "b = 3\n",
    "left_side = (a + b) ** 2\n",
    "right_side = a ** 2 + 2 * a * b + b ** 2\n",
    "\n",
    "# Predict: Will the result of 'left_side == right_side' be True or False?"
   ]
  },
  {
   "cell_type": "markdown",
   "id": "fa02f96b",
   "metadata": {},
   "source": [
    "## Augmented Assignment Operators\n",
    "\n",
    "**Augmented assignment operators are shorthand notations that combine an arithmetic operation with assignment. They simplify expressions by avoiding repetition.**\n",
    "\n",
    "\n",
    "| **Operator** | **Expression**           | **Identical Expression**        | **Explanation**                              |\n",
    "|--------------|--------------------------|----------------------------------|----------------------------------------------|\n",
    "| `+=`         | `x = 7;`<br>`x += 2`     | `x = 7;`<br>`x = x + 2`         | Adds `2` to the value of `x` and reassigns it. |\n",
    "| `-=`         | `x = 7;`<br>`x -= 2`     | `x = 7;`<br>`x = x - 2`         | Subtracts `2` from the value of `x` and reassigns it. |\n",
    "| `*=`         | `x = 7;`<br>`x *= 2`     | `x = 7;`<br>`x = x * 2`         | Multiplies `x` by `2` and reassigns it.      |\n",
    "| `/=`         | `x = 7;`<br>`x /= 2`     | `x = 7;`<br>`x = x / 2`         | Divides `x` by `2` and reassigns it.         |\n",
    "| `//=`        | `x = 7;`<br>`x //= 2`    | `x = 7;`<br>`x = x // 2`        | Performs floor division on `x` by `2` and reassigns it. |\n",
    "| `%=`         | `x = 7;`<br>`x %= 2`     | `x = 7;`<br>`x = x % 2`         | Finds the remainder of `x` divided by `2` and reassigns it. |\n",
    "| `**=`        | `x = 7;`<br>`x **= 2`    | `x = 7;`<br>`x = x ** 2`        | Raises `x` to the power of `2` and reassigns it. |\n",
    "### Examples"
   ]
  },
  {
   "cell_type": "code",
   "execution_count": null,
   "id": "074fd570",
   "metadata": {},
   "outputs": [],
   "source": [
    "# Demonstrating augmented assignment operators\n",
    "x = 10\n",
    "x += 5\n",
    "print(x)  # Output: 15\n",
    "x -= 3\n",
    "print(x)  # Output: 12\n",
    "x *= 2\n",
    "print(x)  # Output: 24\n",
    "x /= 4\n",
    "print(x)  # Output: 6.0\n",
    "x //= 2\n",
    "print(x)  # Output: 3.0\n",
    "x %= 2\n",
    "print(x)  # Output: 1.0\n",
    "\n",
    "x = 3     # Reset x\n",
    "x **= 2\n",
    "print(x)  # Output: 9"
   ]
  },
  {
   "cell_type": "markdown",
   "id": "8eabddbc",
   "metadata": {},
   "source": [
    "**Example 1: Predict the Output**"
   ]
  },
  {
   "cell_type": "code",
   "execution_count": 11,
   "id": "5110f74d",
   "metadata": {},
   "outputs": [],
   "source": [
    "x = 7\n",
    "x += 3\n",
    "x *= 2\n",
    "x -= 5\n",
    "x //= 4\n",
    "x **= 3"
   ]
  },
  {
   "cell_type": "markdown",
   "id": "64389769",
   "metadata": {},
   "source": [
    "**Example 2: Rewrite Without Augmented Operators**"
   ]
  },
  {
   "cell_type": "code",
   "execution_count": null,
   "id": "ad7a4667",
   "metadata": {},
   "outputs": [],
   "source": [
    "a = 10 \n",
    "b = 5\n",
    "c = 2\n",
    "\n",
    "a += b * c      # for example, thw answer is: a = a + (b * c)\n",
    "\n",
    "b -= c + a      # Rewrite this\n",
    "c *= a // b     # Rewrite this\n",
    "a /= b - c      # Rewrite this\n",
    "b %= a + c      # Rewrite this\n",
    "c **= 2 + a     # Rewrite this"
   ]
  },
  {
   "cell_type": "markdown",
   "id": "249f12be",
   "metadata": {},
   "source": [
    "**Example 3: Debugging Augmented Assignments**"
   ]
  },
  {
   "cell_type": "code",
   "execution_count": null,
   "id": "a84611fd",
   "metadata": {},
   "outputs": [],
   "source": [
    "# Fix the errors in the augmented operations\n",
    "\n",
    "x = 10\n",
    "\n",
    "\n",
    "# 1.\n",
    "x + 5  \n",
    "\n",
    "# 2.\n",
    "x -= \"2\"  \n",
    "\n",
    "# 3.\n",
    "x /= 0    "
   ]
  },
  {
   "cell_type": "markdown",
   "id": "3ca96638",
   "metadata": {},
   "source": [
    "**Example 4:** \n",
    "\n",
    "Perform the following steps\n",
    "\n",
    "\n",
    "Step 1: Initialize variables: x = 20 and y = 7\n",
    "\n",
    "Step 2: Add 10 to x\n",
    "\n",
    "Step 3: Multiply y by 3\n",
    "\n",
    "Step 4: Calculate remainder of x divided by y and store in x\n",
    "\n",
    "Step 5: Raise y to the power of 2\n",
    "\n",
    "Step 6: Subtract x from y \n",
    "\n",
    "Step 7: Calculate and print the result of (x + y) * (x - y)"
   ]
  },
  {
   "cell_type": "markdown",
   "id": "1be02b3e",
   "metadata": {},
   "source": [
    "# Error Types in Python"
   ]
  },
  {
   "cell_type": "markdown",
   "id": "afb2dd93",
   "metadata": {},
   "source": [
    "Errors in Python are generally classified into four main types:\n",
    "1. **Syntax Error**\n",
    "2. **Semantic Error**\n",
    "3. **Runtime Error**\n",
    "4. **Logical Error**\n",
    "\n",
    "\n",
    "## Table of Error Types\n",
    "\n",
    "\n",
    "| **Name**          | **Definition**                                                                                              | **Timing**                                  | **Python Examples**                                                                                                                         | **Clarification**                                                                                          |\n",
    "|--------------------|------------------------------------------------------------------------------------------------------------|--------------------------------------------|---------------------------------------------------------------------------------------------------------------------------------------------|------------------------------------------------------------------------------------------------------------|\n",
    "| **Syntax Error**   | An error due to the code not being syntactically valid (i.e., not obeying the grammar of the programming language). | Usually discovered during **compilation**. | <span style=\"color:red;\">`>>> (3 + 2 * 4`<br>`SyntaxError: unmatched ')'`</span><br> Explanation: Open parenthesis without a close.        | Syntax errors are often caused by typos or missing syntax elements (e.g., quotes, parentheses, colons).    |\n",
    "| **Semantic Error** | An error due to the code not following the semantic rules of a programming language (e.g., using incompatible types). | Usually discovered during **compilation**. | <span style=\"color:red;\">`>>> \"Hello\" - 4`<br>`TypeError: unsupported operand type(s) for -: 'str' and 'int'`</span><br>`>>> a > 5`<br>`NameError: name 'a' is not defined`</span> | Semantic errors involve logic that the programming language cannot interpret correctly (e.g., subtracting a string from a number). |\n",
    "| **Runtime Error**  | An error that occurs during the execution (runtime) of a program. It halts the program.                    | Happens when the code is run.              | <span style=\"color:red;\">`>>> a = 5`<br>`>>> b = 4 / (a - 5)`<br>`ZeroDivisionError: division by zero`</span>                               | Runtime errors typically happen when the program encounters unexpected conditions (e.g., invalid input or division by zero). |\n",
    "| **Logical Error**  | An error caused by incorrect implementation of the intended logic or formula.                              | Happens when the code is run. May remain undiscovered. | <span style=\"color:blue;\">`>>> duration_in_seconds = duration_in_hours * 100`<br>`The formula for converting hours into seconds is incorrect`</span> | Logical errors produce incorrect results even though the program runs without crashing. They are often harder to detect. |"
   ]
  },
  {
   "cell_type": "markdown",
   "id": "d925d5cd",
   "metadata": {},
   "source": [
    "## Syntax Error"
   ]
  },
  {
   "cell_type": "markdown",
   "id": "b5d5ef3f",
   "metadata": {},
   "source": [
    "- **Definition**: An error caused by code that does not follow the grammar of the programming language.\n",
    "- **Timing**: Discovered during **compilation** (before the code runs).\n",
    "- **Example**:"
   ]
  },
  {
   "cell_type": "code",
   "execution_count": null,
   "id": "ffba1948",
   "metadata": {},
   "outputs": [],
   "source": [
    "# Syntax Error: Missing closing parenthesis\n",
    "result = (2 + 3 * 4\n",
    "          \n",
    "# Output: SyntaxError: unmatched '('"
   ]
  },
  {
   "cell_type": "markdown",
   "id": "c47e6d57",
   "metadata": {},
   "source": [
    "## Semantic Error"
   ]
  },
  {
   "cell_type": "markdown",
   "id": "55f5494a",
   "metadata": {},
   "source": [
    "- **Definition**: An error caused by code that violates the semantic rules of the programming language.\n",
    "- **Timing**: Discovered during **compilation**.\n",
    "- **Examples**:"
   ]
  },
  {
   "cell_type": "code",
   "execution_count": null,
   "id": "db95060e",
   "metadata": {},
   "outputs": [],
   "source": [
    "# Semantic Error: Unsupported operand types\n",
    "x = \"Hello\"\n",
    "result = x - 5\n",
    "# Output: TypeError: unsupported operand type(s) for -: 'str' and 'int'\n",
    "\n",
    "# Semantic Error: Using an undefined variable\n",
    "result = a + 5\n",
    "# Output: NameError: name 'a' is not defined"
   ]
  },
  {
   "cell_type": "markdown",
   "id": "2ac51fc5",
   "metadata": {},
   "source": [
    "## Runtime Error"
   ]
  },
  {
   "cell_type": "markdown",
   "id": "94512865",
   "metadata": {},
   "source": [
    "- **Definition**: An error that occurs while the program is running. It halts the execution of the program.\n",
    "- **Timing**: Happens **during execution**.\n",
    "- **Example**:"
   ]
  },
  {
   "cell_type": "code",
   "execution_count": null,
   "id": "cf373505",
   "metadata": {},
   "outputs": [],
   "source": [
    "# Runtime Error: Division by zero\n",
    "a = 10\n",
    "b = 0\n",
    "result = a / b\n",
    "# Output: ZeroDivisionError: division by zero"
   ]
  },
  {
   "cell_type": "markdown",
   "id": "3989d7b4",
   "metadata": {},
   "source": [
    "## Logical Error"
   ]
  },
  {
   "cell_type": "markdown",
   "id": "f1709f56",
   "metadata": {},
   "source": [
    "- **Definition**: An error caused by incorrect implementation of the intended logic or formula. The program runs, but the output is incorrect.\n",
    "- **Timing**: Happens **during execution** and may remain undiscovered.\n",
    "- **Example**:"
   ]
  },
  {
   "cell_type": "code",
   "execution_count": null,
   "id": "f9a56e06",
   "metadata": {},
   "outputs": [],
   "source": [
    "# Logical Error: Incorrect formula for area of a rectangle\n",
    "length = 5\n",
    "width = 3\n",
    "area = length + width  # Incorrect logic (should be length * width)\n",
    "print(\"Area of the rectangle:\", area)\n",
    "# Output: Area of the rectangle: 8 (should be 15)"
   ]
  },
  {
   "cell_type": "markdown",
   "id": "32ea73b5",
   "metadata": {},
   "source": [
    "## Practice Problems"
   ]
  },
  {
   "cell_type": "markdown",
   "id": "1479aabd",
   "metadata": {},
   "source": [
    "### Activity 1: Identify the Error Type\n",
    "Classify the type of error in each snippet:"
   ]
  },
  {
   "cell_type": "code",
   "execution_count": null,
   "id": "f4d3ebfb",
   "metadata": {},
   "outputs": [],
   "source": [
    "# Example 1: What type of error is this?\n",
    "print(\"Hello)  "
   ]
  },
  {
   "cell_type": "code",
   "execution_count": null,
   "id": "fe1600c0",
   "metadata": {},
   "outputs": [],
   "source": [
    "# Example 2: What type of error is this?\n",
    "x = \"10\"\n",
    "y = x + 5 "
   ]
  },
  {
   "cell_type": "code",
   "execution_count": null,
   "id": "bad26ba9",
   "metadata": {},
   "outputs": [],
   "source": [
    "# Example 3: What type of error is this?\n",
    "a = 10\n",
    "b = 0\n",
    "result = a / b  "
   ]
  },
  {
   "cell_type": "markdown",
   "id": "35d864f2",
   "metadata": {},
   "source": [
    "### Activity 2: Answer the following questions\n"
   ]
  },
  {
   "cell_type": "markdown",
   "id": "d7c99bed",
   "metadata": {},
   "source": [
    "#### Question 1: What is the outcome of running this code?"
   ]
  },
  {
   "cell_type": "code",
   "execution_count": null,
   "id": "0142daa2",
   "metadata": {},
   "outputs": [],
   "source": [
    "a = 10\n",
    "b = \"20\"\n",
    "c = 5\n",
    "result = (a + b) * c\n",
    "print(result)"
   ]
  },
  {
   "cell_type": "markdown",
   "id": "ad19fd51",
   "metadata": {},
   "source": [
    "Options:\n",
    "\n",
    "A. 150\n",
    "\n",
    "B. TypeError occurs\n",
    "\n",
    "C. A logical error occurs\n",
    "\n",
    "D. A runtime error occurs\n",
    "\n",
    "E. SyntaxError occurs"
   ]
  },
  {
   "cell_type": "markdown",
   "id": "01215b3d",
   "metadata": {},
   "source": [
    "#### Question 2: What is the outcome of running this code?"
   ]
  },
  {
   "cell_type": "code",
   "execution_count": null,
   "id": "1b11dfb7",
   "metadata": {},
   "outputs": [],
   "source": [
    "x = 15\n",
    "y = \"10\"\n",
    "z = x - int(y)\n",
    "print(z)"
   ]
  },
  {
   "cell_type": "markdown",
   "id": "368ad381",
   "metadata": {},
   "source": [
    "Options:\n",
    "\n",
    "A. 5\n",
    "\n",
    "B. TypeError occurs\n",
    "\n",
    "C. SyntaxError occurs\n",
    "\n",
    "D. A logical error occurs\n",
    "\n",
    "E. A runtime error occurs\n"
   ]
  },
  {
   "cell_type": "markdown",
   "id": "b4df2779",
   "metadata": {},
   "source": [
    "#### Question 3: What is wrong with the following code?\n"
   ]
  },
  {
   "cell_type": "code",
   "execution_count": null,
   "id": "946b4f66",
   "metadata": {},
   "outputs": [],
   "source": [
    "a = 100\n",
    "b = 50\n",
    "c = a - b\n",
    "print(\"The difference is:\" c)"
   ]
  },
  {
   "cell_type": "markdown",
   "id": "204d62f3",
   "metadata": {},
   "source": [
    "\n",
    "Options:\n",
    "\n",
    "A. SyntaxError\n",
    "\n",
    "B. NameError\n",
    "\n",
    "C. TypeError\n",
    "\n",
    "D. A runtime error occurs\n",
    "\n",
    "E. A logical error occurs"
   ]
  }
 ],
 "metadata": {
  "kernelspec": {
   "display_name": "AdvKG",
   "language": "python",
   "name": "python3"
  },
  "language_info": {
   "codemirror_mode": {
    "name": "ipython",
    "version": 3
   },
   "file_extension": ".py",
   "mimetype": "text/x-python",
   "name": "python",
   "nbconvert_exporter": "python",
   "pygments_lexer": "ipython3",
   "version": "3.12.4"
  }
 },
 "nbformat": 4,
 "nbformat_minor": 5
}
