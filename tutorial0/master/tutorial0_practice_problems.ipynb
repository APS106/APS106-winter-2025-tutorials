{
 "cells": [
  {
   "cell_type": "markdown",
   "id": "30d52b51",
   "metadata": {},
   "source": [
    "# APS106 Tutorial - Week 1, Jupyter Notebook"
   ]
  },
  {
   "cell_type": "markdown",
   "id": "9c5a71af",
   "metadata": {},
   "source": [
    "## Problem 1\n",
    "\n",
    "Print your full name using a print statement!"
   ]
  },
  {
   "cell_type": "code",
   "execution_count": null,
   "id": "13f82a6b",
   "metadata": {},
   "outputs": [],
   "source": [
    "#TODO: print your name\n"
   ]
  },
  {
   "cell_type": "markdown",
   "id": "0730d766",
   "metadata": {},
   "source": [
    "## Problem 2\n",
    "\n",
    "Calculate x + y and print the result!"
   ]
  },
  {
   "cell_type": "code",
   "execution_count": 2,
   "id": "e0102b4f",
   "metadata": {},
   "outputs": [],
   "source": [
    "x = 106"
   ]
  },
  {
   "cell_type": "code",
   "execution_count": 5,
   "id": "18f946b4",
   "metadata": {},
   "outputs": [],
   "source": [
    "y = 1919"
   ]
  },
  {
   "cell_type": "code",
   "execution_count": 4,
   "id": "6425a5a5",
   "metadata": {},
   "outputs": [],
   "source": [
    "#TODO: calculate x + y and print the result"
   ]
  }
 ],
 "metadata": {
  "kernelspec": {
   "display_name": "Python 3 (ipykernel)",
   "language": "python",
   "name": "python3"
  },
  "language_info": {
   "codemirror_mode": {
    "name": "ipython",
    "version": 3
   },
   "file_extension": ".py",
   "mimetype": "text/x-python",
   "name": "python",
   "nbconvert_exporter": "python",
   "pygments_lexer": "ipython3",
   "version": "3.8.10"
  }
 },
 "nbformat": 4,
 "nbformat_minor": 5
}
