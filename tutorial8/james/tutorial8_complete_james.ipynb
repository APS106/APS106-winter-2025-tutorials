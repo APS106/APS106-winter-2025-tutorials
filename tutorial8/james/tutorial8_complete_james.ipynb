{
 "cells": [
  {
   "cell_type": "markdown",
   "id": "0a5e6e48",
   "metadata": {},
   "source": [
    "<div style=\"text-align:center; border: 2px solid #2E86C1; border-radius: 10px; padding: 30px; background-color: #F4F6F7;\">\n",
    "\n",
    "<h1 style=\"color:#154360; font-family:'Georgia', serif; font-size: 2.8em; margin-bottom: 20px;\">APS106: Fundamentals of Computer Programming</h1>\n",
    "\n",
    "<h2 style=\"color:#1A5276; font-family:'Palatino Linotype', 'Book Antiqua', serif; font-size: 2.0em; margin-bottom: 30px;\">Tutorial 8, Week 9</h2>\n",
    "\n",
    "<h3 style=\"color:#6C3483; font-family:'Cambria', serif; font-size: 1.8em; text-decoration: underline; margin-bottom: 15px;\">Topics Covered</h3>\n",
    "<p style=\"text-align:center; font-family:'Trebuchet MS', sans-serif; font-size: 1.3em; line-height: 1.8;\">\n",
    "  <span style=\"color:#D35400; font-weight:bold;\">Programming Concepts</span><br>\n",
    "  <span style=\"color:#283747;\">• Tuples</span><br>\n",
    "  <span style=\"color:#283747;\">• Sets</span><br> \n",
    "  <span style=\"color:#283747;\">• Dictionaries</span><br> \n",
    "  <span style=\"color:#283747;\">• Advanced Functions</span><br>\n",
    "</p>\n",
    "\n",
    "<h3 style=\"color:#6C3483; font-family:'Cambria', serif; font-size: 1.8em; text-decoration: underline; margin-bottom: 15px;\">Goals for This Tutorial</h3>\n",
    "<p style=\"text-align:center; font-family:'Verdana', sans-serif; font-size: 1.2em; line-height: 1.8;\">\n",
    "  <span style=\"color:#21618C;\">• Understand how and when to use tuples, sets, and dictionaries.</span><br> \n",
    "  <span style=\"color:#21618C;\">• Learn key operations and methods for working with these data structures.</span><br> \n",
    "  <span style=\"color:#21618C;\">• Learn how to use optional arguments and default values in advanced functions.</span><br>\n",
    "</p>\n",
    "</div>\n",
    "\n",
    "\n"
   ]
  },
  {
   "cell_type": "markdown",
   "id": "89beb25d",
   "metadata": {},
   "source": [
    "### Today's Topics\n",
    "1. [Tuples](#1.-Tuples)\n",
    "    - [Problem 1: Swapping Elements in a Tuple](#Problem-1:-Swapping-Elements-in-a-Tuple)\n",
    "    - [Problem 2: Finding the Longest Streak of a Number](#Problem-2:-Finding-the-Longest-Streak-of-a-Number)\n",
    "2. [Sets](#2.-Sets)\n",
    "    - [Problem 3: Finding Duplicates in Lists](#Problem-3:-Finding-Duplicates-in-Lists)\n",
    "    - [Problem 4: Finding the Largest Set Intersection](#Problem-4:-Finding-the-Largest-Set-Intersection)\n",
    "3. [Dictionaries](#3.-Dictionaries)\n",
    "    - [Problem 5: Merging Dictionaries](#Problem-5:-Merging-Dictionaries)\n",
    "    - [Problem 6: Finding Students Enrolled in a Given Class](#Problem-6:-Finding-Students-Enrolled-in-a-Given-Class)\n",
    "4. [Advanced Functions](#4.-Advanced-Functions)\n",
    "5. [Aliasing and Mutable/Immutable Objects as Function Arguments](#-5.-Aliasing)\n",
    "6. [Appendix: Review Practice Problems](#6.-Appendix:-Review-Practice-Problems)\n",
    "    - [Problem 7: Calculating Student Averages from Test Scores)](#Problem-7:-Calculating-Student-Averages-from-Test-Scores)\n",
    "    - [Problem 8: Analyzing Factory Production Data](#Problem-8:-Analyzing-Factory-Production-Data)\n"
   ]
  },
  {
   "cell_type": "markdown",
   "id": "e9808761",
   "metadata": {},
   "source": [
    "## 1. Tuples\n"
   ]
  },
  {
   "cell_type": "markdown",
   "id": "546a49d9",
   "metadata": {},
   "source": [
    "### 1.1 What is a Tuple?\n",
    "\n",
    "A **tuple** is an **ordered**, **immutable** collection of elements. Unlike lists, tuples **cannot** be modified after they are created.\n",
    "\n",
    "| **Property**       | **Description** |\n",
    "|--------------------|----------------|\n",
    "| **Ordered**       | Elements maintain their positions. |\n",
    "| **Immutable**     | Cannot modify elements after creation. |\n",
    "| **Allows Duplicates** | Tuples can contain duplicate values. |\n",
    "| **Heterogeneous** | Tuples can store different data types (e.g., integers, strings, floats). |\n",
    "| **Supports Indexing & Slicing** | Elements can be accessed using indices like lists. |\n",
    "\n",
    "\n"
   ]
  },
  {
   "cell_type": "markdown",
   "id": "6fd4c8e9",
   "metadata": {},
   "source": [
    "**Examples of creating Tuples:**"
   ]
  },
  {
   "cell_type": "code",
   "execution_count": 1,
   "id": "806218fa",
   "metadata": {},
   "outputs": [
    {
     "name": "stdout",
     "output_type": "stream",
     "text": [
      "(1, 2, 3, 4, 5)\n",
      "(6, 7, 8)\n"
     ]
    }
   ],
   "source": [
    "# Creating a tuple using parentheses\n",
    "my_tuple = (1, 2, 3, 4, 5)\n",
    "print(my_tuple)\n",
    "\n",
    "# Creating a tuple using tuple() function\n",
    "another_tuple = tuple([6, 7, 8])\n",
    "print(another_tuple)"
   ]
  },
  {
   "cell_type": "markdown",
   "id": "115e3bb5",
   "metadata": {},
   "source": [
    "Note: A single-element tuple must have a trailing comma:"
   ]
  },
  {
   "cell_type": "code",
   "execution_count": 11,
   "id": "0989ffe1",
   "metadata": {},
   "outputs": [
    {
     "name": "stdout",
     "output_type": "stream",
     "text": [
      "(5,)  --> type: <class 'tuple'>\n",
      "5     --> type: <class 'int'>\n"
     ]
    }
   ],
   "source": [
    "single_element_tuple = (5,)  # Correct\n",
    "print(single_element_tuple, \" --> type:\", type(single_element_tuple))\n",
    "\n",
    "not_a_tuple = (5)  # This is just an integer\n",
    "print(not_a_tuple, \"    --> type:\", type(not_a_tuple))"
   ]
  },
  {
   "cell_type": "markdown",
   "id": "bdc612f1",
   "metadata": {},
   "source": [
    "### 1.2 Tuple Operators "
   ]
  },
  {
   "cell_type": "code",
   "execution_count": 1,
   "id": "4b67bd95",
   "metadata": {},
   "outputs": [
    {
     "name": "stdout",
     "output_type": "stream",
     "text": [
      "20\n",
      "(20, 30)\n",
      "(10, 20, 30, 40, 50, 60)\n",
      "(10, 20, 30, 40, 10, 20, 30, 40)\n",
      "True\n",
      "True\n",
      "4\n",
      "2\n",
      "1\n"
     ]
    }
   ],
   "source": [
    "t = (10, 20, 30, 40)\n",
    "\n",
    "# Indexing\n",
    "print(t[1])  # Output: 20\n",
    "\n",
    "# Slicing\n",
    "print(t[1:3])  # Output: (20, 30)\n",
    "\n",
    "# Concatenation\n",
    "print(t + (50, 60))  # Output: (10, 20, 30, 40, 50, 60)\n",
    "\n",
    "# Repetition\n",
    "print(t * 2)  # Output: (10, 20, 30, 40, 10, 20, 30, 40)\n",
    "\n",
    "# Membership\n",
    "print(20 in t)  # Output: True\n",
    "\n",
    "# Comparison\n",
    "print((1, 2, 3) == (1, 2, 3))  # Output: True\n",
    "\n",
    "# ------\n",
    "\n",
    "# Finding the length of a tuple\n",
    "print(len(t))  # Output: 4\n",
    "\n",
    "# Finding occurrences of an element \n",
    "print(t.index(30))  # Output: 2 (first occurrence of 30)\n",
    "\n",
    "# Counting the number of occurrences of an element\n",
    "print(t.count(20))  # Output: 1 (20 appears once)"
   ]
  },
  {
   "cell_type": "markdown",
   "id": "127cca76",
   "metadata": {},
   "source": [
    "### 1.3 Tuples vs Lists (Mutability)\n"
   ]
  },
  {
   "cell_type": "markdown",
   "id": "2656c1ec",
   "metadata": {},
   "source": [
    "\n",
    "Tuples are immutable, meaning we cannot change their elements after creation. However, mutable objects inside tuples (like lists) can still be modified."
   ]
  },
  {
   "cell_type": "code",
   "execution_count": 2,
   "id": "d249528f",
   "metadata": {},
   "outputs": [
    {
     "name": "stdout",
     "output_type": "stream",
     "text": [
      "['sara', 80.2]\n"
     ]
    }
   ],
   "source": [
    "# Tuples are immutable\n",
    "\n",
    "# ---------------------------------------\n",
    "\n",
    "t = (1, 2, 3)\n",
    "# t[0] = 10  # TypeError: 'tuple' object does not support item assignment\n",
    "\n",
    "# ---------------------------------------\n",
    "\n",
    "# Lists inside tuples can be modified\n",
    "\n",
    "t = (['sara', 75.0], ['cris', 72.5])\n",
    "t[0][1] = 80.2\n",
    "print(t[0])  # Output: ['sara', 80.2]"
   ]
  },
  {
   "cell_type": "markdown",
   "id": "e4a5c02d",
   "metadata": {},
   "source": [
    "### 1.4 Swapping Values Using Tuples. \n"
   ]
  },
  {
   "cell_type": "code",
   "execution_count": 3,
   "id": "36048215",
   "metadata": {},
   "outputs": [
    {
     "name": "stdout",
     "output_type": "stream",
     "text": [
      "2 1\n",
      "2 1\n"
     ]
    }
   ],
   "source": [
    "# Tuples can be used to swap values in a concise way.\n",
    "\n",
    "\n",
    "a, b = 1, 2\n",
    "\n",
    "# ----------------------------------------\n",
    "\n",
    "# Swapping using a temporary variable\n",
    "temp = a\n",
    "a = b\n",
    "b = temp\n",
    "print(a, b)  # Output: 2 1\n",
    "\n",
    "# ---------------------------------------\n",
    "\n",
    "# Swapping using tuple unpacking\n",
    "a, b = 1, 2\n",
    "a, b = b, a\n",
    "print(a, b)  # Output: 2 1"
   ]
  },
  {
   "cell_type": "markdown",
   "id": "d291fd41",
   "metadata": {},
   "source": [
    "### 1.5 Returning Multiple Values from Functions\n"
   ]
  },
  {
   "cell_type": "code",
   "execution_count": null,
   "id": "24f9dce8",
   "metadata": {},
   "outputs": [
    {
     "name": "stdout",
     "output_type": "stream",
     "text": [
      "(0.49999999999999994, 0.8660254037844387, 0.5773502691896256)\n"
     ]
    }
   ],
   "source": [
    "# Returning Multiple Values from Functions. When a function returns multiple values, it actually returns a tuple.\n",
    "\n",
    "import math\n",
    "\n",
    "def trig_calculator(deg):\n",
    "    sin = math.sin(math.radians(deg))\n",
    "    cos = math.cos(math.radians(deg))\n",
    "    tan = math.tan(math.radians(deg))\n",
    "    return sin, cos, tan  # Returning a tuple\n",
    "\n",
    "result = trig_calculator(30)\n",
    "print(result)  # Output: (0.499, 0.866, 0.577)\n"
   ]
  },
  {
   "cell_type": "markdown",
   "id": "bab38412",
   "metadata": {},
   "source": [
    "### Problem 1: Swapping Elements in a Tuple"
   ]
  },
  {
   "cell_type": "markdown",
   "id": "23c1dac0",
   "metadata": {},
   "source": [
    "**Problem Statement**\n",
    "\n",
    "Write a function swap_first_last(tpl) that takes a tuple as input and returns a new tuple where the first and last elements are swapped.\n",
    "\n",
    "Constraints\n",
    "- The input tuple will always have at least two elements.\n",
    "- The function must return a tuple (not a list).\n",
    "\n",
    "\n",
    "```python\n",
    "# ------------------------------------------------------------------------------\n",
    "```\n",
    "\n",
    "Example 1:\n",
    "```python\n",
    "tpl = (10, 20, 30, 40)\n",
    "print(swap_first_last(tpl)) #Output: (40, 20, 30, 10)\n",
    "\n",
    "```\n",
    "\n",
    "```python\n",
    "# ------------------------------------------------------------------------------\n",
    "```\n",
    "\n",
    "Example 2:\n",
    "```python\n",
    "tpl = (\"apple\", \"banana\", \"cherry\", \"date\")\n",
    "print(swap_first_last(tpl)) #Output: (\"date\", \"banana\", \"cherry\", \"apple\")\n",
    "\n",
    "```"
   ]
  },
  {
   "cell_type": "code",
   "execution_count": 23,
   "id": "8915b538",
   "metadata": {},
   "outputs": [],
   "source": [
    "def swap_first_last(tpl):\n",
    "    \"\"\"\n",
    "    (tuple) -> (tuple)\n",
    "    Given a tuple, return a new tuple with the first and last elements swapped.\n",
    "    \"\"\"\n",
    "\n",
    "    return (tpl[-1],) + tpl[1:-1] + (tpl[0],) \n",
    "\n",
    "# - (tpl[-1],) → Creates a new tuple with the last element. The comma ensures it remains a tuple and not just a single value.\n",
    "# - tpl[1:-1] → Extracts all elements except the first and last (middle elements).\n",
    "# - (tpl[0],) → Creates a new tuple with the first element.\n",
    "# - The `+` operator joins these parts together into a new tuple.\n"
   ]
  },
  {
   "cell_type": "code",
   "execution_count": 24,
   "id": "016a3079",
   "metadata": {},
   "outputs": [
    {
     "name": "stdout",
     "output_type": "stream",
     "text": [
      "(40, 20, 30, 10)\n",
      "('date', 'banana', 'cherry', 'apple')\n"
     ]
    }
   ],
   "source": [
    "# Test cases\n",
    "print(swap_first_last((10, 20, 30, 40)))  # Output: (40, 20, 30, 10)\n",
    "print(swap_first_last((\"apple\", \"banana\", \"cherry\", \"date\")))  # Output: (\"date\", \"banana\", \"cherry\", \"apple\")"
   ]
  },
  {
   "cell_type": "markdown",
   "id": "f4c21003",
   "metadata": {},
   "source": [
    "### Problem 2: Finding the Longest Streak of a Number"
   ]
  },
  {
   "cell_type": "markdown",
   "id": "d3a66347",
   "metadata": {},
   "source": [
    "\n",
    "**Problem Statement**\n",
    "\n",
    "- Write a function longest_streak(t) that returns the number that appears the most times in a row (consecutively) in the tuple.\n",
    "\n",
    "- If multiple numbers have the same longest streak, return the smallest one.\n",
    "\n",
    "- If the tuple is empty, return None.\n",
    "\n",
    "```python\n",
    "# ------------------------------------------------------------------------------\n",
    "```\n",
    "\n",
    "Example 1:\n",
    "```python\n",
    "print(longest_streak((4, 4, 2, 2, 2, 3, 3, 3, 3, 1)))  # Output: 3\n",
    "\n",
    "```\n",
    "Explanation:\n",
    "\n",
    "- 4 appears twice in a row.\n",
    "- 2 appears three times in a row.\n",
    "- 3 appears four times in a row (longest streak).\n",
    "- 1 appears once.\n",
    "\n",
    "Since 3 has the longest streak, return 3.\n",
    "\n",
    "```python\n",
    "# ------------------------------------------------------------------------------\n",
    "```\n",
    "\n",
    "Example 2:\n",
    "```python\n",
    "print(longest_streak((5, 5, 5, 2, 2, 2, 3, 3)))  # Output: 2\n",
    "\n",
    "```\n",
    "Explanation:\n",
    "\n",
    "Since 5 and 2 are tied, return the smallest one, which is 2.\n",
    "\n"
   ]
  },
  {
   "cell_type": "code",
   "execution_count": null,
   "id": "15b06597",
   "metadata": {},
   "outputs": [],
   "source": [
    "def longest_streak(t):\n",
    "\n",
    "    \"\"\"\n",
    "    Finds the number with the longest consecutive streak in the tuple.\n",
    "    If there's a tie, returns the smallest one.\n",
    "    (tuple) -> (int or None)\n",
    "    \n",
    "    \"\"\"\n",
    " \n",
    "    if not t:\n",
    "        return None  # Handle empty tuple case\n",
    "\n",
    "    max_streak = 1\n",
    "    current_streak = 1\n",
    "    best_number = t[0]\n",
    "\n",
    "    for i in range(1, len(t)):\n",
    "        if t[i] == t[i - 1]:  \n",
    "            current_streak += 1  # Continue the streak\n",
    "        else:\n",
    "            # If a longer streak is found OR if it's a tie and the number is smaller\n",
    "            if current_streak > max_streak or (current_streak == max_streak and t[i - 1] < best_number):\n",
    "                max_streak = current_streak\n",
    "                best_number = t[i - 1]\n",
    "            current_streak = 1  # Reset streak count\n",
    "\n",
    "    # Final check after the loop ends\n",
    "    if current_streak > max_streak or (current_streak == max_streak and t[-1] < best_number):\n",
    "        best_number = t[-1]\n",
    "\n",
    "    return best_number\n",
    "\n"
   ]
  },
  {
   "cell_type": "code",
   "execution_count": null,
   "id": "a20bff58",
   "metadata": {},
   "outputs": [
    {
     "name": "stdout",
     "output_type": "stream",
     "text": [
      "3\n",
      "2\n",
      "None\n",
      "7\n",
      "3\n"
     ]
    }
   ],
   "source": [
    "# Test cases\n",
    "print(longest_streak((4, 4, 2, 2, 2, 3, 3, 3, 3, 1)))    # Output: 3\n",
    "print(longest_streak((5, 5, 5, 2, 2, 2, 3, 3)))          # Output: 2\n",
    "print(longest_streak(()))                                # Output: None\n",
    "print(longest_streak((7, 7, 8, 8, 8, 7, 7, 7, 9)))       # Output: 7\n",
    "print(longest_streak((1, 1, 2, 2, 3, 3, 3)))             # Output: 3"
   ]
  },
  {
   "cell_type": "markdown",
   "id": "7f3feb75",
   "metadata": {},
   "source": [
    "## 2. Sets"
   ]
  },
  {
   "cell_type": "markdown",
   "id": "6c22d825",
   "metadata": {},
   "source": [
    "### 2.1 What is a Set?"
   ]
  },
  {
   "cell_type": "markdown",
   "id": "fdaa8e36",
   "metadata": {},
   "source": [
    "\n",
    "\n",
    "A **set** is an **unordered** collection of **distinct** elements. \n",
    "\n",
    "Unlike lists and tuples:\n",
    "\n",
    "\n",
    "- Sets **do not allow duplicate values**.\n",
    "- Sets are unordered, meaning the elements **do not have a fixed position**.\n",
    "- Sets **do not support indexing or slicing**.\n",
    "\n",
    "| **Property**       | **Description** |\n",
    "|--------------------|----------------|\n",
    "| **Unordered**     | Elements do **not** have a fixed position. |\n",
    "| **Unique Elements** | A set **cannot** contain duplicate values. |\n",
    "| **Mutable**       | Elements can be **added** or **removed** after creation. |\n",
    "| **Heterogeneous** | Can store different data types (e.g., integers, strings, floats). |\n",
    "| **No Indexing or Slicing** | Elements **cannot** be accessed by position. |\n",
    "\n"
   ]
  },
  {
   "cell_type": "markdown",
   "id": "b659ad41",
   "metadata": {},
   "source": [
    "Examples of creating sets:"
   ]
  },
  {
   "cell_type": "code",
   "execution_count": null,
   "id": "0a90490e",
   "metadata": {},
   "outputs": [
    {
     "name": "stdout",
     "output_type": "stream",
     "text": [
      "set()\n",
      "{'a', 'o', 'i', 'e', 'u'}\n",
      "{1, 2, 3}\n"
     ]
    }
   ],
   "source": [
    "# Creating an empty set\n",
    "s = set()\n",
    "print(s)  # Output: set()\n",
    "\n",
    "# Defining a set with values\n",
    "vowels = {'a', 'a', 'e', 'i', 'o', 'u'}\n",
    "print(vowels)  # Output: {'a', 'o', 'i', 'e', 'u'} (duplicates removed)\n",
    "\n",
    "# Defining a set with numbers\n",
    "numbers = {1, 2, 3, 3, 2, 1}\n",
    "print(numbers)  # Output: {1, 2, 3} (duplicates removed)"
   ]
  },
  {
   "cell_type": "markdown",
   "id": "6b16bb8c",
   "metadata": {},
   "source": [
    "Note: Sets ignore **Order**"
   ]
  },
  {
   "cell_type": "code",
   "execution_count": 41,
   "id": "32b5dc29",
   "metadata": {},
   "outputs": [
    {
     "name": "stdout",
     "output_type": "stream",
     "text": [
      "True\n",
      "False\n",
      "False\n"
     ]
    }
   ],
   "source": [
    "print({1, 2} == {2, 1})  # Output: True\n",
    "print([1, 2] == [2, 1])  # Output: False (Lists preserve order)\n",
    "print((1, 2) == (2, 1))  # Output: False (Tuples preserve order)"
   ]
  },
  {
   "cell_type": "markdown",
   "id": "ecd01b62",
   "metadata": {},
   "source": [
    "### 2.1 Set Operations "
   ]
  },
  {
   "cell_type": "markdown",
   "id": "0896af80",
   "metadata": {},
   "source": [
    "\n",
    "| **Operation** | **Syntax** | **Description** | **Example** |\n",
    "|--------------|-----------|----------------|-------------|\n",
    "| **Length** | `len(s)` | Returns the number of elements in the set | `len({1, 2, 3})` → `3` |\n",
    "| **Membership** | `x in s` | Checks if `x` is in the set | `2 in {1, 2, 3}` → `True` |\n",
    "| **Non-membership** | `x not in s` | Checks if `x` is not in the set | `4 not in {1, 2, 3}` → `True` |\n",
    "| **Subset** | `s.issubset(t)` or `s <= t` | Checks if `s` is a subset of `t` | `{1, 2} <= {1, 2, 3}` → `True` |\n",
    "| **Superset** | `s.issuperset(t)` or `s >= t` | Checks if `s` is a superset of `t` | `{1, 2, 3} >= {1, 2}` → `True` |\n",
    "| **Union** | `s.union(t)` or `s \\| t` | Combines elements from both sets | `{1, 2}.union({2, 3})` → `{1, 2, 3}` |\n",
    "| **Intersection** | `s.intersection(t)` or `s & t` | Finds common elements in both sets | `{1, 2, 3} & {2, 3, 4}` → `{2, 3}` |\n",
    "| **Difference** | `s.difference(t)` or `s - t` | Elements in `s` but not in `t` | `{1, 2, 3} - {2, 3, 4}` → `{1}` |\n",
    "| **Symmetric Difference** | `s.symmetric_difference(t)` or `s ^ t` | Elements in either `s` or `t` but not both | `{1, 2, 3} ^ {2, 3, 4}` → `{1, 4}` |\n",
    "| **Adding an Element** | `s.add(x)` | Adds `x` to the set | `s = {1, 2}; s.add(3)` → `{1, 2, 3}` |\n",
    "| **Removing an Element** | `s.remove(x)` | Removes `x` from the set (Error if not found) | `s = {1, 2, 3}; s.remove(2)` → `{1, 3}` |\n",
    "| **Discarding an Element** | `s.discard(x)` | Removes `x` if it exists (No error if missing) | `s = {1, 2, 3}; s.discard(4)` → `{1, 2, 3}` |\n",
    "| **Clearing a Set** | `s.clear()` | Removes all elements from the set | `s = {1, 2, 3}; s.clear()` → `set()` |\n",
    "| **Copying a Set** | `s.copy()` | Returns a copy of the set | `s1 = {1, 2, 3}; s2 = s1.copy()` |"
   ]
  },
  {
   "cell_type": "markdown",
   "id": "5e220804",
   "metadata": {},
   "source": [
    "### Problem 3: Finding Duplicates in Lists"
   ]
  },
  {
   "cell_type": "markdown",
   "id": "1744bc01",
   "metadata": {},
   "source": [
    "**Problem Statement**\n",
    "\n",
    "Given a list of integers, determine if the list contains any duplicates.\n",
    "\n",
    "- If any number appears at least twice, return True.\n",
    "- If all numbers are unique, return False.\n",
    "\n",
    "\n",
    "```python\n",
    "# ------------------------------------------------------------------------------\n",
    "```\n",
    "\n",
    "Example 1:\n",
    "```python\n",
    "lst = [1, 2, 3, 4, 5]\n",
    "print(contains_duplicate(lst)) #Output: False\n",
    "```\n",
    "\n",
    "```python\n",
    "# ------------------------------------------------------------------------------\n",
    "```\n",
    "\n",
    "Example 2:\n",
    "```python\n",
    "lst = [1, 2, 3, 1]\n",
    "print(contains_duplicate(lst)) #Output: True\n",
    "```"
   ]
  },
  {
   "cell_type": "code",
   "execution_count": null,
   "id": "2594f769",
   "metadata": {},
   "outputs": [],
   "source": [
    "def contains_duplicate(lst):\n",
    "    \"\"\"\n",
    "    (list) -> bool\n",
    "    Returns True if the list contains duplicate elements, otherwise False.\n",
    "    \"\"\"\n",
    "    return len(lst) != len(set(lst))  # Convert to set and compare lengths"
   ]
  },
  {
   "cell_type": "code",
   "execution_count": null,
   "id": "6d33b1ca",
   "metadata": {},
   "outputs": [
    {
     "name": "stdout",
     "output_type": "stream",
     "text": [
      "False\n",
      "True\n"
     ]
    }
   ],
   "source": [
    "# Test cases\n",
    "print(contains_duplicate([1, 2, 3, 4, 5]))  # Output: False\n",
    "print(contains_duplicate([1, 2, 3, 1]))  # Output: True"
   ]
  },
  {
   "cell_type": "markdown",
   "id": "c18492d6",
   "metadata": {},
   "source": [
    "### Problem 4: Finding the Largest Set Intersection"
   ]
  },
  {
   "cell_type": "markdown",
   "id": "be8e341c",
   "metadata": {},
   "source": [
    "**Problem Statement**\n",
    "\n",
    "\n",
    "You are given a list of sets. Your task is to write a function largest_intersection(sets) that:\n",
    "\n",
    "- Finds the set that has the largest intersection size with any other set in the list.\n",
    "- If multiple sets have the same largest intersection size, return the first one in the list.\n",
    "- If the input list is empty or no intersections exist, return None.\n",
    "\n",
    "\n",
    "```python\n",
    "# ------------------------------------------------------------------------------\n",
    "```\n",
    "\n",
    "Example 1:\n",
    "```python\n",
    "sets = [{1, 2, 3}, {2, 3, 4}, {5, 6}, {2, 3, 5, 6}]\n",
    "print(largest_intersection(sets))  # Output: {1, 2, 3}\n",
    "```\n",
    "Explanation:\n",
    "\n",
    "Each set is compared with all other sets to find the largest intersection size:\n",
    "- {1, 2, 3} ∩ {2, 3, 4} = {2, 3} (size = 2)\n",
    "- {1, 2, 3} ∩ {5, 6} = {} (size = 0)\n",
    "- {1, 2, 3} ∩ {2, 3, 5, 6} = {2, 3} (size = 2)\n",
    "- {2, 3, 4} ∩ {5, 6} = {} (size = 0)\n",
    "- {2, 3, 4} ∩ {2, 3, 5, 6} = {2, 3} (size = 2)\n",
    "- {5, 6} ∩ {2, 3, 5, 6} = {5, 6} (size = 2)\n",
    "\n",
    "The largest intersection size is 2, and multiple sets have this intersection size.\n",
    "Since {1, 2, 3} is the first set to achieve this, it is returned.\n",
    "\n",
    "\n",
    "```python\n",
    "# ------------------------------------------------------------------------------\n",
    "```\n",
    "\n",
    "Example 2:\n",
    "```python\n",
    "sets = [{10, 20}, {20, 30}, {30, 40}]\n",
    "print(largest_intersection(sets)) # Output: {10, 20}\n",
    "```\n",
    "\n",
    "Explanation:\n",
    "- {10, 20} and {20, 30} intersect with 1 element ({20})\n",
    "- {20, 30} and {30, 40} intersect with 1 element ({30})\n",
    "\n",
    "Since all have equal intersections, return the first occurring set {10, 20}.\n",
    "\n",
    "```python\n",
    "# ------------------------------------------------------------------------------\n",
    "```\n",
    "Example 3:\n",
    "```python\n",
    "sets = [{1}, {2}, {3}]\n",
    "print(largest_intersection(sets)) # Output: None\n",
    "```\n",
    "\n",
    "\n"
   ]
  },
  {
   "cell_type": "code",
   "execution_count": 6,
   "id": "77ae5cf8",
   "metadata": {},
   "outputs": [],
   "source": [
    "def largest_intersection(sets):\n",
    "    \"\"\"\n",
    "    (list of sets) -> (set or None)\n",
    "    \n",
    "    Finds the set with the largest intersection with any other set in the list.\n",
    "    If there is a tie, returns the first set in the list.\n",
    "    If no intersections exist or the input is empty, returns None.\n",
    "    \"\"\"\n",
    "\n",
    "    if not sets:\n",
    "        return None  # Edge case: empty list\n",
    "    \n",
    "    max_intersection_size = 0\n",
    "    best_set = None\n",
    "\n",
    "    for i in range(len(sets)):\n",
    "        for j in range(i + 1, len(sets)):  # Avoid redundant checks\n",
    "            intersection_size = len(sets[i] & sets[j])  \n",
    "\n",
    "            # If you don't remember `&`, you could do this instead:\n",
    "            \"\"\"\n",
    "            intersection_size = 0\n",
    "            for x in sets[i]:\n",
    "                if x in sets[j]:  \n",
    "                    intersection_size += 1  # Count shared elements manually\n",
    "            \"\"\"\n",
    "\n",
    "            # Update best_set only if a larger intersection is found\n",
    "            if intersection_size > max_intersection_size:\n",
    "                max_intersection_size = intersection_size\n",
    "                best_set = sets[i]\n",
    "\n",
    "    if max_intersection_size > 0:\n",
    "        return best_set\n",
    "    else:\n",
    "        return None  # Ensure a valid intersection exists"
   ]
  },
  {
   "cell_type": "code",
   "execution_count": 7,
   "id": "a1beed28",
   "metadata": {},
   "outputs": [
    {
     "name": "stdout",
     "output_type": "stream",
     "text": [
      "{1, 2, 3}\n",
      "{10, 20}\n",
      "None\n"
     ]
    }
   ],
   "source": [
    "\n",
    "# Test cases\n",
    "sets1 = [{1, 2, 3}, {2, 3, 4}, {5, 6}, {2, 3, 5, 6}]\n",
    "print(largest_intersection(sets1))  # Output: {1, 2, 3}\n",
    "\n",
    "sets2 = [{10, 20}, {20, 30}, {30, 40}]\n",
    "print(largest_intersection(sets2))  # Output: {10, 20}\n",
    "\n",
    "sets3 = [{1}, {2}, {3}]\n",
    "print(largest_intersection(sets3))  # Output: None"
   ]
  },
  {
   "cell_type": "markdown",
   "id": "e9f02633",
   "metadata": {},
   "source": [
    "## 3. Dictionaries\n"
   ]
  },
  {
   "cell_type": "markdown",
   "id": "7e8e2042",
   "metadata": {},
   "source": [
    "### 3.1 What is a Dictionary?\n",
    "\n",
    "\n",
    "A **dictionary** is a **key-value** pair data structure that allows fast lookups, insertions, and deletions.\n",
    "\n",
    "- **Keys** must be **unique** and **immutable** (e.g., strings, numbers, tuples).\n",
    "- **Values** can be any data type, including lists, sets, and even other dictionaries.\n",
    "- Dictionaries are **mutable**, meaning they can be modified after creation.\n",
    "\n",
    "\n",
    "| **Property**       | **Description** |\n",
    "|--------------------|----------------|\n",
    "| **Key-Value Pairs** | Stores data in pairs: `{key: value}`. |\n",
    "| **Keys Must Be Unique** | No duplicate keys are allowed. |\n",
    "| **Keys Must Be Immutable** | Keys can be strings, numbers, or tuples, but not lists or sets. |\n",
    "| **Values Can Be Any Type** | Values can be lists, sets, dictionaries, etc. |\n",
    "| **Mutable**       | Elements can be **added, updated, or removed**. |\n"
   ]
  },
  {
   "cell_type": "markdown",
   "id": "f967fefe",
   "metadata": {},
   "source": [
    "Examples of creating Dictionaries:"
   ]
  },
  {
   "cell_type": "code",
   "execution_count": null,
   "id": "e231f648",
   "metadata": {},
   "outputs": [
    {
     "name": "stdout",
     "output_type": "stream",
     "text": [
      "{}\n",
      "{'name': 'Jacob', 'age': 21, 'major': 'Computer Science'}\n",
      "{1: 'one', 'two': 2, 3.0: [3, 3, 3]}\n"
     ]
    }
   ],
   "source": [
    "# Creating an empty dictionary\n",
    "d = {}\n",
    "print(d)  # Output: {}\n",
    "\n",
    "#--------------------------------------\n",
    "\n",
    "# Creating a dictionary with key-value pairs\n",
    "student = {\"name\": \"Jacob\", \"age\": 21, \"major\": \"Computer Science\"}\n",
    "print(student)  # Output: {'name': 'Jacob', 'age': 21, 'major': 'Computer Science'}\n",
    "\n",
    "#--------------------------------------\n",
    "\n",
    "# Dictionaries can have different types of keys and values, but keys must be unique and immutable\n",
    "mixed_dict = {1: \"one\", \"two\": 2, 3.0: [3, 3, 3]}\n",
    "print(mixed_dict)  # Output: {1: 'one', 'two': 2, 3.0: [3, 3, 3]}"
   ]
  },
  {
   "cell_type": "markdown",
   "id": "00be34d5",
   "metadata": {},
   "source": [
    "### 3.2 Accessing and Modifying Values"
   ]
  },
  {
   "cell_type": "code",
   "execution_count": 86,
   "id": "335f9c62",
   "metadata": {},
   "outputs": [
    {
     "name": "stdout",
     "output_type": "stream",
     "text": [
      "student['name']: Jacob\n",
      "student['age']: 21\n",
      "student['age']: Not Available\n",
      "{'name': 'Jacob', 'age': 21, 'major': 'Computer Science', 'GPA': 3.5}\n",
      "{'name': 'Jacob', 'age': 21, 'major': 'Computer Science', 'GPA': 3.7}\n",
      "{'name': 'Jacob', 'age': 21, 'major': 'Computer Science'}\n"
     ]
    }
   ],
   "source": [
    "# Using keys to access values\n",
    "student = {\"name\": \"Jacob\", \"age\": 21, \"major\": \"Computer Science\"}\n",
    "\n",
    "print(\"student['name']:\", student[\"name\"])  # Output: Jacob\n",
    "print(\"student['age']:\", student[\"age\"])   # Output: 21\n",
    "\n",
    "#--------------------------------------\n",
    "\n",
    "# Note: Accessing a non-existent key raises an error: \n",
    "# print(student[\"GPA\"]) # KeyError: 'GPA'\n",
    "\n",
    "# To avoid this, use .get():\n",
    "print(\"student['age']:\", student.get(\"GPA\", \"Not Available\"))  # Output: Not Available\n",
    "\n",
    "#--------------------------------------\n",
    "\n",
    "# Adding a new key-value pair\n",
    "student[\"GPA\"] = 3.5\n",
    "print(student)  # Output: {'name': 'Jacob', 'age': 21, 'major': 'Computer Science', 'GPA': 3.5}\n",
    "\n",
    "#--------------------------------------\n",
    "\n",
    "# Modifying a value\n",
    "student[\"GPA\"] = 3.7\n",
    "print(student)  # Output: {'name': 'Jacob', 'age': 21, 'major': 'Computer Science', 'GPA': 3.7}\n",
    "\n",
    "#--------------------------------------\n",
    "\n",
    "# Removing a key-value pair\n",
    "del student[\"GPA\"]\n",
    "print(student)  # Output: {'name': 'Jacob', 'age': 21, 'major': 'Computer Science'}\n"
   ]
  },
  {
   "cell_type": "markdown",
   "id": "25adbce2",
   "metadata": {},
   "source": [
    "### 3.3 Iterating Through a Dictionary"
   ]
  },
  {
   "cell_type": "code",
   "execution_count": null,
   "id": "14f889f7",
   "metadata": {},
   "outputs": [
    {
     "name": "stdout",
     "output_type": "stream",
     "text": [
      "name\n",
      "age\n",
      "major\n",
      "Jacob\n",
      "21\n",
      "Computer Science\n",
      "name : Jacob\n",
      "age : 21\n",
      "major : Computer Science\n"
     ]
    }
   ],
   "source": [
    "# Iterating through keys\n",
    "student = {'name': 'Jacob', 'age': 21, 'major': 'Computer Science'}\n",
    "\n",
    "#--------------------------------------\n",
    "\n",
    "for key in student:\n",
    "    print(key)  # Outputs: name, age, major\n",
    "\n",
    "#--------------------------------------\n",
    "\n",
    "# Iterating through values\n",
    "for value in student.values():\n",
    "    print(value)  # Outputs: Jacob, 21, Computer Science\n",
    "\n",
    "#--------------------------------------\n",
    "\n",
    "# Iterating through key-value pairs\n",
    "for key, value in student.items():\n",
    "    print(key, \":\",  value)\n",
    "    \n",
    "# Output:\n",
    "# name: Jacob\n",
    "# age: 21\n",
    "# major: Computer Science"
   ]
  },
  {
   "cell_type": "markdown",
   "id": "b759a14c",
   "metadata": {},
   "source": [
    "### 3.4. Dictionary Methods"
   ]
  },
  {
   "cell_type": "markdown",
   "id": "2e2b19b5",
   "metadata": {},
   "source": [
    "\n",
    "```python\n",
    "d = {\"name\": \"Jacob\", \"age\": 21, \"major\": \"Computer Science\", \"GPA\": 3.8}\n",
    "```\n",
    "\n",
    "| **Operation** | **Syntax** | **Description** | **Example** |\n",
    "|--------------|-----------|----------------|-------------|\n",
    "| **Get value** | `d.get(k, v)` | Returns `d[k]` if it exists, else `v` | `d.get(\"age\", 0)` → `21` |\n",
    "| **Add/Update** | `d[k] = v` | Sets `d[k]` to `v` | `d[\"GPA\"] = 3.8` |\n",
    "| **Remove key** | `del d[k]` | Removes `k` from `d` | `del d[\"GPA\"]` |\n",
    "| **Pop key** | `d.pop(k, v)` | Removes `k` and returns its value.  | `d.pop(\"age\", \"Not Found\")` |\n",
    "| **Keys list** | `d.keys()` | Returns a view of all keys | `d.keys()` → `dict_keys([...])` |\n",
    "| **Values list** | `d.values()` | Returns a view of all values | `d.values()` → `dict_values([...])` |\n",
    "| **Items list** | `d.items()` | Returns key-value pairs | `d.items()` → `dict_items([...])` |\n",
    "| **Clear dictionary** | `d.clear()` | Removes all items from `d` | `d.clear()` → `{}` |\n",
    "| **Copy dictionary** | `d.copy()` | Returns a shallow copy of `d` | `d2 = d.copy()` |"
   ]
  },
  {
   "cell_type": "markdown",
   "id": "cfb2d7e2",
   "metadata": {},
   "source": [
    "### Problem 5: Merging Dictionaries"
   ]
  },
  {
   "cell_type": "markdown",
   "id": "796fc461",
   "metadata": {},
   "source": [
    "**Problem Statement**\n",
    "\n",
    "Write a function merge_dicts(d1, d2) that takes two dictionaries as input, where:\n",
    "- Both dictionaries have strings as keys and integers as values.\n",
    "\n",
    "The function returns a new dictionary where:\n",
    "- If a key exists in both dictionaries, its value in the new dictionary should be the sum of the values from both dictionaries.\n",
    "- If a key exists in only one dictionary, it should remain unchanged in the result.\n",
    "\n",
    "Constraints:\n",
    "\n",
    "- The function must not modify the original dictionaries.\n",
    "- The function must return a new dictionary.\n",
    "\n",
    "\n",
    "\n",
    "\n",
    "```python\n",
    "# ------------------------------------------------------------------------------\n",
    "```\n",
    "\n",
    "Example:\n",
    "```python\n",
    "d1 = {'a': 3, 'b': 5, 'c': 2}\n",
    "d2 = {'b': 7, 'c': 4, 'd': 8}\n",
    "print(merge_dicts(d1, d2)) #Output: {'a': 3, 'b': 12, 'c': 6, 'd': 8}\n",
    "```\n",
    "\n",
    "\n"
   ]
  },
  {
   "cell_type": "code",
   "execution_count": 101,
   "id": "4c977a97",
   "metadata": {},
   "outputs": [],
   "source": [
    "def merge_dicts(d1, d2):\n",
    "    \"\"\"\n",
    "    (dict, dict) -> dict\n",
    "    Merges two dictionaries by summing values of common keys.\n",
    "    If a key is only in one dictionary, it remains unchanged.\n",
    "\n",
    "    \"\"\"\n",
    "    merged = d1.copy()  # Start with a copy of the first dictionary\n",
    "\n",
    "    for key, value in d2.items():\n",
    "        if key in merged:\n",
    "            merged[key] += value  # Add values if key exists in both\n",
    "        else:\n",
    "            merged[key] = value  # Add new key-value pair\n",
    "\n",
    "    return merged"
   ]
  },
  {
   "cell_type": "code",
   "execution_count": 103,
   "id": "d102003b",
   "metadata": {},
   "outputs": [
    {
     "name": "stdout",
     "output_type": "stream",
     "text": [
      "{'a': 3, 'b': 12, 'c': 6, 'd': 8}\n",
      "{'x': 10, 'y': 35, 'z': 25}\n"
     ]
    }
   ],
   "source": [
    "# Test cases\n",
    "d1 = {'a': 3, 'b': 5, 'c': 2}\n",
    "d2 = {'b': 7, 'c': 4, 'd': 8}\n",
    "print(merge_dicts(d1, d2))  \n",
    "# Output: {'a': 3, 'b': 12, 'c': 6, 'd': 8}\n",
    "\n",
    "d3 = {'x': 10, 'y': 20}\n",
    "d4 = {'y': 15, 'z': 25}\n",
    "print(merge_dicts(d3, d4))  \n",
    "# Output: {'x': 10, 'y': 35, 'z': 25}"
   ]
  },
  {
   "cell_type": "markdown",
   "id": "50a54ddd",
   "metadata": {},
   "source": [
    "### Problem 6: Finding Students Enrolled in a Given Class"
   ]
  },
  {
   "cell_type": "markdown",
   "id": "b3fb073f",
   "metadata": {},
   "source": [
    "**Problem Statement**\n",
    "\n",
    "- Complete the function get_student_class(student_to_class, myclass) according to its docstring.\n"
   ]
  },
  {
   "cell_type": "code",
   "execution_count": null,
   "id": "6e945113",
   "metadata": {},
   "outputs": [],
   "source": [
    "def get_student_class(student_to_class, myclass):\n",
    "\n",
    "    \"\"\"\n",
    "    (dict, str) -> list[str]\n",
    "    \n",
    "    In student_to_class, keys are student names and values are lists of classes each student is enrolled in.\n",
    "    myclass is a class name given as string (such as 'aps106'). Return a list of students from student_to_class who are enrolled in `myclass`.\n",
    "    If no student is enrolled in `myclass`, return an empty list.\n",
    "\n",
    "    \"\"\"\n",
    "\n",
    "\n",
    "    students_in_class = []  # List to store students found in myclass\n",
    "\n",
    "    for student, classes in student_to_class.items():\n",
    "        if myclass in classes:  # Check if the class is in the student's list\n",
    "            students_in_class.append(student)\n",
    "\n",
    "    return students_in_class\n"
   ]
  },
  {
   "cell_type": "code",
   "execution_count": 88,
   "id": "d610259e",
   "metadata": {},
   "outputs": [
    {
     "name": "stdout",
     "output_type": "stream",
     "text": [
      "['Ana', 'Frank']\n",
      "['Ana', 'Rachel']\n",
      "['Ana']\n",
      "[]\n"
     ]
    }
   ],
   "source": [
    "# Test cases\n",
    "D = {'Ana': ['csc258', 'aps106', 'mat188'], \n",
    "     'Frank': ['aps106', 'mat182'], \n",
    "     'Rachel': ['mat188']}\n",
    "\n",
    "print(get_student_class(D, 'aps106'))  # Output: ['Ana', 'Frank']\n",
    "print(get_student_class(D, 'mat188'))  # Output: ['Ana', 'Rachel']\n",
    "print(get_student_class(D, 'csc258'))  # Output: ['Ana']\n",
    "print(get_student_class(D, 'phy101'))  # Output: []"
   ]
  },
  {
   "cell_type": "markdown",
   "id": "11a88027",
   "metadata": {},
   "source": [
    "## 4. Advanced Functions\n"
   ]
  },
  {
   "cell_type": "markdown",
   "id": "cbb3dcc3",
   "metadata": {},
   "source": [
    "### 4.1 What Are Optional Parameters?"
   ]
  },
  {
   "cell_type": "markdown",
   "id": "d782598e",
   "metadata": {},
   "source": [
    "-\tIn Python, functions can have **optional parameters** with **default values**.\n",
    "-\tThese parameters **don’t need to be explicitly specified** when calling the function.\n"
   ]
  },
  {
   "cell_type": "markdown",
   "id": "4a4d320a",
   "metadata": {},
   "source": [
    "### 4.2 Optional Parameters in Built-in Functions"
   ]
  },
  {
   "cell_type": "markdown",
   "id": "a6cf18a5",
   "metadata": {},
   "source": [
    "The print() function has several optional parameters with default values:\n",
    "\n",
    "```python \n",
    "print(value, ..., sep=' ', end='\\n', file=sys.stdout, flush=False)\n",
    "```\n",
    "\n",
    "- sep → Defines the separator between values **(default: space ' ')**.\n",
    "- \tend → Defines what is printed at the end **(default: newline '\\n')**.\n",
    "- \tfile → Specifies where to print **(default: sys.stdout)**.\n",
    "- \tflush → Forces flushing of the output **(default: False)**."
   ]
  },
  {
   "cell_type": "code",
   "execution_count": null,
   "id": "8489fb09",
   "metadata": {},
   "outputs": [
    {
     "name": "stdout",
     "output_type": "stream",
     "text": [
      "one two three four\n",
      "one...two...three...four!!!!"
     ]
    }
   ],
   "source": [
    "#Example\n",
    "\n",
    "print(\"one\", \"two\", \"three\", \"four\")  # Default behavior\n",
    "# Output: one two three four\n",
    "\n",
    "# We can specify different values for sep and end\n",
    "print(\"one\", \"two\", \"three\", \"four\", sep=\"...\", end=\"!!!!\")\n",
    "# Output: one...two...three...four!!!!"
   ]
  },
  {
   "cell_type": "markdown",
   "id": "e85cb5ec",
   "metadata": {},
   "source": [
    "### 4.3 Optional Parameters in User-Defined Functions\n"
   ]
  },
  {
   "cell_type": "markdown",
   "id": "a63270a3",
   "metadata": {},
   "source": [
    "You can define optional parameters with default values in your own functions."
   ]
  },
  {
   "cell_type": "code",
   "execution_count": 10,
   "id": "ac6b04fb",
   "metadata": {},
   "outputs": [
    {
     "name": "stdout",
     "output_type": "stream",
     "text": [
      "Using the default value: 6\n",
      "Default value overridden: 15\n"
     ]
    }
   ],
   "source": [
    "def func(x, y=2):\n",
    "    return x * y\n",
    "\n",
    "# the y parameter takes on the default value 2\n",
    "print('Using the default value:', func(3)) #Output: 6\n",
    "\n",
    "# the default value of y is overriden\n",
    "print('Default value overridden:', func(3, 5)) #Output: 15\n"
   ]
  },
  {
   "cell_type": "markdown",
   "id": "48b4abf4",
   "metadata": {},
   "source": [
    "\n",
    "## 5. Aliasing\n"
   ]
  },
  {
   "cell_type": "markdown",
   "id": "a6b0d272",
   "metadata": {},
   "source": [
    "- Aliasing occurs when two variables reference the same object in memory.\n",
    "- If an object is mutable, changes made through one variable are visible to all aliases."
   ]
  },
  {
   "cell_type": "code",
   "execution_count": 11,
   "id": "45cff429",
   "metadata": {},
   "outputs": [
    {
     "name": "stdout",
     "output_type": "stream",
     "text": [
      "['hi', 4, 6, 8]\n",
      "['hi', 4, 6, 8]\n",
      "True\n",
      "True\n",
      "False\n"
     ]
    }
   ],
   "source": [
    "lst1 = [2, 4, 6, 8]\n",
    "lst2 = lst1  # lst2 is an alias for lst1\n",
    "lst2[0] = \"hi\"\n",
    "\n",
    "print(lst1)  # Output: ['hi', 4, 6, 8]\n",
    "print(lst2)  # Output: ['hi', 4, 6, 8]\n",
    "\n",
    "# Checking for Aliasing (Identity Check)\n",
    "print(lst1 is lst2)  # Output: True\n",
    "\n",
    "# Difference Between \"==\" (Equality) and \"is\" (Identity)\n",
    "lst3 = [2, 4, 6, 8]\n",
    "lst4 = [2, 4, 6, 8]\n",
    "\n",
    "print(lst3 == lst4)  # Output: True (Both lists have the same content)\n",
    "print(lst3 is lst4)  # Output: False (They are different objects in memory)"
   ]
  },
  {
   "cell_type": "markdown",
   "id": "827c0af6",
   "metadata": {},
   "source": [
    "### 5.1  Mutable Objects as Function Arguments"
   ]
  },
  {
   "cell_type": "markdown",
   "id": "255be463",
   "metadata": {},
   "source": [
    "- Mutable objects (like lists and dictionaries) are passed by reference to functions. This means that when you pass a mutable object to a function, the function receives a reference to the original object, not a copy. Therefore, any changes made to the object within the function will directly affect the original object outside the function.\n"
   ]
  },
  {
   "cell_type": "code",
   "execution_count": null,
   "id": "5a03a6e6",
   "metadata": {},
   "outputs": [
    {
     "name": "stdout",
     "output_type": "stream",
     "text": [
      "[[1, 2], [2, 3]]\n",
      "[[1, 2], [2, 3], [1, 2], [2, 3]]\n"
     ]
    }
   ],
   "source": [
    "# Example 1\n",
    "\n",
    "def func(my_input):\n",
    "\tmy_input *= 2   # The list that my_input references is modified 'in place'\n",
    "\t\n",
    "\n",
    "x = [[1, 2], [2,3]]\n",
    "print(x) # [[1, 2], [2,3]] (Original list)\n",
    "\n",
    "func(x)  # When the function is called, variables x and my_input become aliases \n",
    "print(x) # [[1, 2], [3, 4], [1, 2], [3, 4]] The value of x was affected by the execution of the function\n"
   ]
  },
  {
   "cell_type": "code",
   "execution_count": 16,
   "id": "9a919b09",
   "metadata": {},
   "outputs": [
    {
     "name": "stdout",
     "output_type": "stream",
     "text": [
      "[[1, 2], [2, 3]]\n",
      "[[1, 2], [2, 3]]\n"
     ]
    }
   ],
   "source": [
    "# Example 2\n",
    "\n",
    "def func1(my_input):\n",
    "\tmy_input = my_input + my_input  # my_input is now a new list, not an alias (it references a new list)\n",
    "\t\n",
    "\n",
    "x = [[1, 2], [2,3]]\n",
    "print(x) # [[1, 2], [2,3]]\n",
    "\n",
    "func1(x)\n",
    "print(x) # [[1, 2], [2,3]] (The value of x was not affected by the execution of the function)\n"
   ]
  },
  {
   "cell_type": "code",
   "execution_count": null,
   "id": "f430cf90",
   "metadata": {},
   "outputs": [
    {
     "name": "stdout",
     "output_type": "stream",
     "text": [
      "[[1, 2], [2, 3]]\n",
      "[[1, 2], [2, 3], [1, 2], [2, 3]]\n"
     ]
    }
   ],
   "source": [
    "# Example 3\n",
    "\n",
    "def func1(my_input):\n",
    "\tmy_input += my_input        # The operator += does NOT create a new list.\n",
    "\t                            # Instead, += modifies my_input in-place by extending it.\n",
    "\t                            # my_input.extend(my_input) is happening behind the scenes.\n",
    "\t                            # x is modified in-place to [[1, 2], [2, 3], [1, 2], [2, 3]].\n",
    "\t\n",
    "\n",
    "x = [[1, 2], [2,3]]\n",
    "print(x) # [[1, 2], [2,3]]\n",
    "\n",
    "func1(x)\n",
    "print(x) # [[1, 2], [2, 3], [1, 2], [2, 3]]\n"
   ]
  },
  {
   "cell_type": "markdown",
   "id": "65c27c64",
   "metadata": {},
   "source": [
    "### 5.2 Immutable Objects as Function Arguments"
   ]
  },
  {
   "cell_type": "markdown",
   "id": "5fa5b585",
   "metadata": {},
   "source": [
    "- Immutable objects (like integers, strings, and tuples) cannot be modified inside functions.\n",
    "- Functions receive a reference to the original object, but modifications create a new object.\n"
   ]
  },
  {
   "cell_type": "code",
   "execution_count": null,
   "id": "ae430e3f",
   "metadata": {},
   "outputs": [
    {
     "name": "stdout",
     "output_type": "stream",
     "text": [
      "5\n"
     ]
    }
   ],
   "source": [
    "# Example 1\n",
    "\n",
    "def func(my_input):\n",
    "\tmy_input *= 2  # Creates a new integer, does NOT modify the original. (Integers are immutable)\n",
    "\n",
    "x = 5\n",
    "func(x)\n",
    "print(x) # 5 (The value of x was not affected by the execution of the function)\n"
   ]
  },
  {
   "cell_type": "code",
   "execution_count": null,
   "id": "bcbdc4fa",
   "metadata": {},
   "outputs": [
    {
     "name": "stdout",
     "output_type": "stream",
     "text": [
      "5\n"
     ]
    }
   ],
   "source": [
    "# Example 2\n",
    "\n",
    "def func(my_input):\n",
    "\tmy_input = my_input*2  # Creates a new integer, does NOT modify the original. (Integers are immutable)\n",
    "\n",
    "\n",
    "x = 5\n",
    "func(x)\n",
    "print(x) # 5 (The value of x was not affected by the execution of the function)"
   ]
  },
  {
   "cell_type": "markdown",
   "id": "429f1e9f",
   "metadata": {},
   "source": [
    "### 5.3  Mutable Components Inside Immutable Objects"
   ]
  },
  {
   "cell_type": "markdown",
   "id": "7f21e4ec",
   "metadata": {},
   "source": [
    "- An immutable object (e.g., a tuple) can contain mutable elements.\n",
    "- Modifications to mutable elements affect the original object."
   ]
  },
  {
   "cell_type": "code",
   "execution_count": 72,
   "id": "28db6963",
   "metadata": {},
   "outputs": [
    {
     "name": "stdout",
     "output_type": "stream",
     "text": [
      "([100, 2], [3, 4])\n"
     ]
    }
   ],
   "source": [
    "# Example\n",
    "\n",
    "def modify_tuple(t):\n",
    "    t[0][0] = 100  # Modifies the mutable list inside the tuple\n",
    "\n",
    "x = ([1, 2], [3, 4])  # A tuple containing lists\n",
    "modify_tuple(x)\n",
    "print(x)  # Output: ([100, 2], [3, 4])"
   ]
  },
  {
   "cell_type": "markdown",
   "id": "e1562959",
   "metadata": {},
   "source": [
    "### 5.4 Preventing Unwanted Aliasing\n"
   ]
  },
  {
   "cell_type": "markdown",
   "id": "b8045b18",
   "metadata": {},
   "source": [
    "- If you want to modify an object inside a function without affecting the original, create a copy.\n",
    "\n",
    "For Example:\n",
    "\n",
    "```python\n",
    "y = x.copy()   # Shallow copy\n",
    "y = x[:]       # Slice copy\n",
    "y = list(x)    # Constructor copy\n",
    "```"
   ]
  },
  {
   "cell_type": "code",
   "execution_count": 73,
   "id": "482e6d55",
   "metadata": {},
   "outputs": [
    {
     "name": "stdout",
     "output_type": "stream",
     "text": [
      "[1, 2, 3]\n"
     ]
    }
   ],
   "source": [
    "#Example:\n",
    "\n",
    "def safe_modify(my_list):\n",
    "    my_list = my_list.copy()  # Creates a copy\n",
    "    my_list.append(100)  # Modifies the copy\n",
    "\n",
    "x = [1, 2, 3]\n",
    "safe_modify(x)\n",
    "print(x)  # Output: [1, 2, 3]"
   ]
  },
  {
   "cell_type": "markdown",
   "id": "f5412cf6",
   "metadata": {},
   "source": [
    "## 6. Appendix: Review Practice Problems"
   ]
  },
  {
   "cell_type": "markdown",
   "id": "2c460623",
   "metadata": {},
   "source": [
    "### Problem 7: Calculating Student Averages from Test Scores"
   ]
  },
  {
   "cell_type": "markdown",
   "id": "ece3171f",
   "metadata": {},
   "source": [
    "**Problem Statement**\n",
    "\n",
    "You are given a nested list representing a table of student grades. Each row contains:\n",
    "\n",
    "1.\tStudent name (string)\n",
    "2.\tA tuple of grades (each tuple contains three integers representing scores from different tests)\n",
    "\n",
    "Write a function process_grades(table) that:\n",
    "-\tComputes the average score for each student.\n",
    "-\tReturns a dictionary where:\n",
    "-\tThe keys are student names.\n",
    "-\tThe values are the average of their grades, rounded to two decimal places.\n",
    "\n",
    "\n",
    "\n",
    "```python\n",
    "# ------------------------------------------------------------------------------\n",
    "```\n",
    "\n",
    "Example:\n",
    "```python\n",
    "grades_table = [\n",
    "    [\"Sara\", (85, 90, 78)],\n",
    "    [\"Bob\", (88, 76, 92)],\n",
    "    [\"Diego\", (70, 80, 85)]\n",
    "]\n",
    "\n",
    "print(process_grades(grades_table))\n",
    "\n",
    "#Output: {'Sara': 84.33, 'Bob': 85.33, 'Diego': 78.33}\n",
    "\n",
    "```\n",
    "\n",
    "\n",
    "```python\n",
    "# ------------------------------------------------------------------------------\n",
    "```"
   ]
  },
  {
   "cell_type": "code",
   "execution_count": null,
   "id": "b8eccc00",
   "metadata": {},
   "outputs": [],
   "source": [
    "def process_grades(table):\n",
    "    \"\"\"\n",
    "    (list) -> dict\n",
    "    \n",
    "    Given a nested list of student names and their grades (as tuples),\n",
    "    return a dictionary mapping each student to their average grade,\n",
    "    rounded to two decimal places.\n",
    "    \"\"\"\n",
    "    result = {}  # Dictionary to store student names and their average scores\n",
    "\n",
    "    for row in table:  # Iterate through rows of the table\n",
    "        \n",
    "        name = row[0] # Extract student name\n",
    "        grades = row [1] # Extract grades\n",
    "\n",
    "        # You can also use tuple unpacking:\n",
    "        # name, grades = row\n",
    "\n",
    "\n",
    "        avg_grade = round(sum(grades) / len(grades), 2)  # Compute the average\n",
    "        result[name] = avg_grade  # Store in dictionary\n",
    "\n",
    "    return result\n",
    "\n"
   ]
  },
  {
   "cell_type": "code",
   "execution_count": 25,
   "id": "b8f93b53",
   "metadata": {},
   "outputs": [
    {
     "name": "stdout",
     "output_type": "stream",
     "text": [
      "{'Sara': 84.33, 'Bob': 85.33, 'Diego': 78.33}\n",
      "{'David': 97.67, 'Emma': 79.67}\n"
     ]
    }
   ],
   "source": [
    "# Test cases\n",
    "grades_table1 = [\n",
    "    [\"Sara\", (85, 90, 78)],\n",
    "    [\"Bob\", (88, 76, 92)],\n",
    "    [\"Diego\", (70, 80, 85)]\n",
    "]\n",
    "print(process_grades(grades_table1))  \n",
    "# Output: {'Sara': 84.33, 'Bob': 85.33, 'Diego': 78.33}\n",
    "\n",
    "grades_table2 = [\n",
    "    [\"David\", (100, 95, 98)],\n",
    "    [\"Emma\", (78, 82, 79)]\n",
    "]\n",
    "print(process_grades(grades_table2))  \n",
    "# Output: {'David': 97.67, 'Emma': 79.67}"
   ]
  },
  {
   "cell_type": "markdown",
   "id": "ff53647e",
   "metadata": {},
   "source": [
    "### Problem 8: Analyzing Factory Production Data"
   ]
  },
  {
   "cell_type": "markdown",
   "id": "a224402e",
   "metadata": {},
   "source": [
    "**Problem Statement**\n",
    "\n",
    "A manufacturing company tracks monthly production data for multiple factories over a year in a nested list, where:\n",
    "\n",
    "- Each row represents a factory.\n",
    "- The first element in each row is the factory name (string).\n",
    "- The remaining 12 elements represent the number of units produced per month (integer values from January to December).\n",
    "\n",
    "Write a function factory_performance(data, min_production) that:\n",
    " 1.\tFinds the factory with the highest total yearly production.\n",
    " 2.\tFinds all factories that produced at least min_production units every month.\n",
    " 3.\tReturns a tuple containing:\n",
    "- A dictionary mapping each factory to its total production for the year.\n",
    "- The name of the factory with the highest total production.\n",
    "- A list of factories that met the minimum monthly production requirement, sorted alphabetically.\n",
    "\n",
    "\n",
    "\n",
    "\n",
    "```python\n",
    "# ------------------------------------------------------------------------------\n",
    "```\n",
    "\n",
    "Example:\n",
    "```python\n",
    "production_data = [\n",
    "    [\"Factory A\", 500, 520, 490, 530, 550, 580, 600, 620, 610, 590, 570, 560],\n",
    "    [\"Factory B\", 600, 610, 620, 630, 640, 650, 660, 670, 680, 690, 700, 710],\n",
    "    [\"Factory C\", 400, 420, 410, 430, 440, 450, 460, 470, 480, 490, 500, 510],\n",
    "    [\"Factory D\", 550, 560, 570, 580, 590, 600, 610, 620, 630, 640, 650, 660]\n",
    "]\n",
    "\n",
    "# ----------------\n",
    "\n",
    "# 1. \n",
    "print(factory_performance(production_data, 500))\n",
    "\n",
    "#Output:\n",
    "({'Factory A': 6830, 'Factory B': 7860, 'Factory C': 5460, 'Factory D': 7260}, 'Factory B', ['Factory A', 'Factory B', 'Factory D'])\n",
    "\n",
    "# ----------------\n",
    "\n",
    "# 2.\n",
    "print(factory_performance(production_data, 600))\n",
    "\n",
    "#Output:\n",
    "({'Factory A': 6830, 'Factory B': 7860, 'Factory C': 5460, 'Factory D': 7260}, 'Factory B', ['Factory B', 'Factory D'])\n",
    "```\n",
    "\n"
   ]
  },
  {
   "cell_type": "code",
   "execution_count": 117,
   "id": "e876127f",
   "metadata": {},
   "outputs": [],
   "source": [
    "def factory_performance(data, min_production):\n",
    "    \"\"\"\n",
    "    (list, int) -> (dict, str, list)\n",
    "\n",
    "    Given a nested list where each row contains a factory name followed by 12 monthly production numbers,\n",
    "    return:\n",
    "    - A dictionary mapping each factory to its total yearly production.\n",
    "    - The factory with the highest total production.\n",
    "    - A sorted list of factories that produced at least `min_production` units in every month.\n",
    "    \"\"\"\n",
    "    factory_totals = {}  # Dictionary to store total production per factory\n",
    "    highest_production = float(\"-inf\")\n",
    "    highest_producing_factory = None\n",
    "    consistent_factories = []\n",
    "\n",
    "    for row in data:\n",
    "        factory_name = row[0]  # Extract factory name\n",
    "        production = row[1:]  # Extract monthly production values\n",
    "        total_production = sum(production)  # Compute total yearly production\n",
    "        factory_totals[factory_name] = total_production  # Store total production\n",
    "\n",
    "        # Track the highest producing factory\n",
    "        if total_production > highest_production:\n",
    "            highest_production = total_production\n",
    "            highest_producing_factory = factory_name\n",
    "\n",
    "        # Check if factory meets minimum production requirement for every month\n",
    "        meets_threshold = True\n",
    "        for units in production:\n",
    "            if units < min_production:\n",
    "                meets_threshold = False\n",
    "                break  # No need to check further for this factory\n",
    "\n",
    "        if meets_threshold:\n",
    "            consistent_factories.append(factory_name)\n",
    "\n",
    "    return factory_totals, highest_producing_factory, sorted(consistent_factories)\n"
   ]
  },
  {
   "cell_type": "code",
   "execution_count": 119,
   "id": "56535dcd",
   "metadata": {},
   "outputs": [
    {
     "name": "stdout",
     "output_type": "stream",
     "text": [
      "({'Factory A': 6720, 'Factory B': 7860, 'Factory C': 5460, 'Factory D': 7260}, 'Factory B', ['Factory B', 'Factory D'])\n",
      "({'Factory A': 6720, 'Factory B': 7860, 'Factory C': 5460, 'Factory D': 7260}, 'Factory B', ['Factory B'])\n"
     ]
    }
   ],
   "source": [
    "# Test cases\n",
    "production_data = [\n",
    "    [\"Factory A\", 500, 520, 490, 530, 550, 580, 600, 620, 610, 590, 570, 560],\n",
    "    [\"Factory B\", 600, 610, 620, 630, 640, 650, 660, 670, 680, 690, 700, 710],\n",
    "    [\"Factory C\", 400, 420, 410, 430, 440, 450, 460, 470, 480, 490, 500, 510],\n",
    "    [\"Factory D\", 550, 560, 570, 580, 590, 600, 610, 620, 630, 640, 650, 660]\n",
    "]\n",
    "print(factory_performance(production_data, 500))  \n",
    "# Output: ({'Factory A': 6830, 'Factory B': 7860, 'Factory C': 5460, 'Factory D': 7260}, 'Factory B', ['Factory A', 'Factory B', 'Factory D'])\n",
    "\n",
    "print(factory_performance(production_data, 600))  \n",
    "# Output: ({'Factory A': 6830, 'Factory B': 7860, 'Factory C': 5460, 'Factory D': 7260}, 'Factory B', ['Factory B', 'Factory D'])"
   ]
  }
 ],
 "metadata": {
  "kernelspec": {
   "display_name": "AdvKG",
   "language": "python",
   "name": "python3"
  },
  "language_info": {
   "codemirror_mode": {
    "name": "ipython",
    "version": 3
   },
   "file_extension": ".py",
   "mimetype": "text/x-python",
   "name": "python",
   "nbconvert_exporter": "python",
   "pygments_lexer": "ipython3",
   "version": "3.12.4"
  }
 },
 "nbformat": 4,
 "nbformat_minor": 5
}
