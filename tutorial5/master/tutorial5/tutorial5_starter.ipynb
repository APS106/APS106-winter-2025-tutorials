{
 "cells": [
  {
   "cell_type": "markdown",
   "id": "0a5e6e48",
   "metadata": {},
   "source": [
    "<div style=\"text-align:center; border: 2px solid #2E86C1; border-radius: 10px; padding: 30px; background-color: #F4F6F7;\">\n",
    "\n",
    "<h1 style=\"color:#154360; font-family:'Georgia', serif; font-size: 2.8em; margin-bottom: 20px;\">APS106: Fundamentals of Computer Programming</h1>\n",
    "\n",
    "<h2 style=\"color:#1A5276; font-family:'Palatino Linotype', 'Book Antiqua', serif; font-size: 2.0em; margin-bottom: 30px;\">Tutorial 5, Week 6</h2>\n",
    "\n",
    "<h3 style=\"color:#6C3483; font-family:'Cambria', serif; font-size: 1.8em; text-decoration: underline; margin-bottom: 15px;\">Topics Covered</h3>\n",
    "<p style=\"text-align:center; font-family:'Trebuchet MS', sans-serif; font-size: 1.3em; line-height: 1.8;\">\n",
    "  <span style=\"color:#D35400; font-weight:bold;\">Programming Concepts</span><br>\n",
    "  <span style=\"color:#283747;\">• String Indexing and Slicing</span><br>\n",
    "  <span style=\"color:#283747;\">• String Objects and String Methods</span><br>\n",
    "  <span style=\"color:#283747;\">• File I/O</span><br>\n",
    "</p>\n",
    "\n",
    "<h3 style=\"color:#6C3483; font-family:'Cambria', serif; font-size: 1.8em; text-decoration: underline; margin-bottom: 15px;\">Goals for This Tutorial</h3>\n",
    "<p style=\"text-align:center; font-family:'Verdana', sans-serif; font-size: 1.2em; line-height: 1.8;\">\n",
    "  <span style=\"color:#21618C;\">• Know how to access string components using indexing and slicing.</span><br>\n",
    "    <span style=\"color:#21618C;\">• Understand the notion of object and method and how to call methods.</span><br>\n",
    "  <span style=\"color:#21618C;\">• Know how to open, read, and write files.</span><br>\n",
    "\n",
    "</p>\n",
    "</div>"
   ]
  },
  {
   "cell_type": "markdown",
   "id": "90023f69",
   "metadata": {},
   "source": [
    "### How to Launch Jupyter Notebook Locally\n",
    "\n",
    "### Using VS Code (easiest way)\n",
    "- Download `tutorial5.zip` from Quercus and extract the zip folder.\n",
    "- Open VS Code.\n",
    "- Go to File -> Open Folder and Select `tutorial5_starter.ipynb` in the extracted folder.\n",
    "\n",
    "### Using Anaconda Navigator (if you prefer an interface similar to JupyterHub)\n",
    "- Open Anaconda Navigator.\n",
    "- Go to <b>Environments</b>.\n",
    "- Click on the Run button (triangle) next to `base (root)`.\n",
    "- Select \"Open Terminal\".\n",
    "- Verify that Jupyter is installed by running the following command:\n",
    "        pip install jupyter\n",
    "- Navigate to the directory containing `tutorial5_starter.ipynb`:\n",
    "        cd C:/Users/YourName/path/to/your/tutorial5\n",
    "- Start Jupyter Notebook:\n",
    "        jupyter notebook"
   ]
  },
  {
   "cell_type": "markdown",
   "id": "89beb25d",
   "metadata": {},
   "source": [
    "### Today's Topics\n",
    "1. [String Indexing and Slicing](#Section1)\n",
    "    - [String Indexing](#Section1a)\n",
    "        - [Problem 1: Print Your Name Using Indexing](#Problem1)\n",
    "    - [String Slicing](#Section1b)\n",
    "        - [Problem 2: Decode the Hidden Message!](#Problem2)\n",
    "2. [String Objects and String Methods](#section2)\n",
    "    - [Escape Sequences](#Section2a)\n",
    "    - [String Immutability](#Section2b)\n",
    "    - [String Methods and Method Chaining](#Section2c)\n",
    "    - [Problem 3: Text Cleaning](#Problem3)\n",
    "    - [Conversion between Data Types](#Section2d)\n",
    "3. [File I/Os](#section3)\n",
    "    - [Opening and Closing a File](#Section3a)\n",
    "    - [Writing to a File](#Section3b)\n",
    "        - [Problem 4: Writing to a Text File in Python](#Problem4)\n",
    "    - [Reading a File](#Section3c)\n",
    "        - [Problem 5: Acrostic Message](#Problem5)\n",
    "4. [Take-home Practice Questions](#section4)\n",
    "    - [Problem 6: String Sum](#Problem6)\n",
    "    - [Problem 7: Longest Digit Substring](#Problem7)"
   ]
  },
  {
   "cell_type": "markdown",
   "id": "668c9e48",
   "metadata": {},
   "source": [
    "<a id='Section1'></a>\n",
    "# Section 1: String Indexing and Slicing"
   ]
  },
  {
   "cell_type": "markdown",
   "id": "cb94d4f3",
   "metadata": {},
   "source": [
    "<a id='Section1a'></a>\n",
    "## String Indexing\n",
    "\n",
    "#### Definition/Syntax:\n",
    "- An index is a <b>position</b> in the string \n",
    "\n",
    "- The syntax: `String[idx]`, where `idx` is an integer, e.g., `s[5]`, `\"Hello\"[-3]`\n",
    "\n",
    "\n",
    "#### Things to be noted:\n",
    "\n",
    "- the index operator returns a <b>string</b>\n",
    "\n",
    "- Indexing starts at position <b>0</b> !!\n",
    "\n",
    "- The index must be an <b>integer</b> !!"
   ]
  },
  {
   "cell_type": "markdown",
   "id": "c57325f8",
   "metadata": {},
   "source": [
    "For the string \"I Love Cats\", the indices are:\n",
    "\n",
    "| 0 | 1 | 2 | 3 | 4 | 5 | 6 | 7 | 8 | 9 | 10 |\n",
    "| --- | --- | ---| --- | --- | ---| --- | --- | ---| --- | --- | \n",
    "| I |  | L | o | v | e | | C | a | t | s |\n",
    "| -11 | -10 | -9 | -8 | -7 | -6 | -5 | -4 | -3 | -2 | -1 | \n",
    "\n",
    "The first character of the string is at index 0 and can be accessed using square brackets."
   ]
  },
  {
   "cell_type": "markdown",
   "id": "a01150d0",
   "metadata": {},
   "source": [
    "<a id='Problem1'></a>\n",
    "### Problem 1: Print Your Name Using Indexing\n",
    "\n",
    "Let’s practice indexing with a quick exercise! Given the string `letters=\"abcdefg...`, use indexing and concatenation to construct your first name and print it. Try mixing both positive and negative indexing!"
   ]
  },
  {
   "cell_type": "code",
   "execution_count": null,
   "id": "1361cfe9",
   "metadata": {},
   "outputs": [],
   "source": [
    "letters = \"abcdefghijklmnopqrstuvwxyz\"\n",
    "\n",
    "# Hint: Example of string concatenation\n",
    "faculty = \"APS\"\n",
    "number = \"106\"\n",
    "course = faculty + number # 'APS106'\n",
    "\n",
    "#TODO: construct your first name using indexing and concatenation\n",
    "first_name = _________________\n",
    "\n",
    "# Print your first name\n",
    "print(\"My name is: \", first_name)"
   ]
  },
  {
   "cell_type": "markdown",
   "id": "ce07cfc1",
   "metadata": {},
   "source": [
    "<a id='Section1b'></a>\n",
    "## String Slicing\n",
    "\n",
    "We can extract more than one character (or substring) using slicing. A slice is a substring from the start index up to **but not including** the end index.\n",
    "\n",
    "#### Syntax:\n",
    "- `String[start : end]`, e.g., `\"Hello\"[0:2]` returns `\"He\"`\n",
    "- `String[start : end : step]`, e.g., `\"Toronto\"[0:5:2]` returns `\"Trn\"`\n",
    "\n",
    "#### When either start or end are missing:\n",
    "- `String[:i]` is same as `String[0:i]`\n",
    "- `String[i:]` is same as `String[i:len(String)]`\n",
    "\n",
    "Here are some examples:"
   ]
  },
  {
   "cell_type": "code",
   "execution_count": null,
   "id": "858312d2",
   "metadata": {},
   "outputs": [],
   "source": [
    "# Start index is missing\n",
    "String = \"Hello\"\n",
    "print(String[:2])\n",
    "print(String[0:2])\n",
    "\n",
    "# End index is missing\n",
    "String = \"Hello\"\n",
    "print(String[3:])\n",
    "print(String[3:len(String)])"
   ]
  },
  {
   "cell_type": "markdown",
   "id": "693059d5",
   "metadata": {},
   "source": [
    "#### Negative Steps\n",
    "\n",
    "When using a negative step, slicing moves <b>backward</b>. This means that if you specify both `start` and `end`, the `start` index must be to the right of the `end` index."
   ]
  },
  {
   "cell_type": "code",
   "execution_count": null,
   "id": "a16c1ce1",
   "metadata": {},
   "outputs": [],
   "source": [
    "# Extract \"cat\" from String\n",
    "String = \"Spectacular\"\n",
    "\n",
    "print(\"Does this work? 1: \", String[4:7:-1]) # Does not work (empty result)\n",
    "\n",
    "# Below works! Start at position 6 ('c'), going backward \n",
    "# and stop at position 4 (= 3 + 1) ('t')\n",
    "print(\"Does this work? 2: \", String[6:3:-1])"
   ]
  },
  {
   "cell_type": "markdown",
   "id": "2fce60e3",
   "metadata": {},
   "source": [
    "<a id='Problem2'></a>\n",
    "### Problem 2: Decode the Hidden Message!\n",
    "\n",
    "Let’s practice slicing! You were exploring the ancient <i>Python ruins</i> when you discovered a stone tablet engraved with a hidden message! The tablet reads:\n",
    "\n",
    "`SecretMessage = \"YcnovguAkW+Mihrljgl-:A+Moc3t0eoG\"`\n",
    "\n",
    "Your task is to decode the hidden message using the following instructions found elsewhere in the ruins:\n",
    "\n",
    "- \"`Word1`: Take every <b>third</b> character from the <b>1st</b> to the <b>19th</b> character.\"\n",
    "- \"`Word2`: Extract every <b>second</b> character in <b>reverse</b> order, stopping after the third extracted character\". \n",
    "    - (Try to use slicing first, but if it's too difficult, indexing is okay too.)\n",
    "- \"`Word3`: Take the <b>21st</b> and <b>22nd</b> characters.\"\n",
    "- \"Concatenate Word 1, Word 2, and Word 3 to reveal the hidden message.\"\n",
    "\n",
    "<b>Important Note</b>: The instructions refer to character positions in the English sense—for example, the 1st character means the very first letter of the string. However, Python uses zero-based indexing, meaning the first character is at index 0, the second at index 1, and so on. Also keep in mind that the character at the `end` index is NOT included in the selection!"
   ]
  },
  {
   "cell_type": "code",
   "execution_count": null,
   "id": "2d5e3a72",
   "metadata": {},
   "outputs": [],
   "source": [
    "SecretMessage = \"YcnovguAkW+Mihrljgl-:A+Moc3t0eoG\"\n",
    "\n",
    "#TODO\n",
    "Word1 = ______________\n",
    "Word2 = ______________\n",
    "Word3 = ______________\n",
    "\n",
    "print(\"Hidden Message: \", Word1 + Word2 + Word3)"
   ]
  },
  {
   "cell_type": "markdown",
   "id": "fd21d97b",
   "metadata": {},
   "source": [
    "<a id='Section2'></a>\n",
    "# Section 2:  String Objects and String Methods"
   ]
  },
  {
   "cell_type": "markdown",
   "id": "d85ac9c0",
   "metadata": {},
   "source": [
    "<a id='Section2a'></a>\n",
    "## Escape Sequences"
   ]
  },
  {
   "cell_type": "markdown",
   "id": "c7e5c071",
   "metadata": {},
   "source": [
    "- The `\\` character and the character that follows are called an _escape sequence_.\n",
    "- When used in strings in sequence with other characters, print() treats `\\` as follows:\n",
    "\n",
    " | Escape Sequence | Meaning      | Example              | Output |\n",
    " |:---------------:|:------------:|:---------------------|:-------|\n",
    " |\\n               | newline      | \"How\\nare\\nyou?\"     | How<br>are<br>you|\n",
    " |\\t               | tab          | '3\\t4\\t5'            | 3&nbsp;&nbsp;&nbsp;&nbsp;4&nbsp;&nbsp;&nbsp;&nbsp;5       |\n",
    " |\\\\               | backslash    | '\\\\\\\\'               | \\                |\n",
    " |\\'               | single quote | 'don\\\\'t'            | don't            |\n",
    " |\\\"               | double quote | \"He says, \\\\\"hi\\\\\".\" | He says, \"hi\".   |\n"
   ]
  },
  {
   "cell_type": "markdown",
   "id": "2a980a7d",
   "metadata": {},
   "source": [
    "<a id='Section2b'></a>\n",
    "## String Immutability\n",
    "\n",
    "Strings are <b>IMMUTABLE</b>: Slicing and indexing <b>DO NOT modify</b> the string they are acting on.\n",
    "\n",
    "Try the following example:"
   ]
  },
  {
   "cell_type": "code",
   "execution_count": null,
   "id": "dbc9f84c",
   "metadata": {},
   "outputs": [],
   "source": [
    "s = 'YOLO'\n",
    "s[1] = 'P' # You CANNOT change Y to P!"
   ]
  },
  {
   "cell_type": "markdown",
   "id": "9fb66b7f",
   "metadata": {},
   "source": [
    "### How to \"modify\" a string? $\\rightarrow$ You CAN'T modify strings!\n",
    "\n",
    "To update part of a string,\n",
    "\n",
    "<b>Case 1: </b>You want to preserve the existing string value (a.k.a. the value to be \"modified\")\n",
    "1. Create a new string using the \"old\" string\n",
    "2. Assign the new string to a \"new\" variable"
   ]
  },
  {
   "cell_type": "code",
   "execution_count": null,
   "id": "5618e526",
   "metadata": {},
   "outputs": [],
   "source": [
    "string = \"This is hard\"\n",
    "\n",
    "# Case 1\n",
    "new_string = string[0:8] + \"easy!\"\n",
    "print(\"new string      : \", new_string)\n",
    "\n",
    "# We can still reference the original string value\n",
    "print(\"original string : \", string)"
   ]
  },
  {
   "cell_type": "markdown",
   "id": "44dbdac4",
   "metadata": {},
   "source": [
    "<b>Case 2: </b>You do not want to preserve the existing string value\n",
    "1. Create a new string using the \"old\" string\n",
    "2. Assign the new string to the \"old\" variable"
   ]
  },
  {
   "cell_type": "code",
   "execution_count": null,
   "id": "f8ba7037",
   "metadata": {},
   "outputs": [],
   "source": [
    "string = \"This is hard\"\n",
    "\n",
    "# Case 2\n",
    "string = string[0:8] + \"easy!\"\n",
    "print(string) # Original string value is gone"
   ]
  },
  {
   "cell_type": "markdown",
   "id": "12189b8f",
   "metadata": {},
   "source": [
    "<a id='Section2c'></a>\n",
    "## String Methods and Method Chaining\n",
    "\n",
    "A <b>method</b> is a special type of function that is associated with a particular type of object (= a method is something that an object can do).\n",
    "\n",
    "General syntax: `object_name.method_name(arguments)`\n",
    "\n",
    "Here are some examples of methods for string type objects:"
   ]
  },
  {
   "cell_type": "code",
   "execution_count": null,
   "id": "835608b2",
   "metadata": {},
   "outputs": [],
   "source": [
    "name = 'Christine'\n",
    "\n",
    "print('lower                : ', name.lower())\n",
    "print('upper                : ', name.upper())\n",
    "print('find the index of i  : ', name.find('i'))\n",
    "print('rfind the index of i : ', name.rfind('i'))\n",
    "print('replace i with y     : ', name.replace('i', 'y'))\n",
    "print('name                 : ', name) # The original string remains same!\n"
   ]
  },
  {
   "cell_type": "code",
   "execution_count": null,
   "id": "9d9f93ca",
   "metadata": {},
   "outputs": [],
   "source": [
    "# Methods can be chained\n",
    "name = 'Christine'\n",
    "\n",
    "print(name.lower().replace('ch', 'k'))"
   ]
  },
  {
   "cell_type": "markdown",
   "id": "0f4bb0cd",
   "metadata": {},
   "source": [
    "<a id='Problem3'></a>\n",
    "### Problem 3: Text Cleaning\n",
    "\n",
    "You are a scientist at the Planetary Science Research Institute, receiving signals from a space probe. The signals are transmitted as a sequence of digits (0-9), but due to interference, some unwanted characters may get mixed in as noise.\n",
    "\n",
    "Your task is to write a function that processes the incoming signal, extracts only the digits, and returns them as an integer.\n",
    "\n",
    "Requirements:\n",
    "- The input signal is a string.\n",
    "- The function removes any non-numeric characters and return the cleaned digits (preserve the order of the digits).\n",
    "- The output should be an integer.\n",
    "- (You can assume that the first digit is not 0.)\n",
    "\n",
    "Example input:\n",
    "\n",
    "    string = \"4\\n%$8!2__vm0\\5e\\\\96\"\n",
    "\n",
    "Example output:\n",
    "\n",
    "    4820596"
   ]
  },
  {
   "cell_type": "code",
   "execution_count": null,
   "id": "02e99abe",
   "metadata": {},
   "outputs": [],
   "source": [
    "def clean_signal(signal):\n",
    "    #TODO\n",
    "\n",
    "s = \"4\\n%$8!2__vm0\\5e\\\\96\"\n",
    "print(clean_signal(s)) # 4820596"
   ]
  },
  {
   "cell_type": "markdown",
   "id": "07f6c823",
   "metadata": {},
   "source": [
    "<a id='Section2d'></a>\n",
    "## Conversion between Data Types\n",
    "\n",
    "- `str()` takes in an object and returns the string representation of that object.\n",
    "- `int()` and `float()` take in an object and attempt to return its number representation.\n",
    "\n",
    "Note: `int()` cannot take a string representation of a decimal number!"
   ]
  },
  {
   "cell_type": "code",
   "execution_count": null,
   "id": "3c20f1e0",
   "metadata": {},
   "outputs": [],
   "source": [
    "print(int('10'))\n",
    "\n",
    "print(int('10.1')) # How to fix this?"
   ]
  },
  {
   "cell_type": "markdown",
   "id": "6c0f5b1e",
   "metadata": {},
   "source": [
    "<a id='Section3'></a>\n",
    "# Section 3:  File I/Os"
   ]
  },
  {
   "cell_type": "markdown",
   "id": "a582bbb1",
   "metadata": {},
   "source": [
    "<a id='Section3a'></a>\n",
    "### Opening and Closing a File\n",
    "\n",
    "The general form for opening a file is:\n",
    "\n",
    "    myfile = open(file_path, mode)\n",
    "\n",
    "`mode` can be:\n",
    "-  `'r'` for reading\n",
    "- `'w'` for writing\n",
    "- `'a'` for appending\n",
    "- (`'r+'` for reading and writing)\n",
    "- (`'a+'` for appending and reading)\n",
    "\n",
    "`open()` returns a `file` object."
   ]
  },
  {
   "cell_type": "markdown",
   "id": "02b35778",
   "metadata": {},
   "source": [
    "To close a file, call the `close()` method for the `file` object:\n",
    "\n",
    "        myfile.close()\n",
    "\n",
    "Note: Always <span style=\"color:red;\"><b>close</b></span> a file that you’ve opened!\n",
    "- Many changes won't be saved until the file is closed\n",
    "- If a file is left open and later modified elsewhere, it might cause inconsistent results when accessed again"
   ]
  },
  {
   "cell_type": "markdown",
   "id": "a55ffd24",
   "metadata": {},
   "source": [
    "<a id='Section3b'></a>\n",
    "### Writing to a File\n",
    "\n",
    "To write to a file, first open a text file with the writing mode (<span style=\"color:red;\">\"w\"</span>):\n",
    "\n",
    "    myfile = open(\"test.txt\", \"w\")\n",
    "\n",
    "\n",
    "Then, call the `write` method:\n",
    "\n",
    "    myfile.write(\"My first file ...\")\n",
    "\n",
    "\n",
    "Once we have finished with the file, we need to close it:\n",
    "\n",
    "    myfile.close()\n"
   ]
  },
  {
   "cell_type": "markdown",
   "id": "f89e4ef1",
   "metadata": {},
   "source": [
    "<a id='Problem4'></a>\n",
    "## Problem 4: Writing to a Text File in Python\n",
    "\n",
    "Write a function that repeatedly asks the user for input until they enter `'close'`. Each input should be written to 'tutorial5_p4.txt', with each string appearing on a new line.\n",
    "\n",
    "Requirements:\n",
    "- The function should <b>repeatedly</b> ask the user for input.\n",
    "- Each input string should be written to 'tutorial5_p4.txt', starting on a <b>new line</b>.\n",
    "- The process should continue until the user enters <b>'close'</b>.\n",
    "- The keyword `'close'` to finish writing will not be written to the `.txt` file.\n",
    "\n",
    "Additional Requirements: \n",
    "- (The function should only stop if the input is exactly 'close' (case-sensitive). If 'close' appears as part of a longer string, the function should continue prompting.)\n",
    "- (The function will create an empty `.txt` file if the first input is `'close'`.)\n",
    "\n",
    "Instructions:\n",
    "- Try this question in your local environment! Download `tutorial5_starter.ipynb` and open it using VS Code, Terminal, or Command Prompt to work through the problem.\n",
    "- The `.txt` file should be created in the same folder as this notebook!"
   ]
  },
  {
   "cell_type": "code",
   "execution_count": null,
   "id": "7add64d8",
   "metadata": {},
   "outputs": [],
   "source": [
    "def write_to_file():\n",
    "    #TODO\n",
    "\n",
    "write_to_file() # Try typing \"apple\" \"banana\" \"cherry\" \"close\""
   ]
  },
  {
   "cell_type": "markdown",
   "id": "cee6b97d",
   "metadata": {},
   "source": [
    "<a id='Section3c'></a>\n",
    "### Reading a File\n",
    "\n",
    "To read a file, first open a text file with the reading mode (<span style=\"color:red;\">\"r\"</span>):\n",
    "\n",
    "    storyfile = open(\"my_story.txt\", \"r\")\n",
    "\n",
    "#### Approach 1: Call the `read` method\n",
    "\n",
    "    story_string = storyfile.read()\n",
    "    \n",
    "<b>WARNING</b>: this approach is not optimal when the text file is large!\n",
    "\n",
    "#### Approach 2: Call the `readline` method\n",
    "\n",
    "```python\n",
    "storyfile = open(\"my_story.txt\", \"r\")\n",
    "# This reads only the first line\n",
    "line = storyfile.readline()\n",
    "contents = \"\"\n",
    "\n",
    "# We loop through the rest of the file, \n",
    "# one line at a time until we get to an empty line (\"\")\n",
    "while line != \"\":\n",
    "    # Append the line to the contents string iteratively. \n",
    "    # The \\n is preserved\n",
    "\tcontents += line\n",
    "\tline = storyfile.readline()\n",
    "\n",
    "# Don't forget to close the file!\n",
    "myfile.close()\n",
    "\n",
    "# To print out the file contents, print the variable we created\n",
    "print(contents)\n",
    "\n",
    "\n",
    "```"
   ]
  },
  {
   "cell_type": "markdown",
   "id": "13cb9d8f",
   "metadata": {},
   "source": [
    "<a id='Problem5'></a>\n",
    "## Problem 5: Acrostic Message\n",
    "\n",
    "Write a function that reads a `.txt` file and returns a string formed by concatenating the first letter of each line in the file.\n",
    "\n",
    "Requirements:\n",
    "- The input is a filename (e.g., `\"acrostic.txt\"`).\n",
    "- You can assume that there is no empty line in the text.\n",
    "\n",
    "<b>Example Input</b> (`\"acrostic.txt\"`):\n",
    "\n",
    "Curled up cozy in the sun,\n",
    "\n",
    "Always purring just for fun.\n",
    "\n",
    "Tiptoes silent, eyes so bright,\n",
    "\n",
    "Lazing soft in morning light.\n",
    "\n",
    "Over tables, chairs, and more,\n",
    "\n",
    "Vaulting high, they soar and soar.\n",
    "\n",
    "Every moment full of grace,\n",
    "\n",
    "Running free—a feline chase!\n",
    "\n",
    "<b>Output: </b>\n",
    "CATLOVER"
   ]
  },
  {
   "cell_type": "code",
   "execution_count": null,
   "id": "7a0b566f",
   "metadata": {},
   "outputs": [],
   "source": [
    "# Write your code"
   ]
  },
  {
   "cell_type": "markdown",
   "id": "82253bcc",
   "metadata": {},
   "source": [
    "<a id='section4'></a>\n",
    "# Take-home Practice Questions"
   ]
  },
  {
   "cell_type": "markdown",
   "id": "01696d1c",
   "metadata": {},
   "source": [
    "<a id='Problem6'></a>\n",
    "## Problem 6: String Sum\n",
    "\n",
    "write a function `string_sum()` that takes in a string and returns the sum of the digits that appear in the input string. Characters other than digits are ignored.\n",
    "\n",
    "\t>>> string_sum(\"PYnative29@#8496\") \n",
    "         38\n",
    "\n",
    "Additional requirement: \n",
    " use a `while` loop to solve this question.\n",
    "\n",
    "\n",
    "\n",
    "\n"
   ]
  },
  {
   "cell_type": "code",
   "execution_count": null,
   "id": "bf001f9f",
   "metadata": {},
   "outputs": [],
   "source": [
    "# Write your code"
   ]
  },
  {
   "cell_type": "markdown",
   "id": "656922ee",
   "metadata": {},
   "source": [
    "<a id='Problem7'></a>\n",
    "## Problem 7: Longest Digit Substring\n",
    "\n",
    "Write a function `longest_digit_substring()` that takes in a string and returns the longest consecutive substring of digits (0-9) found in the input string. If there are multiple substrings of the same length, return the first one. If no digits are found, return an empty string.\n",
    "\n",
    "    >>> longest_digit_substring(\"The year 2024 is here, but 123456 is longer!\")  \n",
    "    \"123456\"\n",
    "\n",
    "    >>> longest_digit_substring(\"abc99def888ghi7777\")\n",
    "    \"7777\"\n",
    "\n",
    "    >>> longest_digit_substring(\"No numbers here!\")  \n",
    "\n",
    "Additional Requirement:\n",
    "- Use a `while` loop to solve this question."
   ]
  },
  {
   "cell_type": "code",
   "execution_count": null,
   "id": "3ba7062d",
   "metadata": {},
   "outputs": [],
   "source": [
    "# Write your code"
   ]
  }
 ],
 "metadata": {
  "kernelspec": {
   "display_name": "Python 3 (ipykernel)",
   "language": "python",
   "name": "python3"
  },
  "language_info": {
   "codemirror_mode": {
    "name": "ipython",
    "version": 3
   },
   "file_extension": ".py",
   "mimetype": "text/x-python",
   "name": "python",
   "nbconvert_exporter": "python",
   "pygments_lexer": "ipython3",
   "version": "3.8.10"
  }
 },
 "nbformat": 4,
 "nbformat_minor": 5
}
