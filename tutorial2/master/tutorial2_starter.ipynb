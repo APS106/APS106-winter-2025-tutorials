{
 "cells": [
  {
   "cell_type": "markdown",
   "metadata": {},
   "source": [
    "<div style=\"text-align:center; border: 2px solid #2E86C1; border-radius: 10px; padding: 30px; background-color: #F4F6F7;\">\n",
    "\n",
    "<h1 style=\"color:#154360; font-family:'Georgia', serif; font-size: 2.8em; margin-bottom: 20px;\">APS106: Fundamentals of Computer Programming</h1>\n",
    "\n",
    "<h2 style=\"color:#1A5276; font-family:'Palatino Linotype', 'Book Antiqua', serif; font-size: 2.0em; margin-bottom: 30px;\">Tutorial 2, Week 3</h2>\n",
    "\n",
    "<h3 style=\"color:#6C3483; font-family:'Cambria', serif; font-size: 1.8em; text-decoration: underline; margin-bottom: 15px;\">Topics Covered</h3>\n",
    "<p style=\"text-align:center; font-family:'Trebuchet MS', sans-serif; font-size: 1.3em; line-height: 1.8;\">\n",
    "  <span style=\"color:#D35400; font-weight:bold;\">Programming Concepts</span><br>\n",
    "  <span style=\"color:#283747;\">• Functions</span><br>\n",
    "  <span style=\"color:#283747;\">• Importing Modules</span><br>\n",
    "  <span style=\"color:#283747;\">• Input/Output</span><br>\n",
    "</p>\n",
    "\n",
    "<h3 style=\"color:#6C3483; font-family:'Cambria', serif; font-size: 1.8em; text-decoration: underline; margin-top: 30px; margin-bottom: 15px;\">Goals for This Tutorial</h3>\n",
    "<p style=\"text-align:center; font-family:'Verdana', sans-serif; font-size: 1.2em; line-height: 1.8;\">\n",
    "  <span style=\"color:#21618C;\">• Understand the role of functions in Python.</span><br>\n",
    "  <span style=\"color:#21618C;\">• Explore the use of predefined functions and modules.</span><br>\n",
    "  <span style=\"color:#21618C;\">• Practice using interactive user input.</span><br>\n",
    "  <span style=\"color:#21618C;\">• Solve programming problems using multiple functions.</span>\n",
    "</p>\n",
    "\n",
    "</div>"
   ]
  },
  {
   "cell_type": "markdown",
   "metadata": {},
   "source": [
    "# 1. Review of Functions"
   ]
  },
  {
   "cell_type": "markdown",
   "metadata": {},
   "source": [
    "## What is a Function?\n"
   ]
  },
  {
   "cell_type": "markdown",
   "metadata": {},
   "source": [
    "A **function** is a reusable block of code designed to perform a specific task. Functions help in breaking down complex problems into smaller, manageable parts and make code easier to read, debug, and maintain."
   ]
  },
  {
   "cell_type": "code",
   "execution_count": null,
   "metadata": {},
   "outputs": [],
   "source": [
    "def greet(name):                             # 1. Function definition & parameter\n",
    "    \"\"\"This function greets the user.\"\"\"     # 2. Docstring (optional)\n",
    "    message = \"Hello, \" + name + \"!\"         # 3. Function body (code block)\n",
    "    return message                           # 4. Return statement (optional)\n",
    "\n",
    "result = greet(\"James\")                      # 5. Calling the function & argument\n",
    "print(result)"
   ]
  },
  {
   "cell_type": "markdown",
   "metadata": {},
   "source": [
    "Functions must be defined before they are first used. If you are using a Jupyter notebook file, the code cell that defines your function must be run before any code cell that calls it."
   ]
  },
  {
   "cell_type": "markdown",
   "metadata": {},
   "source": [
    "## Why Use Functions?"
   ]
  },
  {
   "cell_type": "markdown",
   "metadata": {},
   "source": [
    "- To avoid code repetition.\n",
    "- To make code easier to understand and maintain.\n",
    "- To break complex problems into smaller, manageable parts."
   ]
  },
  {
   "cell_type": "markdown",
   "metadata": {},
   "source": [
    "## What Are Predefined Functions?\n"
   ]
  },
  {
   "cell_type": "markdown",
   "metadata": {},
   "source": [
    "**Predefined functions** (also called *built-in functions*) are functions that come ready to use in Python. You don’t need to write them yourself—they’re already included in Python and can be used directly in your code.  \n",
    "\n",
    "These functions perform common tasks like printing information, performing basic calculations, or rounding numbers."
   ]
  },
  {
   "cell_type": "markdown",
   "metadata": {},
   "source": [
    "Here are some commonly used predefined functions in Python (some of which we've already used before):\n",
    "\n",
    "- `print()` – Displays text or variables on the screen.\n",
    "- `type()` – Returns the data type of a variable.\n",
    "- `input()` – Collects input from the user.\n",
    "- `round()` – Rounds a number to the nearest integer or specified decimal places.  \n",
    "- `abs()` – Returns the absolute value of a number.\n",
    "- `min()` – Returns the smallest value from multiple arguments.  \n",
    "- `max()` – Returns the largest value from multiple arguments."
   ]
  },
  {
   "cell_type": "code",
   "execution_count": null,
   "metadata": {},
   "outputs": [],
   "source": [
    "print(\"This is a predefined function!\")"
   ]
  },
  {
   "cell_type": "code",
   "execution_count": null,
   "metadata": {},
   "outputs": [],
   "source": [
    "smallest = min(4, 2, 8, 1)\n",
    "print(\"The smallest number is: \", smallest)"
   ]
  },
  {
   "cell_type": "code",
   "execution_count": null,
   "metadata": {},
   "outputs": [],
   "source": [
    "name = input(\"What's your name?\")\n",
    "print(\"Hello\", name)"
   ]
  },
  {
   "cell_type": "markdown",
   "metadata": {},
   "source": [
    "# 2. Writing Your Own Functions"
   ]
  },
  {
   "cell_type": "markdown",
   "metadata": {},
   "source": [
    "The code block below is very redundant. Try streamlining it by placing the redundant code into a function and calling the function where we need it."
   ]
  },
  {
   "cell_type": "code",
   "execution_count": null,
   "metadata": {},
   "outputs": [],
   "source": [
    "def total_cost(item_cost, quantity):\n",
    "    \"\"\"This function calculates the total cost of purchasing multiple items.\"\"\"\n",
    "\n",
    "    # Write your function here\n",
    "\n",
    "    return\n",
    "\n",
    "apple_cost = 5\n",
    "apple_quantity = 3\n",
    "apple_total = apple_cost * apple_quantity\n",
    "\n",
    "orange_cost = 10\n",
    "orange_quantity = 2\n",
    "ornage_total = orange_cost * orange_quantity\n",
    "\n",
    "banana_cost = 7\n",
    "banana_quantity = 4\n",
    "banana_total = banana_cost * banana_quantity\n",
    "\n",
    "print(\"Total Cost:\", apple_cost + orange_cost + banana_cost)"
   ]
  },
  {
   "cell_type": "markdown",
   "metadata": {},
   "source": [
    "# 3. Importing Modules in Python"
   ]
  },
  {
   "cell_type": "markdown",
   "metadata": {},
   "source": [
    "## What is a Module?"
   ]
  },
  {
   "cell_type": "markdown",
   "metadata": {},
   "source": [
    "In Python, a **module** is a file that contains Python code (usually for a specific purpose). Modules allow us to organize code into manageable parts and reuse functionality across multiple programs. Python has several predefined modules for common purposes, such as the `math` module, `Pandas` for data analysis, and `scikit-learn` for machine learning."
   ]
  },
  {
   "cell_type": "markdown",
   "metadata": {},
   "source": [
    "## How to Import and Use Modules"
   ]
  },
  {
   "cell_type": "markdown",
   "metadata": {},
   "source": [
    "```python\n",
    "# 1. Import the module\n",
    "import module_name  # This imports the entire module.\n",
    "\n",
    "# 2. Call a function from the module\n",
    "module_name.function_name()  # This calls the 'function_name' from the module."
   ]
  },
  {
   "cell_type": "markdown",
   "metadata": {},
   "source": [
    "The `math` module is often used to access functions that perform more advanced math operations."
   ]
  },
  {
   "cell_type": "code",
   "execution_count": null,
   "metadata": {},
   "outputs": [],
   "source": [
    "import math\n",
    "\n",
    "print(math.sqrt(196))\n",
    "print(math.cos(65))\n",
    "print(math.log(81, 3))"
   ]
  },
  {
   "cell_type": "markdown",
   "metadata": {},
   "source": [
    "Write a function that converts degrees to radians without the `math` module, using the formula: $$radians = degrees * (\\frac{\\pi}{180})$$"
   ]
  },
  {
   "cell_type": "code",
   "execution_count": null,
   "metadata": {},
   "outputs": [],
   "source": [
    "def degrees_to_radians(degrees):\n",
    "    \"\"\"This function converts degrees to radians.\"\"\"\n",
    "\n",
    "    return  # Return the radians value here\n",
    "\n",
    "# Example usage\n",
    "degree_value = 45  # Degrees to convert\n",
    "radian_value = degrees_to_radians(degree_value)\n",
    "print(degree_value, \"degrees is equal to\", radian_value, \"radians.\")"
   ]
  },
  {
   "cell_type": "markdown",
   "metadata": {},
   "source": [
    "Rewrite the same function using the `radians()` function in the `math` module."
   ]
  },
  {
   "cell_type": "code",
   "execution_count": null,
   "metadata": {},
   "outputs": [],
   "source": [
    "import math\n",
    "\n",
    "def degrees_to_radians(degrees):\n",
    "    \"\"\"This function converts degrees to radians.\"\"\"\n",
    "\n",
    "    return  # Return the radians value here\n",
    "\n",
    "# Example usage\n",
    "degree_value = 45  # Degrees to convert\n",
    "radian_value = degrees_to_radians(degree_value)\n",
    "print(degree_value, \"degrees is equal to\", radian_value, \"radians.\")"
   ]
  },
  {
   "cell_type": "markdown",
   "metadata": {},
   "source": [
    "# 4. Input/Output in Python"
   ]
  },
  {
   "cell_type": "markdown",
   "metadata": {},
   "source": [
    "In Python, we can take dynamic input from the user while we run a program using the `input()` function. This function will always return a string, which means that we may need to convert the input to the data type we need."
   ]
  },
  {
   "cell_type": "markdown",
   "metadata": {},
   "source": [
    "Modify the program above to accept dynamic user input for the degree value."
   ]
  },
  {
   "cell_type": "markdown",
   "metadata": {},
   "source": [
    "# 5. Problem Solving Using Functions"
   ]
  },
  {
   "cell_type": "markdown",
   "metadata": {},
   "source": [
    "Let's practice breaking down problems into functions.\n",
    "\n",
    "You are planning a road trip and you want to calculate how much you will need to spend on fuel.\n",
    "\n",
    "Write a program that:\n",
    "\n",
    "1. Takes user input for the distance they are planning to travel (km), the fuel efficiency of their car (km/L), and the price of fuel ($/L)\n",
    "2. Calculates the total amount of fuel required for the trip\n",
    "3. Calculates the total cost of fuel required for the trip\n",
    "4. Outputs the total cost to the user"
   ]
  },
  {
   "cell_type": "code",
   "execution_count": null,
   "metadata": {},
   "outputs": [],
   "source": [
    "# Define your functions here\n",
    "\n",
    "# Example usage\n",
    "distance = None\n",
    "fuel_eff = None\n",
    "fuel_price = None\n",
    "\n",
    "\n",
    "print(f\"The total cost of the trip is: ${None}\")"
   ]
  },
  {
   "cell_type": "markdown",
   "metadata": {},
   "source": [
    "Let's put everything we've learned together to solve a more complex problem!\n",
    "\n",
    "Write a program that:\n",
    "\n",
    "1. Takes 3 coordinates as arguments (x1, y1, x2, y2, x3, y3)\n",
    "2. Calculates the distance between each set of coordinates (1-2, 2-3, 1-3)\n",
    "3. Finds and outputs the shortest distance"
   ]
  },
  {
   "cell_type": "markdown",
   "metadata": {},
   "source": [
    "How many functions should we use?\n",
    "Can we simplify the process with some built-in `math` functions?\n",
    "Try adding dynamic user input into the program!\n",
    "\n",
    "The Euclidean distance formula is:\n",
    "\n",
    "$$d = \\sqrt{(x_2 - x_1)^2 + (y_2 - y_1)^2} $$\n",
    "\n",
    "You may find the functions `math.sqrt()` and `math.min()` helpful."
   ]
  },
  {
   "cell_type": "code",
   "execution_count": null,
   "metadata": {},
   "outputs": [],
   "source": [
    "# Define your imports here\n",
    "\n",
    "# Define your function(s) here\n",
    "\n",
    "\n",
    "# Example usage - try changing this to accept dynamic user input\n",
    "x1, y1 = 1, 2\n",
    "x2, y2 = 4, 6\n",
    "x3, y3 = 7, 8\n",
    "\n",
    "shortest_distance = None  # Replace this with your result\n",
    "\n",
    "print(\"The shortest distance is:\", shortest_distance)"
   ]
  }
 ],
 "metadata": {
  "kernelspec": {
   "display_name": "base",
   "language": "python",
   "name": "python3"
  },
  "language_info": {
   "codemirror_mode": {
    "name": "ipython",
    "version": 3
   },
   "file_extension": ".py",
   "mimetype": "text/x-python",
   "name": "python",
   "nbconvert_exporter": "python",
   "pygments_lexer": "ipython3",
   "version": "3.12.4"
  }
 },
 "nbformat": 4,
 "nbformat_minor": 2
}
