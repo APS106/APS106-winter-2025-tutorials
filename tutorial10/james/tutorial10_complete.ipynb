{
 "cells": [
  {
   "cell_type": "markdown",
   "id": "0a5e6e48",
   "metadata": {},
   "source": [
    "<div style=\"text-align:center; border: 2px solid #2E86C1; border-radius: 10px; padding: 30px; background-color: #F4F6F7;\">\n",
    "\n",
    "<h1 style=\"color:#154360; font-family:'Georgia', serif; font-size: 2.8em; margin-bottom: 20px;\">APS106: Fundamentals of Computer Programming</h1>\n",
    "\n",
    "<h2 style=\"color:#1A5276; font-family:'Palatino Linotype', 'Book Antiqua', serif; font-size: 2.0em; margin-bottom: 30px;\">Tutorial 10, Week 11</h2>\n",
    "\n",
    "<h3 style=\"color:#6C3483; font-family:'Cambria', serif; font-size: 1.8em; text-decoration: underline; margin-bottom: 15px;\">Topics Covered</h3>\n",
    "<p style=\"text-align:center; font-family:'Trebuchet MS', sans-serif; font-size: 1.3em; line-height: 1.8;\">\n",
    "  <span style=\"color:#D35400; font-weight:bold;\">Programming Concepts (revisiting)</span><br>\n",
    "  <span style=\"color:#283747;\">• User-Defined Classes and Methods</span><br>\n",
    "  <span style=\"color:#283747;\">• Advanced Functions</span><br> \n",
    "  <span style=\"color:#283747;\">• Aliasing</span><br>\n",
    "</p>\n",
    "\n",
    "<h3 style=\"color:#6C3483; font-family:'Cambria', serif; font-size: 1.8em; text-decoration: underline; margin-bottom: 15px;\">Goals for This Tutorial</h3>\n",
    "<p style=\"text-align:center; font-family:'Verdana', sans-serif; font-size: 1.2em; line-height: 1.8;\">\n",
    "  <span style=\"color:#21618C;\">• Understand how and when to use user-defined classes.</span><br> \n",
    "  <span style=\"color:#21618C;\">• Understand how to define, instantiate, and call a class and its methods.</span><br> \n",
    "  <span style=\"color:#21618C;\">• Review aliasing and advanced functions.</span><br>\n",
    "</p>\n",
    "</div>\n",
    "\n",
    "\n"
   ]
  },
  {
   "cell_type": "markdown",
   "id": "89beb25d",
   "metadata": {},
   "source": [
    "### Today's Topics\n",
    "1. [User-Defined Classes and Methods](#1-user-defined-classes-and-methods)\n",
    "    - [Creating Classes](#creating-classes)\n",
    "    - [Why Use Classes?](#problem-1-gamer-class)\n",
    "    - [What is `self`?](#what-is-self)\n",
    "    - [Duplicating Elements in a Class](#duplicating-elements-in-a-class)\n",
    "    - [Problem 1: Gamer Class](#problem-1-gamer-class)\n",
    "    - [Problem 2: Music Playlist](#problem-2-music-playlist)\n",
    "    - [Problem 2: Music Playlist Continued](#problem-2-music-playlist-continued)\n",
    "    - [Problem 3: Ticket System](#problem-3-ticket-system)\n",
    "2. [Advanced Functions](#2-advanced-functions)\n",
    "    - [Problem 4: Print Dog](#problem-4-print-dog)\n",
    "    - [Problem 5: Counting Consecutively](#problem-5-counting-consecutively)\n",
    "    - [Bonus Problem: Carbon Chains](#bonus-problem-carbon-chains)\n",
    "3. [Aliasing](#3-aliasing)\n",
    "    - [Problem 6: Task Tracker](#problem-6-task-tracker)\n",
    "    - [Problem 7: Identify Output](#problem-7-identify-output)"
   ]
  },
  {
   "cell_type": "markdown",
   "id": "ad6bfd3a",
   "metadata": {},
   "source": [
    "<a id='1User-Defined'></a>\n",
    "## 1. User-Defined Classes and Methods"
   ]
  },
  {
   "cell_type": "markdown",
   "id": "7f9805f9",
   "metadata": {},
   "source": [
    "### Creating Classes"
   ]
  },
  {
   "cell_type": "markdown",
   "id": "a55ffd24",
   "metadata": {},
   "source": [
    "In Python, you can define your own classes to model real-world objects or concepts, and you can define methods to perform actions on those objects. Classes help you organize and manage complex data by grouping related information and behaviors.\n",
    "\n",
    "**Key Concepts:**\n",
    "- Class: A blueprint for creating objects. It defines the attributes and methods that an object of this class will have.\n",
    "- Method: A function that is defined inside a class and operates on the objects created from the class.\n",
    "- Object: An instance of a class. It contains the data and methods defined in the class."
   ]
  },
  {
   "cell_type": "code",
   "execution_count": 18,
   "id": "0dad2600",
   "metadata": {},
   "outputs": [
    {
     "name": "stdout",
     "output_type": "stream",
     "text": [
      "Buddy says Woof!\n"
     ]
    }
   ],
   "source": [
    "class Dog:\n",
    "    def __init__(self, name, breed):\n",
    "        # Constructor method to initialize attributes\n",
    "        self.name = name\n",
    "        self.breed = breed\n",
    "        self.energy = 100\n",
    "    \n",
    "    def bark(self):\n",
    "        # Method that makes the dog bark\n",
    "        print(self.name + \" says Woof!\")\n",
    "\n",
    "    def run(self):\n",
    "        # Method that makes the dog run\n",
    "        if self.energy > 0:\n",
    "            self.energy -= 10\n",
    "            print(self.name + \" is running! Energy left: \" + str(self.energy))\n",
    "        else:\n",
    "            print(self.name + \" is too tired to run!\")\n",
    "\n",
    "    def sleep(self):\n",
    "        # Method that makes the dog sleep\n",
    "        self.energy = 100\n",
    "        print(self.name + \" is sleeping and regains full energy!\")\n",
    "\n",
    "# Creating an object (instance) of the Dog class\n",
    "dog1 = Dog(\"Buddy\", \"Golden Retriever\")\n",
    "\n",
    "# Calling a method on the object\n",
    "dog1.bark()  # Output: Buddy says Woof!\n"
   ]
  },
  {
   "cell_type": "markdown",
   "id": "73fd75bf",
   "metadata": {},
   "source": [
    "We created a `Dog` object: `dog1`. `dog1` has its own name, breed, and energy attributes. Calling each of these methods makes Buddy the dog do things."
   ]
  },
  {
   "cell_type": "markdown",
   "id": "3aa8d04b",
   "metadata": {},
   "source": [
    "### Why Use Classes?"
   ]
  },
  {
   "cell_type": "markdown",
   "id": "7d7a0fd9",
   "metadata": {},
   "source": [
    "What if we wanted to make more dogs? Without classes, we'd have to write a separate set of variables and functions for it. Instead, we can just create another `Dog` object using the same class."
   ]
  },
  {
   "cell_type": "code",
   "execution_count": 19,
   "id": "5377f093",
   "metadata": {},
   "outputs": [
    {
     "name": "stdout",
     "output_type": "stream",
     "text": [
      "Rover says Woof!\n",
      "Rover is running! Energy left: 90\n",
      "Rover is running! Energy left: 80\n",
      "Rover is running! Energy left: 70\n",
      "Buddy is running! Energy left: 90\n",
      "Rover is sleeping and regains full energy!\n",
      "Buddy's energy: 90\n",
      "Rover's energy: 100\n"
     ]
    }
   ],
   "source": [
    "dog2 = Dog(\"Rover\", \"Poodle\")\n",
    "dog2.bark()  # Output: Miles says Woof!\n",
    "dog2.run() # Output: Miles is running! Energy left: 90\n",
    "dog2.run() # Output: Miles is running! Energy left: 80\n",
    "dog2.run() # Output: Miles is running! Energy left: 70\n",
    "\n",
    "dog1.run() # Output: Buddy is running! Energy left: 90\n",
    "\n",
    "dog2.sleep() # Output: Miles is sleeping and regains full energy!\n",
    "\n",
    "print(\"Buddy's energy:\", dog1.energy)\n",
    "print(\"Rover's energy:\", dog2.energy)"
   ]
  },
  {
   "cell_type": "markdown",
   "id": "fe24e458",
   "metadata": {},
   "source": [
    "### What is `self`?"
   ]
  },
  {
   "cell_type": "markdown",
   "id": "615a3a39",
   "metadata": {},
   "source": [
    "In Python classes, self is a way for an object to refer to itself and keep track of its own data. Every time you create an object from a class, self helps that object keep track of its own data.\n",
    "\n",
    "- `self.name = name` means each dog keeps its own name.\n",
    "- When we call `dog1.bark()`, it knows to use dog1's name.\n",
    "- When we call `dog2.bark()`, it knows to use dog2's name."
   ]
  },
  {
   "cell_type": "markdown",
   "id": "57c88e4e",
   "metadata": {},
   "source": [
    "### Duplicating Elements in a Class"
   ]
  },
  {
   "cell_type": "markdown",
   "id": "f581b05f",
   "metadata": {},
   "source": [
    "When working with classes, each object (e.g., each `Dog` above) has its own set of attributes. Sometimes, you might want to create a new object that has the same attributes as an object that already exists."
   ]
  },
  {
   "cell_type": "code",
   "execution_count": 29,
   "id": "fe465bd4",
   "metadata": {},
   "outputs": [
    {
     "name": "stdout",
     "output_type": "stream",
     "text": [
      "Buddy's energy: 100\n",
      "Buddy's energy: 80\n"
     ]
    }
   ],
   "source": [
    "class Dog:\n",
    "    def __init__(self, name, breed):\n",
    "        self.name = name\n",
    "        self.breed = breed\n",
    "        self.energy = 100\n",
    "\n",
    "    def bark(self):\n",
    "        print(f\"{self.name} says Woof!\")\n",
    "\n",
    "    def copy(self):\n",
    "        # This method creates a new Dog object with the same data\n",
    "        return Dog(self.name, self.breed)  # Creates a new Dog object with the same attributes\n",
    "\n",
    "# Create a new dog instance\n",
    "dog1 = Dog(\"Buddy\", \"Golden Retriever\")\n",
    "\n",
    "# Copy dog1 to create a new independent dog, dog2\n",
    "dog2 = dog1.copy()\n",
    "\n",
    "# Modify dog2's energy\n",
    "dog2.energy -= 20\n",
    "\n",
    "print(f\"{dog1.name}'s energy: {dog1.energy}\")  # dog1's energy is still 100\n",
    "print(f\"{dog2.name}'s energy: {dog2.energy}\")  # dog2's energy is now 80"
   ]
  },
  {
   "cell_type": "markdown",
   "id": "fd7923a0",
   "metadata": {},
   "source": [
    "<a id='Problem-6'></a>\n",
    "### Problem 1: Gamer Class"
   ]
  },
  {
   "cell_type": "markdown",
   "id": "f5274392",
   "metadata": {},
   "source": [
    "Create a Character class that models a game character. The class should have several methods to allow the character to interact with the game world. Use the provided methods to modify the character's health, level, and display their status.\n",
    "\n",
    "Task Requirements:\n",
    "\n",
    "1. Class Creation:\n",
    "    - Define a Character class that has the following attributes:\n",
    "        - name (string): The name of the character.\n",
    "        - health (integer): The character's health points (HP).\n",
    "        - level (integer): The character's current level.\n",
    "2. Methods to Implement:\n",
    "    - take_damage(damage): This method should decrease the character's health by the damage value passed as an argument. If health goes below 0, set it to 0 and print the damage taken along with the new health.\n",
    "    - heal(amount): This method should increase the character's health by the amount passed as an argument and print the healing action with the new health.\n",
    "    - level_up(): This method should increase the character's level by 1 and print the new level.\n",
    "    - status(): This method should print the current name, level, and health of the character.\n",
    "\n",
    "Example Usage\n",
    "```Python\n",
    "hero = Character(\"Alex\", 100, 1)\n",
    "hero.take_damage(30)\n",
    "hero.heal(20)\n",
    "hero.level_up()\n",
    "hero.status()\n",
    "```\n",
    "\n",
    "Output\n",
    "```Python\n",
    "Alex took 30 damage! Health is now 70.\n",
    "Alex healed by 20! Health is now 90.\n",
    "Alex leveled up to level 2!\n",
    "Alex - Level 2 - Health 90\n",
    "```"
   ]
  },
  {
   "cell_type": "code",
   "execution_count": 20,
   "id": "c4860631",
   "metadata": {},
   "outputs": [
    {
     "ename": "IndentationError",
     "evalue": "expected an indented block after function definition on line 2 (2750675554.py, line 6)",
     "output_type": "error",
     "traceback": [
      "\u001b[1;36m  Cell \u001b[1;32mIn[20], line 6\u001b[1;36m\u001b[0m\n\u001b[1;33m    def take_damage(self, damage):\u001b[0m\n\u001b[1;37m    ^\u001b[0m\n\u001b[1;31mIndentationError\u001b[0m\u001b[1;31m:\u001b[0m expected an indented block after function definition on line 2\n"
     ]
    }
   ],
   "source": [
    "class Character:\n",
    "    def __init__(self, name, health, level):\n",
    "        # TODO: Initialize instance attributes\n",
    "        # Hint: Include name, health, and level as instance attributes\n",
    "\n",
    "    def take_damage(self, damage):\n",
    "        # TODO: Update the health attribute by subtracting the damage amount\n",
    "        # Print the health after taking damage\n",
    "\n",
    "    def heal(self, amount):\n",
    "        # TODO: Update the health attribute by adding the healing amount\n",
    "        # Print the health after healing\n",
    "\n",
    "    def level_up(self):\n",
    "        # TODO: Increase the level attribute by 1\n",
    "        # Print a message about the character leveling up\n",
    "\n",
    "    def status(self):\n",
    "        # TODO: Print the status of the character\n",
    "        # Include name, health, and level attributes\n",
    "\n",
    "# Create a new character and test methods\n",
    "hero = Character(\"James\", 100, 1)\n",
    "hero.take_damage(30)\n",
    "hero.heal(20)\n",
    "hero.level_up()\n",
    "hero.status()"
   ]
  },
  {
   "cell_type": "code",
   "execution_count": 21,
   "id": "0a0c062e",
   "metadata": {},
   "outputs": [
    {
     "name": "stdout",
     "output_type": "stream",
     "text": [
      "James took 30 damage! Health is now 70.\n",
      "James healed by 20! Health is now 90.\n",
      "James leveled up to level 2!\n",
      "James - Level 2 - Health 90\n"
     ]
    }
   ],
   "source": [
    "class Character:\n",
    "    def __init__(self, name, health, level):\n",
    "        self.name = name\n",
    "        self.health = health\n",
    "        self.level = level\n",
    "\n",
    "    def take_damage(self, damage):\n",
    "        self.health -= damage\n",
    "        if self.health < 0:\n",
    "            self.health = 0\n",
    "        print(f\"{self.name} took {damage} damage! Health is now {self.health}.\")\n",
    "\n",
    "    def heal(self, amount):\n",
    "        self.health += amount\n",
    "        print(f\"{self.name} healed by {amount}! Health is now {self.health}.\")\n",
    "\n",
    "    def level_up(self):\n",
    "        self.level += 1\n",
    "        print(f\"{self.name} leveled up to level {self.level}!\")\n",
    "\n",
    "    def status(self):\n",
    "        print(f\"{self.name} - Level {self.level} - Health {self.health}\")\n",
    "\n",
    "# Create a new character and test methods\n",
    "hero = Character(\"James\", 100, 1)\n",
    "hero.take_damage(30)\n",
    "hero.heal(20)\n",
    "hero.level_up()\n",
    "hero.status()\n"
   ]
  },
  {
   "cell_type": "markdown",
   "id": "4684541f",
   "metadata": {},
   "source": [
    "<a id='Problem-7'></a>\n",
    "### Problem 2: Music Playlist"
   ]
  },
  {
   "cell_type": "markdown",
   "id": "f92e51b3",
   "metadata": {},
   "source": [
    "Create a `Playlist` class that allows you to manage a list of songs. The class should provide the ability to add, remove, shuffle, and display the current playlist. Use the provided methods to simulate managing a playlist of songs.\n",
    "\n",
    "Task Requirements:\n",
    "\n",
    "1. Class Creation:\n",
    "    - Define a `Playlist` class with the following attribute:\n",
    "        - `songs` (list): A list that stores the songs in the playlist.\n",
    "2. Methods to Implement:\n",
    "    - `add_song(song)`: Adds a song to the playlist. Print a confirmation message when a song is added.\n",
    "    - `remove_song(song)`: Removes a song from the playlist if it exists. If the song is not found, print an error message.\n",
    "    - `shuffle()`: Shuffles the songs in the playlist using a random function. Print a message indicating the playlist has been shuffled.\n",
    "    - `show_playlist()`: Prints the current list of songs in the playlist.\n",
    "\n",
    "Example Usage\n",
    "```Python\n",
    "playlist = Playlist()\n",
    "playlist.add_song(\"Song A\")\n",
    "playlist.add_song(\"Song B\")\n",
    "playlist.add_song(\"Song C\")\n",
    "playlist.show_playlist()\n",
    "playlist.remove_song(\"Song B\")\n",
    "playlist.show_playlist()\n",
    "```\n",
    "\n",
    "Output\n",
    "```Python\n",
    "Added 'Song A' to the playlist.\n",
    "Added 'Song B' to the playlist.\n",
    "Added 'Song C' to the playlist.\n",
    "Current Playlist:\n",
    "- Song A\n",
    "- Song B\n",
    "- Song C\n",
    "Removed 'Song B' from the playlist.\n",
    "Current Playlist:\n",
    "- Song A\n",
    "- Song C\n",
    "```"
   ]
  },
  {
   "cell_type": "code",
   "execution_count": null,
   "id": "184b76d3",
   "metadata": {},
   "outputs": [],
   "source": [
    "class Playlist:\n",
    "    def __init__(self):\n",
    "        self.songs = []\n",
    "    # TODO: implement the playlist class\n",
    "\n",
    "# Testing the Playlist class\n",
    "study_playlist = Playlist()\n",
    "study_playlist.add_song(\"Song A\")\n",
    "study_playlist.add_song(\"Song B\")\n",
    "study_playlist.add_song(\"Song C\")\n",
    "study_playlist.show_playlist()\n",
    "study_playlist.remove_song(\"Song B\")\n",
    "study_playlist.show_playlist()\n"
   ]
  },
  {
   "cell_type": "code",
   "execution_count": null,
   "id": "2729240a",
   "metadata": {},
   "outputs": [
    {
     "name": "stdout",
     "output_type": "stream",
     "text": [
      "Added 'Song A' to the playlist.\n",
      "Added 'Song B' to the playlist.\n",
      "Added 'Song C' to the playlist.\n",
      "Current Playlist:\n",
      "- Song A\n",
      "- Song B\n",
      "- Song C\n",
      "Removed 'Song B' from the playlist.\n",
      "Current Playlist:\n",
      "- Song A\n",
      "- Song C\n"
     ]
    }
   ],
   "source": [
    "class Playlist:\n",
    "    def __init__(self):\n",
    "        self.songs = []\n",
    "\n",
    "    def add_song(self, song):\n",
    "        self.songs.append(song)\n",
    "        print(f\"Added '{song}' to the playlist.\")\n",
    "\n",
    "    def remove_song(self, song):\n",
    "        if song in self.songs:\n",
    "            self.songs.remove(song)\n",
    "            print(f\"Removed '{song}' from the playlist.\")\n",
    "        else:\n",
    "            print(f\"'{song}' not found in the playlist.\")\n",
    "\n",
    "    def show_playlist(self):\n",
    "        print(\"Current Playlist:\")\n",
    "        for song in self.songs:\n",
    "            print(f\"- {song}\")\n",
    "\n",
    "# Testing the Playlist class\n",
    "study_playlist = Playlist()\n",
    "study_playlist.add_song(\"Song A\")\n",
    "study_playlist.add_song(\"Song B\")\n",
    "study_playlist.add_song(\"Song C\")\n",
    "study_playlist.show_playlist()\n",
    "study_playlist.remove_song(\"Song B\")\n",
    "study_playlist.show_playlist()"
   ]
  },
  {
   "cell_type": "markdown",
   "id": "69308ce2",
   "metadata": {},
   "source": [
    "### Problem 2: Music Playlist (continued)"
   ]
  },
  {
   "cell_type": "markdown",
   "id": "f70e36f8",
   "metadata": {},
   "source": [
    "You've decided to modify your current study playlist to better suit the study vibes of each of your courses. The current one is giving Calculus 2, and you need a different kind of energy for Programming. You want to:\n",
    "\n",
    "- Duplicate your current study playlist - because you still want to keep your original one - and give it a different name so you don't get confused between the new one and the original\n",
    "- Remove Song B, because you feel like it doesn't really suit your programming mindset\n",
    "- Add Song D, E, and F\n",
    "- Show both playlists\n",
    "\n",
    "- Hint: you will need to create a new method\n",
    "- Hint: what should you be trying to avoid here?"
   ]
  },
  {
   "cell_type": "code",
   "execution_count": 30,
   "id": "ead96976",
   "metadata": {},
   "outputs": [
    {
     "name": "stdout",
     "output_type": "stream",
     "text": [
      "Added 'Song A' to the playlist.\n",
      "Added 'Song B' to the playlist.\n",
      "Added 'Song C' to the playlist.\n",
      "Removed 'Song B' from the playlist.\n",
      "Added 'Song D' to the playlist.\n",
      "Added 'Song E' to the playlist.\n",
      "Added 'Song F' to the playlist.\n",
      "Current Playlist:\n",
      "- Song A\n",
      "- Song C\n",
      "- Song D\n",
      "- Song E\n",
      "- Song F\n",
      "Current Playlist:\n",
      "- Song A\n",
      "- Song B\n",
      "- Song C\n"
     ]
    }
   ],
   "source": [
    "# Solution:\n",
    "class Playlist:\n",
    "    def __init__(self):\n",
    "        self.songs = []\n",
    "\n",
    "    def add_song(self, song):\n",
    "        self.songs.append(song)\n",
    "        print(f\"Added '{song}' to the playlist.\")\n",
    "\n",
    "    def remove_song(self, song):\n",
    "        if song in self.songs:\n",
    "            self.songs.remove(song)\n",
    "            print(f\"Removed '{song}' from the playlist.\")\n",
    "        else:\n",
    "            print(f\"'{song}' not found in the playlist.\")\n",
    "\n",
    "    def show_playlist(self):\n",
    "        print(\"Current Playlist:\")\n",
    "        for song in self.songs:\n",
    "            print(f\"- {song}\")\n",
    "\n",
    "    # Using list's copy method to copy the playlist\n",
    "    def copy(self):\n",
    "        new_playlist = Playlist()  # Create a new instance\n",
    "        new_playlist.songs = self.songs.copy()  # Shallow copy the songs list\n",
    "        return new_playlist\n",
    "\n",
    "study_playlist = Playlist()\n",
    "study_playlist.add_song(\"Song A\")\n",
    "study_playlist.add_song(\"Song B\")\n",
    "study_playlist.add_song(\"Song C\")\n",
    "\n",
    "# Copy the playlist\n",
    "programming_playlist = study_playlist.copy()\n",
    "programming_playlist.remove_song(\"Song B\")\n",
    "programming_playlist.add_song(\"Song D\")\n",
    "programming_playlist.add_song(\"Song E\")\n",
    "programming_playlist.add_song(\"Song F\")\n",
    "programming_playlist.show_playlist()\n",
    "\n",
    "study_playlist.show_playlist()"
   ]
  },
  {
   "cell_type": "markdown",
   "id": "8d5988eb",
   "metadata": {},
   "source": [
    "<a id='Problem-8'></a>\n",
    "### Problem 3: Ticket System"
   ]
  },
  {
   "cell_type": "markdown",
   "id": "d697c50d",
   "metadata": {},
   "source": [
    "You are tasked with creating a simple **Ticket System** for managing movie ticket reservations. The system should allow users to reserve and cancel tickets for a movie, and also display the current status of ticket availability.\n",
    "\n",
    "1. **Initialization**:\n",
    "    - The system should be initialized with the name of the movie and the total number of tickets available.\n",
    "    - The number of reserved tickets should be initially set to 0.\n",
    "\n",
    "2. **Reserve Ticket**:\n",
    "    - The system should allow users to reserve a certain number of tickets for a movie.\n",
    "    - If there are enough tickets available, the system should update the number of reserved tickets and display a success message.\n",
    "    - If there are not enough tickets, it should display a message informing the user of the remaining available tickets.\n",
    "\n",
    "3. **Cancel Reservation**:\n",
    "    - The system should allow users to cancel a certain number of reserved tickets.\n",
    "    - If the number of tickets to be canceled exceeds the reserved tickets, an error message should be displayed.\n",
    "    - If the cancellation is successful, the number of reserved tickets should be updated accordingly.\n",
    "\n",
    "4. **Available Tickets**:\n",
    "    - The system should provide a method to return the number of available tickets by subtracting the reserved tickets from the total number of tickets.\n",
    "\n",
    "5. **Status**:\n",
    "    - The system should provide a method to display the current status, showing the movie name, the number of reserved tickets, and the number of available tickets.\n",
    "\n",
    "\n",
    "Example Usage:\n",
    "\n",
    "```python\n",
    "# Test the ticket system\n",
    "movie = TicketSystem(\"Movie A\", 100)  # Initialize a movie with 100 tickets\n",
    "movie.reserve_ticket(30)  # Reserve 30 tickets\n",
    "movie.reserve_ticket(50)  # Reserve another 50 tickets\n",
    "movie.cancel_reservation(20)  # Cancel 20 tickets\n",
    "movie.status()  # Display current status\n"
   ]
  },
  {
   "cell_type": "code",
   "execution_count": null,
   "id": "97ef68ec",
   "metadata": {},
   "outputs": [],
   "source": [
    "class TicketSystem:\n",
    "    def __init__(self, movie_name, total_tickets):\n",
    "        # TODO: Initialize the movie name, total tickets, and reserved tickets.\n",
    "\n",
    "    def reserve_ticket(self, num_tickets):\n",
    "        # TODO: Implement logic to reserve tickets and print success or failure message.\n",
    "\n",
    "    def cancel_reservation(self, num_tickets):\n",
    "        # TODO: Implement logic to cancel reserved tickets and print success or failure message.\n",
    "\n",
    "    def available_tickets(self):\n",
    "        # TODO: Return the number of available tickets.\n",
    "\n",
    "    def status(self):\n",
    "        # TODO: Print the current status: movie name, reserved tickets, and available tickets.\n",
    "\n",
    "# Test the ticket system\n",
    "movie = TicketSystem(\"Movie A\", 100)\n",
    "movie.reserve_ticket(30)\n",
    "movie.reserve_ticket(50)\n",
    "movie.cancel_reservation(20)\n",
    "movie.status()\n"
   ]
  },
  {
   "cell_type": "code",
   "execution_count": 31,
   "id": "423efcca",
   "metadata": {},
   "outputs": [
    {
     "name": "stdout",
     "output_type": "stream",
     "text": [
      "Successfully reserved 30 tickets for Movie A.\n",
      "Successfully reserved 50 tickets for Movie A.\n",
      "Successfully canceled 20 ticket(s) for Movie A.\n",
      "Movie: Movie A | Reserved: 60 | Available: 40\n",
      "Successfully reserved 50 tickets for Movie B.\n",
      "Successfully canceled 10 ticket(s) for Movie B.\n",
      "Movie: Movie B | Reserved: 40 | Available: 160\n"
     ]
    }
   ],
   "source": [
    "class TicketSystem:\n",
    "    def __init__(self, movie_name, total_tickets=100, reserved_tickets=0):\n",
    "        # Initialize the movie name, total tickets, and reserved tickets with default values\n",
    "        self.movie_name = movie_name\n",
    "        self.total_tickets = total_tickets\n",
    "        self.reserved_tickets = reserved_tickets\n",
    "\n",
    "    def reserve_ticket(self, num_tickets):\n",
    "        # Reserve tickets and print success or failure message\n",
    "        if num_tickets <= self.total_tickets - self.reserved_tickets:\n",
    "            self.reserved_tickets += num_tickets\n",
    "            print(f\"Successfully reserved {num_tickets} tickets for {self.movie_name}.\")\n",
    "        else:\n",
    "            print(f\"Not enough tickets available. Only {self.total_tickets - self.reserved_tickets} tickets left.\")\n",
    "\n",
    "    def cancel_reservation(self, num_tickets):\n",
    "        # Cancel reserved tickets and print success or failure message\n",
    "        if num_tickets <= self.reserved_tickets:\n",
    "            self.reserved_tickets -= num_tickets\n",
    "            print(f\"Successfully canceled {num_tickets} ticket(s) for {self.movie_name}.\")\n",
    "        else:\n",
    "            print(\"Cannot cancel more tickets than reserved.\")\n",
    "\n",
    "    def available_tickets(self):\n",
    "        # Return the number of available tickets\n",
    "        return self.total_tickets - self.reserved_tickets\n",
    "\n",
    "    def status(self):\n",
    "        # Print the current status: movie name, reserved tickets, and available tickets\n",
    "        print(f\"Movie: {self.movie_name} | Reserved: {self.reserved_tickets} | Available: {self.available_tickets()}\")\n",
    "\n",
    "# Test the ticket system with default tickets (100)\n",
    "movie = TicketSystem(\"Movie A\")  # Defaults to 100 tickets and 0 reserved tickets\n",
    "movie.reserve_ticket(30)\n",
    "movie.reserve_ticket(50)\n",
    "movie.cancel_reservation(20)\n",
    "movie.status()\n",
    "\n",
    "# Test the ticket system with custom tickets\n",
    "movie2 = TicketSystem(\"Movie B\", total_tickets=200)  # Custom total_tickets (200)\n",
    "movie2.reserve_ticket(50)\n",
    "movie2.cancel_reservation(10)\n",
    "movie2.status()\n"
   ]
  },
  {
   "cell_type": "markdown",
   "id": "680bb8ad",
   "metadata": {},
   "source": [
    "## 2. Advanced Functions"
   ]
  },
  {
   "cell_type": "markdown",
   "id": "6621a5bf",
   "metadata": {},
   "source": [
    "In Python, some functions come with default parameters. For example, the `round()` function, `print()` function, and many others."
   ]
  },
  {
   "cell_type": "markdown",
   "id": "1857df96",
   "metadata": {},
   "source": [
    "<a id='Problem-4'></a>\n",
    "### Problem 4: Print Dog"
   ]
  },
  {
   "cell_type": "markdown",
   "id": "468243c7",
   "metadata": {},
   "source": [
    "We can also write our own functions to have default parameters.\n",
    "\n",
    "**Problem Statement**\n",
    "\n",
    "- Let's practice modifying a simple function to be an advanced function!\n",
    "- The following function prints some ASCII art of a dog.\n",
    "- Modify the function below so that it takes a parameter `size` with the default value `0`\n",
    "- Fill in all numerical values so that they can be dynamically changed based on size"
   ]
  },
  {
   "cell_type": "code",
   "execution_count": null,
   "id": "716e6ff5",
   "metadata": {},
   "outputs": [
    {
     "name": "stdout",
     "output_type": "stream",
     "text": [
      "     __\n",
      "(___()'`;\n",
      "/     /`\n",
      "\\\\---\\\\\n"
     ]
    }
   ],
   "source": [
    "def print_dog():\n",
    "    \"\"\"\n",
    "    (int) -> None\n",
    "    Prints a dog of size `size`.\n",
    "    \"\"\"\n",
    "    # TODO: Modify all number values to be based on the size parameter\n",
    "\n",
    "    # Print row 1\n",
    "    print(\" \" * (5), sep=\"\", end=\"\") # TODO: Modify the number of spaces\n",
    "    print(\"__\")\n",
    "\n",
    "    # Print row 2\n",
    "    print(\"(\", sep=\"\", end=\"\")\n",
    "    print(\"_\" * (3), sep=\"\", end=\"\") # TODO: Modify the number of underscores\n",
    "    print(\"()'`;\")\n",
    "\n",
    "    # Print row 3\n",
    "    print(\"/\", sep=\"\", end=\"\")\n",
    "    print(\" \" * (5), sep=\"\", end=\"\") # TODO: Modify the number of spaces\n",
    "    print(\"/`\")\n",
    "\n",
    "    # Print row 4\n",
    "    print(\"\\\\\\\\\", sep=\"\", end=\"\")\n",
    "    print(\"-\" * (3), sep=\"\", end=\"\") # TODO: \n",
    "    print(\"\\\\\\\\\")\n",
    "\n",
    "\n",
    "# Example Usage\n",
    "print_dog() # default\n",
    "\n",
    "# print_dog(10) # long dog\n",
    "\n",
    "# print_dog(20) # even longer dog"
   ]
  },
  {
   "cell_type": "code",
   "execution_count": null,
   "id": "89d1f76b",
   "metadata": {},
   "outputs": [
    {
     "name": "stdout",
     "output_type": "stream",
     "text": [
      "     __\n",
      "(___()'`;\n",
      "/     /`\n",
      "\\\\---\\\\\n",
      "               __\n",
      "(_____________()'`;\n",
      "/               /`\n",
      "\\\\-------------\\\\\n",
      "                         __\n",
      "(_______________________()'`;\n",
      "/                         /`\n",
      "\\\\-----------------------\\\\\n"
     ]
    }
   ],
   "source": [
    "# Solution\n",
    "\n",
    "def print_dog(size=0):\n",
    "    \"\"\"\n",
    "    (int) -> None\n",
    "    Prints a dog of size `size`.\n",
    "    \"\"\"\n",
    "\n",
    "    # Print row 1\n",
    "    print(\" \" * (size + 5), sep=\"\", end=\"\")\n",
    "    print(\"__\")\n",
    "\n",
    "    # Print row 2\n",
    "    print(\"(\", sep=\"\", end=\"\")\n",
    "    print(\"_\" * (size + 3), sep=\"\", end=\"\")\n",
    "    print(\"()'`;\")\n",
    "\n",
    "    # Print row 3\n",
    "    print(\"/\", sep=\"\", end=\"\")\n",
    "    print(\" \" * (size + 5), sep=\"\", end=\"\")\n",
    "    print(\"/`\")\n",
    "\n",
    "    # Print row 4\n",
    "    print(\"\\\\\\\\\", sep=\"\", end=\"\")\n",
    "    print(\"-\" * (size + 3), sep=\"\", end=\"\")\n",
    "    print(\"\\\\\\\\\")\n",
    "\n",
    "print_dog()\n",
    "\n",
    "print_dog(10) # long dog\n",
    "\n",
    "print_dog(20) # even longer dog\n"
   ]
  },
  {
   "cell_type": "markdown",
   "id": "cef89875",
   "metadata": {},
   "source": [
    "<a id='Problem-5'></a>\n",
    "### Problem 5: Counting Consecutively"
   ]
  },
  {
   "cell_type": "markdown",
   "id": "b0382f3f",
   "metadata": {},
   "source": [
    "**Problem Statement**\n",
    "\n",
    "You are tasked with finding the number of occurrences of a given substring in a longer string.\n",
    "\n",
    "- You are given a string and a target substring.\n",
    "- Your task is to count how many times the target substring appears in the given string.\n",
    "- If the allow_consecutive flag is True, count only consecutive occurrences of the target substring.\n",
    "- If the allow_consecutive flag is False, count all occurrences, including non-consecutive ones.\n",
    "- Return the count of the target substring, based on the value of allow_consecutive.\n",
    "\n",
    "Example:\n",
    "\n",
    "For the string `\"abcbcbcasdbcbc\"` and the target `\"bc\"`, count how many times \"bc\" appears in a consecutive (3) and non-consecutive (5) manner."
   ]
  },
  {
   "cell_type": "code",
   "execution_count": null,
   "id": "06fe1832",
   "metadata": {},
   "outputs": [],
   "source": [
    "def count_substring_occurrences(string, target, consecutive=False):\n",
    "    \"\"\"\n",
    "    (str, str, bool) -> int\n",
    "    \n",
    "    Counts the occurrences of the target substring in the string.\n",
    "    \n",
    "    - If consecutive is True, counts only consecutive occurrences.\n",
    "    - If consecutive is False (default), counts non-consecutive occurrences.\n",
    "    \"\"\"\n",
    "    # TODO: Implement non-consecutive counting\n",
    "\n",
    "    # TODO: Implement consecutive counting\n",
    "\n",
    "    return None # TODO: replace with the actual count\n",
    "\n",
    "# Example usage:\n",
    "\n",
    "# Counting non-consecutive occurrences (default behavior)\n",
    "string1 = \"abcbcbcasdbcbc\"\n",
    "target1 = \"bc\"\n",
    "result1 = count_substring_occurrences(string1, target1)\n",
    "print(f\"Non-consecutive occurrences of '{target1}': {result1}\")  # Output: 5\n",
    "\n",
    "# Counting consecutive occurrences (when consecutive is True)\n",
    "string2 = \"abcbcbcasdbcbc\"\n",
    "target2 = \"bc\"\n",
    "result2 = count_substring_occurrences(string2, target2, consecutive=True)\n",
    "print(f\"Consecutive occurrences of '{target2}': {result2}\")  # Output: 3\n"
   ]
  },
  {
   "cell_type": "code",
   "execution_count": null,
   "id": "d01cbd46",
   "metadata": {},
   "outputs": [
    {
     "name": "stdout",
     "output_type": "stream",
     "text": [
      "Non-consecutive occurrences of 'bc': 5\n",
      "Consecutive occurrences of 'bc': 3\n"
     ]
    }
   ],
   "source": [
    "# Solution\n",
    "def count_substring_occurrences(string, target, consecutive=False):\n",
    "    \"\"\"\n",
    "    Counts the occurrences of the target substring in the string.\n",
    "    \n",
    "    - If consecutive is True, counts only consecutive occurrences.\n",
    "    - If consecutive is False (default), counts non-consecutive occurrences.\n",
    "    \"\"\"\n",
    "    max_chain = 0\n",
    "    current_chain = 0\n",
    "    i = 0\n",
    "    length = len(string)\n",
    "    \n",
    "    # Check consecutive occurrences (if consecutive is True)\n",
    "    if consecutive:\n",
    "        while i <= length - len(target):\n",
    "            if string[i:i+len(target)] == target:\n",
    "                current_chain += 1\n",
    "                max_chain = max(max_chain, current_chain)\n",
    "                i += len(target)  # Skip past this consecutive occurrence\n",
    "            else:\n",
    "                current_chain = 0\n",
    "                i += 1\n",
    "        return max_chain\n",
    "    \n",
    "    # Check non-consecutive occurrences (if consecutive is False)\n",
    "    else:\n",
    "        count = 0\n",
    "        while i <= length - len(target):\n",
    "            if string[i:i+len(target)] == target:\n",
    "                count += 1\n",
    "            i += 1\n",
    "        return count\n",
    "\n",
    "# Example usage:\n",
    "\n",
    "# Counting non-consecutive occurrences (default behavior)\n",
    "string1 = \"abcbcbcasdbcbc\"\n",
    "target1 = \"bc\"\n",
    "result1 = count_substring_occurrences(string1, target1)\n",
    "print(f\"Non-consecutive occurrences of '{target1}': {result1}\")  # Output: 5\n",
    "\n",
    "# Counting consecutive occurrences (when consecutive is True)\n",
    "string2 = \"abcbcbcasdbcbc\"\n",
    "target2 = \"bc\"\n",
    "result2 = count_substring_occurrences(string2, target2, consecutive=True)\n",
    "print(f\"Consecutive occurrences of '{target2}': {result2}\")  # Output: 3\n"
   ]
  },
  {
   "cell_type": "markdown",
   "id": "727af522",
   "metadata": {},
   "source": [
    "### Bonus Problem: Carbon Chains"
   ]
  },
  {
   "cell_type": "markdown",
   "id": "fab37df3",
   "metadata": {},
   "source": [
    "Complete the Python function longest_carbon_oxygen_chain that takes a SMILES string as input and returns the longest contiguous substring (chain) that is valid according to the following criteria:  \n",
    "\n",
    "1. It contains only carbon and oxygen atoms, i.e., the allowed characters: 'C', 'O',  \n",
    "'-', '=', '#'. \n",
    "2. It begins and ends with an atom (i.e., it cannot start or end with a bond symbol). If multiple valid chains have the same maximum length, the function should return the one that appears first in the input string. If no valid chain exists, the function should return an empty string. "
   ]
  },
  {
   "cell_type": "code",
   "execution_count": null,
   "id": "2db5dd47",
   "metadata": {},
   "outputs": [],
   "source": [
    "def longest_valid_chain(smiles):  \n",
    "\n",
    "    allowed = {'C', 'O', '-', '=', '#'} # allowed characters  \n",
    "\n",
    "    valid_start_end = {'C', 'O'} # valid starting/ending atoms  \n",
    "\n",
    "    longest_chain = \"\"  \n",
    "\n",
    "   # Iterate over every character in the string as a potential start of a valid chain. \n",
    "\n",
    "    for i, ch_start in enumerate(smiles): \n",
    "        # Only consider positions that start with an atom. \n",
    "    \tif ch_start in valid_start_end: \n",
    "            start_idx = i \n",
    "            end_idx = i  # Initially, the chain is just the starting atom. \n",
    "            \n",
    "            # Extend the chain from the starting index. \n",
    "            for j, ch_end in enumerate(smiles[i+1:]): \n",
    "                if ch_end in allowed: \n",
    "                    # Update end_idx whenever we see an atom. \n",
    "                    if ch_end in valid_start_end: \n",
    "                        end_idx = i + j + 1 \n",
    "                else: \n",
    "                    # Stop if a non-allowed character is encountered. \n",
    "                    break \n",
    "                    \n",
    "            # Check if the current chain is longer than our best chain so far. \n",
    "            if (end_idx - start_idx + 1) > len(longest_chain): \n",
    "                longest_chain = smiles[start_idx:end_idx+1] \n",
    " \n",
    "    return longest_chain "
   ]
  },
  {
   "cell_type": "markdown",
   "id": "1dc3ceba",
   "metadata": {},
   "source": [
    "<a id='3Aliasing'></a>\n",
    "## 3. Aliasing"
   ]
  },
  {
   "cell_type": "markdown",
   "id": "ab67cdd9",
   "metadata": {},
   "source": [
    "Aliasing occurs when two or more variables refer to the same object in memory. This means that changes made to one variable will also affect the other, because they are pointing to the same object."
   ]
  },
  {
   "cell_type": "markdown",
   "id": "6f66c607",
   "metadata": {},
   "source": [
    "<a id='Problem-6'></a>\n",
    "### Problem 6: Task Tracker"
   ]
  },
  {
   "cell_type": "markdown",
   "id": "8c66d3cb",
   "metadata": {},
   "source": [
    "**Problem Statement**\n",
    "\n",
    "You are working with a task tracker system that tracks the status of your tasks. A master list of tasks is originally set up and a separate list tracks the completion status of each task. There is an issue in the code where aliasing causes unintended changes to the original task list.\n",
    "\n",
    "Debug the function so that the completed task list does not affect the original master task list."
   ]
  },
  {
   "cell_type": "code",
   "execution_count": null,
   "id": "afe20341",
   "metadata": {},
   "outputs": [
    {
     "name": "stdout",
     "output_type": "stream",
     "text": [
      "Original Task List: ['Task 1', 'Task 2 (Complete)', 'Task 3 (Complete)', 'Task 4']\n",
      "Completed Tasks List: ['Task 1', 'Task 2 (Complete)', 'Task 3 (Complete)', 'Task 4']\n"
     ]
    }
   ],
   "source": [
    "def task_tracker():\n",
    "    # Task list with initial status of \"incomplete\"\n",
    "    tasks = [\"Task 1\", \"Task 2\", \"Task 3\", \"Task 4\"]\n",
    "    \n",
    "    # Aliasing problem: both lists refer to the same object\n",
    "    completed_tasks = tasks\n",
    "    \n",
    "    # Mark tasks 2 and 3 as complete\n",
    "    completed_tasks[1] = \"Task 2 (Complete)\"\n",
    "    completed_tasks[2] = \"Task 3 (Complete)\"\n",
    "    \n",
    "    print(\"Original Task List:\", tasks)\n",
    "    print(\"Completed Tasks List:\", completed_tasks)\n",
    "\n",
    "task_tracker()\n"
   ]
  },
  {
   "cell_type": "code",
   "execution_count": null,
   "id": "d65f1b52",
   "metadata": {},
   "outputs": [
    {
     "name": "stdout",
     "output_type": "stream",
     "text": [
      "Original Task List: ('Task 1', 'Task 2', 'Task 3', 'Task 4')\n",
      "Completed Tasks List: ('Task 1', 'Task 2 (Complete)', 'Task 3', 'Task 3 (Complete)', 'Task 4')\n"
     ]
    }
   ],
   "source": [
    "# Solution 1: Using immutable tuples\n",
    "def task_tracker():\n",
    "    # Task list with initial status of \"incomplete\"\n",
    "    tasks = (\"Task 1\", \"Task 2\", \"Task 3\", \"Task 4\")  # Using a tuple\n",
    "    \n",
    "    # Attempt to create a copy by aliasing (no modification)\n",
    "    completed_tasks = tasks  # This is aliasing, but since tuples are immutable, no modification will happen\n",
    "    \n",
    "    # Since tuples are immutable, we cannot modify them\n",
    "    # Instead, we create a new tuple for completed tasks\n",
    "    completed_tasks = tasks[:1] + (\"Task 2 (Complete)\",) + tasks[2:3] + (\"Task 3 (Complete)\",) + tasks[3:]\n",
    "    \n",
    "    print(\"Original Task List:\", tasks)\n",
    "    print(\"Completed Tasks List:\", completed_tasks)\n",
    "\n",
    "task_tracker()\n"
   ]
  },
  {
   "cell_type": "code",
   "execution_count": null,
   "id": "4f3f9554",
   "metadata": {},
   "outputs": [
    {
     "name": "stdout",
     "output_type": "stream",
     "text": [
      "Original Task List: ['Task 1', 'Task 2', 'Task 3', 'Task 4']\n",
      "Completed Tasks List: ['Task 1', 'Task 2 (Complete)', 'Task 3 (Complete)', 'Task 4']\n"
     ]
    }
   ],
   "source": [
    "# Solution 2: Using the copy method\n",
    "def task_tracker():\n",
    "    # Task list with initial status of \"incomplete\"\n",
    "    tasks = [\"Task 1\", \"Task 2\", \"Task 3\", \"Task 4\"]\n",
    "    \n",
    "    # Make a copy of the list to avoid aliasing\n",
    "    completed_tasks = tasks.copy()  # Create a copy instead of aliasing\n",
    "    \n",
    "    # Mark tasks 2 and 3 as complete\n",
    "    completed_tasks[1] = \"Task 2 (Complete)\"\n",
    "    completed_tasks[2] = \"Task 3 (Complete)\"\n",
    "    \n",
    "    print(\"Original Task List:\", tasks)\n",
    "    print(\"Completed Tasks List:\", completed_tasks)\n",
    "\n",
    "task_tracker()\n"
   ]
  },
  {
   "cell_type": "markdown",
   "id": "a1d0c3df",
   "metadata": {},
   "source": [
    "<a id='Problem-7'></a>\n",
    "### Problem 7: Identify Output"
   ]
  },
  {
   "cell_type": "markdown",
   "id": "6d019587",
   "metadata": {},
   "source": [
    "What does the code below output?"
   ]
  },
  {
   "cell_type": "markdown",
   "id": "8c1bb5b3",
   "metadata": {},
   "source": [
    "```python\n",
    "def aliasing_example():\n",
    "    list_a = [1, 2, 3, 4]\n",
    "    list_b = list_a\n",
    "    list_c = list_a.copy()\n",
    "    list_b.append(5)\n",
    "    list_c.append(6)\n",
    "    list_a[0] = 10\n",
    "    print(\"List A:\", list_a)\n",
    "    print(\"List B:\", list_b)\n",
    "    print(\"List C:\", list_c)\n",
    "\n",
    "aliasing_example()\n",
    "```\n"
   ]
  },
  {
   "cell_type": "code",
   "execution_count": null,
   "id": "ede5267d",
   "metadata": {},
   "outputs": [
    {
     "name": "stdout",
     "output_type": "stream",
     "text": [
      "List A: [10, 2, 3, 4, 5]\n",
      "List B: [10, 2, 3, 4, 5]\n",
      "List C: [1, 2, 3, 4, 6]\n"
     ]
    }
   ],
   "source": [
    "def aliasing_example():\n",
    "    list_a = [1, 2, 3, 4]\n",
    "    list_b = list_a\n",
    "    list_c = list_a.copy()\n",
    "    list_b.append(5)\n",
    "    list_c.append(6)\n",
    "    list_a[0] = 10\n",
    "    print(\"List A:\", list_a)\n",
    "    print(\"List B:\", list_b)\n",
    "    print(\"List C:\", list_c)\n",
    "\n",
    "aliasing_example()"
   ]
  }
 ],
 "metadata": {
  "kernelspec": {
   "display_name": "base",
   "language": "python",
   "name": "python3"
  },
  "language_info": {
   "codemirror_mode": {
    "name": "ipython",
    "version": 3
   },
   "file_extension": ".py",
   "mimetype": "text/x-python",
   "name": "python",
   "nbconvert_exporter": "python",
   "pygments_lexer": "ipython3",
   "version": "3.12.4"
  }
 },
 "nbformat": 4,
 "nbformat_minor": 5
}
