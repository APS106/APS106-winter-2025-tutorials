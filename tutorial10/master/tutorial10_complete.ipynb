{
 "cells": [
  {
   "cell_type": "markdown",
   "id": "0a5e6e48",
   "metadata": {},
   "source": [
    "<div style=\"text-align:center; border: 2px solid #2E86C1; border-radius: 10px; padding: 30px; background-color: #F4F6F7;\">\n",
    "\n",
    "<h1 style=\"color:#154360; font-family:'Georgia', serif; font-size: 2.8em; margin-bottom: 20px;\">APS106: Fundamentals of Computer Programming</h1>\n",
    "\n",
    "<h2 style=\"color:#1A5276; font-family:'Palatino Linotype', 'Book Antiqua', serif; font-size: 2.0em; margin-bottom: 30px;\">Tutorial 9, Week 10</h2>\n",
    "\n",
    "<h3 style=\"color:#6C3483; font-family:'Cambria', serif; font-size: 1.8em; text-decoration: underline; margin-bottom: 15px;\">Topics Covered</h3>\n",
    "<p style=\"text-align:center; font-family:'Trebuchet MS', sans-serif; font-size: 1.3em; line-height: 1.8;\">\n",
    "  <span style=\"color:#D35400; font-weight:bold;\">Programming Concepts (revisiting)</span><br>\n",
    "  <span style=\"color:#283747;\">• Advanced Functions</span><br> \n",
    "  <span style=\"color:#283747;\">• Aliasing</span><br>\n",
    "  <span style=\"color:#283747;\">• User-Defined Classes and Methods</span><br>\n",
    "</p>\n",
    "\n",
    "<h3 style=\"color:#6C3483; font-family:'Cambria', serif; font-size: 1.8em; text-decoration: underline; margin-bottom: 15px;\">Goals for This Tutorial</h3>\n",
    "<p style=\"text-align:center; font-family:'Verdana', sans-serif; font-size: 1.2em; line-height: 1.8;\">\n",
    "  <span style=\"color:#21618C;\">• Understand how and when to use tuples, sets, and dictionaries.</span><br> \n",
    "  <span style=\"color:#21618C;\">• Get familiar with operations and methods for various object types.</span><br> \n",
    "  <span style=\"color:#21618C;\">• Learn how to read and write files, as well as process the information within them.</span><br>\n",
    "</p>\n",
    "</div>\n",
    "\n",
    "\n"
   ]
  },
  {
   "cell_type": "markdown",
   "id": "89beb25d",
   "metadata": {},
   "source": [
    "### Today's Topics\n",
    "1. [Advanced Functions](#1Advanced-Functions)\n",
    "    - [Problem 1: Print Parameters](#Problem-1)\n",
    "    - [Problem 2: Sales Summary](#Problem-2)\n",
    "    - [Problem 3: Counting Substrings](#Problem-3)\n",
    "2. [Aliasing](#2Aliasing)\n",
    "    - [Problem 4: Task Tracker](#Problem-4)\n",
    "    - [Problem 5: Identify Output](#Problem-5)\n",
    "3. [User-Defined Classes and Methods](#3User-Defined)\n",
    "    - [Problem 6: Gamer Class](#Problem-6)\n",
    "    - [Problem 7: Music Playlist](#Problem-7)\n",
    "    - [Problem 8: Ticket System](#Problem-8)"
   ]
  },
  {
   "cell_type": "markdown",
   "id": "e9808761",
   "metadata": {},
   "source": [
    "<a id='1Advanced-Functions'></a>\n",
    "## 1. Advanced Functions\n"
   ]
  },
  {
   "cell_type": "markdown",
   "id": "e6e23b00",
   "metadata": {},
   "source": [
    "In Python, some functions come with default parameters. For example, the `round()` function, `print()` function, and many others.\n",
    "\n",
    "Below, we'll demonstrate the use of default parameters in real-life, using some built-in Python functions."
   ]
  },
  {
   "cell_type": "code",
   "execution_count": 39,
   "id": "39276454",
   "metadata": {},
   "outputs": [
    {
     "name": "stdout",
     "output_type": "stream",
     "text": [
      "5\n",
      "4.57\n",
      "Hello world\n",
      "Hello-world!Hello world\n"
     ]
    }
   ],
   "source": [
    "# Example: built-in round function\n",
    "# Rounds to the nearest integer (default precision is 0)\n",
    "print(round(4.567))  # Output: 5\n",
    "\n",
    "# Rounds to 2 decimal places\n",
    "print(round(4.567, 2))  # Output: 4.57\n",
    "\n",
    "# Example: built-in print function\n",
    "# Without changing the default parameters\n",
    "print(\"Hello\", \"world\")  # Output: Hello world (with space as separator and newline at the end)\n",
    "\n",
    "# Changing the `sep` and `end` parameters\n",
    "print(\"Hello\", \"world\", sep=\"-\", end=\"!\")  # Output: Hello-world!\n",
    "\n",
    "# Using `end` to print multiple items on the same line\n",
    "print(\"Hello\", end=\" \")\n",
    "print(\"world\")  # Output: Hello world (on the same line)"
   ]
  },
  {
   "cell_type": "markdown",
   "id": "f4c21003",
   "metadata": {},
   "source": [
    "<a id='Problem-1'></a>\n",
    "### Problem 1: Set Print Parameters"
   ]
  },
  {
   "cell_type": "markdown",
   "id": "d3a66347",
   "metadata": {},
   "source": [
    "We can also write our own functions to have default parameters.\n",
    "\n",
    "**Problem Statement**\n",
    "\n",
    "- Let's practice modifying a simple function to be an advanced function!\n",
    "- The following function prints some ASCII art of a dog.\n",
    "- Modify the function below so that it takes a parameter `size` with the default value `0`\n",
    "- Fill in all numerical values so that they can be dynamically changed based on size"
   ]
  },
  {
   "cell_type": "code",
   "execution_count": 44,
   "id": "384e1ac8",
   "metadata": {},
   "outputs": [
    {
     "name": "stdout",
     "output_type": "stream",
     "text": [
      "     __\n",
      "(___()'`;\n",
      "/     /`\n",
      "\\\\---\\\\\n"
     ]
    }
   ],
   "source": [
    "def print_dog():\n",
    "    \"\"\"\n",
    "    (int) -> None\n",
    "    Prints a dog of size `size`.\n",
    "    \"\"\"\n",
    "    # TODO: Modify all number values to be based on the size parameter\n",
    "\n",
    "    # Print row 1\n",
    "    print(\" \" * (5), sep=\"\", end=\"\") # TODO: Modify the number of spaces\n",
    "    print(\"__\")\n",
    "\n",
    "    # Print row 2\n",
    "    print(\"(\", sep=\"\", end=\"\")\n",
    "    print(\"_\" * (3), sep=\"\", end=\"\") # TODO: Modify the number of underscores\n",
    "    print(\"()'`;\")\n",
    "\n",
    "    # Print row 3\n",
    "    print(\"/\", sep=\"\", end=\"\")\n",
    "    print(\" \" * (5), sep=\"\", end=\"\") # TODO: Modify the number of spaces\n",
    "    print(\"/`\")\n",
    "\n",
    "    # Print row 4\n",
    "    print(\"\\\\\\\\\", sep=\"\", end=\"\")\n",
    "    print(\"-\" * (3), sep=\"\", end=\"\") # TODO: \n",
    "    print(\"\\\\\\\\\")\n",
    "\n",
    "\n",
    "# Example Usage\n",
    "print_dog() # default\n",
    "\n",
    "# print_dog(10) # long dog\n",
    "\n",
    "# print_dog(20) # even longer dog"
   ]
  },
  {
   "cell_type": "code",
   "execution_count": 45,
   "id": "dc84bea4",
   "metadata": {},
   "outputs": [
    {
     "name": "stdout",
     "output_type": "stream",
     "text": [
      "     __\n",
      "(___()'`;\n",
      "/     /`\n",
      "\\\\---\\\\\n",
      "               __\n",
      "(_____________()'`;\n",
      "/               /`\n",
      "\\\\-------------\\\\\n",
      "                         __\n",
      "(_______________________()'`;\n",
      "/                         /`\n",
      "\\\\-----------------------\\\\\n"
     ]
    }
   ],
   "source": [
    "# Solution\n",
    "\n",
    "def print_dog(size=0):\n",
    "    \"\"\"\n",
    "    (int) -> None\n",
    "    Prints a dog of size `size`.\n",
    "    \"\"\"\n",
    "\n",
    "    # Print row 1\n",
    "    print(\" \" * (size + 5), sep=\"\", end=\"\")\n",
    "    print(\"__\")\n",
    "\n",
    "    # Print row 2\n",
    "    print(\"(\", sep=\"\", end=\"\")\n",
    "    print(\"_\" * (size + 3), sep=\"\", end=\"\")\n",
    "    print(\"()'`;\")\n",
    "\n",
    "    # Print row 3\n",
    "    print(\"/\", sep=\"\", end=\"\")\n",
    "    print(\" \" * (size + 5), sep=\"\", end=\"\")\n",
    "    print(\"/`\")\n",
    "\n",
    "    # Print row 4\n",
    "    print(\"\\\\\\\\\", sep=\"\", end=\"\")\n",
    "    print(\"-\" * (size + 3), sep=\"\", end=\"\")\n",
    "    print(\"\\\\\\\\\")\n",
    "\n",
    "print_dog()\n",
    "\n",
    "print_dog(10) # long dog\n",
    "\n",
    "print_dog(20) # even longer dog\n"
   ]
  },
  {
   "cell_type": "markdown",
   "id": "5fa3fe02",
   "metadata": {},
   "source": [
    "<a id='Problem-2'></a>\n",
    "### Problem 2: Sales Summary"
   ]
  },
  {
   "cell_type": "markdown",
   "id": "bd6d7131",
   "metadata": {},
   "source": [
    "**Problem Statement**\n",
    "\n",
    "You are tasked with calculating the revenue generated from the sales of different items and appending the results back to the sales data file.\n",
    "\n",
    "- You are given a sales data file where each line contains an item and the quantity sold (e.g., apple,30) in `sales_data.txt`\n",
    "- You are also given a dictionary with item prices, `prices`.\n",
    "- For each item in the sales data, calculate the revenue by multiplying the quantity by the item's price.\n",
    "- Append the calculated revenue for each item and the total revenue to the sales data file.\n",
    "- The revenue values should be rounded to 2 decimal places using `round()`, and the total revenue should be added at the end of the file.\n",
    "\n",
    "Example:\n",
    "\n",
    "input `sales_data.txt`\n",
    "```python\n",
    "apple,30\n",
    "banana,20\n",
    "orange,15\n",
    "```\n",
    "\n",
    "output `sales_data.txt`\n",
    "```python\n",
    "apple,30\n",
    "banana,20\n",
    "orange,15\n",
    "Revenue for apple: $29.70\n",
    "Revenue for banana: $10.00\n",
    "Revenue for orange: $11.25\n",
    "Total Daily Revenue: $50.95\n",
    "```"
   ]
  },
  {
   "cell_type": "markdown",
   "id": "3a8e2cf5",
   "metadata": {},
   "source": [
    "Note:\n",
    "\n",
    "- The split() function is used to break a string into a list of substrings based on a specified separator.\n",
    "- By default, it splits the string at spaces, but you can specify any separator (like a comma, a space, etc.).\n",
    "\n",
    "```python\n",
    "text = \"apple,30\"\n",
    "result = text.split(\",\")\n",
    "print(result)  # Output: ['apple', '30']\n",
    "```\n",
    "\n",
    "- The round() function is used to round a number to a specific number of decimal places.\n",
    "- You can specify how many decimals you want by providing a second argument. If no second argument is given, it rounds to the nearest integer.\n",
    "\n",
    "```python\n",
    "number = 3.14159\n",
    "rounded_number = round(number, 2)\n",
    "print(rounded_number)  # Output: 3.14\n",
    "```"
   ]
  },
  {
   "cell_type": "code",
   "execution_count": 46,
   "id": "31c371d2",
   "metadata": {},
   "outputs": [],
   "source": [
    "# Run this code cell to reset the sales_data.txt file\n",
    "def write_sales_data():\n",
    "    sales_data = [\n",
    "        \"apple,30\",\n",
    "        \"banana,20\",\n",
    "        \"orange,15\"\n",
    "    ]\n",
    "    \n",
    "    with open(\"sales_data.txt\", \"w\") as file:\n",
    "        for line in sales_data:\n",
    "            file.write(line + \"\\n\")\n",
    "\n",
    "# Call the function to write data to the file\n",
    "write_sales_data()"
   ]
  },
  {
   "cell_type": "code",
   "execution_count": null,
   "id": "ee12a0f5",
   "metadata": {},
   "outputs": [],
   "source": [
    "# Solution\n",
    "def calculate_revenue_and_append(input_filename, prices):\n",
    "    \"\"\"\n",
    "    (str, dict) -> None\n",
    "\n",
    "    Reads sales data from an input file, \n",
    "    calculates revenue per item, \n",
    "    and appends total revenue to the file.\n",
    "    \"\"\"\n",
    "    total_revenue = 0\n",
    "\n",
    "    with open(input_filename, 'r') as file:\n",
    "        lines = file.readlines()\n",
    "\n",
    "    # Process each sale line: item, quantity sold\n",
    "    for line in lines:\n",
    "        item, quantity = line.strip().split(',')\n",
    "        quantity = int(quantity)\n",
    "        if item in prices:\n",
    "            revenue = prices[item] * quantity\n",
    "            revenue_rounded = round(revenue, 2)  # Round each item's revenue to 2 decimal places\n",
    "            total_revenue += revenue_rounded\n",
    "\n",
    "            # Append the revenue for this item to the file\n",
    "            with open(input_filename, 'a') as file:\n",
    "                file.write(f\"Revenue for {item}: ${revenue_rounded}\\n\")\n",
    "\n",
    "    # Append the total daily revenue to the file, rounded to 2 decimal places\n",
    "    with open(input_filename, 'a') as file:\n",
    "        total_revenue_rounded = round(total_revenue, 2)\n",
    "        file.write(f\"Total Daily Revenue: ${total_revenue_rounded}\\n\")\n",
    "\n",
    "\n",
    "# Example usage:\n",
    "input_filename = 'sales_data.txt'\n",
    "\n",
    "# Item prices\n",
    "prices = {\"apple\": 0.99, \"banana\": 0.50, \"orange\": 0.75}\n",
    "\n",
    "calculate_revenue_and_append(input_filename, prices)"
   ]
  },
  {
   "cell_type": "markdown",
   "id": "d6fedca0",
   "metadata": {},
   "source": [
    "<a id='Problem-3'></a>\n",
    "### Problem 3: Counting Consecutively"
   ]
  },
  {
   "cell_type": "markdown",
   "id": "4404ed1a",
   "metadata": {},
   "source": [
    "**Problem Statement**\n",
    "\n",
    "You are tasked with finding the number of occurrences of a given substring in a longer string.\n",
    "\n",
    "- You are given a string and a target substring.\n",
    "- Your task is to count how many times the target substring appears in the given string.\n",
    "- If the allow_consecutive flag is True, count only consecutive occurrences of the target substring.\n",
    "- If the allow_consecutive flag is False, count all occurrences, including non-consecutive ones.\n",
    "- Return the count of the target substring, based on the value of allow_consecutive.\n",
    "\n",
    "Example:\n",
    "\n",
    "For the string `\"abcbcbcasdbcbc\"` and the target `\"bc\"`, count how many times \"bc\" appears in a consecutive (3) and non-consecutive (5) manner."
   ]
  },
  {
   "cell_type": "code",
   "execution_count": null,
   "id": "2e0092bd",
   "metadata": {},
   "outputs": [],
   "source": [
    "def count_substring_occurrences(string, target, consecutive=False):\n",
    "    \"\"\"\n",
    "    (str, str, bool) -> int\n",
    "    \n",
    "    Counts the occurrences of the target substring in the string.\n",
    "    \n",
    "    - If consecutive is True, counts only consecutive occurrences.\n",
    "    - If consecutive is False (default), counts non-consecutive occurrences.\n",
    "    \"\"\"\n",
    "    # TODO: Implement non-consecutive counting\n",
    "\n",
    "    # TODO: Implement consecutive counting\n",
    "\n",
    "    return None # TODO: replace with the actual count\n",
    "\n",
    "# Example usage:\n",
    "\n",
    "# Counting non-consecutive occurrences (default behavior)\n",
    "string1 = \"abcbcbcasdbcbc\"\n",
    "target1 = \"bc\"\n",
    "result1 = count_substring_occurrences(string1, target1)\n",
    "print(f\"Non-consecutive occurrences of '{target1}': {result1}\")  # Output: 5\n",
    "\n",
    "# Counting consecutive occurrences (when consecutive is True)\n",
    "string2 = \"abcbcbcasdbcbc\"\n",
    "target2 = \"bc\"\n",
    "result2 = count_substring_occurrences(string2, target2, consecutive=True)\n",
    "print(f\"Consecutive occurrences of '{target2}': {result2}\")  # Output: 3\n"
   ]
  },
  {
   "cell_type": "code",
   "execution_count": null,
   "id": "db642e3c",
   "metadata": {},
   "outputs": [
    {
     "name": "stdout",
     "output_type": "stream",
     "text": [
      "Non-consecutive occurrences of 'bc': 5\n",
      "Consecutive occurrences of 'bc': 3\n"
     ]
    }
   ],
   "source": [
    "# Solution\n",
    "def count_substring_occurrences(string, target, consecutive=False):\n",
    "    \"\"\"\n",
    "    Counts the occurrences of the target substring in the string.\n",
    "    \n",
    "    - If consecutive is True, counts only consecutive occurrences.\n",
    "    - If consecutive is False (default), counts non-consecutive occurrences.\n",
    "    \"\"\"\n",
    "    max_chain = 0\n",
    "    current_chain = 0\n",
    "    i = 0\n",
    "    length = len(string)\n",
    "    \n",
    "    # Check consecutive occurrences (if consecutive is True)\n",
    "    if consecutive:\n",
    "        while i <= length - len(target):\n",
    "            if string[i:i+len(target)] == target:\n",
    "                current_chain += 1\n",
    "                max_chain = max(max_chain, current_chain)\n",
    "                i += len(target)  # Skip past this consecutive occurrence\n",
    "            else:\n",
    "                current_chain = 0\n",
    "                i += 1\n",
    "        return max_chain\n",
    "    \n",
    "    # Check non-consecutive occurrences (if consecutive is False)\n",
    "    else:\n",
    "        count = 0\n",
    "        while i <= length - len(target):\n",
    "            if string[i:i+len(target)] == target:\n",
    "                count += 1\n",
    "            i += 1\n",
    "        return count\n",
    "\n",
    "# Example usage:\n",
    "\n",
    "# Counting non-consecutive occurrences (default behavior)\n",
    "string1 = \"abcbcbcasdbcbc\"\n",
    "target1 = \"bc\"\n",
    "result1 = count_substring_occurrences(string1, target1)\n",
    "print(f\"Non-consecutive occurrences of '{target1}': {result1}\")  # Output: 5\n",
    "\n",
    "# Counting consecutive occurrences (when consecutive is True)\n",
    "string2 = \"abcbcbcasdbcbc\"\n",
    "target2 = \"bc\"\n",
    "result2 = count_substring_occurrences(string2, target2, consecutive=True)\n",
    "print(f\"Consecutive occurrences of '{target2}': {result2}\")  # Output: 3\n"
   ]
  },
  {
   "cell_type": "markdown",
   "id": "ba9a5818",
   "metadata": {},
   "source": [
    "<a id='Problem-2'></a>\n",
    "## 2. Aliasing"
   ]
  },
  {
   "cell_type": "markdown",
   "id": "41b646b8",
   "metadata": {},
   "source": [
    "Aliasing occurs when two or more variables refer to the same object in memory. This means that changes made to one variable will also affect the other, because they are pointing to the same object."
   ]
  },
  {
   "cell_type": "code",
   "execution_count": 52,
   "id": "36cc9c47",
   "metadata": {},
   "outputs": [
    {
     "name": "stdout",
     "output_type": "stream",
     "text": [
      "[10, 2, 3]\n",
      "[10, 2, 3]\n"
     ]
    }
   ],
   "source": [
    "a = [1, 2, 3]\n",
    "b = a  # b is now referring to the same list as a\n",
    "\n",
    "b[0] = 10  # Modifying b also modifies a, since both point to the same list\n",
    "\n",
    "print(a)  # Output: [10, 2, 3]\n",
    "print(b)  # Output: [10, 2, 3]"
   ]
  },
  {
   "cell_type": "markdown",
   "id": "98a228d1",
   "metadata": {},
   "source": [
    "To avoid unintended changes, you can create a copy of the list instead of assigning it directly:"
   ]
  },
  {
   "cell_type": "code",
   "execution_count": 53,
   "id": "f00af7ca",
   "metadata": {},
   "outputs": [
    {
     "name": "stdout",
     "output_type": "stream",
     "text": [
      "[1, 2, 3]\n",
      "[10, 2, 3]\n"
     ]
    }
   ],
   "source": [
    "a = [1, 2, 3]\n",
    "b = a.copy()  # Now b is a separate copy of a\n",
    "\n",
    "b[0] = 10  # Modifying b won't affect a\n",
    "\n",
    "print(a)  # Output: [1, 2, 3]\n",
    "print(b)  # Output: [10, 2, 3]\n"
   ]
  },
  {
   "cell_type": "markdown",
   "id": "c698b679",
   "metadata": {},
   "source": [
    "**Aliasing with Immutable and Mutable Objects**\n",
    "\n",
    "In Python, objects can be either mutable or immutable:\n",
    "\n",
    "Mutable objects (like **lists** and **dictionaries**) can be changed after they are created.\n",
    "\\\n",
    "Immutable objects (like **strings**, **tuples**, and **integers**) cannot be changed once created.\n",
    "\n",
    "When you alias a mutable object, changes to one variable will affect all others that point to the same object.\n",
    "\n",
    "When you alias an immutable object, the behavior is different. Although the variables point to the same value, you can't change the value itself. Any modification results in a new object being created, so aliasing does not lead to unintended changes."
   ]
  },
  {
   "cell_type": "code",
   "execution_count": 54,
   "id": "29c97c67",
   "metadata": {},
   "outputs": [
    {
     "name": "stdout",
     "output_type": "stream",
     "text": [
      "[10, 2, 3]\n",
      "[10, 2, 3]\n"
     ]
    }
   ],
   "source": [
    "a = [1, 2, 3]\n",
    "b = a  # Both a and b refer to the same list\n",
    "\n",
    "b[0] = 10  # Modifying b also affects a, because both point to the same list\n",
    "\n",
    "print(a)  # Output: [10, 2, 3]\n",
    "print(b)  # Output: [10, 2, 3]\n"
   ]
  },
  {
   "cell_type": "code",
   "execution_count": 55,
   "id": "467d8a52",
   "metadata": {},
   "outputs": [
    {
     "name": "stdout",
     "output_type": "stream",
     "text": [
      "hello\n",
      "world\n"
     ]
    }
   ],
   "source": [
    "a = \"hello\"\n",
    "b = a  # Both a and b refer to the same string\n",
    "\n",
    "# You cannot change a string, so the assignment below creates a new string object\n",
    "b = \"world\"  # This doesn't affect a because strings are immutable\n",
    "\n",
    "print(a)  # Output: \"hello\"\n",
    "print(b)  # Output: \"world\"\n"
   ]
  },
  {
   "cell_type": "markdown",
   "id": "1235fcea",
   "metadata": {},
   "source": [
    "<a id='2Aliasing'></a>\n",
    "## 2. Aliasing\n"
   ]
  },
  {
   "cell_type": "markdown",
   "id": "06298c09",
   "metadata": {},
   "source": [
    "<a id='Problem-4'></a>\n",
    "### Problem 4: Task Tracker"
   ]
  },
  {
   "cell_type": "markdown",
   "id": "5b3441b6",
   "metadata": {},
   "source": [
    "**Problem Statement**\n",
    "\n",
    "You are working with a task tracker system that tracks the status of your tasks. A master list of tasks is originally set up and a separate list tracks the completion status of each task. There is an issue in the code where aliasing causes unintended changes to the original task list.\n",
    "\n",
    "Debug the function so that the completed task list does not affect the original master task list."
   ]
  },
  {
   "cell_type": "code",
   "execution_count": 51,
   "id": "c41cfacf",
   "metadata": {},
   "outputs": [
    {
     "name": "stdout",
     "output_type": "stream",
     "text": [
      "Original Task List: ['Task 1', 'Task 2 (Complete)', 'Task 3 (Complete)', 'Task 4']\n",
      "Completed Tasks List: ['Task 1', 'Task 2 (Complete)', 'Task 3 (Complete)', 'Task 4']\n"
     ]
    }
   ],
   "source": [
    "def task_tracker():\n",
    "    # Task list with initial status of \"incomplete\"\n",
    "    tasks = [\"Task 1\", \"Task 2\", \"Task 3\", \"Task 4\"]\n",
    "    \n",
    "    # Aliasing problem: both lists refer to the same object\n",
    "    completed_tasks = tasks\n",
    "    \n",
    "    # Mark tasks 2 and 3 as complete\n",
    "    completed_tasks[1] = \"Task 2 (Complete)\"\n",
    "    completed_tasks[2] = \"Task 3 (Complete)\"\n",
    "    \n",
    "    print(\"Original Task List:\", tasks)\n",
    "    print(\"Completed Tasks List:\", completed_tasks)\n",
    "\n",
    "task_tracker()\n"
   ]
  },
  {
   "cell_type": "code",
   "execution_count": 57,
   "id": "21794337",
   "metadata": {},
   "outputs": [
    {
     "name": "stdout",
     "output_type": "stream",
     "text": [
      "Original Task List: ('Task 1', 'Task 2', 'Task 3', 'Task 4')\n",
      "Completed Tasks List: ('Task 1', 'Task 2 (Complete)', 'Task 3', 'Task 3 (Complete)', 'Task 4')\n"
     ]
    }
   ],
   "source": [
    "# Solution 1: Using immutable tuples\n",
    "def task_tracker():\n",
    "    # Task list with initial status of \"incomplete\"\n",
    "    tasks = (\"Task 1\", \"Task 2\", \"Task 3\", \"Task 4\")  # Using a tuple\n",
    "    \n",
    "    # Attempt to create a copy by aliasing (no modification)\n",
    "    completed_tasks = tasks  # This is aliasing, but since tuples are immutable, no modification will happen\n",
    "    \n",
    "    # Since tuples are immutable, we cannot modify them\n",
    "    # Instead, we create a new tuple for completed tasks\n",
    "    completed_tasks = tasks[:1] + (\"Task 2 (Complete)\",) + tasks[2:3] + (\"Task 3 (Complete)\",) + tasks[3:]\n",
    "    \n",
    "    print(\"Original Task List:\", tasks)\n",
    "    print(\"Completed Tasks List:\", completed_tasks)\n",
    "\n",
    "task_tracker()\n"
   ]
  },
  {
   "cell_type": "code",
   "execution_count": 58,
   "id": "56ad5f78",
   "metadata": {},
   "outputs": [
    {
     "name": "stdout",
     "output_type": "stream",
     "text": [
      "Original Task List: ['Task 1', 'Task 2', 'Task 3', 'Task 4']\n",
      "Completed Tasks List: ['Task 1', 'Task 2 (Complete)', 'Task 3 (Complete)', 'Task 4']\n"
     ]
    }
   ],
   "source": [
    "# Solution 2: Using the copy method\n",
    "def task_tracker():\n",
    "    # Task list with initial status of \"incomplete\"\n",
    "    tasks = [\"Task 1\", \"Task 2\", \"Task 3\", \"Task 4\"]\n",
    "    \n",
    "    # Make a copy of the list to avoid aliasing\n",
    "    completed_tasks = tasks.copy()  # Create a copy instead of aliasing\n",
    "    \n",
    "    # Mark tasks 2 and 3 as complete\n",
    "    completed_tasks[1] = \"Task 2 (Complete)\"\n",
    "    completed_tasks[2] = \"Task 3 (Complete)\"\n",
    "    \n",
    "    print(\"Original Task List:\", tasks)\n",
    "    print(\"Completed Tasks List:\", completed_tasks)\n",
    "\n",
    "task_tracker()\n"
   ]
  },
  {
   "cell_type": "markdown",
   "id": "ba567405",
   "metadata": {},
   "source": [
    "<a id='Problem-5'></a>\n",
    "### Problem 5: Identify Output"
   ]
  },
  {
   "cell_type": "markdown",
   "id": "2aac7196",
   "metadata": {},
   "source": [
    "What does the code below output?"
   ]
  },
  {
   "cell_type": "markdown",
   "id": "97d949ba",
   "metadata": {},
   "source": [
    "```python\n",
    "def aliasing_example():\n",
    "    list_a = [1, 2, 3, 4]\n",
    "    list_b = list_a\n",
    "    list_c = list_a.copy()\n",
    "    list_b.append(5)\n",
    "    list_c.append(6)\n",
    "    list_a[0] = 10\n",
    "    print(\"List A:\", list_a)\n",
    "    print(\"List B:\", list_b)\n",
    "    print(\"List C:\", list_c)\n",
    "\n",
    "aliasing_example()\n",
    "```\n"
   ]
  },
  {
   "cell_type": "code",
   "execution_count": null,
   "id": "ec7caf16",
   "metadata": {},
   "outputs": [
    {
     "name": "stdout",
     "output_type": "stream",
     "text": [
      "List A: [10, 2, 3, 4, 5]\n",
      "List B: [10, 2, 3, 4, 5]\n",
      "List C: [1, 2, 3, 4, 6]\n"
     ]
    }
   ],
   "source": [
    "def aliasing_example():\n",
    "    list_a = [1, 2, 3, 4]\n",
    "    list_b = list_a\n",
    "    list_c = list_a.copy()\n",
    "    list_b.append(5)\n",
    "    list_c.append(6)\n",
    "    list_a[0] = 10\n",
    "    print(\"List A:\", list_a)\n",
    "    print(\"List B:\", list_b)\n",
    "    print(\"List C:\", list_c)\n",
    "\n",
    "aliasing_example()"
   ]
  },
  {
   "cell_type": "markdown",
   "id": "ad6bfd3a",
   "metadata": {},
   "source": [
    "<a id='3User-Defined'></a>\n",
    "## 3. User-Defined Classes and Methods"
   ]
  },
  {
   "cell_type": "markdown",
   "id": "a55ffd24",
   "metadata": {},
   "source": [
    "In Python, you can define your own classes to model real-world objects or concepts, and you can define methods to perform actions on those objects. Classes help you organize and manage complex data by grouping related information and behaviors.\n",
    "\n",
    "**Key Concepts:**\n",
    "- Class: A blueprint for creating objects. It defines the attributes and methods that an object of this class will have.\n",
    "- Method: A function that is defined inside a class and operates on the objects created from the class.\n",
    "- bject: An instance of a class. It contains the data and methods defined in the class."
   ]
  },
  {
   "cell_type": "code",
   "execution_count": 59,
   "id": "0dad2600",
   "metadata": {},
   "outputs": [
    {
     "name": "stdout",
     "output_type": "stream",
     "text": [
      "Buddy says Woof!\n"
     ]
    }
   ],
   "source": [
    "class Dog:\n",
    "    def __init__(self, name, breed):\n",
    "        # Constructor method to initialize attributes\n",
    "        self.name = name\n",
    "        self.breed = breed\n",
    "    \n",
    "    def bark(self):\n",
    "        # Method that makes the dog bark\n",
    "        print(f\"{self.name} says Woof!\")\n",
    "\n",
    "# Creating an object (instance) of the Dog class\n",
    "my_dog = Dog(\"Buddy\", \"Golden Retriever\")\n",
    "\n",
    "# Calling a method on the object\n",
    "my_dog.bark()  # Output: Buddy says Woof!\n"
   ]
  },
  {
   "cell_type": "markdown",
   "id": "fd7923a0",
   "metadata": {},
   "source": [
    "<a id='Problem-6'></a>\n",
    "### Problem 6: Gamer Class"
   ]
  },
  {
   "cell_type": "markdown",
   "id": "f5274392",
   "metadata": {},
   "source": [
    "Create a Character class that models a game character. The class should have several methods to allow the character to interact with the game world. Use the provided methods to modify the character's health, level, and display their status.\n",
    "\n",
    "Task Requirements:\n",
    "\n",
    "1. Class Creation:\n",
    "    - Define a Character class that has the following attributes:\n",
    "        - name (string): The name of the character.\n",
    "        - health (integer): The character's health points (HP).\n",
    "        - level (integer): The character's current level.\n",
    "2. Methods to Implement:\n",
    "    - take_damage(damage): This method should decrease the character's health by the damage value passed as an argument. If health goes below 0, set it to 0 and print the damage taken along with the new health.\n",
    "    - heal(amount): This method should increase the character's health by the amount passed as an argument and print the healing action with the new health.\n",
    "    - level_up(): This method should increase the character's level by 1 and print the new level.\n",
    "    - status(): This method should print the current name, level, and health of the character.\n",
    "\n",
    "Example Usage\n",
    "```Python\n",
    "hero = Character(\"Alex\", 100, 1)\n",
    "hero.take_damage(30)\n",
    "hero.heal(20)\n",
    "hero.level_up()\n",
    "hero.status()\n",
    "```\n",
    "\n",
    "Output\n",
    "```Python\n",
    "Alex took 30 damage! Health is now 70.\n",
    "Alex healed by 20! Health is now 90.\n",
    "Alex leveled up to level 2!\n",
    "Alex - Level 2 - Health 90\n",
    "```"
   ]
  },
  {
   "cell_type": "code",
   "execution_count": null,
   "id": "c4860631",
   "metadata": {},
   "outputs": [],
   "source": [
    "class Character:\n",
    "    def __init__(self, name, health, level):\n",
    "        # TODO: Initialize instance attributes\n",
    "        # Hint: Include name, health, and level as instance attributes\n",
    "\n",
    "    def take_damage(self, damage):\n",
    "        # TODO: Update the health attribute by subtracting the damage amount\n",
    "        # Print the health after taking damage\n",
    "\n",
    "    def heal(self, amount):\n",
    "        # TODO: Update the health attribute by adding the healing amount\n",
    "        # Print the health after healing\n",
    "\n",
    "    def level_up(self):\n",
    "        # TODO: Increase the level attribute by 1\n",
    "        # Print a message about the character leveling up\n",
    "\n",
    "    def status(self):\n",
    "        # TODO: Print the status of the character\n",
    "        # Include name, health, and level attributes\n",
    "\n",
    "# Create a new character and test methods\n",
    "hero = Character(\"Alex\", 100, 1)\n",
    "hero.take_damage(30)\n",
    "hero.heal(20)\n",
    "hero.level_up()\n",
    "hero.status()"
   ]
  },
  {
   "cell_type": "code",
   "execution_count": 60,
   "id": "0a0c062e",
   "metadata": {},
   "outputs": [
    {
     "name": "stdout",
     "output_type": "stream",
     "text": [
      "Alex took 30 damage! Health is now 70.\n",
      "Alex healed by 20! Health is now 90.\n",
      "Alex leveled up to level 2!\n",
      "Alex - Level 2 - Health 90\n"
     ]
    }
   ],
   "source": [
    "class Character:\n",
    "    def __init__(self, name, health, level):\n",
    "        self.name = name\n",
    "        self.health = health\n",
    "        self.level = level\n",
    "\n",
    "    def take_damage(self, damage):\n",
    "        self.health -= damage\n",
    "        if self.health < 0:\n",
    "            self.health = 0\n",
    "        print(f\"{self.name} took {damage} damage! Health is now {self.health}.\")\n",
    "\n",
    "    def heal(self, amount):\n",
    "        self.health += amount\n",
    "        print(f\"{self.name} healed by {amount}! Health is now {self.health}.\")\n",
    "\n",
    "    def level_up(self):\n",
    "        self.level += 1\n",
    "        print(f\"{self.name} leveled up to level {self.level}!\")\n",
    "\n",
    "    def status(self):\n",
    "        print(f\"{self.name} - Level {self.level} - Health {self.health}\")\n",
    "\n",
    "# Create a new character and test methods\n",
    "hero = Character(\"Alex\", 100, 1)\n",
    "hero.take_damage(30)\n",
    "hero.heal(20)\n",
    "hero.level_up()\n",
    "hero.status()\n"
   ]
  },
  {
   "cell_type": "markdown",
   "id": "4684541f",
   "metadata": {},
   "source": [
    "<a id='Problem-7'></a>\n",
    "### Problem 7: Music Playlist"
   ]
  },
  {
   "cell_type": "markdown",
   "id": "f92e51b3",
   "metadata": {},
   "source": [
    "Create a `Playlist` class that allows you to manage a list of songs. The class should provide the ability to add, remove, shuffle, and display the current playlist. Use the provided methods to simulate managing a playlist of songs.\n",
    "\n",
    "Task Requirements:\n",
    "\n",
    "1. Class Creation:\n",
    "    - Define a `Playlist` class with the following attribute:\n",
    "        - `songs` (list): A list that stores the songs in the playlist.\n",
    "2. Methods to Implement:\n",
    "    - `add_song(song)`: Adds a song to the playlist. Print a confirmation message when a song is added.\n",
    "    - `remove_song(song)`: Removes a song from the playlist if it exists. If the song is not found, print an error message.\n",
    "    - `shuffle()`: Shuffles the songs in the playlist using a random function. Print a message indicating the playlist has been shuffled.\n",
    "    - s`how_playlist()`: Prints the current list of songs in the playlist.\n",
    "\n",
    "Example Usage\n",
    "```Python\n",
    "playlist = Playlist()\n",
    "playlist.add_song(\"Song A\")\n",
    "playlist.add_song(\"Song B\")\n",
    "playlist.add_song(\"Song C\")\n",
    "playlist.show_playlist()\n",
    "playlist.shuffle()\n",
    "playlist.show_playlist()\n",
    "playlist.remove_song(\"Song B\")\n",
    "playlist.show_playlist()\n",
    "```\n",
    "\n",
    "Output\n",
    "```Python\n",
    "Added 'Song A' to the playlist.\n",
    "Added 'Song B' to the playlist.\n",
    "Added 'Song C' to the playlist.\n",
    "Current Playlist:\n",
    "- Song A\n",
    "- Song B\n",
    "- Song C\n",
    "Playlist shuffled!\n",
    "Current Playlist:\n",
    "- Song C\n",
    "- Song A\n",
    "- Song B\n",
    "Removed 'Song B' from the playlist.\n",
    "Current Playlist:\n",
    "- Song C\n",
    "- Song A\n",
    "```"
   ]
  },
  {
   "cell_type": "code",
   "execution_count": null,
   "id": "184b76d3",
   "metadata": {},
   "outputs": [],
   "source": [
    "import random\n",
    "\n",
    "class Playlist:\n",
    "    # TODO: implement the playlist class\n",
    "\n",
    "# Testing the Playlist class\n",
    "playlist = Playlist()\n",
    "playlist.add_song(\"Song 1\")\n",
    "playlist.add_song(\"Song 2\")\n",
    "playlist.add_song(\"Song 3\")\n",
    "playlist.show_playlist()\n",
    "playlist.shuffle()\n",
    "playlist.show_playlist()\n",
    "playlist.remove_song(\"Song 2\")\n",
    "playlist.show_playlist()"
   ]
  },
  {
   "cell_type": "code",
   "execution_count": 61,
   "id": "2729240a",
   "metadata": {},
   "outputs": [
    {
     "name": "stdout",
     "output_type": "stream",
     "text": [
      "Added 'Song 1' to the playlist.\n",
      "Added 'Song 2' to the playlist.\n",
      "Added 'Song 3' to the playlist.\n",
      "Current Playlist:\n",
      "- Song 1\n",
      "- Song 2\n",
      "- Song 3\n",
      "Playlist shuffled!\n",
      "Current Playlist:\n",
      "- Song 3\n",
      "- Song 1\n",
      "- Song 2\n",
      "Removed 'Song 2' from the playlist.\n",
      "Current Playlist:\n",
      "- Song 3\n",
      "- Song 1\n"
     ]
    }
   ],
   "source": [
    "import random\n",
    "\n",
    "class Playlist:\n",
    "    def __init__(self):\n",
    "        self.songs = []\n",
    "\n",
    "    def add_song(self, song):\n",
    "        self.songs.append(song)\n",
    "        print(f\"Added '{song}' to the playlist.\")\n",
    "\n",
    "    def remove_song(self, song):\n",
    "        if song in self.songs:\n",
    "            self.songs.remove(song)\n",
    "            print(f\"Removed '{song}' from the playlist.\")\n",
    "        else:\n",
    "            print(f\"'{song}' not found in the playlist.\")\n",
    "\n",
    "    def shuffle(self):\n",
    "        random.shuffle(self.songs)\n",
    "        print(\"Playlist shuffled!\")\n",
    "\n",
    "    def show_playlist(self):\n",
    "        print(\"Current Playlist:\")\n",
    "        for song in self.songs:\n",
    "            print(f\"- {song}\")\n",
    "\n",
    "# Testing the Playlist class\n",
    "playlist = Playlist()\n",
    "playlist.add_song(\"Song 1\")\n",
    "playlist.add_song(\"Song 2\")\n",
    "playlist.add_song(\"Song 3\")\n",
    "playlist.show_playlist()\n",
    "playlist.shuffle()\n",
    "playlist.show_playlist()\n",
    "playlist.remove_song(\"Song 2\")\n",
    "playlist.show_playlist()"
   ]
  },
  {
   "cell_type": "markdown",
   "id": "8d5988eb",
   "metadata": {},
   "source": [
    "<a id='Problem-8'></a>\n",
    "### Problem 8: Ticket System"
   ]
  },
  {
   "cell_type": "markdown",
   "id": "257f6822",
   "metadata": {},
   "source": [
    "Problem Statement\n",
    "- You are tasked with building a basic movie ticket reservation system.\n",
    "- Create a `TicketSystem` class that manages the reservation and cancellation of tickets for a movie.\n",
    "\n",
    "- The class should:\n",
    "\n",
    "    - Reserve tickets (`reserve_ticket` method), ensuring that no more tickets are reserved than are available.\n",
    "    - Cancel reserved tickets (`cancel_reservation` method), ensuring that you cannot cancel more tickets than have been reserved.\n",
    "    - Check the number of available tickets (`available_tickets` method).\n",
    "    - Display the current status of reserved and available tickets for the movie (`status` method)."
   ]
  },
  {
   "cell_type": "code",
   "execution_count": null,
   "id": "97ef68ec",
   "metadata": {},
   "outputs": [],
   "source": [
    "class TicketSystem:\n",
    "    def __init__(self, movie_name, total_tickets):\n",
    "        # TODO: Initialize the movie name, total tickets, and reserved tickets.\n",
    "\n",
    "    def reserve_ticket(self, num_tickets):\n",
    "        # TODO: Implement logic to reserve tickets and print success or failure message.\n",
    "\n",
    "    def cancel_reservation(self, num_tickets):\n",
    "        # TODO: Implement logic to cancel reserved tickets and print success or failure message.\n",
    "\n",
    "    def available_tickets(self):\n",
    "        # TODO: Return the number of available tickets.\n",
    "\n",
    "    def status(self):\n",
    "        # TODO: Print the current status: movie name, reserved tickets, and available tickets.\n",
    "\n",
    "# Test the ticket system\n",
    "movie = TicketSystem(\"Movie A\", 100)\n",
    "movie.reserve_ticket(30)\n",
    "movie.reserve_ticket(50)\n",
    "movie.cancel_reservation(20)\n",
    "movie.status()\n"
   ]
  },
  {
   "cell_type": "code",
   "execution_count": 62,
   "id": "423efcca",
   "metadata": {},
   "outputs": [
    {
     "name": "stdout",
     "output_type": "stream",
     "text": [
      "Successfully reserved 30 tickets for Movie A.\n",
      "Successfully reserved 50 tickets for Movie A.\n",
      "Successfully canceled 20 ticket(s) for Movie A.\n",
      "Movie: Movie A | Reserved: 60 | Available: 40\n"
     ]
    }
   ],
   "source": [
    "class TicketSystem:\n",
    "    def __init__(self, movie_name, total_tickets):\n",
    "        self.movie_name = movie_name\n",
    "        self.total_tickets = total_tickets\n",
    "        self.reserved_tickets = 0\n",
    "\n",
    "    def reserve_ticket(self, num_tickets):\n",
    "        if num_tickets <= self.total_tickets - self.reserved_tickets:\n",
    "            self.reserved_tickets += num_tickets\n",
    "            print(f\"Successfully reserved {num_tickets} tickets for {self.movie_name}.\")\n",
    "        else:\n",
    "            print(f\"Not enough tickets available. Only {self.total_tickets - self.reserved_tickets} tickets left.\")\n",
    "\n",
    "    def cancel_reservation(self, num_tickets):\n",
    "        if num_tickets <= self.reserved_tickets:\n",
    "            self.reserved_tickets -= num_tickets\n",
    "            print(f\"Successfully canceled {num_tickets} ticket(s) for {self.movie_name}.\")\n",
    "        else:\n",
    "            print(\"Cannot cancel more tickets than reserved.\")\n",
    "\n",
    "    def available_tickets(self):\n",
    "        return self.total_tickets - self.reserved_tickets\n",
    "\n",
    "    def status(self):\n",
    "        print(f\"Movie: {self.movie_name} | Reserved: {self.reserved_tickets} | Available: {self.available_tickets()}\")\n",
    "\n",
    "# Test the ticket system\n",
    "movie = TicketSystem(\"Movie A\", 100)\n",
    "movie.reserve_ticket(30)\n",
    "movie.reserve_ticket(50)\n",
    "movie.cancel_reservation(20)\n",
    "movie.status()\n"
   ]
  }
 ],
 "metadata": {
  "kernelspec": {
   "display_name": "base",
   "language": "python",
   "name": "python3"
  },
  "language_info": {
   "codemirror_mode": {
    "name": "ipython",
    "version": 3
   },
   "file_extension": ".py",
   "mimetype": "text/x-python",
   "name": "python",
   "nbconvert_exporter": "python",
   "pygments_lexer": "ipython3",
   "version": "3.12.4"
  }
 },
 "nbformat": 4,
 "nbformat_minor": 5
}
